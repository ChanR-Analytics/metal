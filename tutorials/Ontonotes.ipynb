{
 "cells": [
  {
   "cell_type": "markdown",
   "metadata": {},
   "source": [
    "In this tutorial, we will walk through a multitask application on the OntoNotes dataset."
   ]
  },
  {
   "cell_type": "code",
   "execution_count": 1,
   "metadata": {},
   "outputs": [],
   "source": [
    "%load_ext autoreload\n",
    "%autoreload 2\n",
    "%matplotlib inline"
   ]
  },
  {
   "cell_type": "code",
   "execution_count": 2,
   "metadata": {},
   "outputs": [],
   "source": [
    "import pickle\n",
    "import sys,os\n",
    "sys.path.append('../../metal')\n",
    "os.environ['METALHOME'] = '/home/jdunnmon/repos/metal'\n",
    "\n",
    "# Loading 5K Ontonotes dataset\n",
    "with open(\"data/ontonotes_tutorial_data.pkl\", 'rb') as f:\n",
    "    data = pickle.load(f)"
   ]
  },
  {
   "cell_type": "code",
   "execution_count": 3,
   "metadata": {},
   "outputs": [],
   "source": [
    "from metal.multitask import TaskHierarchy\n",
    "task_graph = TaskHierarchy(cardinalities=data['cardinalities'], edges=data['edges'])"
   ]
  },
  {
   "cell_type": "code",
   "execution_count": 4,
   "metadata": {},
   "outputs": [],
   "source": [
    "from metal.multitask import MTLabelModel\n",
    "label_model = MTLabelModel(task_graph=task_graph)"
   ]
  },
  {
   "cell_type": "code",
   "execution_count": 5,
   "metadata": {},
   "outputs": [],
   "source": [
    "import numpy as np\n",
    "from scipy.sparse import csr_matrix\n",
    "import torch\n",
    "\n",
    "# Reformatting Ls\n",
    "Ls = []\n",
    "        \n",
    "for L in data['Ls']:\n",
    "    lst = []\n",
    "    for a in range(len(data['task_to_lfs'])):\n",
    "        L_tmp = np.zeros(L.shape)\n",
    "        inds = np.array(data['task_to_lfs'][a])\n",
    "        L_tmp[:,inds] = L.todense()[:,inds]\n",
    "        lst.append(csr_matrix(L_tmp))\n",
    "    Ls.append(lst)\n",
    "\n",
    "# Reformatting Ys for MeTaL\n",
    "Ys=[]\n",
    "label_map = {0: [0,0,0],\n",
    "             1: [1,1,0],\n",
    "             2: [1,2,0],\n",
    "             3: [2,0,1],\n",
    "             4: [2,0,2]}\n",
    "for Y in data['Ys']:\n",
    "    Y_out = [[],[],[]]\n",
    "    for y in Y:\n",
    "        labels = label_map[int(y)]\n",
    "        for ii,yo in enumerate(Y_out):\n",
    "            yo.append(labels[ii])\n",
    "    Ys.append(Y_out)\n",
    "    \n",
    "    \n",
    "# Creating BOW data\n",
    "\n",
    "Xs = data['Xs']\n",
    "embeddings = data['embeddings']\n",
    "Xs_BOWE = []\n",
    "for X in Xs:\n",
    "    X_BOWE=[]\n",
    "    for x in X:\n",
    "        embed = []\n",
    "        bowe = torch.zeros((1,embeddings.shape[1]))\n",
    "        count=0\n",
    "        for ind in x:\n",
    "            embed.append(embeddings[ind,:])\n",
    "            if ind != 0:\n",
    "                bowe+=embeddings[ind,:]\n",
    "                count+=1\n",
    "        bowe/=count\n",
    "        X_BOWE.append(bowe)\n",
    "    Xs_BOWE.append(torch.stack(X_BOWE).squeeze())"
   ]
  },
  {
   "cell_type": "code",
   "execution_count": 6,
   "metadata": {},
   "outputs": [
    {
     "name": "stdout",
     "output_type": "stream",
     "text": [
      "Computing O...\n",
      "Estimating \\mu...\n",
      "[E:0]\tTrain Loss: 0.559\n",
      "[E:20]\tTrain Loss: 0.142\n",
      "[E:40]\tTrain Loss: 0.076\n",
      "[E:60]\tTrain Loss: 0.072\n",
      "[E:80]\tTrain Loss: 0.070\n",
      "[E:100]\tTrain Loss: 0.070\n",
      "[E:120]\tTrain Loss: 0.070\n",
      "[E:140]\tTrain Loss: 0.070\n",
      "[E:160]\tTrain Loss: 0.070\n",
      "[E:180]\tTrain Loss: 0.070\n",
      "[E:200]\tTrain Loss: 0.070\n",
      "[E:220]\tTrain Loss: 0.070\n",
      "[E:240]\tTrain Loss: 0.070\n",
      "[E:260]\tTrain Loss: 0.070\n",
      "[E:280]\tTrain Loss: 0.070\n",
      "[E:300]\tTrain Loss: 0.070\n",
      "[E:320]\tTrain Loss: 0.070\n",
      "[E:340]\tTrain Loss: 0.070\n",
      "[E:360]\tTrain Loss: 0.070\n",
      "[E:380]\tTrain Loss: 0.070\n",
      "[E:400]\tTrain Loss: 0.070\n",
      "[E:420]\tTrain Loss: 0.070\n",
      "[E:440]\tTrain Loss: 0.070\n",
      "[E:460]\tTrain Loss: 0.070\n",
      "[E:480]\tTrain Loss: 0.070\n",
      "[E:499]\tTrain Loss: 0.070\n",
      "Finished Training\n"
     ]
    }
   ],
   "source": [
    "# SEPARATE OUT Ls BY TASK_TO_LF\n",
    "label_model.train(Ls[0], n_epochs=500, print_every=20, seed=123)"
   ]
  },
  {
   "cell_type": "code",
   "execution_count": 7,
   "metadata": {},
   "outputs": [
    {
     "name": "stdout",
     "output_type": "stream",
     "text": [
      "Accuracy: 0.664\n"
     ]
    },
    {
     "data": {
      "text/plain": [
       "0.6642665735779122"
      ]
     },
     "execution_count": 7,
     "metadata": {},
     "output_type": "execute_result"
    }
   ],
   "source": [
    "label_model.score((Ls[1], Ys[1]))"
   ]
  },
  {
   "cell_type": "code",
   "execution_count": 8,
   "metadata": {},
   "outputs": [],
   "source": [
    "# Y_train_ps stands for \"Y[labels]_train[split]_p[redicted]s[oft]\"\n",
    "Y_train_ps = label_model.predict_proba(Ls[0])"
   ]
  },
  {
   "cell_type": "code",
   "execution_count": 37,
   "metadata": {},
   "outputs": [
    {
     "name": "stdout",
     "output_type": "stream",
     "text": [
      "Could not find kwarg \"input_modules\" in default config.\n",
      "Could not find kwarg \"middle_modules\" in default config.\n",
      "Could not find kwarg \"head_modules\" in default config.\n",
      "\n",
      "Network architecture:\n",
      "\n",
      "--Input Layer--\n",
      "IdentityModule()\n",
      "\n",
      "--Middle Layers--\n",
      "(layer1):\n",
      "Sequential(\n",
      "  (0): Linear(in_features=300, out_features=10000, bias=True)\n",
      "  (1): ReLU()\n",
      ")\n",
      "\n",
      "(layer2):\n",
      "Sequential(\n",
      "  (0): Linear(in_features=10000, out_features=100, bias=True)\n",
      "  (1): ReLU()\n",
      ")\n",
      "(head0)\n",
      "Linear(in_features=100, out_features=2, bias=True)\n",
      "(head1)\n",
      "Linear(in_features=100, out_features=2, bias=True)\n",
      "(head2)\n",
      "Linear(in_features=100, out_features=2, bias=True)\n",
      "\n",
      "\n"
     ]
    }
   ],
   "source": [
    "from metal.multitask import MTEndModel\n",
    "import torch\n",
    "\n",
    "use_cuda = torch.cuda.is_available()\n",
    "end_model = MTEndModel([300,10000,100], task_graph=task_graph, seed=123, use_cuda=use_cuda, disable_prog_bar= True)"
   ]
  },
  {
   "cell_type": "code",
   "execution_count": 38,
   "metadata": {},
   "outputs": [
    {
     "name": "stdout",
     "output_type": "stream",
     "text": [
      "Using GPU...\n",
      "Saving model at iteration 0 with best score 0.487\n",
      "[E:0]\tTrain Loss: 2.004\tDev score: 0.487\n",
      "Saving model at iteration 1 with best score 0.517\n",
      "[E:1]\tTrain Loss: 1.825\tDev score: 0.517\n",
      "Saving model at iteration 2 with best score 0.625\n",
      "[E:2]\tTrain Loss: 1.785\tDev score: 0.625\n"
     ]
    },
    {
     "name": "stderr",
     "output_type": "stream",
     "text": [
      "Process Process-16:\n",
      "Traceback (most recent call last):\n",
      "  File \"/home/jdunnmon/repos/anaconda3/envs/metal/lib/python3.6/multiprocessing/process.py\", line 258, in _bootstrap\n",
      "    self.run()\n",
      "  File \"/home/jdunnmon/repos/anaconda3/envs/metal/lib/python3.6/multiprocessing/process.py\", line 93, in run\n",
      "    self._target(*self._args, **self._kwargs)\n",
      "  File \"/home/jdunnmon/repos/anaconda3/envs/metal/lib/python3.6/site-packages/torch/utils/data/dataloader.py\", line 96, in _worker_loop\n",
      "    r = index_queue.get(timeout=MANAGER_STATUS_CHECK_INTERVAL)\n",
      "  File \"/home/jdunnmon/repos/anaconda3/envs/metal/lib/python3.6/multiprocessing/queues.py\", line 104, in get\n",
      "    if not self._poll(timeout):\n",
      "  File \"/home/jdunnmon/repos/anaconda3/envs/metal/lib/python3.6/multiprocessing/connection.py\", line 257, in poll\n",
      "    return self._poll(timeout)\n",
      "  File \"/home/jdunnmon/repos/anaconda3/envs/metal/lib/python3.6/multiprocessing/connection.py\", line 414, in _poll\n",
      "    r = wait([self], timeout)\n",
      "  File \"/home/jdunnmon/repos/anaconda3/envs/metal/lib/python3.6/multiprocessing/connection.py\", line 911, in wait\n",
      "    ready = selector.select(timeout)\n",
      "  File \"/home/jdunnmon/repos/anaconda3/envs/metal/lib/python3.6/selectors.py\", line 376, in select\n",
      "    fd_event_list = self._poll.poll(timeout)\n",
      "KeyboardInterrupt\n"
     ]
    },
    {
     "ename": "KeyboardInterrupt",
     "evalue": "",
     "output_type": "error",
     "traceback": [
      "\u001b[0;31m---------------------------------------------------------------------------\u001b[0m",
      "\u001b[0;31mKeyboardInterrupt\u001b[0m                         Traceback (most recent call last)",
      "\u001b[0;32m<ipython-input-38-c4667c85dd98>\u001b[0m in \u001b[0;36m<module>\u001b[0;34m()\u001b[0m\n\u001b[1;32m      1\u001b[0m \u001b[0mos\u001b[0m\u001b[0;34m.\u001b[0m\u001b[0menviron\u001b[0m\u001b[0;34m[\u001b[0m\u001b[0;34m'CUDA_VISIBLE_DEVICES'\u001b[0m\u001b[0;34m]\u001b[0m\u001b[0;34m=\u001b[0m\u001b[0;34m'0'\u001b[0m\u001b[0;34m\u001b[0m\u001b[0m\n\u001b[0;32m----> 2\u001b[0;31m \u001b[0mend_model\u001b[0m\u001b[0;34m.\u001b[0m\u001b[0mtrain\u001b[0m\u001b[0;34m(\u001b[0m\u001b[0;34m(\u001b[0m\u001b[0mXs_BOWE\u001b[0m\u001b[0;34m[\u001b[0m\u001b[0;36m0\u001b[0m\u001b[0;34m]\u001b[0m\u001b[0;34m,\u001b[0m \u001b[0mY_train_ps\u001b[0m\u001b[0;34m)\u001b[0m\u001b[0;34m,\u001b[0m \u001b[0mdev_data\u001b[0m\u001b[0;34m=\u001b[0m\u001b[0;34m(\u001b[0m\u001b[0mXs_BOWE\u001b[0m\u001b[0;34m[\u001b[0m\u001b[0;36m1\u001b[0m\u001b[0;34m]\u001b[0m\u001b[0;34m,\u001b[0m \u001b[0mtorch\u001b[0m\u001b[0;34m.\u001b[0m\u001b[0mTensor\u001b[0m\u001b[0;34m(\u001b[0m\u001b[0mYs\u001b[0m\u001b[0;34m[\u001b[0m\u001b[0;36m1\u001b[0m\u001b[0;34m]\u001b[0m\u001b[0;34m)\u001b[0m\u001b[0;34m)\u001b[0m\u001b[0;34m,\u001b[0m \u001b[0mn_epochs\u001b[0m\u001b[0;34m=\u001b[0m\u001b[0;36m500\u001b[0m\u001b[0;34m,\u001b[0m \u001b[0mseed\u001b[0m\u001b[0;34m=\u001b[0m\u001b[0;36m123\u001b[0m\u001b[0;34m)\u001b[0m\u001b[0;34m\u001b[0m\u001b[0m\n\u001b[0m",
      "\u001b[0;32m~/repos/metal/metal/end_model/end_model.py\u001b[0m in \u001b[0;36mtrain\u001b[0;34m(self, train_data, dev_data, **kwargs)\u001b[0m\n\u001b[1;32m    191\u001b[0m \u001b[0;34m\u001b[0m\u001b[0m\n\u001b[1;32m    192\u001b[0m         \u001b[0;31m# Execute training procedure\u001b[0m\u001b[0;34m\u001b[0m\u001b[0;34m\u001b[0m\u001b[0m\n\u001b[0;32m--> 193\u001b[0;31m         \u001b[0mself\u001b[0m\u001b[0;34m.\u001b[0m\u001b[0m_train\u001b[0m\u001b[0;34m(\u001b[0m\u001b[0mtrain_loader\u001b[0m\u001b[0;34m,\u001b[0m \u001b[0mloss_fn\u001b[0m\u001b[0;34m,\u001b[0m \u001b[0mdev_data\u001b[0m\u001b[0;34m=\u001b[0m\u001b[0mdev_data\u001b[0m\u001b[0;34m)\u001b[0m\u001b[0;34m\u001b[0m\u001b[0m\n\u001b[0m\u001b[1;32m    194\u001b[0m \u001b[0;34m\u001b[0m\u001b[0m\n\u001b[1;32m    195\u001b[0m     \u001b[0;32mdef\u001b[0m \u001b[0mpredict_proba\u001b[0m\u001b[0;34m(\u001b[0m\u001b[0mself\u001b[0m\u001b[0;34m,\u001b[0m \u001b[0mX\u001b[0m\u001b[0;34m)\u001b[0m\u001b[0;34m:\u001b[0m\u001b[0;34m\u001b[0m\u001b[0m\n",
      "\u001b[0;32m~/repos/metal/metal/classifier.py\u001b[0m in \u001b[0;36m_train\u001b[0;34m(self, train_data, loss_fn, dev_data)\u001b[0m\n\u001b[1;32m    193\u001b[0m \u001b[0;34m\u001b[0m\u001b[0m\n\u001b[1;32m    194\u001b[0m                 \u001b[0;31m# Backward pass to calculate gradients\u001b[0m\u001b[0;34m\u001b[0m\u001b[0;34m\u001b[0m\u001b[0m\n\u001b[0;32m--> 195\u001b[0;31m                 \u001b[0mloss\u001b[0m\u001b[0;34m.\u001b[0m\u001b[0mbackward\u001b[0m\u001b[0;34m(\u001b[0m\u001b[0;34m)\u001b[0m\u001b[0;34m\u001b[0m\u001b[0m\n\u001b[0m\u001b[1;32m    196\u001b[0m \u001b[0;34m\u001b[0m\u001b[0m\n\u001b[1;32m    197\u001b[0m                 \u001b[0;31m# TODO: restore this once it has unit tests\u001b[0m\u001b[0;34m\u001b[0m\u001b[0;34m\u001b[0m\u001b[0m\n",
      "\u001b[0;32m~/repos/anaconda3/envs/metal/lib/python3.6/site-packages/torch/tensor.py\u001b[0m in \u001b[0;36mbackward\u001b[0;34m(self, gradient, retain_graph, create_graph)\u001b[0m\n\u001b[1;32m     91\u001b[0m                 \u001b[0mproducts\u001b[0m\u001b[0;34m.\u001b[0m \u001b[0mDefaults\u001b[0m \u001b[0mto\u001b[0m\u001b[0;31m \u001b[0m\u001b[0;31m`\u001b[0m\u001b[0;31m`\u001b[0m\u001b[0;32mFalse\u001b[0m\u001b[0;31m`\u001b[0m\u001b[0;31m`\u001b[0m\u001b[0;34m.\u001b[0m\u001b[0;34m\u001b[0m\u001b[0m\n\u001b[1;32m     92\u001b[0m         \"\"\"\n\u001b[0;32m---> 93\u001b[0;31m         \u001b[0mtorch\u001b[0m\u001b[0;34m.\u001b[0m\u001b[0mautograd\u001b[0m\u001b[0;34m.\u001b[0m\u001b[0mbackward\u001b[0m\u001b[0;34m(\u001b[0m\u001b[0mself\u001b[0m\u001b[0;34m,\u001b[0m \u001b[0mgradient\u001b[0m\u001b[0;34m,\u001b[0m \u001b[0mretain_graph\u001b[0m\u001b[0;34m,\u001b[0m \u001b[0mcreate_graph\u001b[0m\u001b[0;34m)\u001b[0m\u001b[0;34m\u001b[0m\u001b[0m\n\u001b[0m\u001b[1;32m     94\u001b[0m \u001b[0;34m\u001b[0m\u001b[0m\n\u001b[1;32m     95\u001b[0m     \u001b[0;32mdef\u001b[0m \u001b[0mregister_hook\u001b[0m\u001b[0;34m(\u001b[0m\u001b[0mself\u001b[0m\u001b[0;34m,\u001b[0m \u001b[0mhook\u001b[0m\u001b[0;34m)\u001b[0m\u001b[0;34m:\u001b[0m\u001b[0;34m\u001b[0m\u001b[0m\n",
      "\u001b[0;32m~/repos/anaconda3/envs/metal/lib/python3.6/site-packages/torch/autograd/__init__.py\u001b[0m in \u001b[0;36mbackward\u001b[0;34m(tensors, grad_tensors, retain_graph, create_graph, grad_variables)\u001b[0m\n\u001b[1;32m     88\u001b[0m     Variable._execution_engine.run_backward(\n\u001b[1;32m     89\u001b[0m         \u001b[0mtensors\u001b[0m\u001b[0;34m,\u001b[0m \u001b[0mgrad_tensors\u001b[0m\u001b[0;34m,\u001b[0m \u001b[0mretain_graph\u001b[0m\u001b[0;34m,\u001b[0m \u001b[0mcreate_graph\u001b[0m\u001b[0;34m,\u001b[0m\u001b[0;34m\u001b[0m\u001b[0m\n\u001b[0;32m---> 90\u001b[0;31m         allow_unreachable=True)  # allow_unreachable flag\n\u001b[0m\u001b[1;32m     91\u001b[0m \u001b[0;34m\u001b[0m\u001b[0m\n\u001b[1;32m     92\u001b[0m \u001b[0;34m\u001b[0m\u001b[0m\n",
      "\u001b[0;31mKeyboardInterrupt\u001b[0m: "
     ]
    }
   ],
   "source": [
    "os.environ['CUDA_VISIBLE_DEVICES']='0'\n",
    "end_model.train((Xs_BOWE[0], Y_train_ps), dev_data=(Xs_BOWE[1], torch.Tensor(Ys[1])), n_epochs=500, seed=123)"
   ]
  },
  {
   "cell_type": "code",
   "execution_count": 22,
   "metadata": {},
   "outputs": [
    {
     "name": "stdout",
     "output_type": "stream",
     "text": [
      "Label Model:\n",
      "Accuracy: 0.682\n",
      "\n",
      "End Model:\n",
      "Accuracy: 0.678\n"
     ]
    }
   ],
   "source": [
    "print(\"Label Model:\")\n",
    "score = label_model.score((Ls[2], Ys[2]))\n",
    "\n",
    "print()\n",
    "\n",
    "print(\"End Model:\")\n",
    "score = end_model.score((Xs_BOWE[2], Ys[2]))"
   ]
  },
  {
   "cell_type": "code",
   "execution_count": 9,
   "metadata": {
    "scrolled": true
   },
   "outputs": [
    {
     "name": "stdout",
     "output_type": "stream",
     "text": [
      "Using randomly initialized embeddings.\n",
      "Embeddings shape = (15139, 300)\n",
      "The embeddings are NOT FROZEN\n",
      "Using lstm_reduction = 'max'\n",
      "Could not find kwarg \"embeddings\" in default config.\n",
      "Could not find kwarg \"freeze\" in default config.\n",
      "Could not find kwarg \"input_modules\" in default config.\n",
      "Could not find kwarg \"middle_modules\" in default config.\n",
      "Could not find kwarg \"head_modules\" in default config.\n",
      "\n",
      "Network architecture:\n",
      "\n",
      "--Input Layer--\n",
      "Sequential(\n",
      "  (0): LSTMModule(\n",
      "    (embeddings): Embedding(15139, 300)\n",
      "    (lstm): LSTM(300, 100, batch_first=True, bidirectional=True)\n",
      "  )\n",
      "  (1): ReLU()\n",
      ")\n",
      "\n",
      "--Middle Layers--\n",
      "(layer1):\n",
      "Sequential(\n",
      "  (0): Linear(in_features=100, out_features=300, bias=True)\n",
      "  (1): ReLU()\n",
      ")\n",
      "\n",
      "(layer2):\n",
      "Sequential(\n",
      "  (0): Linear(in_features=300, out_features=100, bias=True)\n",
      "  (1): ReLU()\n",
      ")\n",
      "(head0)\n",
      "Linear(in_features=100, out_features=2, bias=True)\n",
      "(head1)\n",
      "Linear(in_features=100, out_features=2, bias=True)\n",
      "(head2)\n",
      "Linear(in_features=100, out_features=2, bias=True)\n",
      "\n",
      "\n"
     ]
    }
   ],
   "source": [
    "from metal.multitask import MTEndModel\n",
    "from metal.end_model import EndModel\n",
    "from metal.modules import LSTMModule\n",
    "import torch\n",
    "\n",
    "\n",
    "# LSTM parameters\n",
    "hidden_size = 100\n",
    "embed_size = embeddings.shape[1]\n",
    "vocab_size = embeddings.shape[0] # Update Metal to handle this more gracefully!\n",
    "max_seq_length = Xs[0]\n",
    "input_module = LSTMModule(embed_size, hidden_size, vocab_size = vocab_size)\n",
    "\n",
    "use_cuda = torch.cuda.is_available()\n",
    "end_model = MTEndModel([hidden_size,300,100], task_graph=task_graph, \\\n",
    "                       seed=123, use_cuda=use_cuda, disable_prog_bar= False, \\\n",
    "                       input_modules=[input_module], embeddings=embeddings, freeze=True)"
   ]
  },
  {
   "cell_type": "code",
   "execution_count": null,
   "metadata": {},
   "outputs": [
    {
     "name": "stdout",
     "output_type": "stream",
     "text": [
      "Using GPU...\n"
     ]
    },
    {
     "name": "stderr",
     "output_type": "stream",
     "text": [
      "\n",
      "\n",
      "\n",
      "\n",
      "  0%|          | 0/20 [00:00<?, ?it/s]\u001b[A\u001b[A\u001b[A\u001b[A"
     ]
    },
    {
     "name": "stdout",
     "output_type": "stream",
     "text": [
      "> /home/jdunnmon/repos/metal/metal/modules/lstm_module.py(138)forward()\n",
      "-> batch_size, max_seq = X.shape\n",
      "(Pdb) X\n",
      "tensor([  144,     1,   156,  5506,   232,    23,    11,    97,     8,   291,\n",
      "          114,  4242,    89,   234,   538,     2,  1220,     6,  2600,    14,\n",
      "           34,   183,   963, 14475,     9,  3056,     8, 13147,     4, 14620,\n",
      "            3,    10,  1118,    73,     5,     0,     0,     0,     0,     0,\n",
      "            0,     0,     0,     0,     0,     0,     0,     0,     0,     0,\n",
      "            0,     0,     0,     0,     0,     0,     0,     0,     0,     0,\n",
      "            0,     0,     0,     0,     0,     0,     0,     0,     0,     0,\n",
      "            0,     0,     0,     0,     0,     0,     0,     0,     0,     0,\n",
      "            0,     0,     0,     0,     0,     0,     0,     0,     0,     0,\n",
      "            0,     0,     0,     0,     0,     0,     0,     0,     0,     0,\n",
      "            0,     0,     0,     0,     0,     0,     0,     0,     0,     0,\n",
      "            0,     0,     0,     0,     0,     0,     0,     0,     0,     0,\n",
      "            0,     0,     0,     0,     0,     0,     0,     0,     0,     0,\n",
      "            0,     0,     0,     0,     0,     0,     0,     0,     0,     0,\n",
      "            0,     0,     0,     0,     0,     0,     0,     0,     0,     0,\n",
      "            0,     0,     0,     0,     0,     0,     0,     0,     0,     0,\n",
      "            0,     0,     0,     0,     0,     0,     0,     0,     0,     0,\n",
      "            0,     0,     0,     0,     0,     0,     0,     0,     0,     0,\n",
      "            0,     0,     0,     0,     0,     0,     0,     0,     0,     0,\n",
      "            0,     0,     0,     0,     0,     0,     0,     0,     0,     0,\n",
      "            0,     0,     0,     0,     0,     0,     0], device='cuda:0')\n"
     ]
    }
   ],
   "source": [
    "import torch\n",
    "from torch.utils.data import DataLoader\n",
    "from metal.multitask.utils import MultiYDataset\n",
    "import os\n",
    "os.environ['CUDA_VISIBLE_DEVICES']='2'\n",
    "\n",
    "#train_data = ([x for x in Xs[0]],Y_train_ps)\n",
    "#dev_data = ([x for x in Xs[1]], torch.Tensor(Ys[1]))\n",
    "\n",
    "train_data = MultiYDataset(Xs[0],Y_train_ps)\n",
    "dev_data = MultiYDataset(Xs[1], torch.Tensor(Ys[1]))\n",
    "\n",
    "#train_data = (Xs[0],Y_train_ps)\n",
    "#dev_data = (Xs[1], torch.Tensor(Ys[1]))\n",
    "\n",
    "end_model.train(train_data, dev_data=dev_data, \\\n",
    "                n_epochs=50, batch_size=256, seed=123, l2=0.001, lr=0.001, num_workers=4,\\\n",
    "                print_every=1)\n",
    "\n",
    "# Training end model\n",
    "#train_data = (Xs[0].long(), torch.Tensor(Y_train_ps))\n",
    "#dev_data = (Xs[1].long(), torch.Tensor(Ys[1]))\n",
    "#batch_size = 256\n",
    "\n",
    "#train_data = DataLoader(MetalDataset(*train_data), shuffle=True, batch_size=batch_size)\n",
    "#dev_data = DataLoader(MetalDataset(*dev_data), shuffle=True, batch_size = batch_size)\n",
    "\n",
    "#end_model.train(train_data, dev_data=dev_data, l2=0.001, lr=0.001, batch_size=256, \n",
    "#                num_workers=8, n_epochs=2, print_every=1, validation_metric='accuracy')\n",
    "\n",
    "# Emptying cuda cache (add this to metal?)\n",
    "torch.cuda.empty_cache()"
   ]
  },
  {
   "cell_type": "code",
   "execution_count": 30,
   "metadata": {},
   "outputs": [],
   "source": [
    "from torch.utils.data import DataLoader\n",
    "dl = DataLoader(train_data, **end_model.config[\"train_config\"][\"data_loader_config\"])"
   ]
  },
  {
   "cell_type": "code",
   "execution_count": 38,
   "metadata": {},
   "outputs": [
    {
     "name": "stdout",
     "output_type": "stream",
     "text": [
      "torch.Size([207])\n",
      "torch.Size([207])\n",
      "torch.Size([207])\n",
      "torch.Size([207])\n",
      "torch.Size([207])\n",
      "torch.Size([207])\n",
      "torch.Size([207])\n",
      "torch.Size([207])\n",
      "torch.Size([207])\n",
      "torch.Size([207])\n",
      "torch.Size([207])\n",
      "torch.Size([207])\n",
      "torch.Size([207])\n",
      "torch.Size([207])\n",
      "torch.Size([207])\n",
      "torch.Size([207])\n",
      "torch.Size([207])\n",
      "torch.Size([207])\n",
      "torch.Size([207])\n",
      "torch.Size([207])\n"
     ]
    }
   ],
   "source": [
    "for a,b in dl:\n",
    "    print(a[0].shape)"
   ]
  },
  {
   "cell_type": "code",
   "execution_count": 41,
   "metadata": {},
   "outputs": [
    {
     "data": {
      "text/plain": [
       "torch.Size([207])"
      ]
     },
     "execution_count": 41,
     "metadata": {},
     "output_type": "execute_result"
    }
   ],
   "source": [
    "a[0].shape"
   ]
  },
  {
   "cell_type": "markdown",
   "metadata": {},
   "source": [
    "## SANDBOX"
   ]
  },
  {
   "cell_type": "code",
   "execution_count": 33,
   "metadata": {},
   "outputs": [
    {
     "data": {
      "text/plain": [
       "5000"
      ]
     },
     "execution_count": 33,
     "metadata": {},
     "output_type": "execute_result"
    }
   ],
   "source": [
    "len(Y_train_ps[2])"
   ]
  },
  {
   "cell_type": "code",
   "execution_count": 13,
   "metadata": {},
   "outputs": [],
   "source": [
    "import pickle\n",
    "import sys,os\n",
    "#sys.path.append('../../metal')\n",
    "sys.path.append('../../metal_nips')\n",
    "\n",
    "with open(\"data/ontonotes_tutorial_data.pkl\", 'rb') as f:\n",
    "    data = pickle.load(f)\n",
    "    \n",
    "a = data['task_tree']"
   ]
  },
  {
   "cell_type": "code",
   "execution_count": 11,
   "metadata": {},
   "outputs": [
    {
     "data": {
      "text/plain": [
       "torch.Size([5000, 207])"
      ]
     },
     "execution_count": 11,
     "metadata": {},
     "output_type": "execute_result"
    }
   ],
   "source": [
    "Xs[0].shape"
   ]
  },
  {
   "cell_type": "code",
   "execution_count": 14,
   "metadata": {},
   "outputs": [
    {
     "data": {
      "text/plain": [
       "[(0, 1), (0, 2)]"
      ]
     },
     "execution_count": 14,
     "metadata": {},
     "output_type": "execute_result"
    }
   ],
   "source": [
    "a.edges"
   ]
  },
  {
   "cell_type": "code",
   "execution_count": 15,
   "metadata": {},
   "outputs": [],
   "source": [
    "data['task_tree'] = None"
   ]
  },
  {
   "cell_type": "code",
   "execution_count": 21,
   "metadata": {},
   "outputs": [],
   "source": [
    "data['edges'] = a.edges\n",
    "data['cardinalities'] = a.K"
   ]
  },
  {
   "cell_type": "code",
   "execution_count": 20,
   "metadata": {},
   "outputs": [
    {
     "data": {
      "text/plain": [
       "[2, 2, 2]"
      ]
     },
     "execution_count": 20,
     "metadata": {},
     "output_type": "execute_result"
    }
   ],
   "source": [
    "a.K"
   ]
  },
  {
   "cell_type": "code",
   "execution_count": 23,
   "metadata": {},
   "outputs": [],
   "source": [
    "with open(\"data/ontonotes_tutorial_data.pkl\", 'wb') as f:\n",
    "    pickle.dump(data,f)"
   ]
  },
  {
   "cell_type": "code",
   "execution_count": 7,
   "metadata": {},
   "outputs": [
    {
     "data": {
      "text/plain": [
       "{'Ls': [<5000x33 sparse matrix of type '<class 'numpy.int8'>'\n",
       "  \twith 20231 stored elements in Compressed Sparse Column format>,\n",
       "  <347x33 sparse matrix of type '<class 'numpy.int8'>'\n",
       "  \twith 1603 stored elements in Compressed Sparse Column format>,\n",
       "  <345x33 sparse matrix of type '<class 'numpy.int8'>'\n",
       "  \twith 1611 stored elements in Compressed Sparse Column format>],\n",
       " 'Xs': [tensor([[    4, 11183,     3,  ...,     0,     0,     0],\n",
       "          [    2,     4,  2285,  ...,     0,     0,     0],\n",
       "          [ 1584,     1,    10,  ...,     0,     0,     0],\n",
       "          ...,\n",
       "          [  751,    71,  3248,  ...,     0,     0,     0],\n",
       "          [    2, 12398,  6691,  ...,     0,     0,     0],\n",
       "          [   70,    73,   293,  ...,     0,     0,     0]]),\n",
       "  tensor([[  618,   621,    43,  ...,     0,     0,     0],\n",
       "          [    2,  6661,   178,  ...,     0,     0,     0],\n",
       "          [  414,     1,     4,  ...,     0,     0,     0],\n",
       "          ...,\n",
       "          [  120,   110,   346,  ...,     0,     0,     0],\n",
       "          [   50, 12813,    11,  ...,     0,     0,     0],\n",
       "          [    2,   115,   560,  ...,     0,     0,     0]]),\n",
       "  tensor([[   10,  2220,     1,  ...,     0,     0,     0],\n",
       "          [ 1696,     6,     0,  ...,     0,     0,     0],\n",
       "          [ 5330,    67,   317,  ...,     0,     0,     0],\n",
       "          ...,\n",
       "          [    2,   248,   888,  ...,     0,     0,     0],\n",
       "          [  211, 15069,  9288,  ...,     0,     0,     0],\n",
       "          [  208,     0,     1,  ...,     0,     0,     0]])],\n",
       " 'Ys': [tensor([0, 0, 0,  ..., 0, 0, 0]),\n",
       "  tensor([3, 3, 4, 3, 2, 2, 3, 3, 2, 4, 4, 1, 3, 3, 4, 1, 3, 4, 2, 3, 1, 3, 4, 2,\n",
       "          2, 3, 2, 3, 3, 3, 3, 4, 3, 3, 2, 4, 3, 2, 3, 4, 2, 3, 3, 2, 4, 3, 3, 2,\n",
       "          3, 3, 3, 3, 2, 3, 1, 4, 2, 3, 3, 3, 4, 3, 3, 3, 2, 4, 2, 2, 2, 3, 3, 3,\n",
       "          3, 2, 3, 2, 1, 3, 3, 4, 3, 3, 1, 1, 3, 3, 4, 4, 1, 3, 1, 3, 1, 4, 3, 3,\n",
       "          3, 3, 3, 3, 3, 2, 1, 3, 1, 4, 3, 3, 2, 4, 4, 4, 3, 1, 3, 3, 1, 3, 3, 3,\n",
       "          2, 1, 3, 3, 3, 3, 4, 4, 3, 3, 3, 3, 2, 4, 3, 3, 4, 1, 3, 3, 2, 4, 1, 3,\n",
       "          3, 2, 1, 2, 3, 4, 3, 3, 4, 3, 4, 3, 4, 3, 3, 3, 2, 4, 4, 3, 3, 3, 2, 1,\n",
       "          3, 3, 3, 3, 3, 2, 3, 3, 1, 3, 4, 3, 3, 4, 4, 3, 3, 3, 4, 4, 4, 3, 3, 3,\n",
       "          3, 4, 2, 3, 3, 2, 3, 4, 3, 3, 2, 2, 1, 4, 3, 3, 3, 3, 1, 3, 4, 2, 4, 3,\n",
       "          3, 2, 3, 3, 3, 4, 3, 2, 3, 4, 1, 2, 4, 3, 3, 3, 4, 3, 2, 1, 3, 3, 2, 4,\n",
       "          4, 3, 3, 3, 3, 2, 4, 3, 3, 3, 2, 3, 3, 3, 3, 4, 3, 4, 2, 3, 1, 2, 2, 3,\n",
       "          3, 4, 3, 3, 4, 3, 3, 3, 4, 4, 3, 1, 4, 3, 3, 1, 2, 3, 3, 1, 3, 3, 1, 3,\n",
       "          4, 3, 3, 3, 3, 3, 3, 3, 4, 2, 3, 3, 4, 3, 3, 3, 2, 3, 3, 3, 2, 4, 3, 3,\n",
       "          2, 3, 3, 3, 3, 3, 3, 3, 1, 3, 2, 3, 3, 2, 3, 4, 3, 3, 3, 3, 2, 3, 3, 2,\n",
       "          3, 4, 1, 3, 3, 2, 1, 3, 4, 3, 3]),\n",
       "  tensor([3, 4, 3, 1, 3, 2, 2, 1, 3, 3, 3, 3, 1, 1, 3, 3, 3, 3, 3, 3, 3, 3, 4, 3,\n",
       "          3, 3, 4, 3, 4, 2, 2, 3, 4, 3, 3, 3, 4, 3, 3, 2, 2, 1, 1, 3, 1, 3, 3, 3,\n",
       "          4, 2, 3, 3, 3, 2, 1, 4, 3, 2, 3, 2, 3, 1, 3, 3, 4, 3, 2, 2, 3, 3, 3, 3,\n",
       "          2, 3, 4, 3, 3, 2, 3, 2, 4, 4, 3, 3, 3, 3, 3, 2, 3, 2, 3, 3, 1, 3, 2, 3,\n",
       "          3, 4, 3, 3, 3, 3, 3, 3, 3, 4, 3, 1, 3, 4, 2, 2, 3, 3, 3, 1, 3, 3, 4, 2,\n",
       "          3, 3, 3, 3, 1, 1, 4, 4, 1, 3, 4, 3, 3, 1, 3, 3, 3, 2, 4, 1, 3, 3, 1, 1,\n",
       "          4, 3, 3, 3, 3, 2, 2, 3, 3, 2, 2, 2, 3, 3, 2, 4, 3, 3, 4, 4, 2, 2, 3, 4,\n",
       "          1, 3, 3, 4, 2, 3, 2, 2, 3, 4, 4, 3, 4, 4, 2, 3, 4, 3, 3, 3, 3, 4, 3, 2,\n",
       "          4, 3, 4, 3, 3, 1, 1, 1, 2, 1, 4, 4, 3, 3, 3, 2, 3, 3, 4, 4, 3, 3, 3, 3,\n",
       "          3, 2, 3, 1, 3, 3, 4, 3, 3, 1, 3, 4, 3, 3, 3, 3, 2, 3, 3, 2, 3, 3, 3, 3,\n",
       "          4, 3, 3, 1, 3, 4, 4, 3, 3, 4, 2, 4, 3, 3, 3, 3, 2, 2, 4, 3, 3, 3, 3, 3,\n",
       "          3, 3, 3, 3, 2, 1, 3, 3, 1, 2, 1, 3, 2, 4, 3, 3, 3, 3, 1, 4, 3, 3, 3, 4,\n",
       "          4, 2, 3, 3, 1, 4, 3, 3, 3, 4, 2, 3, 3, 3, 4, 2, 3, 3, 3, 3, 1, 3, 2, 4,\n",
       "          3, 3, 3, 3, 3, 4, 2, 3, 3, 3, 3, 3, 4, 4, 3, 3, 2, 1, 4, 4, 3, 3, 3, 3,\n",
       "          3, 2, 3, 3, 1, 2, 4, 2, 3])],\n",
       " 'task_to_lfs': defaultdict(list,\n",
       "             {0: [0, 1, 2, 3, 4, 5, 6, 7, 8],\n",
       "              1: [9, 10, 11, 12, 13, 14, 15, 16, 17, 18, 19],\n",
       "              2: [20, 21, 22, 23, 24, 25, 26, 27, 28, 29, 30, 31, 32]}),\n",
       " 'task_tree': None,\n",
       " 'embeddings': tensor([[ 0.0000,  0.0000,  0.0000,  ...,  0.0000,  0.0000,  0.0000],\n",
       "         [ 0.2013,  0.0104,  0.1623,  ..., -0.0931, -0.1408, -0.1326],\n",
       "         [ 0.0104, -0.1829,  0.0761,  ..., -0.1362, -0.2240, -0.0552],\n",
       "         ...,\n",
       "         [ 0.0000,  0.0000,  0.0000,  ...,  0.0000,  0.0000,  0.0000],\n",
       "         [ 0.0000,  0.0000,  0.0000,  ...,  0.0000,  0.0000,  0.0000],\n",
       "         [ 0.3144, -0.2097,  0.1140,  ...,  0.1459,  0.0098, -0.0234]]),\n",
       " 'edges': [(0, 1), (0, 2)],\n",
       " 'cardinalities': [2, 2, 2]}"
      ]
     },
     "execution_count": 7,
     "metadata": {},
     "output_type": "execute_result"
    }
   ],
   "source": [
    "data"
   ]
  },
  {
   "cell_type": "code",
   "execution_count": 17,
   "metadata": {},
   "outputs": [
    {
     "name": "stdout",
     "output_type": "stream",
     "text": [
      "| ID | GPU | MEM |\n",
      "------------------\n",
      "|  0 |  0% |  9% |\n",
      "|  1 |  0% |  0% |\n",
      "|  2 |  0% |  0% |\n",
      "|  3 |  0% |  3% |\n"
     ]
    }
   ],
   "source": [
    "import GPUtil\n",
    "a = GPUtil.showUtilization()"
   ]
  },
  {
   "cell_type": "code",
   "execution_count": 19,
   "metadata": {},
   "outputs": [],
   "source": [
    "GPUs = GPUtil.getGPUs()"
   ]
  },
  {
   "cell_type": "code",
   "execution_count": 22,
   "metadata": {},
   "outputs": [],
   "source": [
    "GPU0=GPUs[0]"
   ]
  },
  {
   "cell_type": "code",
   "execution_count": 25,
   "metadata": {},
   "outputs": [
    {
     "data": {
      "text/plain": [
       "0.0"
      ]
     },
     "execution_count": 25,
     "metadata": {},
     "output_type": "execute_result"
    }
   ],
   "source": [
    "GPU0.load"
   ]
  },
  {
   "cell_type": "code",
   "execution_count": 1,
   "metadata": {},
   "outputs": [
    {
     "name": "stdout",
     "output_type": "stream",
     "text": [
      "Computing O...\n",
      "Estimating \\mu...\n",
      "[E:0]\tTrain Loss: 6.028\n",
      "[E:25]\tTrain Loss: 0.438\n",
      "[E:50]\tTrain Loss: 0.029\n",
      "[E:75]\tTrain Loss: 0.004\n",
      "[E:100]\tTrain Loss: 0.003\n",
      "[E:125]\tTrain Loss: 0.003\n",
      "[E:150]\tTrain Loss: 0.002\n",
      "[E:175]\tTrain Loss: 0.002\n",
      "[E:200]\tTrain Loss: 0.002\n",
      "[E:225]\tTrain Loss: 0.002\n",
      "[E:250]\tTrain Loss: 0.002\n",
      "[E:275]\tTrain Loss: 0.002\n",
      "[E:300]\tTrain Loss: 0.002\n",
      "[E:325]\tTrain Loss: 0.002\n",
      "[E:350]\tTrain Loss: 0.002\n",
      "[E:375]\tTrain Loss: 0.002\n",
      "[E:400]\tTrain Loss: 0.002\n",
      "[E:425]\tTrain Loss: 0.002\n",
      "[E:450]\tTrain Loss: 0.002\n",
      "[E:475]\tTrain Loss: 0.002\n",
      "[E:499]\tTrain Loss: 0.002\n",
      "Finished Training\n",
      "\n",
      "Network architecture:\n",
      "Sequential(\n",
      "  (0): IdentityModule()\n",
      "  (1): Sequential(\n",
      "    (0): Linear(in_features=1000, out_features=100000, bias=True)\n",
      "    (1): ReLU()\n",
      "  )\n",
      "  (2): Linear(in_features=100000, out_features=2, bias=True)\n",
      ")\n",
      "\n",
      "Using GPU...\n"
     ]
    },
    {
     "name": "stderr",
     "output_type": "stream",
     "text": [
      "100%|██████████| 32/32 [00:01<00:00, 26.29it/s]\n"
     ]
    },
    {
     "name": "stdout",
     "output_type": "stream",
     "text": [
      "Saving model at iteration 0 with best score 0.773\n",
      "[E:0]\tTrain Loss: 2.722\tDev score: 0.773\n"
     ]
    },
    {
     "name": "stderr",
     "output_type": "stream",
     "text": [
      "100%|██████████| 32/32 [00:01<00:00, 26.47it/s]\n"
     ]
    },
    {
     "name": "stdout",
     "output_type": "stream",
     "text": [
      "[E:1]\tTrain Loss: 0.620\tDev score: 0.308\n"
     ]
    },
    {
     "name": "stderr",
     "output_type": "stream",
     "text": [
      "100%|██████████| 32/32 [00:01<00:00, 26.53it/s]\n"
     ]
    },
    {
     "name": "stdout",
     "output_type": "stream",
     "text": [
      "[E:2]\tTrain Loss: 0.742\tDev score: 0.071\n",
      "Restoring best model from iteration 0 with score 0.773\n",
      "Finished Training\n",
      "Accuracy: 0.857\n",
      "        y=1    y=2   \n",
      " l=1    244    141   \n",
      " l=2     2     613   \n",
      "3497.0\n"
     ]
    }
   ],
   "source": [
    "### INITIAL CODE FOR GPU LOAD TEST\n",
    "\n",
    "#import torch.multiprocessing as multiprocessing\n",
    "#multiprocessing.set_start_method('forkserver')\n",
    "import sys\n",
    "sys.path.append('../../metal')\n",
    "import os\n",
    "os.environ['CUDA_VISIBLE_DEVICES']='0'\n",
    "import metal\n",
    "import numpy as np\n",
    "import pickle\n",
    "import torch\n",
    "import time\n",
    "\n",
    "import GPUtil\n",
    "\n",
    "from metal.end_model import EndModel\n",
    "from metal.label_model import LabelModel\n",
    "from metal.utils import split_data\n",
    "\n",
    "\n",
    "with open(\"data/basics_tutorial.pkl\", 'rb') as f:\n",
    "    X, Y, L, D = pickle.load(f)\n",
    "\n",
    "Xs, Ys, Ls, Ds = split_data(X, Y, L, D, splits=[0.8, 0.1, 0.1], stratify_by=Y, seed=123)\n",
    "\n",
    "\n",
    "label_model = LabelModel(k=2, seed=123)\n",
    "label_model.train(Ls[0], Y_dev=Ys[1], n_epochs=500, print_every=25)\n",
    "Y_train_ps = label_model.predict_proba(Ls[0])\n",
    "\n",
    "use_cuda = torch.cuda.is_available()\n",
    "#if not use_cuda:\n",
    "    # Aborting test if no GPU!\n",
    "#    return\n",
    "\n",
    "end_model = EndModel([1000,100000,2], seed=123, use_cuda=use_cuda)\n",
    "def train_end_model():\n",
    "    end_model.train((Xs[0], Y_train_ps), dev_data=(Xs[1], Ys[1]), l2=0.1, batch_size=256, \n",
    "                n_epochs=3, print_every=1, validation_metric='f1')\n",
    "\n",
    "def check_gpu_use(ind=0):\n",
    "    # For now, this test assumes we use GPU0 and that it is otherwise empty!\n",
    "    GPU_use = []\n",
    "    samples = 2\n",
    "    i = 0\n",
    "    while i < samples:\n",
    "        print(f'GPU sample {i}')\n",
    "        GPU_use.append(GPUtil.getGPUs()[ind].load)\n",
    "        time.sleep(3)\n",
    "        i+=1\n",
    "    return np.array(GPU_use)\n",
    "    \n",
    "def gpu_use_queue(queue):\n",
    "    GPU_use = check_gpu_use(ind)\n",
    "    queue.put(GPU_use)\n",
    "    \n",
    "# Getting initial GPU use\n",
    "initial_gpu_use = GPUtil.getGPUs()[0].memoryUsed\n",
    "train_end_model()\n",
    "final_gpu_use = GPUtil.getGPUs()[0].memoryUsed\n",
    "print(final_gpu_use-initial_gpu_use)\n",
    "\n",
    "                           \n",
    "# Checking use while training\n",
    "#queue = multiprocessing.Queue()\n",
    "#p1 = multiprocessing.Process(name='p1', target=check_gpu_use, args=(queue,))\n",
    "#p = multiprocessing.Process(name='p', target=train_end_model)\n",
    "#p1.start()\n",
    "#p.start()\n",
    "\n",
    "#active_gpu_use = queue.get() \n",
    "\n",
    "#print(active_gpu_use-initial_gpu_use)"
   ]
  },
  {
   "cell_type": "code",
   "execution_count": 3,
   "metadata": {},
   "outputs": [
    {
     "data": {
      "text/plain": [
       "12.0"
      ]
     },
     "execution_count": 3,
     "metadata": {},
     "output_type": "execute_result"
    }
   ],
   "source": [
    "initial_gpu_use\n"
   ]
  },
  {
   "cell_type": "code",
   "execution_count": null,
   "metadata": {},
   "outputs": [],
   "source": []
  }
 ],
 "metadata": {
  "kernelspec": {
   "display_name": "Python [conda env:metal]",
   "language": "python",
   "name": "conda-env-metal-py"
  },
  "language_info": {
   "codemirror_mode": {
    "name": "ipython",
    "version": 3
   },
   "file_extension": ".py",
   "mimetype": "text/x-python",
   "name": "python",
   "nbconvert_exporter": "python",
   "pygments_lexer": "ipython3",
   "version": "3.6.6"
  }
 },
 "nbformat": 4,
 "nbformat_minor": 2
}
