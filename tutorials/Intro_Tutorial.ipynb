{
 "cells": [
  {
   "cell_type": "markdown",
   "metadata": {},
   "source": [
    "# Intro Tutorial to Snorkel MeTaL"
   ]
  },
  {
   "cell_type": "markdown",
   "metadata": {},
   "source": [
    "**[Currently under construction]**"
   ]
  },
  {
   "cell_type": "markdown",
   "metadata": {},
   "source": [
    "In this tutorial..."
   ]
  },
  {
   "cell_type": "markdown",
   "metadata": {},
   "source": [
    "Generate synthetic data"
   ]
  },
  {
   "cell_type": "code",
   "execution_count": 1,
   "metadata": {},
   "outputs": [
    {
     "name": "stdout",
     "output_type": "stream",
     "text": [
      "CPU times: user 17.4 s, sys: 280 ms, total: 17.7 s\n",
      "Wall time: 17.9 s\n"
     ]
    }
   ],
   "source": [
    "%%time\n",
    "from metal.utils import split_data\n",
    "from synthetic.generate import singletask_synthetic\n",
    "\n",
    "n = 10000 # Number of data points\n",
    "m = 10    # Number of labeling sources\n",
    "k = 2     # Cardinality of task\n",
    "\n",
    "D, L, X, Y, deps = singletask_synthetic(n, m, k)\n",
    "Ds, Ls, Xs, Ys = split_data(D, L, X, Y, splits=[0.8, 0.1, 0.1])"
   ]
  },
  {
   "cell_type": "markdown",
   "metadata": {},
   "source": [
    "Train and score label model"
   ]
  },
  {
   "cell_type": "code",
   "execution_count": 4,
   "metadata": {
    "scrolled": true
   },
   "outputs": [
    {
     "name": "stdout",
     "output_type": "stream",
     "text": [
      "Computing O...\n",
      "Estimating \\mu...\n",
      "[Epoch 0] Loss: 13.137172\n",
      "[Epoch 10] Loss: 3.693144\n",
      "[Epoch 20] Loss: 1.007804\n",
      "[Epoch 30] Loss: 0.046628\n",
      "[Epoch 40] Loss: 0.091219\n",
      "[Epoch 50] Loss: 0.060271\n",
      "[Epoch 60] Loss: 0.014713\n",
      "[Epoch 70] Loss: 0.002799\n",
      "[Epoch 80] Loss: 0.002833\n",
      "[Epoch 90] Loss: 0.001579\n",
      "[Epoch 99] Loss: 0.000958\n",
      "Label Model Accuracy=0.988\n",
      "CPU times: user 722 ms, sys: 37.6 ms, total: 760 ms\n",
      "Wall time: 281 ms\n"
     ]
    }
   ],
   "source": [
    "%%time\n",
    "from metal.label_model import LabelModel\n",
    "\n",
    "label_model = LabelModel(k)\n",
    "label_model.train(Ls[0], deps=deps)\n",
    "score = label_model.score(Ls[2], Ys[2], verbose=False)\n",
    "Y_p = label_model.predict(Ls[0])\n",
    "print(f\"Label Model Accuracy={score}\")"
   ]
  },
  {
   "cell_type": "markdown",
   "metadata": {},
   "source": [
    "Train and score end model"
   ]
  },
  {
   "cell_type": "code",
   "execution_count": 5,
   "metadata": {
    "scrolled": false
   },
   "outputs": [
    {
     "name": "stdout",
     "output_type": "stream",
     "text": [
      "\n",
      "Network architecture:\n",
      "Sequential(\n",
      "  (0): IdentityModule()\n",
      "  (1): Sequential(\n",
      "    (0): Linear(in_features=1000, out_features=10, bias=True)\n",
      "    (1): ReLU()\n",
      "  )\n",
      "  (2): Linear(in_features=10, out_features=2, bias=True)\n",
      ")\n",
      "\n"
     ]
    },
    {
     "name": "stderr",
     "output_type": "stream",
     "text": [
      "/Users/bradenjh/anaconda3/envs/metal/lib/python3.6/site-packages/torch/nn/functional.py:52: UserWarning: size_average and reduce args will be deprecated, please use reduction='none' instead.\n",
      "  warnings.warn(warning.format(ret))\n"
     ]
    },
    {
     "name": "stdout",
     "output_type": "stream",
     "text": [
      "Saving model at iteration 0 with best score 0.998\n",
      "[E:0]\tTrain Loss: 0.113\tDev score: 0.998\n",
      "[E:1]\tTrain Loss: 0.059\tDev score: 0.986\n",
      "[E:2]\tTrain Loss: 0.037\tDev score: 0.987\n",
      "[E:3]\tTrain Loss: 0.021\tDev score: 0.986\n",
      "[E:4]\tTrain Loss: 0.015\tDev score: 0.988\n",
      "Restoring best model from iteration 0 with score 0.998\n",
      "Finished Training\n",
      "Confusion Matrix (Dev)\n",
      "        y=1    y=2   \n",
      " l=1    479     6    \n",
      " l=2     6     509   \n",
      "End Model Accuracy: 0.978\n",
      "CPU times: user 10.6 s, sys: 1.54 s, total: 12.1 s\n",
      "Wall time: 2.01 s\n"
     ]
    }
   ],
   "source": [
    "%%time\n",
    "from metal.end_model import EndModel\n",
    "\n",
    "end_model = EndModel(layer_out_dims=[1000,10])\n",
    "end_model.train(Xs[0], Y_p, Xs[1], Ys[1], n_epochs=5)\n",
    "score = end_model.score(Xs[2], Ys[2], verbose=False)\n",
    "print(f\"End Model Accuracy: {score}\")"
   ]
  },
  {
   "cell_type": "code",
   "execution_count": null,
   "metadata": {},
   "outputs": [],
   "source": []
  }
 ],
 "metadata": {
  "kernelspec": {
   "display_name": "Python [conda env:metal]",
   "language": "python",
   "name": "conda-env-metal-py"
  },
  "language_info": {
   "codemirror_mode": {
    "name": "ipython",
    "version": 3
   },
   "file_extension": ".py",
   "mimetype": "text/x-python",
   "name": "python",
   "nbconvert_exporter": "python",
   "pygments_lexer": "ipython3",
   "version": "3.6.6"
  }
 },
 "nbformat": 4,
 "nbformat_minor": 2
}
