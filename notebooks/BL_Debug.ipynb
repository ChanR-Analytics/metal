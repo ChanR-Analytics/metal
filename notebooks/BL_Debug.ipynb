{
 "cells": [
  {
   "cell_type": "code",
   "execution_count": 1,
   "metadata": {},
   "outputs": [],
   "source": [
    "import pickle\n",
    "\n",
    "FILEPATH = 'babble.pkl'\n",
    "with open(FILEPATH, 'rb') as f:\n",
    "    Ls, Ys = pickle.load(f)"
   ]
  },
  {
   "cell_type": "code",
   "execution_count": 2,
   "metadata": {},
   "outputs": [
    {
     "name": "stdout",
     "output_type": "stream",
     "text": [
      "Overwriting seed=None to seed=2\n",
      "F1: 0.123\n",
      "Overwriting seed=None to seed=2\n",
      "F1: 0.377\n"
     ]
    }
   ],
   "source": [
    "from metal import MajorityLabelVoter, RandomVoter\n",
    "\n",
    "rv = RandomVoter(seed=2)\n",
    "_ = rv.score(Ls[1], Ys[1], metric'f1')\n",
    "\n",
    "mv = MajorityLabelVoter(seed=2)\n",
    "_ = mv.score(Ls[1], Ys[1], metric'f1')"
   ]
  },
  {
   "cell_type": "code",
   "execution_count": 3,
   "metadata": {
    "scrolled": false
   },
   "outputs": [
    {
     "name": "stdout",
     "output_type": "stream",
     "text": [
      "Overwriting seed=None to seed=2\n",
      "Overwriting n_epochs=100 to n_epochs=500\n",
      "Overwriting l2=0.0 to l2=0.1\n",
      "Overwriting print_every=10 to print_every=100\n",
      "Reaffirming lr=0.01\n",
      "Reaffirming show_plots=True\n",
      "[Epoch 0] Loss: 64.747282\n",
      "[Epoch 100] Loss: 0.421346\n",
      "[Epoch 200] Loss: 0.420033\n",
      "[Epoch 300] Loss: 0.419935\n",
      "[Epoch 400] Loss: 0.419902\n",
      "[Epoch 499] Loss: 0.419887\n",
      "Finished Training\n",
      "    Polarity  Coverage  Overlaps  Conflicts  Correct  Incorrect  Emp. Acc.  \\\n",
      "0          2  0.904992  0.156765   0.156389    17891       1379   0.928438   \n",
      "1          1  0.000704  0.000704   0.000611        4         11   0.266667   \n",
      "2          1  0.076269  0.076269   0.071526      489       1135   0.301108   \n",
      "3          1  0.001738  0.001738   0.001738       11         26   0.297297   \n",
      "4          1  0.083267  0.082281   0.078711      500       1273   0.282008   \n",
      "5          1  0.055229  0.055229   0.051801      434        742   0.369048   \n",
      "6          2  0.055981  0.009252   0.009205     1190          2   0.998322   \n",
      "7          2  0.000282  0.000282   0.000188        3          3   0.500000   \n",
      "8          2  0.000047  0.000047   0.000000        1          0   1.000000   \n",
      "9          2  0.003194  0.003194   0.003194       62          6   0.911765   \n",
      "10         1  0.099000  0.098201   0.093270      527       1581   0.250000   \n",
      "11         1  0.000235  0.000235   0.000235        2          3   0.400000   \n",
      "12         1  0.000845  0.000845   0.000845        5         13   0.277778   \n",
      "13         1  0.010802  0.010802   0.010614       42        188   0.182609   \n",
      "14         2  0.000282  0.000282   0.000000        6          0   1.000000   \n",
      "\n",
      "    Learned Acc.  \n",
      "0       0.513089  \n",
      "1       0.567486  \n",
      "2       0.535536  \n",
      "3       0.565792  \n",
      "4       0.513856  \n",
      "5       0.523893  \n",
      "6       0.418196  \n",
      "7       0.431755  \n",
      "8       0.431155  \n",
      "9       0.435637  \n",
      "10      0.527760  \n",
      "11      0.568860  \n",
      "12      0.565911  \n",
      "13      0.563677  \n",
      "14      0.431771  \n"
     ]
    },
    {
     "data": {
      "image/png": "[encoded data removed]",
      "text/plain": [
       "<Figure size 432x288 with 1 Axes>"
      ]
     },
     "metadata": {},
     "output_type": "display_data"
    },
    {
     "name": "stdout",
     "output_type": "stream",
     "text": [
      "Confusion Matrix (Dev)\n",
      "        y=1    y=2   \n",
      " l=1    119    488   \n",
      " l=2    70    2018   \n",
      "Precision: 0.197\n",
      "Recall: 0.635\n",
      "F1: 0.300\n"
     ]
    }
   ],
   "source": [
    "from metal import LabelModel, ModelTuner\n",
    "\n",
    "train_params = {\n",
    "    'n_epochs': 500,\n",
    "    'l2': 0.1,\n",
    "    'print_every': 100,\n",
    "    'lr': 0.01,\n",
    "    'show_plots': True,\n",
    "}\n",
    "label_aggregator = LabelModel(seed=2)\n",
    "label_aggregator.train(Ls[0], Y_train=Ys[0], L_dev=Ls[1], Y_dev=Ys[1], **train_params)\n",
    "_ = label_aggregator.score(Ls[1], Ys[1], metric=['precision', 'recall', 'f1'])"
   ]
  },
  {
   "cell_type": "code",
   "execution_count": null,
   "metadata": {},
   "outputs": [],
   "source": [
    "search_space = {\n",
    "    'n_epochs': [0, 100, 200, 500],\n",
    "    'l2': [0, 0.001, 0.01, 0.1, 1],\n",
    "    'print_every': 100,\n",
    "    'lr': [0.01, 0.001],\n",
    "}\n",
    "tuner = ModelTuner(LabelModel)\n",
    "init_args=[]\n",
    "train_args=[Ls[0]]\n",
    "model, config = tuner.search(init_args, train_args, Ls[1], Ys[1], \n",
    "                             search_space, max_search=10, metric='f1')"
   ]
  },
  {
   "cell_type": "code",
   "execution_count": null,
   "metadata": {},
   "outputs": [],
   "source": [
    "from metal.analysis import (\n",
    "    error_buckets, confusion_matrix, \n",
    "    view_label_matrix, view_overlaps, view_conflicts,\n",
    "    lf_summary, lf_polarities, lf_coverages, lf_overlaps, lf_conflicts\n",
    ")\n",
    "# est_accs = label_aggregator.accs()\n",
    "est_accs = label_aggregator._alphas().numpy()\n",
    "df = lf_summary(Ls[0], Ys[0], est_accs=est_accs)\n",
    "df"
   ]
  },
  {
   "cell_type": "markdown",
   "metadata": {},
   "source": [
    "### Snorkel GM"
   ]
  },
  {
   "cell_type": "code",
   "execution_count": null,
   "metadata": {},
   "outputs": [],
   "source": [
    "from snorkel.learning.gen_learning import GenerativeModel\n",
    "\n",
    "gm = GenerativeModel(lf_propensity=True)\n",
    "gm.train(Ls_bin[0], step_size=0.01, reg_param=0.25)"
   ]
  },
  {
   "cell_type": "code",
   "execution_count": null,
   "metadata": {},
   "outputs": [],
   "source": [
    "from metal.analysis import plot_probabilities_histogram\n",
    "probs = gm.marginals(Ls_bin[1])\n",
    "plot_probabilities_histogram(probs)"
   ]
  },
  {
   "cell_type": "code",
   "execution_count": null,
   "metadata": {},
   "outputs": [],
   "source": [
    "Y_p = gm.predictions(Ls_bin[1])"
   ]
  },
  {
   "cell_type": "code",
   "execution_count": null,
   "metadata": {},
   "outputs": [],
   "source": [
    "from metal.utils import binary_to_categorical\n",
    "Y_p = binary_to_categorical(Y_p)"
   ]
  },
  {
   "cell_type": "code",
   "execution_count": null,
   "metadata": {},
   "outputs": [],
   "source": [
    "from metal.metrics import metric_score\n",
    "\n",
    "metric_score(Ys_bin[1], Y_p, metric='precision')\n",
    "metric_score(Ys_bin[1], Y_p, metric='recall')\n",
    "metric_score(Ys_bin[1], Y_p, metric='f1')"
   ]
  }
 ],
 "metadata": {
  "kernelspec": {
   "display_name": "Python [conda env:metal]",
   "language": "python",
   "name": "conda-env-metal-py"
  },
  "language_info": {
   "codemirror_mode": {
    "name": "ipython",
    "version": 3
   },
   "file_extension": ".py",
   "mimetype": "text/x-python",
   "name": "python",
   "nbconvert_exporter": "python",
   "pygments_lexer": "ipython3",
   "version": "3.6.5"
  }
 },
 "nbformat": 4,
 "nbformat_minor": 2
}
