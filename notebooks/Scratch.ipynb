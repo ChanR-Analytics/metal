{
 "cells": [
  {
   "cell_type": "code",
   "execution_count": 1,
   "metadata": {},
   "outputs": [],
   "source": [
    "%load_ext autoreload\n",
    "%autoreload 2\n",
    "\n",
    "import numpy as np"
   ]
  },
  {
   "cell_type": "markdown",
   "metadata": {},
   "source": [
    "### Old synthetic generator"
   ]
  },
  {
   "cell_type": "code",
   "execution_count": 2,
   "metadata": {
    "scrolled": false
   },
   "outputs": [],
   "source": [
    "# import scipy\n",
    "# import torch\n",
    "# from synthetics.generate import generate_single_task_unipolar_lfs\n",
    "\n",
    "# L, _, accs, Y, _ = generate_single_task_unipolar_lfs(100000, 10, beta=0.5, \n",
    "#     class_balance=[0.6, 0.4])\n",
    "# L = scipy.sparse.csr_matrix(L, dtype=np.int8)\n",
    "# Y = torch.tensor(Y, dtype=torch.short)"
   ]
  },
  {
   "cell_type": "markdown",
   "metadata": {},
   "source": [
    "### New synthetic generator"
   ]
  },
  {
   "cell_type": "code",
   "execution_count": 3,
   "metadata": {
    "scrolled": false
   },
   "outputs": [],
   "source": [
    "from synthetics.generate import generate_single_task_unipolar\n",
    "\n",
    "n = 1000\n",
    "m = 20\n",
    "k = 2\n",
    "L, Y, metadata = generate_single_task_unipolar(\n",
    "    n, m, k=k, acc=[0.6, 0.9], rec=[0.1, 0.2], \n",
    "    class_balance=[0.7, 0.3], lf_balance=None, seed=1)"
   ]
  },
  {
   "cell_type": "code",
   "execution_count": 4,
   "metadata": {},
   "outputs": [],
   "source": [
    "from metal.metrics import accuracy_score, coverage_score\n",
    "\n",
    "# accs = metadata['accs']\n",
    "# emp_accs = []\n",
    "# for j in range(m):\n",
    "#     emp_accs.append(accuracy_score(Y, L[:,j], ignore_in_pred=[0]))\n",
    "# for a, b in zip(accs, emp_accs):\n",
    "#     print(f\"{a:.4f}, {b:.4f}, {abs(a - b):.8f}\")\n",
    "\n",
    "# recs = metadata['recs']\n",
    "# polarities = metadata['polarities']\n",
    "# emp_recs = []\n",
    "# for j in range(m):\n",
    "#     other_labels = [x for x in range(k + 1) if x != polarities[j]]\n",
    "#     emp_recs.append(coverage_score(Y, L[:,j], ignore_in_gold=other_labels))\n",
    "#     for a, b in zip(recs, emp_recs):\n",
    "#         print(f\"{a:.4f}, {b:.4f}, {abs(a - b):.8f}\")\n"
   ]
  },
  {
   "cell_type": "code",
   "execution_count": 5,
   "metadata": {},
   "outputs": [],
   "source": [
    "from metal.label_model.baselines import (\n",
    "    RandomVoter, \n",
    "    MajorityLabelVoter, \n",
    "    MajorityClassVoter,\n",
    ")"
   ]
  },
  {
   "cell_type": "code",
   "execution_count": 6,
   "metadata": {
    "scrolled": true
   },
   "outputs": [],
   "source": [
    "rv = RandomVoter()\n",
    "rv.train(L)\n",
    "# rv.predict(L)"
   ]
  },
  {
   "cell_type": "code",
   "execution_count": 7,
   "metadata": {
    "scrolled": false
   },
   "outputs": [
    {
     "name": "stdout",
     "output_type": "stream",
     "text": [
      "0.49834\n"
     ]
    }
   ],
   "source": [
    "scores = []\n",
    "for i in range(100):\n",
    "    score = rv.score(L, Y, verbose=False)\n",
    "    scores.append(score)\n",
    "print(np.mean(scores))"
   ]
  },
  {
   "cell_type": "code",
   "execution_count": 8,
   "metadata": {},
   "outputs": [],
   "source": [
    "from collections import Counter\n",
    "counter = Counter(Y.numpy())\n",
    "class_counts = np.array([v for k, v in sorted(counter.items())])\n",
    "balances = [class_counts / sum(class_counts)]\n",
    "\n",
    "mc = MajorityClassVoter()\n",
    "mc.train(L, balances)\n",
    "# mc.predict(L)"
   ]
  },
  {
   "cell_type": "code",
   "execution_count": 9,
   "metadata": {
    "scrolled": false
   },
   "outputs": [
    {
     "name": "stdout",
     "output_type": "stream",
     "text": [
      "0.7000000000000002\n"
     ]
    }
   ],
   "source": [
    "scores = []\n",
    "for i in range(100):\n",
    "    score = mc.score(L, Y, verbose=False)\n",
    "    scores.append(score)\n",
    "print(np.mean(scores))"
   ]
  },
  {
   "cell_type": "code",
   "execution_count": 10,
   "metadata": {},
   "outputs": [],
   "source": [
    "mv = MajorityLabelVoter()\n",
    "mv.train(L)\n",
    "# mv.predict(L)"
   ]
  },
  {
   "cell_type": "code",
   "execution_count": 11,
   "metadata": {},
   "outputs": [
    {
     "name": "stdout",
     "output_type": "stream",
     "text": [
      "0.7920400000000001\n"
     ]
    }
   ],
   "source": [
    "scores = []\n",
    "for i in range(100):\n",
    "    score = mv.score(L, Y, verbose=False)\n",
    "    scores.append(score)\n",
    "print(np.mean(scores))"
   ]
  },
  {
   "cell_type": "code",
   "execution_count": null,
   "metadata": {},
   "outputs": [],
   "source": []
  },
  {
   "cell_type": "code",
   "execution_count": null,
   "metadata": {},
   "outputs": [],
   "source": []
  },
  {
   "cell_type": "code",
   "execution_count": null,
   "metadata": {},
   "outputs": [],
   "source": []
  }
 ],
 "metadata": {
  "kernelspec": {
   "display_name": "Python [default]",
   "language": "python",
   "name": "python3"
  },
  "language_info": {
   "codemirror_mode": {
    "name": "ipython",
    "version": 3
   },
   "file_extension": ".py",
   "mimetype": "text/x-python",
   "name": "python",
   "nbconvert_exporter": "python",
   "pygments_lexer": "ipython3",
   "version": "3.6.5"
  }
 },
 "nbformat": 4,
 "nbformat_minor": 2
}
