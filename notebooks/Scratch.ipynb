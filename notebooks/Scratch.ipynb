{
 "cells": [
  {
   "cell_type": "code",
   "execution_count": 1,
   "metadata": {},
   "outputs": [],
   "source": [
    "%load_ext autoreload\n",
    "%autoreload 2\n",
    "\n",
    "import numpy as np"
   ]
  },
  {
   "cell_type": "code",
   "execution_count": 2,
   "metadata": {},
   "outputs": [],
   "source": [
    "import sys\n",
    "import unittest\n",
    "\n",
    "import numpy as np\n",
    "import torch\n",
    "\n",
    "sys.path.append(\"../metal\")\n",
    "from metal.label_model.label_model import LabelModel\n",
    "from metal.label_model.baselines import (\n",
    "    RandomVoter,\n",
    "    MajorityClassVoter,\n",
    "    MajorityLabelVoter,\n",
    ")\n",
    "\n",
    "sys.path.append(\"../synthetics\")\n",
    "from synthetics.generate import generate_single_task_unipolar"
   ]
  },
  {
   "cell_type": "code",
   "execution_count": 3,
   "metadata": {},
   "outputs": [],
   "source": [
    "# np.random.seed(9)\n",
    "\n",
    "# Generate unipolar L for single task\n",
    "N, M = 10000, 40\n",
    "L, Y, metadata = generate_single_task_unipolar(N, M, \n",
    "    class_balance=[0.5, 0.5], alpha_range=[0.4, 0.8], beta_range=[0.5])"
   ]
  },
  {
   "cell_type": "code",
   "execution_count": 88,
   "metadata": {},
   "outputs": [
    {
     "data": {
      "text/plain": [
       "array([[1, 0, 1],\n",
       "       [1, 3, 2],\n",
       "       [0, 0, 0],\n",
       "       [0, 0, 2],\n",
       "       [0, 1, 2]])"
      ]
     },
     "execution_count": 88,
     "metadata": {},
     "output_type": "execute_result"
    }
   ],
   "source": [
    "import numpy as np\n",
    "from scipy.sparse import csr_matrix\n",
    "\n",
    "L = np.array([[1, 0, 1], [1, 3, 2], [0, 0, 0], [0, 0, 2], [0, 1, 2]])\n",
    "L"
   ]
  },
  {
   "cell_type": "code",
   "execution_count": 90,
   "metadata": {},
   "outputs": [
    {
     "data": {
      "text/plain": [
       "array([0.4, 0.4, 0.8])"
      ]
     },
     "execution_count": 90,
     "metadata": {},
     "output_type": "execute_result"
    }
   ],
   "source": [
    "np.ravel((L != 0).sum(axis=0) / L.shape[0])"
   ]
  },
  {
   "cell_type": "code",
   "execution_count": 12,
   "metadata": {
    "scrolled": false
   },
   "outputs": [
    {
     "name": "stdout",
     "output_type": "stream",
     "text": [
      "Reaffirming lr=0.001\n",
      "[Epoch 0] Loss: 2385.671861\tAccs mean sq. error = 0.775648308370996\n",
      "[Epoch 10] Loss: 148.934256\tAccs mean sq. error = 0.1421062857639292\n",
      "[Epoch 20] Loss: 117.509378\tAccs mean sq. error = 0.23200102833350406\n",
      "[Epoch 30] Loss: 23.789258\tAccs mean sq. error = 0.15049886330726042\n",
      "[Epoch 40] Loss: 12.003277\tAccs mean sq. error = 0.18818972900319095\n",
      "[Epoch 50] Loss: 9.056403\tAccs mean sq. error = 0.16124507278655825\n",
      "[Epoch 60] Loss: 7.929413\tAccs mean sq. error = 0.12425781484892799\n",
      "[Epoch 70] Loss: 5.293252\tAccs mean sq. error = 0.10088248223955072\n",
      "[Epoch 80] Loss: 3.658852\tAccs mean sq. error = 0.07791547725051463\n",
      "[Epoch 90] Loss: 2.188789\tAccs mean sq. error = 0.0572695920964544\n",
      "[Epoch 99] Loss: 1.453586\tAccs mean sq. error = 0.04528077323913161\n"
     ]
    }
   ],
   "source": [
    "model = LabelModel()\n",
    "model.train(L, accs=metadata['cond_probs'], verbose=True, lr=0.001)\n",
    "# score = model.score(L, Y, verbose=False)\n",
    "# accs_score = model.get_accs_score(metadata['accs'])"
   ]
  },
  {
   "cell_type": "code",
   "execution_count": 14,
   "metadata": {},
   "outputs": [
    {
     "data": {
      "text/plain": [
       "array([ 0.12555656,  0.27525154,  0.27115615,  0.20970066,  0.00907444,\n",
       "        0.19064112,  0.21353412,  0.19161847,  0.19845596, -0.02677639,\n",
       "        0.21557667,  0.28395487,  0.31725789,  0.23323984,  0.67333791,\n",
       "        0.12907169, -0.06355467,  0.25294338,  0.39361005,  0.17715314,\n",
       "        0.24550579,  0.2131668 ,  0.06105205,  0.35771958,  0.16968615,\n",
       "        0.2580307 , -0.08519086,  0.49239095,  0.00263071,  0.29859959,\n",
       "        0.35364489,  0.20489656,  0.08809125,  0.06139106,  0.31097437,\n",
       "        0.33278009, -0.17117194,  0.2467482 ,  0.16584052,  0.23143859])"
      ]
     },
     "execution_count": 14,
     "metadata": {},
     "output_type": "execute_result"
    }
   ],
   "source": [
    "# model.predict_proba(L)\n",
    "model.accs()"
   ]
  },
  {
   "cell_type": "code",
   "execution_count": null,
   "metadata": {},
   "outputs": [],
   "source": []
  },
  {
   "cell_type": "code",
   "execution_count": null,
   "metadata": {},
   "outputs": [],
   "source": [
    "np.random.seed(1)\n",
    "model = RandomVoter()\n",
    "model.train(L)\n",
    "score = model.score(L, Y, verbose=False)\n",
    "print(score)"
   ]
  },
  {
   "cell_type": "code",
   "execution_count": null,
   "metadata": {},
   "outputs": [],
   "source": [
    "np.random.seed(1)\n",
    "balance = metadata['class_balance']\n",
    "model = MajorityClassVoter()\n",
    "balance = np.array([0.5, 0.5])\n",
    "model.train(L, balance)\n",
    "score = model.score(L, Y, verbose=False)\n",
    "print(score)"
   ]
  },
  {
   "cell_type": "code",
   "execution_count": null,
   "metadata": {},
   "outputs": [],
   "source": [
    "model = MajorityLabelVoter()\n",
    "model.train(L)\n",
    "score = model.score(L, Y, verbose=False, break_ties='abstain')\n",
    "print(score)"
   ]
  },
  {
   "cell_type": "code",
   "execution_count": null,
   "metadata": {},
   "outputs": [],
   "source": []
  },
  {
   "cell_type": "code",
   "execution_count": null,
   "metadata": {},
   "outputs": [],
   "source": []
  },
  {
   "cell_type": "markdown",
   "metadata": {},
   "source": [
    "### Old synthetic generator"
   ]
  },
  {
   "cell_type": "code",
   "execution_count": null,
   "metadata": {
    "scrolled": false
   },
   "outputs": [],
   "source": [
    "# import scipy\n",
    "# import torch\n",
    "# from synthetics.generate import generate_single_task_unipolar_lfs\n",
    "\n",
    "# L, _, accs, Y, _ = generate_single_task_unipolar_lfs(100000, 10, beta=0.5, \n",
    "#     class_balance=[0.6, 0.4])\n",
    "# L = scipy.sparse.csr_matrix(L, dtype=np.int8)\n",
    "# Y = torch.tensor(Y, dtype=torch.short)"
   ]
  },
  {
   "cell_type": "markdown",
   "metadata": {},
   "source": [
    "### New synthetic generator"
   ]
  },
  {
   "cell_type": "code",
   "execution_count": null,
   "metadata": {
    "scrolled": false
   },
   "outputs": [],
   "source": [
    "from synthetics.generate import generate_single_task_unipolar\n",
    "\n",
    "n = 1000\n",
    "m = 20\n",
    "k = 2\n",
    "L, Y, metadata = generate_single_task_unipolar(\n",
    "    n, m, k=k, acc=[0.6, 0.9], rec=[0.1, 0.2], \n",
    "    class_balance=[0.7, 0.3], lf_balance=None, seed=1)"
   ]
  },
  {
   "cell_type": "code",
   "execution_count": null,
   "metadata": {},
   "outputs": [],
   "source": [
    "from metal.metrics import accuracy_score, coverage_score\n",
    "\n",
    "# accs = metadata['accs']\n",
    "# emp_accs = []\n",
    "# for j in range(m):\n",
    "#     emp_accs.append(accuracy_score(Y, L[:,j], ignore_in_pred=[0]))\n",
    "# for a, b in zip(accs, emp_accs):\n",
    "#     print(f\"{a:.4f}, {b:.4f}, {abs(a - b):.8f}\")\n",
    "\n",
    "# recs = metadata['recs']\n",
    "# polarities = metadata['polarities']\n",
    "# emp_recs = []\n",
    "# for j in range(m):\n",
    "#     other_labels = [x for x in range(k + 1) if x != polarities[j]]\n",
    "#     emp_recs.append(coverage_score(Y, L[:,j], ignore_in_gold=other_labels))\n",
    "#     for a, b in zip(recs, emp_recs):\n",
    "#         print(f\"{a:.4f}, {b:.4f}, {abs(a - b):.8f}\")\n"
   ]
  },
  {
   "cell_type": "code",
   "execution_count": null,
   "metadata": {},
   "outputs": [],
   "source": [
    "from metal.label_model.baselines import (\n",
    "    RandomVoter, \n",
    "    MajorityLabelVoter, \n",
    "    MajorityClassVoter,\n",
    ")"
   ]
  },
  {
   "cell_type": "code",
   "execution_count": null,
   "metadata": {
    "scrolled": true
   },
   "outputs": [],
   "source": [
    "rv = RandomVoter()\n",
    "rv.train(L)\n",
    "# rv.predict(L)"
   ]
  },
  {
   "cell_type": "code",
   "execution_count": null,
   "metadata": {
    "scrolled": false
   },
   "outputs": [],
   "source": [
    "scores = []\n",
    "for i in range(100):\n",
    "    score = rv.score(L, Y, verbose=False)\n",
    "    scores.append(score)\n",
    "print(np.mean(scores))"
   ]
  },
  {
   "cell_type": "code",
   "execution_count": null,
   "metadata": {},
   "outputs": [],
   "source": [
    "from collections import Counter\n",
    "counter = Counter(Y.numpy())\n",
    "class_counts = np.array([v for k, v in sorted(counter.items())])\n",
    "balances = [class_counts / sum(class_counts)]\n",
    "\n",
    "mc = MajorityClassVoter()\n",
    "mc.train(L, balances)\n",
    "# mc.predict(L)"
   ]
  },
  {
   "cell_type": "code",
   "execution_count": null,
   "metadata": {
    "scrolled": false
   },
   "outputs": [],
   "source": [
    "scores = []\n",
    "for i in range(100):\n",
    "    score = mc.score(L, Y, verbose=False)\n",
    "    scores.append(score)\n",
    "print(np.mean(scores))"
   ]
  },
  {
   "cell_type": "code",
   "execution_count": null,
   "metadata": {},
   "outputs": [],
   "source": [
    "mv = MajorityLabelVoter()\n",
    "mv.train(L)\n",
    "# mv.predict(L)"
   ]
  },
  {
   "cell_type": "code",
   "execution_count": null,
   "metadata": {},
   "outputs": [],
   "source": [
    "scores = []\n",
    "for i in range(100):\n",
    "    score = mv.score(L, Y, verbose=False)\n",
    "    scores.append(score)\n",
    "print(np.mean(scores))"
   ]
  },
  {
   "cell_type": "code",
   "execution_count": null,
   "metadata": {},
   "outputs": [],
   "source": []
  },
  {
   "cell_type": "code",
   "execution_count": null,
   "metadata": {},
   "outputs": [],
   "source": []
  },
  {
   "cell_type": "code",
   "execution_count": null,
   "metadata": {},
   "outputs": [],
   "source": []
  }
 ],
 "metadata": {
  "kernelspec": {
   "display_name": "Python [default]",
   "language": "python",
   "name": "python3"
  },
  "language_info": {
   "codemirror_mode": {
    "name": "ipython",
    "version": 3
   },
   "file_extension": ".py",
   "mimetype": "text/x-python",
   "name": "python",
   "nbconvert_exporter": "python",
   "pygments_lexer": "ipython3",
   "version": "3.6.5"
  }
 },
 "nbformat": 4,
 "nbformat_minor": 2
}
