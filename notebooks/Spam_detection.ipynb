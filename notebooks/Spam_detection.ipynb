{
 "cells": [
  {
   "cell_type": "markdown",
   "metadata": {},
   "source": [
    "### Step 1: Loading the label matrix"
   ]
  },
  {
   "cell_type": "code",
   "execution_count": 1,
   "metadata": {},
   "outputs": [
    {
     "data": {
      "text/html": [
       "<div>\n",
       "<style scoped>\n",
       "    .dataframe tbody tr th:only-of-type {\n",
       "        vertical-align: middle;\n",
       "    }\n",
       "\n",
       "    .dataframe tbody tr th {\n",
       "        vertical-align: top;\n",
       "    }\n",
       "\n",
       "    .dataframe thead th {\n",
       "        text-align: right;\n",
       "    }\n",
       "</style>\n",
       "<table border=\"1\" class=\"dataframe\">\n",
       "  <thead>\n",
       "    <tr style=\"text-align: right;\">\n",
       "      <th></th>\n",
       "      <th>EventId</th>\n",
       "      <th>positive_labels</th>\n",
       "      <th>negative_labels</th>\n",
       "    </tr>\n",
       "  </thead>\n",
       "  <tbody>\n",
       "    <tr>\n",
       "      <th>0</th>\n",
       "      <td>86752b453d75db9dd6e7c697df249eb4e75070f1</td>\n",
       "      <td>1</td>\n",
       "      <td>0,14,3,2</td>\n",
       "    </tr>\n",
       "    <tr>\n",
       "      <th>1</th>\n",
       "      <td>0ab3a9ba5d65ae7e8449d87e27679ae8be6d570a</td>\n",
       "      <td>1</td>\n",
       "      <td>6,2</td>\n",
       "    </tr>\n",
       "    <tr>\n",
       "      <th>2</th>\n",
       "      <td>0c31aec0a9d1ca720e474f5c03299b545b7bf87b</td>\n",
       "      <td>5,11</td>\n",
       "      <td>14,3,6</td>\n",
       "    </tr>\n",
       "    <tr>\n",
       "      <th>3</th>\n",
       "      <td>e542ac25db7ce2aafb7d47303e0169e012468967</td>\n",
       "      <td>8</td>\n",
       "      <td>14</td>\n",
       "    </tr>\n",
       "    <tr>\n",
       "      <th>4</th>\n",
       "      <td>b401cc41e8792fbcc326991cccd3356e2b556617</td>\n",
       "      <td>NaN</td>\n",
       "      <td>0,14,3,2</td>\n",
       "    </tr>\n",
       "  </tbody>\n",
       "</table>\n",
       "</div>"
      ],
      "text/plain": [
       "                                    EventId positive_labels negative_labels\n",
       "0  86752b453d75db9dd6e7c697df249eb4e75070f1               1        0,14,3,2\n",
       "1  0ab3a9ba5d65ae7e8449d87e27679ae8be6d570a               1             6,2\n",
       "2  0c31aec0a9d1ca720e474f5c03299b545b7bf87b            5,11          14,3,6\n",
       "3  e542ac25db7ce2aafb7d47303e0169e012468967               8              14\n",
       "4  b401cc41e8792fbcc326991cccd3356e2b556617             NaN        0,14,3,2"
      ]
     },
     "execution_count": 1,
     "metadata": {},
     "output_type": "execute_result"
    }
   ],
   "source": [
    "import pandas as pd\n",
    "import numpy as np\n",
    "\n",
    "# Load csv\n",
    "DATA_FILEPATH = 'clicks_20180413.csv'\n",
    "L_data = pd.read_csv(DATA_FILEPATH)\n",
    "N = L_data.shape[0]\n",
    "\n",
    "L_data[:5]"
   ]
  },
  {
   "cell_type": "code",
   "execution_count": 2,
   "metadata": {},
   "outputs": [
    {
     "data": {
      "text/plain": [
       "<1762247x58 sparse matrix of type '<class 'numpy.float64'>'\n",
       "\twith 4653672 stored elements in Compressed Sparse Row format>"
      ]
     },
     "execution_count": 2,
     "metadata": {},
     "output_type": "execute_result"
    }
   ],
   "source": [
    "from itertools import chain\n",
    "from scipy.sparse import lil_matrix\n",
    "\n",
    "# Get the pos/neg LF idxs, total number M\n",
    "def split_lf_idxs(x):\n",
    "    return map(int, x.split(',')) if isinstance(x, str) else []\n",
    "\n",
    "def get_lf_idxs(col):\n",
    "    return set(chain.from_iterable([split_lf_idxs(x) for x in col]))\n",
    "\n",
    "lf_pos_idxs = get_lf_idxs(L_data.iloc[:,1])\n",
    "lf_neg_idxs = get_lf_idxs(L_data.iloc[:,2])\n",
    "M = max(lf_pos_idxs | lf_neg_idxs) + 1\n",
    "\n",
    "# Construct COO sparse matrix\n",
    "# Note: Skip LF #5\n",
    "SKIP_LFS = [5]\n",
    "L = lil_matrix((N, M))\n",
    "for i, row in L_data.iterrows():\n",
    "    for j in split_lf_idxs(row['positive_labels']):\n",
    "        if j not in SKIP_LFS:\n",
    "            L[i, j] = 1\n",
    "    for j in split_lf_idxs(row['negative_labels']):\n",
    "        if j not in SKIP_LFS:\n",
    "            L[i, j] = -1\n",
    "\n",
    "# Convert to CSR matrix\n",
    "L = L.tocsr()\n",
    "L"
   ]
  },
  {
   "cell_type": "code",
   "execution_count": 3,
   "metadata": {},
   "outputs": [],
   "source": [
    "# Get the list of polarities\n",
    "polarities = [1 if i in lf_pos_idxs else -1 for i in range(M)]"
   ]
  },
  {
   "cell_type": "markdown",
   "metadata": {},
   "source": [
    "### Step 2: Loading the eval data\n",
    "\n",
    "The eval data is keyed by the label signature, in format \"<pos LFs> vs. <neg LFs>\". So we need to parse this, then map it to `L` to get `Y`"
   ]
  },
  {
   "cell_type": "code",
   "execution_count": 4,
   "metadata": {},
   "outputs": [
    {
     "data": {
      "text/html": [
       "<div>\n",
       "<style scoped>\n",
       "    .dataframe tbody tr th:only-of-type {\n",
       "        vertical-align: middle;\n",
       "    }\n",
       "\n",
       "    .dataframe tbody tr th {\n",
       "        vertical-align: top;\n",
       "    }\n",
       "\n",
       "    .dataframe thead th {\n",
       "        text-align: right;\n",
       "    }\n",
       "</style>\n",
       "<table border=\"1\" class=\"dataframe\">\n",
       "  <thead>\n",
       "    <tr style=\"text-align: right;\">\n",
       "      <th></th>\n",
       "      <th>all_labels:string</th>\n",
       "      <th>Count:long</th>\n",
       "      <th>GradeAWithCI:string</th>\n",
       "      <th>GradeB:double</th>\n",
       "      <th>GradeC:double</th>\n",
       "    </tr>\n",
       "  </thead>\n",
       "  <tbody>\n",
       "    <tr>\n",
       "      <th>0</th>\n",
       "      <td>vs 0,3,2</td>\n",
       "      <td>277921</td>\n",
       "      <td>0.890 (0.784, 1.006)</td>\n",
       "      <td>0.930620</td>\n",
       "      <td>0.978151</td>\n",
       "    </tr>\n",
       "    <tr>\n",
       "      <th>1</th>\n",
       "      <td>vs 0,3</td>\n",
       "      <td>251344</td>\n",
       "      <td>0.784 (0.672, 0.909)</td>\n",
       "      <td>0.882005</td>\n",
       "      <td>0.977887</td>\n",
       "    </tr>\n",
       "    <tr>\n",
       "      <th>2</th>\n",
       "      <td>vs 0</td>\n",
       "      <td>93997</td>\n",
       "      <td>0.950 (0.773, 1.155)</td>\n",
       "      <td>1.083355</td>\n",
       "      <td>0.980390</td>\n",
       "    </tr>\n",
       "    <tr>\n",
       "      <th>3</th>\n",
       "      <td>vs 0,2</td>\n",
       "      <td>61460</td>\n",
       "      <td>1.202 (0.979, 1.461)</td>\n",
       "      <td>1.176954</td>\n",
       "      <td>0.974563</td>\n",
       "    </tr>\n",
       "    <tr>\n",
       "      <th>4</th>\n",
       "      <td>vs 3</td>\n",
       "      <td>60080</td>\n",
       "      <td>0.880 (0.638, 1.184)</td>\n",
       "      <td>0.921943</td>\n",
       "      <td>0.938740</td>\n",
       "    </tr>\n",
       "    <tr>\n",
       "      <th>5</th>\n",
       "      <td>4,5 vs 0,3,2</td>\n",
       "      <td>54063</td>\n",
       "      <td>0.802 (0.573, 1.092)</td>\n",
       "      <td>0.782195</td>\n",
       "      <td>0.913637</td>\n",
       "    </tr>\n",
       "    <tr>\n",
       "      <th>6</th>\n",
       "      <td>9 vs 0,3,2</td>\n",
       "      <td>49479</td>\n",
       "      <td>1.339 (1.073, 1.651)</td>\n",
       "      <td>0.947844</td>\n",
       "      <td>0.955774</td>\n",
       "    </tr>\n",
       "    <tr>\n",
       "      <th>7</th>\n",
       "      <td>4,5 vs 0,3</td>\n",
       "      <td>46559</td>\n",
       "      <td>0.486 (0.289, 0.769)</td>\n",
       "      <td>0.774299</td>\n",
       "      <td>0.924639</td>\n",
       "    </tr>\n",
       "    <tr>\n",
       "      <th>8</th>\n",
       "      <td>9 vs 0,3</td>\n",
       "      <td>40658</td>\n",
       "      <td>1.354 (1.002, 1.790)</td>\n",
       "      <td>0.929188</td>\n",
       "      <td>0.956898</td>\n",
       "    </tr>\n",
       "    <tr>\n",
       "      <th>9</th>\n",
       "      <td>vs 2</td>\n",
       "      <td>37396</td>\n",
       "      <td>0.864 (0.637, 1.146)</td>\n",
       "      <td>1.148264</td>\n",
       "      <td>0.956741</td>\n",
       "    </tr>\n",
       "  </tbody>\n",
       "</table>\n",
       "</div>"
      ],
      "text/plain": [
       "  all_labels:string  Count:long   GradeAWithCI:string  GradeB:double  \\\n",
       "0          vs 0,3,2      277921  0.890 (0.784, 1.006)       0.930620   \n",
       "1            vs 0,3      251344  0.784 (0.672, 0.909)       0.882005   \n",
       "2              vs 0       93997  0.950 (0.773, 1.155)       1.083355   \n",
       "3            vs 0,2       61460  1.202 (0.979, 1.461)       1.176954   \n",
       "4              vs 3       60080  0.880 (0.638, 1.184)       0.921943   \n",
       "5      4,5 vs 0,3,2       54063  0.802 (0.573, 1.092)       0.782195   \n",
       "6        9 vs 0,3,2       49479  1.339 (1.073, 1.651)       0.947844   \n",
       "7        4,5 vs 0,3       46559  0.486 (0.289, 0.769)       0.774299   \n",
       "8          9 vs 0,3       40658  1.354 (1.002, 1.790)       0.929188   \n",
       "9              vs 2       37396  0.864 (0.637, 1.146)       1.148264   \n",
       "\n",
       "   GradeC:double  \n",
       "0       0.978151  \n",
       "1       0.977887  \n",
       "2       0.980390  \n",
       "3       0.974563  \n",
       "4       0.938740  \n",
       "5       0.913637  \n",
       "6       0.955774  \n",
       "7       0.924639  \n",
       "8       0.956898  \n",
       "9       0.956741  "
      ]
     },
     "execution_count": 4,
     "metadata": {},
     "output_type": "execute_result"
    }
   ],
   "source": [
    "LABELS_FILEPATH = 'grades_20180413.csv'\n",
    "Y_data = pd.read_csv(LABELS_FILEPATH)\n",
    "\n",
    "Y_data[:10]"
   ]
  },
  {
   "cell_type": "code",
   "execution_count": 5,
   "metadata": {},
   "outputs": [],
   "source": [
    "def split_labels_signature(x):\n",
    "    idxs = []\n",
    "    for z in x.split(' vs '):\n",
    "        zs = z.split(',')\n",
    "        if len(zs) > 1:\n",
    "            idxs += map(int, zs)\n",
    "    return idxs\n",
    "\n",
    "def Y_data_to_dict(yd):\n",
    "    \"\"\"Convert the labels csv data -> dictionary of scores, keyed by LF voting signature.\"\"\"\n",
    "    labels_dict = {}\n",
    "    for i, row in Y_data.iterrows():\n",
    "        k = ','.join(map(str, split_labels_signature(row['all_labels:string'])))\n",
    "        labels_dict[k] = [\n",
    "            float(row['GradeAWithCI:string'].split(' (')[0]), # For now drop CI...\n",
    "            float(row['GradeB:double']),\n",
    "            float(row['GradeC:double']),\n",
    "        ]\n",
    "    return labels_dict"
   ]
  },
  {
   "cell_type": "code",
   "execution_count": 6,
   "metadata": {},
   "outputs": [],
   "source": [
    "labels_dict = Y_data_to_dict(Y_data)"
   ]
  },
  {
   "cell_type": "code",
   "execution_count": 7,
   "metadata": {},
   "outputs": [],
   "source": [
    "event_scores = {}\n",
    "for i in range(L.shape[0]):\n",
    "    k = ','.join(map(str, L[i].nonzero()[1]))\n",
    "    if k in labels_dict:\n",
    "        event_scores[i] = labels_dict[k]"
   ]
  },
  {
   "cell_type": "code",
   "execution_count": 8,
   "metadata": {},
   "outputs": [],
   "source": [
    "def get_binary_labels(event_scores, N, pos_thresh=0.5, neg_thresh=0.9):\n",
    "    \"\"\"Get binary labels for each even based on the following thresholding:\n",
    "    - GradeC < pos_thresh ==> spam\n",
    "    - GradeC > neg_thresh ==> !spam\n",
    "    \"\"\"\n",
    "    Y = np.zeros(N)\n",
    "    for i, grades in event_scores.items():\n",
    "        A, B, C = grades\n",
    "        if C < pos_thresh:\n",
    "            Y[i] = 1\n",
    "        elif C > neg_thresh:\n",
    "            Y[i] = -1\n",
    "    return Y"
   ]
  },
  {
   "cell_type": "code",
   "execution_count": 65,
   "metadata": {},
   "outputs": [
    {
     "data": {
      "text/plain": [
       "(1762247,)"
      ]
     },
     "execution_count": 65,
     "metadata": {},
     "output_type": "execute_result"
    }
   ],
   "source": [
    "Y = get_binary_labels(event_scores, L.shape[0], pos_thresh=0.5, neg_thresh=0.9)\n",
    "Y.shape"
   ]
  },
  {
   "cell_type": "code",
   "execution_count": 66,
   "metadata": {},
   "outputs": [
    {
     "data": {
      "image/png": "[encoded data removed]",
      "text/plain": [
       "<matplotlib.figure.Figure at 0x12225e358>"
      ]
     },
     "metadata": {},
     "output_type": "display_data"
    }
   ],
   "source": [
    "import matplotlib.pyplot as plt\n",
    "%matplotlib inline\n",
    "\n",
    "plt.hist(Y)\n",
    "plt.show()"
   ]
  },
  {
   "cell_type": "code",
   "execution_count": 11,
   "metadata": {},
   "outputs": [],
   "source": [
    "# def score_marginals(yp):\n",
    "#     \"\"\"Compute squared error w.r.t. the scores.\n",
    "#     Currently doing Grade C for simplicity.\n",
    "#     \"\"\"\n",
    "#     score = 0\n",
    "#     count = 0\n",
    "#     for i in range(yp.shape[0]):\n",
    "#         if i in event_scores:\n",
    "#             A, B, C = event_scores[i]\n",
    "#             count += 1\n",
    "            \n",
    "#             # Grade C score ~= P(not spam)\n",
    "#             # Compare to predicted marginals which is P(spam)\n",
    "#             score += 1 - np.abs((1-yp[i]) - C)\n",
    "#     return score / count"
   ]
  },
  {
   "cell_type": "markdown",
   "metadata": {},
   "source": [
    "### Metrics"
   ]
  },
  {
   "cell_type": "code",
   "execution_count": 12,
   "metadata": {},
   "outputs": [],
   "source": [
    "from sklearn import metrics as sklearn_metrics\n",
    "import numpy as np\n",
    "from scipy.sparse import issparse\n",
    "import torch\n",
    "\n",
    "def _to_array(array_like):\n",
    "    \"\"\"Convert a 1d array-like (e.g,. list, tensor, etc.) to an np.ndarray\"\"\"\n",
    "\n",
    "    orig_type = type(array_like)\n",
    "    \n",
    "    # Convert to np.ndarray\n",
    "    if isinstance(array_like, np.ndarray):\n",
    "        pass\n",
    "    elif isinstance(array_like, list):\n",
    "        array_like = np.array(array_like)\n",
    "    elif issparse(array_like):\n",
    "        array_like = array_like.toarray()\n",
    "    elif isinstance(array_like, torch.Tensor):\n",
    "        array_like = array_like.numpy()\n",
    "    elif not isinstance(array_like, np.ndarray):\n",
    "        array_like = np.array(array_like)\n",
    "    else:\n",
    "        raise ValueError(f\"Input of type {orig_type} could not be converted \"\n",
    "            \"to 1d np.ndarray\")\n",
    "        \n",
    "    # Correct shape\n",
    "    if (array_like.ndim > 1) and (1 in array_like.shape):\n",
    "        array_like = array_like.flatten()\n",
    "    if array_like.ndim != 1:\n",
    "        raise ValueError(\"Input could not be converted to 1d np.array\")\n",
    "\n",
    "    # Convert to ints\n",
    "    if any(array_like % 1):\n",
    "        raise ValueError(\"Input contains at least one non-integer value.\")\n",
    "    array_like = array_like.astype(np.dtype(int))\n",
    "\n",
    "    return array_like\n",
    "\n",
    "\n",
    "def _infer_labels(labels, pred, null_label=0):\n",
    "    if labels is None:\n",
    "        labels = sorted(list(set(pred) - set([null_label])))\n",
    "    elif isinstance(labels, int) or isinstance(labels, str):\n",
    "        labels = [labels]\n",
    "    return labels\n",
    "\n",
    "def _drop_gold_zeros(gold, pred, null_label=0):\n",
    "    \"\"\"Remove from gold and pred all items where gold is zero.\"\"\"\n",
    "    nonzeros = (np.where(gold != null_label, 1, 0)).astype(bool)\n",
    "    gold = gold[nonzeros]\n",
    "    pred = pred[nonzeros]\n",
    "    return gold, pred\n",
    "\n",
    "\n",
    "def fbeta_score(gold, pred, beta=1.0, labels=None, null_label=0, pos_label=1, \n",
    "        average=None, asdict=False, local=False, **kwargs):\n",
    "    \"\"\"\n",
    "    Calculate f-beta.\n",
    "    Args:\n",
    "        gold: A 1d array-like of gold labels\n",
    "        pred: A 1d array-like of predicted labels (assuming abstain = 0)\n",
    "        labels: The list of labels for which to calculate f-beta \n",
    "            default is all non-zero labels in pred\n",
    "        average: How to average returned f-betas [None, 'micro', 'macro', 'binary']\n",
    "            if None, return dict of label-conditional f-betas for each label\n",
    "    Returns:\n",
    "        A float f-beta score if average is not None or (len(labels) == 1 and \n",
    "            asdict=False). Otherwise, a dict of f-betas by label ({label: f-beta})\n",
    "    \"\"\"\n",
    "    pred = _to_array(pred)\n",
    "    gold = _to_array(gold)\n",
    "    if local:\n",
    "        gold, pred = _drop_gold_zeros(gold, pred, null_label=0)\n",
    "    labels = _infer_labels(labels, pred, null_label)\n",
    "\n",
    "    # Convert {-1,1} label space to {0,1}\n",
    "    gold_neg = np.where(gold == -1, 1, 0).astype(bool)\n",
    "    gold[gold_neg] = 0\n",
    "    pred_neg = np.where(pred == -1, 1, 0).astype(bool)\n",
    "    pred[pred_neg] = 0\n",
    "    \n",
    "    print(gold)\n",
    "    print(pred)\n",
    "    \n",
    "    fb = sklearn_metrics.fbeta_score(\n",
    "        gold, \n",
    "        pred,\n",
    "        beta=beta,\n",
    "        labels=labels,\n",
    "        pos_label=pos_label,\n",
    "        average=average)\n",
    "\n",
    "    if isinstance(fb, float):\n",
    "        return fb\n",
    "    elif len(fb) == 1 and not asdict:\n",
    "        return fb[0]\n",
    "    else:\n",
    "        return {label: f for label, f in zip(labels, fb)}    \n",
    "\n",
    "\n",
    "def f1_score(gold, pred, **kwargs):\n",
    "    return fbeta_score(gold, pred, beta=1.0, **kwargs)\n",
    "    \"\"\"Calculate f1 by calling score_fbeta with beta=1.0\"\"\""
   ]
  },
  {
   "cell_type": "markdown",
   "metadata": {},
   "source": [
    "### First try learning the weights with non-unipolar"
   ]
  },
  {
   "cell_type": "code",
   "execution_count": 20,
   "metadata": {},
   "outputs": [
    {
     "name": "stdout",
     "output_type": "stream",
     "text": [
      "[Epoch 0] Loss: 0.285175\n",
      "[Epoch 10] Loss: 0.266017\n",
      "[Epoch 20] Loss: 0.236894\n",
      "[Epoch 30] Loss: 0.214006\n",
      "[Epoch 40] Loss: 0.200473\n",
      "[Epoch 50] Loss: 0.194454\n",
      "[Epoch 60] Loss: 0.192557\n",
      "[Epoch 70] Loss: 0.192166\n",
      "[Epoch 80] Loss: 0.192112\n",
      "[Epoch 90] Loss: 0.192098\n",
      "[Epoch 99] Loss: 0.192089\n",
      "Finished Training\n"
     ]
    }
   ],
   "source": [
    "from metal.label_models.low_rank import DPModel, DPModelUnipolar, train\n",
    "\n",
    "model = DPModel(L)\n",
    "train(model, n_steps=100, print_at=10, step_size=0.1, l2=0.01)"
   ]
  },
  {
   "cell_type": "code",
   "execution_count": 21,
   "metadata": {},
   "outputs": [
    {
     "data": {
      "image/png": "[encoded data removed]",
      "text/plain": [
       "<matplotlib.figure.Figure at 0x114f3d550>"
      ]
     },
     "metadata": {},
     "output_type": "display_data"
    }
   ],
   "source": [
    "import matplotlib.pyplot as plt\n",
    "%matplotlib inline\n",
    "\n",
    "def plot_pos_neg_lf_accs(accs, polarities):\n",
    "    pos_accs = []\n",
    "    neg_accs = []\n",
    "    for i, acc in enumerate(accs):\n",
    "        if polarities[i] > 0:\n",
    "            pos_accs.append(acc)\n",
    "        else:\n",
    "            neg_accs.append(acc)\n",
    "    plt.hist(pos_accs, label='Positive LFs')\n",
    "    plt.hist(neg_accs, label='Negative LFs')\n",
    "    plt.legend()\n",
    "    plt.show()\n",
    "\n",
    "plot_pos_neg_lf_accs(model.accs, polarities)"
   ]
  },
  {
   "cell_type": "code",
   "execution_count": 26,
   "metadata": {},
   "outputs": [
    {
     "name": "stdout",
     "output_type": "stream",
     "text": [
      "[0 0 0 ..., 0 0 0]\n",
      "[0 0 1 ..., 1 1 1]\n"
     ]
    },
    {
     "data": {
      "text/plain": [
       "0.29431419266611214"
      ]
     },
     "execution_count": 26,
     "metadata": {},
     "output_type": "execute_result"
    }
   ],
   "source": [
    "Yp = model.get_predictions(L.todense())\n",
    "f1_score(Y, Yp, local=True, average='binary')"
   ]
  },
  {
   "cell_type": "code",
   "execution_count": 27,
   "metadata": {},
   "outputs": [
    {
     "data": {
      "text/plain": [
       "0.17908984868612904"
      ]
     },
     "execution_count": 27,
     "metadata": {},
     "output_type": "execute_result"
    }
   ],
   "source": [
    "0.5 * (np.sum(Y * Yp) / np.abs(Y).sum() + 1)"
   ]
  },
  {
   "cell_type": "code",
   "execution_count": 28,
   "metadata": {},
   "outputs": [
    {
     "data": {
      "image/png": "[encoded data removed]",
      "text/plain": [
       "<matplotlib.figure.Figure at 0x122252ef0>"
      ]
     },
     "metadata": {},
     "output_type": "display_data"
    }
   ],
   "source": [
    "plt.hist(Yp)\n",
    "plt.show()"
   ]
  },
  {
   "cell_type": "markdown",
   "metadata": {},
   "source": [
    "### Now try learning the weights with unipolar"
   ]
  },
  {
   "cell_type": "code",
   "execution_count": 29,
   "metadata": {},
   "outputs": [],
   "source": [
    "model_u = DPModelUnipolar(L, polarities)"
   ]
  },
  {
   "cell_type": "code",
   "execution_count": 30,
   "metadata": {},
   "outputs": [
    {
     "name": "stdout",
     "output_type": "stream",
     "text": [
      "[Epoch 0] Loss: 0.834713\n",
      "[Epoch 10] Loss: 0.703697\n",
      "[Epoch 20] Loss: 0.587598\n",
      "[Epoch 30] Loss: 0.548607\n",
      "[Epoch 40] Loss: 0.540369\n",
      "[Epoch 50] Loss: 0.538014\n",
      "[Epoch 60] Loss: 0.535351\n",
      "[Epoch 70] Loss: 0.532181\n",
      "[Epoch 80] Loss: 0.528976\n",
      "[Epoch 90] Loss: 0.525923\n",
      "[Epoch 99] Loss: 0.523349\n",
      "Finished Training\n"
     ]
    }
   ],
   "source": [
    "train(model_u, n_steps=100, print_at=10, step_size=0.1, l2=0.0)"
   ]
  },
  {
   "cell_type": "code",
   "execution_count": 31,
   "metadata": {},
   "outputs": [
    {
     "data": {
      "image/png": "[encoded data removed]",
      "text/plain": [
       "<matplotlib.figure.Figure at 0x12e705550>"
      ]
     },
     "metadata": {},
     "output_type": "display_data"
    }
   ],
   "source": [
    "plot_pos_neg_lf_accs(model_u.accs, polarities)"
   ]
  },
  {
   "cell_type": "code",
   "execution_count": 32,
   "metadata": {},
   "outputs": [
    {
     "data": {
      "image/png": "[encoded data removed]",
      "text/plain": [
       "<matplotlib.figure.Figure at 0x1162f76d8>"
      ]
     },
     "metadata": {},
     "output_type": "display_data"
    }
   ],
   "source": [
    "plt.hist(model_u.get_marginals(L.todense()))\n",
    "plt.show()"
   ]
  },
  {
   "cell_type": "code",
   "execution_count": 33,
   "metadata": {},
   "outputs": [
    {
     "name": "stdout",
     "output_type": "stream",
     "text": [
      "[0 0 0 ..., 0 0 0]\n",
      "[0 0 1 ..., 0 0 0]\n"
     ]
    },
    {
     "data": {
      "text/plain": [
       "0.036331399598737109"
      ]
     },
     "execution_count": 33,
     "metadata": {},
     "output_type": "execute_result"
    }
   ],
   "source": [
    "Yp_u = model_u.get_predictions(L.todense())\n",
    "f1_score(Y, Yp_u, local=True, average='binary')"
   ]
  },
  {
   "cell_type": "code",
   "execution_count": 34,
   "metadata": {},
   "outputs": [
    {
     "data": {
      "text/plain": [
       "0.82271112119150225"
      ]
     },
     "execution_count": 34,
     "metadata": {},
     "output_type": "execute_result"
    }
   ],
   "source": [
    "0.5 * (np.sum(Y * Yp_u) / np.abs(Y).sum() + 1)"
   ]
  },
  {
   "cell_type": "code",
   "execution_count": 35,
   "metadata": {},
   "outputs": [
    {
     "data": {
      "image/png": "[encoded data removed]",
      "text/plain": [
       "<matplotlib.figure.Figure at 0x1140cb748>"
      ]
     },
     "metadata": {},
     "output_type": "display_data"
    }
   ],
   "source": [
    "plt.hist(Yp_u)\n",
    "plt.show()"
   ]
  },
  {
   "cell_type": "markdown",
   "metadata": {},
   "source": [
    "### Now unipolar imbalanced"
   ]
  },
  {
   "cell_type": "code",
   "execution_count": 103,
   "metadata": {},
   "outputs": [
    {
     "name": "stdout",
     "output_type": "stream",
     "text": [
      "[Epoch 0] Loss: 3.984745\n",
      "[Epoch 10] Loss: 0.490815\n",
      "[Epoch 20] Loss: 0.244436\n",
      "[Epoch 30] Loss: 0.106850\n",
      "[Epoch 40] Loss: 0.074908\n",
      "[Epoch 50] Loss: 0.047186\n",
      "[Epoch 60] Loss: 0.033448\n",
      "[Epoch 70] Loss: 0.026862\n",
      "[Epoch 80] Loss: 0.023315\n",
      "[Epoch 90] Loss: 0.021500\n",
      "[Epoch 99] Loss: 0.020252\n",
      "Finished Training\n"
     ]
    }
   ],
   "source": [
    "from metal.label_models.low_rank import DPModelUnipolarImbalanced\n",
    "\n",
    "model_ui = DPModelUnipolarImbalanced(L, polarities, y_pos=0.1)\n",
    "train(model_ui, n_steps=100, print_at=10, step_size=0.1, l2=0.01)"
   ]
  },
  {
   "cell_type": "code",
   "execution_count": 104,
   "metadata": {},
   "outputs": [
    {
     "data": {
      "image/png": "[encoded data removed]",
      "text/plain": [
       "<matplotlib.figure.Figure at 0x12dda6748>"
      ]
     },
     "metadata": {},
     "output_type": "display_data"
    }
   ],
   "source": [
    "plot_pos_neg_lf_accs(model_ui.accs, polarities)"
   ]
  },
  {
   "cell_type": "code",
   "execution_count": 109,
   "metadata": {},
   "outputs": [],
   "source": [
    "import pickle\n",
    "\n",
    "with open('spam_lf_weights.pkl', 'wb') as f:\n",
    "    pickle.dump(model_ui.accs.numpy(), f)"
   ]
  },
  {
   "cell_type": "code",
   "execution_count": 106,
   "metadata": {},
   "outputs": [
    {
     "data": {
      "image/png": "[encoded data removed]",
      "text/plain": [
       "<matplotlib.figure.Figure at 0x114168940>"
      ]
     },
     "metadata": {},
     "output_type": "display_data"
    }
   ],
   "source": [
    "plt.hist(model_ui.get_marginals(L.todense()))\n",
    "plt.show()"
   ]
  },
  {
   "cell_type": "code",
   "execution_count": 107,
   "metadata": {},
   "outputs": [
    {
     "name": "stdout",
     "output_type": "stream",
     "text": [
      "[1 1 1 ..., 0 0 0]\n",
      "[1 1 1 ..., 0 0 0]\n"
     ]
    },
    {
     "data": {
      "text/plain": [
       "0.036001047975711624"
      ]
     },
     "execution_count": 107,
     "metadata": {},
     "output_type": "execute_result"
    }
   ],
   "source": [
    "Yp_ui = model_ui.get_predictions(L.todense())\n",
    "f1_score(Y, Yp_ui, local=True, average='binary')"
   ]
  },
  {
   "cell_type": "code",
   "execution_count": 108,
   "metadata": {},
   "outputs": [
    {
     "data": {
      "text/plain": [
       "0.43705057014030763"
      ]
     },
     "execution_count": 108,
     "metadata": {},
     "output_type": "execute_result"
    }
   ],
   "source": [
    "0.5 * (np.sum(Y * Yp_ui) / np.abs(Y).sum() + 1)"
   ]
  },
  {
   "cell_type": "code",
   "execution_count": 85,
   "metadata": {},
   "outputs": [
    {
     "data": {
      "image/png": "[encoded data removed]",
      "text/plain": [
       "<matplotlib.figure.Figure at 0x1246adba8>"
      ]
     },
     "metadata": {},
     "output_type": "display_data"
    }
   ],
   "source": [
    "plt.hist(Yp_ui)\n",
    "plt.show()"
   ]
  },
  {
   "cell_type": "markdown",
   "metadata": {},
   "source": [
    "### Now try MV"
   ]
  },
  {
   "cell_type": "code",
   "execution_count": 44,
   "metadata": {},
   "outputs": [],
   "source": [
    "mv = np.where(L.sum(axis=1) > 0, 1, L.sum(axis=1))\n",
    "mv = np.where(mv < 0, -1, mv)\n",
    "mv = mv.reshape(-1)"
   ]
  },
  {
   "cell_type": "code",
   "execution_count": 76,
   "metadata": {},
   "outputs": [
    {
     "data": {
      "text/plain": [
       "0.44686940322014523"
      ]
     },
     "execution_count": 76,
     "metadata": {},
     "output_type": "execute_result"
    }
   ],
   "source": [
    "0.5 * (np.sum(Y * mv) / np.abs(Y).sum() + 1)"
   ]
  },
  {
   "cell_type": "code",
   "execution_count": 77,
   "metadata": {},
   "outputs": [
    {
     "name": "stdout",
     "output_type": "stream",
     "text": [
      "[1 1 1 ..., 0 0 0]\n",
      "[1 1 1 ..., 0 0 0]\n"
     ]
    },
    {
     "data": {
      "text/plain": [
       "0.036616715781553698"
      ]
     },
     "execution_count": 77,
     "metadata": {},
     "output_type": "execute_result"
    }
   ],
   "source": [
    "f1_score(Y, mv, local=True, average='binary')"
   ]
  },
  {
   "cell_type": "code",
   "execution_count": 90,
   "metadata": {},
   "outputs": [
    {
     "data": {
      "text/plain": [
       "array([  1.34685700e+06,   7.77230000e+04,   7.99308000e+05,\n",
       "         1.25927900e+06,   2.11006000e+05,   0.00000000e+00,\n",
       "         2.69406000e+05,   3.18370000e+04,   1.10936000e+05,\n",
       "         1.99217000e+05,   7.29100000e+03,   8.08630000e+04,\n",
       "         1.06250000e+04,   3.26700000e+03,   7.26680000e+04,\n",
       "         1.53680000e+04,   1.22400000e+04,   1.34450000e+04,\n",
       "         4.90670000e+04,   4.41900000e+03,   8.25700000e+03,\n",
       "         5.60900000e+03,   2.15000000e+02,   5.34100000e+03,\n",
       "         2.59060000e+04,   9.30500000e+03,   2.37600000e+03,\n",
       "         1.26700000e+03,   2.70600000e+03,   5.80000000e+03,\n",
       "         6.31000000e+02,   4.44000000e+02,   7.91000000e+02,\n",
       "         9.96000000e+02,   1.83700000e+03,   2.85900000e+03,\n",
       "         8.25000000e+02,   4.08000000e+02,   8.12000000e+02,\n",
       "         6.12000000e+02,   5.61000000e+02,   1.67000000e+02,\n",
       "         2.00000000e+02,   9.00000000e+01,   1.00000000e+02,\n",
       "         1.00000000e+02,   5.30000000e+01,   1.01000000e+02,\n",
       "         5.30000000e+01,   1.01000000e+02,   7.50000000e+01,\n",
       "         1.68000000e+02,   3.20000000e+01,   8.00000000e+00,\n",
       "         4.00000000e+00,   4.00000000e+00,   2.40000000e+01,\n",
       "         1.20000000e+01])"
      ]
     },
     "execution_count": 90,
     "metadata": {},
     "output_type": "execute_result"
    }
   ],
   "source": [
    "np.round(np.diag((L.T @ L).todense()), decimals=2)"
   ]
  },
  {
   "cell_type": "code",
   "execution_count": 97,
   "metadata": {},
   "outputs": [
    {
     "data": {
      "text/plain": [
       "Parameter containing:\n",
       " 0.8376\n",
       " 0.2508\n",
       " 0.5711\n",
       " 0.7981\n",
       " 0.3833\n",
       " 0.2155\n",
       " 0.2547\n",
       " 0.2328\n",
       " 0.2855\n",
       " 0.3501\n",
       " 0.2237\n",
       " 0.2590\n",
       " 0.2256\n",
       " 0.2160\n",
       " 0.0950\n",
       " 0.2275\n",
       " 0.2277\n",
       " 0.2274\n",
       " 0.2509\n",
       " 0.2169\n",
       " 0.2198\n",
       " 0.2219\n",
       " 0.2156\n",
       " 0.2180\n",
       " 0.2300\n",
       " 0.2220\n",
       " 0.2163\n",
       " 0.2175\n",
       " 0.2201\n",
       " 0.2206\n",
       " 0.2160\n",
       " 0.2160\n",
       " 0.2162\n",
       " 0.2159\n",
       " 0.2167\n",
       " 0.2191\n",
       " 0.2159\n",
       " 0.2157\n",
       " 0.2159\n",
       " 0.2162\n",
       " 0.2159\n",
       " 0.2157\n",
       " 0.2157\n",
       " 0.2157\n",
       " 0.2155\n",
       " 0.2155\n",
       " 0.2156\n",
       " 0.2156\n",
       " 0.2156\n",
       " 0.2156\n",
       " 0.2156\n",
       " 0.2155\n",
       " 0.2155\n",
       " 0.2155\n",
       " 0.2155\n",
       " 0.2155\n",
       " 0.2156\n",
       " 0.2155\n",
       "[torch.FloatTensor of size 58x1]"
      ]
     },
     "execution_count": 97,
     "metadata": {},
     "output_type": "execute_result"
    }
   ],
   "source": [
    "model_ui.beta"
   ]
  },
  {
   "cell_type": "code",
   "execution_count": null,
   "metadata": {},
   "outputs": [],
   "source": []
  }
 ],
 "metadata": {
  "kernelspec": {
   "display_name": "Python [conda env:metal]",
   "language": "python",
   "name": "conda-env-metal-py"
  },
  "language_info": {
   "codemirror_mode": {
    "name": "ipython",
    "version": 3
   },
   "file_extension": ".py",
   "mimetype": "text/x-python",
   "name": "python",
   "nbconvert_exporter": "python",
   "pygments_lexer": "ipython3",
   "version": "3.6.5"
  }
 },
 "nbformat": 4,
 "nbformat_minor": 2
}
