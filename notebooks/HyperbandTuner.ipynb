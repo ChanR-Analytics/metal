{
 "cells": [
  {
   "cell_type": "code",
   "execution_count": 1,
   "metadata": {
    "collapsed": false
   },
   "outputs": [],
   "source": [
    "%load_ext autoreload\n",
    "%autoreload 2\n",
    "\n",
    "import sys\n",
    "sys.path.append(\"../\")\n",
    "\n",
    "import numpy as np"
   ]
  },
  {
   "cell_type": "code",
   "execution_count": 2,
   "metadata": {
    "collapsed": false
   },
   "outputs": [],
   "source": [
    "from synthetics import generate_single_task_unipolar, gaussian_bags_of_words, vocab1k\n",
    "\n",
    "N = 1000\n",
    "M = 30\n",
    "K = 2\n",
    "NUM_SPLITS = 3\n",
    "\n",
    "Ds = [] # data\n",
    "Xs = [] # features\n",
    "Ls = [] # noisy labels\n",
    "Ys = [] # true labels\n",
    "for _ in range(NUM_SPLITS):\n",
    "    L, Y, _ = generate_single_task_unipolar(\n",
    "        N, M, k=K, alpha_range=[0.6, 0.9], beta_range=[0.1, 0.2], \n",
    "        class_balance=[0.3, 0.7], polarity_balance=None, seed=1)\n",
    "    \n",
    "    X, D = gaussian_bags_of_words(Y, vocab1k)\n",
    "    \n",
    "    Ls.append(L)\n",
    "    Ys.append(Y)\n",
    "    Ds.append(D)\n",
    "    Xs.append(X)"
   ]
  },
  {
   "cell_type": "code",
   "execution_count": 3,
   "metadata": {
    "collapsed": true
   },
   "outputs": [],
   "source": [
    "search_space = {\n",
    "    'n_epochs': 1000,\n",
    "    'l2': [0.0, 0.01, 0.1],\n",
    "    'lr': {'range': [0.0001, 1], 'scale': 'log'},\n",
    "}"
   ]
  },
  {
   "cell_type": "code",
   "execution_count": 4,
   "metadata": {
    "collapsed": false,
    "scrolled": false
   },
   "outputs": [],
   "source": [
    "# First run basic grid search / random search\n",
    "from metal.label_model import LabelModel\n",
    "from metal.tuner import ModelTuner\n",
    "\n",
    "def run_random_search(seed=123):\n",
    "    tuner = ModelTuner(LabelModel)\n",
    "    init_args = []\n",
    "    train_args = [Ls[0]]\n",
    "    model, best_config, run_stats_random_search = tuner.search(init_args, train_args, Ls[1], Ys[1], \n",
    "                                                               search_space, max_search=100, metric='f1')\n",
    "    return run_stats_random_search"
   ]
  },
  {
   "cell_type": "code",
   "execution_count": 13,
   "metadata": {
    "collapsed": false
   },
   "outputs": [],
   "source": [
    "\n",
    "# Hyperband\n",
    "from metal.label_model import LabelModel\n",
    "from metal.tuner import HyperbandTuner\n",
    "\n",
    "def run_hyperband(seed=123):\n",
    "    tuner = HyperbandTuner(LabelModel, hyperband_epochs_budget=5000, seed=seed)\n",
    "    init_args = []\n",
    "    train_args = [Ls[0]]\n",
    "    model, best_config, run_stats_hyperband = tuner.search(init_args, train_args, Ls[1], Ys[1], \n",
    "                                                           search_space, metric='f1')\n",
    "    return run_stats_hyperband"
   ]
  },
  {
   "cell_type": "code",
   "execution_count": null,
   "metadata": {
    "collapsed": true
   },
   "outputs": [],
   "source": [
    "%%capture\n",
    "seeds = [123, 234, 456, 567, 678]\n",
    "runstats_hyperband = []\n",
    "runstats_rs = []\n",
    "for seed in seeds:\n",
    "    runstats_rs.append(run_random_search(seed=seed))\n",
    "    runstats_hyperband.append(run_hyperband(seed=seed))"
   ]
  },
  {
   "cell_type": "code",
   "execution_count": null,
   "metadata": {
    "collapsed": false
   },
   "outputs": [],
   "source": [
    "%matplotlib inline\n",
    "\n",
    "# Plot random search vs hyperband run stats\n",
    "import matplotlib.pyplot as plt\n",
    "\n",
    "xs_hyperband = [[x[\"time_elapsed\"] for x in z] for z in runstats_hyperband]\n",
    "ys_hyperband = [[x[\"best_score\"] for x in z] for z in runstats_hyperband]\n",
    "xs_rs = [[x[\"time_elapsed\"] for x in z] for z in runstats_rs]\n",
    "ys_rs = [[x[\"best_score\"] for x in z] for z in runstats_rs]\n",
    "\n",
    "# Extract min and max times for segmented times\n",
    "flat_xs_hyperband = [item for sublist in xs_hyperband for item in sublist]\n",
    "flat_xs_rs = [item for sublist in xs_rs for item in sublist]\n",
    "min_time, max_time = 0, max(flat_xs_hyperband + flat_xs_rs)\n",
    "\n",
    "\n",
    "# Get list of best scores at time\n",
    "def get_best_scores_at_time(all_runstats, target_time):\n",
    "    best_scores = []\n",
    "    for runstats in all_runstats:\n",
    "        best_score = 0        \n",
    "        times = [x[\"time_elapsed\"] for x in runstats]\n",
    "        scores = [x[\"best_score\"] for x in runstats]\n",
    "        for time, score in zip(times, scores):\n",
    "            if time < target_time:\n",
    "                best_score = score\n",
    "        best_scores.append(best_score)\n",
    "    return best_scores\n",
    "        \n",
    "# Extract best scores per segment\n",
    "segments = list(np.arange(0, max_time, .2))\n",
    "hyperband_scores = [get_best_scores_at_time(runstats_hyperband, t) for t in segments]\n",
    "rs_scores = [get_best_scores_at_time(runstats_rs, t) for t in segments]\n",
    "\n",
    "# Extract means and error bars\n",
    "mean_hyperband_scores = [np.mean(x) for x in hyperband_scores]\n",
    "mean_rs_scores = [np.mean(x) for x in rs_scores]\n",
    "hyperband_stds = [np.std(x) for x in hyperband_scores]\n",
    "rs_stds = [np.std(x) for x in rs_scores]\n",
    "\n",
    "#plt.plot(segments, mean_hyperband_scores, label=\"Hyperband\", marker=\"o\")\n",
    "#plt.plot(segments, mean_rs_scores, label=\"Random Search\", marker=\"o\")\n",
    "plt.errorbar(segments, mean_hyperband_scores, hyperband_stds, label=\"Hyperband\", marker=\"o\")\n",
    "plt.errorbar(segments, mean_rs_scores, rs_stds, label=\"Random Search\", marker=\"o\")\n",
    "plt.legend(loc=\"best\")\n",
    "plt.title(\"Best F1 Score Achieved vs Time\")\n",
    "plt.xlabel(\"Time (s)\")\n",
    "plt.ylabel(\"Mean F1\")"
   ]
  },
  {
   "cell_type": "code",
   "execution_count": null,
   "metadata": {
    "collapsed": true
   },
   "outputs": [],
   "source": []
  },
  {
   "cell_type": "code",
   "execution_count": null,
   "metadata": {
    "collapsed": true
   },
   "outputs": [],
   "source": []
  }
 ],
 "metadata": {
  "kernelspec": {
   "display_name": "Python 3",
   "language": "python",
   "name": "python3"
  },
  "language_info": {
   "codemirror_mode": {
    "name": "ipython",
    "version": 3
   },
   "file_extension": ".py",
   "mimetype": "text/x-python",
   "name": "python",
   "nbconvert_exporter": "python",
   "pygments_lexer": "ipython3",
   "version": "3.6.5"
  }
 },
 "nbformat": 4,
 "nbformat_minor": 2
}
