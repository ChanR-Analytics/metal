{
 "cells": [
  {
   "cell_type": "code",
   "execution_count": 1,
   "metadata": {},
   "outputs": [],
   "source": [
    "%load_ext autoreload\n",
    "%autoreload 2\n",
    "\n",
    "import numpy as np"
   ]
  },
  {
   "cell_type": "markdown",
   "metadata": {},
   "source": [
    "### Generate synthetic data"
   ]
  },
  {
   "cell_type": "code",
   "execution_count": 2,
   "metadata": {
    "scrolled": false
   },
   "outputs": [],
   "source": [
    "from synthetics import generate_single_task_unipolar, gaussian_bags_of_words, vocab1k\n",
    "\n",
    "N = 10000\n",
    "M = 30\n",
    "K = 2 # binary problem (class labels: {1,2})\n",
    "NUM_SPLITS = 3\n",
    "\n",
    "Ds = [] # data\n",
    "Xs = [] # features\n",
    "Ls = [] # noisy labels\n",
    "Ys = [] # true labels\n",
    "for _ in range(NUM_SPLITS):\n",
    "    L, Y, _ = generate_single_task_unipolar(\n",
    "        N, M, k=K, alpha_range=[0.6, 0.9], beta_range=[0.1, 0.2], \n",
    "        class_balance=[0.25, 0.75], seed=1)\n",
    "    \n",
    "    X, D = gaussian_bags_of_words(Y, vocab1k)\n",
    "    \n",
    "    Ls.append(L)\n",
    "    Ys.append(Y)\n",
    "    Ds.append(D)\n",
    "    Xs.append(X)"
   ]
  },
  {
   "cell_type": "markdown",
   "metadata": {},
   "source": [
    "### Apply LabelModel"
   ]
  },
  {
   "cell_type": "code",
   "execution_count": 3,
   "metadata": {
    "scrolled": false
   },
   "outputs": [
    {
     "name": "stdout",
     "output_type": "stream",
     "text": [
      "Overwriting seed=None to seed=1\n",
      "Overwriting n_epochs=100 to n_epochs=500\n",
      "Overwriting lr=0.01 to lr=0.001\n",
      "Reaffirming l2=0.0\n",
      "Overwriting print_at=10 to print_at=100\n",
      "Reaffirming show_plots=True\n",
      "[Epoch 0] Loss: 309.458144\n",
      "[Epoch 100] Loss: 0.104923\n",
      "[Epoch 200] Loss: 0.010308\n",
      "[Epoch 300] Loss: 0.004366\n",
      "[Epoch 400] Loss: 0.003250\n",
      "[Epoch 499] Loss: 0.002682\n",
      "Finished Training\n"
     ]
    },
    {
     "data": {
      "image/png": "[encoded data removed]",
      "text/plain": [
       "<Figure size 432x288 with 1 Axes>"
      ]
     },
     "metadata": {},
     "output_type": "display_data"
    },
    {
     "name": "stdout",
     "output_type": "stream",
     "text": [
      "Confusion Matrix (Dev)\n",
      "        y=1    y=2   \n",
      " l=1   1376   5364   \n",
      " l=2   1155   2105   \n"
     ]
    }
   ],
   "source": [
    "from metal.label_model import LabelModel\n",
    "\n",
    "lm = LabelModel(seed=1)\n",
    "\n",
    "lm.train(Ls[0], L_dev=Ls[1], Y_dev=Ys[1], \n",
    "         n_epochs=500, lr=0.001, l2=0, print_at=100, show_plots=True)"
   ]
  },
  {
   "cell_type": "code",
   "execution_count": 4,
   "metadata": {},
   "outputs": [
    {
     "name": "stdout",
     "output_type": "stream",
     "text": [
      "F1: 0.299\n"
     ]
    }
   ],
   "source": [
    "Y_p = lm.score(Ls[1], Ys[1], metric='f1')"
   ]
  },
  {
   "cell_type": "code",
   "execution_count": 5,
   "metadata": {},
   "outputs": [],
   "source": [
    "Y_p = lm.predict(Ls[0])"
   ]
  },
  {
   "cell_type": "markdown",
   "metadata": {},
   "source": [
    "### Random Search"
   ]
  },
  {
   "cell_type": "code",
   "execution_count": 6,
   "metadata": {},
   "outputs": [],
   "source": [
    "search_space = {\n",
    "    'print_at': 200,\n",
    "    'n_epochs': 1000, # a single constant value\n",
    "    'l2': [0, 0.1, 0.01], # a list of discrete values\n",
    "    'lr': {'range': [0.01, 0.0001], 'scale': 'log'}, # a range and scale to interpolate by\n",
    "}"
   ]
  },
  {
   "cell_type": "code",
   "execution_count": 7,
   "metadata": {
    "scrolled": false
   },
   "outputs": [
    {
     "name": "stdout",
     "output_type": "stream",
     "text": [
      "============================================================\n",
      "[1] Testing {'l2': 0.1, 'lr': 0.0003236965357034848}\n",
      "============================================================\n",
      "Overwriting show_plots=True to show_plots=False\n",
      "[Epoch 0] Loss: 348.308474\n",
      "[Epoch 200] Loss: 0.814816\n",
      "[Epoch 400] Loss: 0.617487\n",
      "[Epoch 600] Loss: 0.591114\n",
      "[Epoch 800] Loss: 0.582902\n",
      "[Epoch 999] Loss: 0.578790\n",
      "Finished Training\n",
      "F1: 0.414\n",
      "============================================================\n",
      "[2] Testing {'l2': 0.01, 'lr': 0.004884765313390349}\n",
      "============================================================\n",
      "Reaffirming show_plots=False\n",
      "[Epoch 0] Loss: 310.162698\n",
      "[Epoch 200] Loss: 0.064146\n",
      "[Epoch 400] Loss: 0.063409\n",
      "[Epoch 600] Loss: 0.063236\n",
      "[Epoch 800] Loss: 0.063131\n",
      "[Epoch 999] Loss: 0.063039\n",
      "Finished Training\n",
      "F1: 0.596\n",
      "============================================================\n",
      "[3] Testing {'l2': 0, 'lr': 0.00018566433578077888}\n",
      "============================================================\n",
      "Reaffirming show_plots=False\n",
      "[Epoch 0] Loss: 435.457135\n",
      "[Epoch 200] Loss: 0.830987\n",
      "[Epoch 400] Loss: 0.285841\n",
      "[Epoch 600] Loss: 0.125221\n",
      "[Epoch 800] Loss: 0.059932\n",
      "[Epoch 999] Loss: 0.031623\n",
      "Finished Training\n",
      "F1: 0.381\n",
      "============================================================\n",
      "[4] Testing {'l2': 0.1, 'lr': 0.008167112609961452}\n",
      "============================================================\n",
      "Reaffirming show_plots=False\n",
      "[Epoch 0] Loss: 193.812015\n",
      "[Epoch 200] Loss: 0.570802\n",
      "[Epoch 400] Loss: 0.570764\n",
      "[Epoch 600] Loss: 0.570764\n",
      "[Epoch 800] Loss: 0.570764\n",
      "[Epoch 999] Loss: 0.570764\n",
      "Finished Training\n",
      "F1: 0.340\n",
      "============================================================\n",
      "[5] Testing {'l2': 0.01, 'lr': 0.0002991777241598981}\n",
      "============================================================\n",
      "Reaffirming show_plots=False\n",
      "[Epoch 0] Loss: 380.045185\n",
      "[Epoch 200] Loss: 0.372197\n",
      "[Epoch 400] Loss: 0.145948\n",
      "[Epoch 600] Loss: 0.089913\n",
      "[Epoch 800] Loss: 0.075908\n",
      "[Epoch 999] Loss: 0.071315\n",
      "Finished Training\n",
      "F1: 0.345\n",
      "============================================================\n",
      "[SUMMARY]\n",
      "Best model: [2]\n",
      "Best config: {'print_at': 200, 'n_epochs': 1000, 'l2': 0.01, 'lr': 0.0002991777241598981, 'verbose': False, 'seed': 4}\n",
      "Best score: 0.5963581183611533\n",
      "============================================================\n"
     ]
    }
   ],
   "source": [
    "from metal.tuner import ModelTuner\n",
    "\n",
    "tuner = ModelTuner(LabelModel)\n",
    "init_args = []\n",
    "train_args = [Ls[0]]\n",
    "best_model, best_config = tuner.search(init_args, train_args, Ls[1], Ys[1], \n",
    "                                  search_space, max_search=5, metric='f1')"
   ]
  },
  {
   "cell_type": "code",
   "execution_count": 8,
   "metadata": {},
   "outputs": [],
   "source": [
    "Y_p = best_model.predict(Ls[0])"
   ]
  },
  {
   "cell_type": "markdown",
   "metadata": {},
   "source": [
    "### Metrics"
   ]
  },
  {
   "cell_type": "markdown",
   "metadata": {},
   "source": [
    "Calculate metrics in one of two ways.\n",
    "\n",
    "1. Use metric_score() and pass the metric name\n",
    "3. The the specific metric's function (e.g., accuracy_score())"
   ]
  },
  {
   "cell_type": "code",
   "execution_count": 9,
   "metadata": {},
   "outputs": [
    {
     "data": {
      "text/plain": [
       "0.7361"
      ]
     },
     "execution_count": 9,
     "metadata": {},
     "output_type": "execute_result"
    },
    {
     "data": {
      "text/plain": [
       "0.7361"
      ]
     },
     "execution_count": 9,
     "metadata": {},
     "output_type": "execute_result"
    }
   ],
   "source": [
    "from metal.metrics import metric_score, accuracy_score\n",
    "\n",
    "metric_score(Ys[1], Y_p, 'accuracy')\n",
    "accuracy_score(Ys[1], Y_p)"
   ]
  },
  {
   "cell_type": "markdown",
   "metadata": {},
   "source": [
    "Built-in metrics include:"
   ]
  },
  {
   "cell_type": "code",
   "execution_count": 10,
   "metadata": {},
   "outputs": [
    {
     "data": {
      "text/plain": [
       "0.7361"
      ]
     },
     "execution_count": 10,
     "metadata": {},
     "output_type": "execute_result"
    },
    {
     "data": {
      "text/plain": [
       "1.0"
      ]
     },
     "execution_count": 10,
     "metadata": {},
     "output_type": "execute_result"
    },
    {
     "data": {
      "text/plain": [
       "0.48658718330849476"
      ]
     },
     "execution_count": 10,
     "metadata": {},
     "output_type": "execute_result"
    },
    {
     "data": {
      "text/plain": [
       "0.7740023706045042"
      ]
     },
     "execution_count": 10,
     "metadata": {},
     "output_type": "execute_result"
    },
    {
     "data": {
      "text/plain": [
       "0.5975293579380814"
      ]
     },
     "execution_count": 10,
     "metadata": {},
     "output_type": "execute_result"
    },
    {
     "data": {
      "text/plain": [
       "0.5975293579380814"
      ]
     },
     "execution_count": 10,
     "metadata": {},
     "output_type": "execute_result"
    }
   ],
   "source": [
    "metric_score(Ys[1], Y_p, 'accuracy')\n",
    "metric_score(Ys[1], Y_p, 'coverage')\n",
    "metric_score(Ys[1], Y_p, 'precision')\n",
    "metric_score(Ys[1], Y_p, 'recall')\n",
    "metric_score(Ys[1], Y_p, 'f1')\n",
    "metric_score(Ys[1], Y_p, 'fbeta', beta=1.0)"
   ]
  },
  {
   "cell_type": "markdown",
   "metadata": {},
   "source": [
    "### Confusion matrix"
   ]
  },
  {
   "cell_type": "code",
   "execution_count": 11,
   "metadata": {
    "scrolled": false
   },
   "outputs": [
    {
     "data": {
      "text/plain": [
       "array([[1959, 2067],\n",
       "       [ 572, 5402]])"
      ]
     },
     "execution_count": 11,
     "metadata": {},
     "output_type": "execute_result"
    }
   ],
   "source": [
    "from metal.analysis import confusion_matrix\n",
    "confusion_matrix(Y_p, Ys[1])"
   ]
  },
  {
   "cell_type": "code",
   "execution_count": 12,
   "metadata": {},
   "outputs": [
    {
     "data": {
      "text/plain": [
       "array([[0.1959, 0.2067],\n",
       "       [0.0572, 0.5402]])"
      ]
     },
     "execution_count": 12,
     "metadata": {},
     "output_type": "execute_result"
    }
   ],
   "source": [
    "confusion_matrix(Y_p, Ys[1], normalize=True)"
   ]
  },
  {
   "cell_type": "code",
   "execution_count": 13,
   "metadata": {},
   "outputs": [
    {
     "name": "stdout",
     "output_type": "stream",
     "text": [
      "        y=1    y=2   \n",
      " l=1   1959   2067   \n",
      " l=2    572   5402   \n"
     ]
    }
   ],
   "source": [
    "mat = confusion_matrix(Y_p, Ys[1], pretty_print=True)"
   ]
  },
  {
   "cell_type": "markdown",
   "metadata": {},
   "source": [
    "### Error analysis"
   ]
  },
  {
   "cell_type": "code",
   "execution_count": 14,
   "metadata": {},
   "outputs": [],
   "source": [
    "from metal.analysis import error_buckets\n",
    "\n",
    "buckets = error_buckets(Y_p, Ys[1], Ds[1])\n",
    "tp = buckets[1,1]\n",
    "fp = buckets[1,2]"
   ]
  },
  {
   "cell_type": "code",
   "execution_count": 15,
   "metadata": {},
   "outputs": [
    {
     "data": {
      "text/plain": [
       "[\"yeah simply head wife patient data writer protect those less east level begin seek value knowledge participant pull above each become military because worker popular n't pull smile all popular violence act trip tree then budget\"]"
      ]
     },
     "execution_count": 15,
     "metadata": {},
     "output_type": "execute_result"
    }
   ],
   "source": [
    "fp[:1]"
   ]
  },
  {
   "cell_type": "code",
   "execution_count": 16,
   "metadata": {},
   "outputs": [
    {
     "data": {
      "text/plain": [
       "['congress sound represent wall even none within defense successful suffer commercial same college figure base building around station building level pain national card where subject public president some true foot senior fine try scene structure turn legal within so response mr everybody past process',\n",
       " 'along win allow win hundred evening call model indeed firm window imagine leave arm of beautiful southern issue result challenge six evening major point weight read final fill half nothing wear choice benefit ok purpose such thing risk rate discussion modern second hotel',\n",
       " 'region about himself room suddenly question threat know effect concern indeed realize two white than effect begin plan oh keep brother degree two pull more pretty training out thus another doctor responsibility degree voice begin responsibility enjoy adult provide recent finger likely finally project use responsibility new finally']"
      ]
     },
     "execution_count": 16,
     "metadata": {},
     "output_type": "execute_result"
    }
   ],
   "source": [
    "tp[:3]"
   ]
  },
  {
   "cell_type": "markdown",
   "metadata": {},
   "source": [
    "### Label matrix analysis"
   ]
  },
  {
   "cell_type": "code",
   "execution_count": 17,
   "metadata": {},
   "outputs": [],
   "source": [
    "from metal.analysis import (\n",
    "    item_coverage,\n",
    "    item_overlap,\n",
    "    item_conflict,\n",
    "    LF_accuracies,\n",
    "    LF_coverages,\n",
    "    LF_overlaps,\n",
    "    LF_conflicts,\n",
    ")"
   ]
  },
  {
   "cell_type": "code",
   "execution_count": 18,
   "metadata": {},
   "outputs": [
    {
     "data": {
      "text/plain": [
       "0.9113"
      ]
     },
     "execution_count": 18,
     "metadata": {},
     "output_type": "execute_result"
    }
   ],
   "source": [
    "item_coverage(Ls[0])"
   ]
  },
  {
   "cell_type": "code",
   "execution_count": 19,
   "metadata": {},
   "outputs": [
    {
     "data": {
      "text/plain": [
       "0.6849"
      ]
     },
     "execution_count": 19,
     "metadata": {},
     "output_type": "execute_result"
    }
   ],
   "source": [
    "item_overlap(Ls[0])"
   ]
  },
  {
   "cell_type": "code",
   "execution_count": 20,
   "metadata": {},
   "outputs": [
    {
     "data": {
      "text/plain": [
       "0.3655"
      ]
     },
     "execution_count": 20,
     "metadata": {},
     "output_type": "execute_result"
    }
   ],
   "source": [
    "item_conflict(Ls[0])"
   ]
  },
  {
   "cell_type": "code",
   "execution_count": 21,
   "metadata": {
    "scrolled": true
   },
   "outputs": [],
   "source": [
    "# LF_accuracies(Ls[0], Ys[0])"
   ]
  },
  {
   "cell_type": "code",
   "execution_count": 22,
   "metadata": {},
   "outputs": [],
   "source": [
    "# LF_coverages(Ls[0])"
   ]
  },
  {
   "cell_type": "code",
   "execution_count": 23,
   "metadata": {
    "scrolled": true
   },
   "outputs": [
    {
     "data": {
      "text/plain": [
       "array([[0.0363, 0.0832, 0.0951, 0.0808, 0.0872, 0.0671, 0.0879, 0.068 ,\n",
       "        0.0356, 0.1047, 0.1151, 0.0553, 0.0506, 0.1099, 0.048 , 0.0432,\n",
       "        0.0675, 0.0722, 0.0696, 0.0576, 0.0612, 0.1059, 0.0449, 0.071 ,\n",
       "        0.0415, 0.0688, 0.0641, 0.0454, 0.0586, 0.1033]])"
      ]
     },
     "execution_count": 23,
     "metadata": {},
     "output_type": "execute_result"
    }
   ],
   "source": [
    "LF_overlaps(Ls[0])"
   ]
  },
  {
   "cell_type": "code",
   "execution_count": 24,
   "metadata": {
    "scrolled": true
   },
   "outputs": [],
   "source": [
    "# LF_conflicts(Ls[0])"
   ]
  },
  {
   "cell_type": "code",
   "execution_count": 25,
   "metadata": {
    "scrolled": true
   },
   "outputs": [
    {
     "data": {
      "image/png": "[encoded data removed]",
      "text/plain": [
       "<Figure size 432x288 with 2 Axes>"
      ]
     },
     "metadata": {},
     "output_type": "display_data"
    }
   ],
   "source": [
    "from metal.analysis import (\n",
    "    view_label_matrix,\n",
    "    view_overlaps,\n",
    "    view_conflicts,\n",
    ")\n",
    "\n",
    "view_label_matrix(Ls[0])"
   ]
  },
  {
   "cell_type": "code",
   "execution_count": 26,
   "metadata": {},
   "outputs": [
    {
     "data": {
      "image/png": "[encoded data removed]",
      "text/plain": [
       "<Figure size 432x288 with 2 Axes>"
      ]
     },
     "metadata": {},
     "output_type": "display_data"
    }
   ],
   "source": [
    "view_overlaps(Ls[0], normalize=True)"
   ]
  },
  {
   "cell_type": "code",
   "execution_count": 27,
   "metadata": {},
   "outputs": [
    {
     "data": {
      "image/png": "[encoded data removed]",
      "text/plain": [
       "<Figure size 432x288 with 2 Axes>"
      ]
     },
     "metadata": {},
     "output_type": "display_data"
    }
   ],
   "source": [
    "view_conflicts(Ls[0], normalize=False)"
   ]
  },
  {
   "cell_type": "code",
   "execution_count": null,
   "metadata": {},
   "outputs": [],
   "source": []
  }
 ],
 "metadata": {
  "kernelspec": {
   "display_name": "Python [conda env:metal]",
   "language": "python",
   "name": "conda-env-metal-py"
  },
  "language_info": {
   "codemirror_mode": {
    "name": "ipython",
    "version": 3
   },
   "file_extension": ".py",
   "mimetype": "text/x-python",
   "name": "python",
   "nbconvert_exporter": "python",
   "pygments_lexer": "ipython3",
   "version": "3.6.5"
  }
 },
 "nbformat": 4,
 "nbformat_minor": 2
}
