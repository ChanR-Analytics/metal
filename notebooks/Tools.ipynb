{
 "cells": [
  {
   "cell_type": "code",
   "execution_count": 1,
   "metadata": {},
   "outputs": [],
   "source": [
    "%load_ext autoreload\n",
    "%autoreload 2\n",
    "\n",
    "import numpy as np"
   ]
  },
  {
   "cell_type": "markdown",
   "metadata": {},
   "source": [
    "### Generate synthetic data"
   ]
  },
  {
   "cell_type": "code",
   "execution_count": 17,
   "metadata": {
    "scrolled": false
   },
   "outputs": [],
   "source": [
    "from synthetics import generate_single_task_unipolar, gaussian_bags_of_words, vocab1k\n",
    "\n",
    "N = 1000\n",
    "M = 30\n",
    "K = 2\n",
    "NUM_SPLITS = 3\n",
    "\n",
    "Ds = [] # data\n",
    "Xs = [] # features\n",
    "Ls = [] # noisy labels\n",
    "Ys = [] # true labels\n",
    "for _ in range(NUM_SPLITS):\n",
    "    L, Y, _ = generate_single_task_unipolar(\n",
    "        N, M, k=K, acc=[0.6, 0.9], rec=[0.1, 0.2], \n",
    "        class_balance=[0.3, 0.7], lf_balance=None, seed=1)\n",
    "    \n",
    "    X, D = gaussian_bags_of_words(Y, vocab1k)\n",
    "    \n",
    "    Ls.append(L)\n",
    "    Ys.append(Y)\n",
    "    Ds.append(D)\n",
    "    Xs.append(X)"
   ]
  },
  {
   "cell_type": "markdown",
   "metadata": {},
   "source": [
    "### Apply LabelModel"
   ]
  },
  {
   "cell_type": "code",
   "execution_count": 18,
   "metadata": {
    "scrolled": false
   },
   "outputs": [
    {
     "name": "stdout",
     "output_type": "stream",
     "text": [
      "Reaffirming seed=2\n",
      "Reaffirming n_epochs=50\n",
      "[Epoch 0] Loss: 0.180101\n",
      "[Epoch 10] Loss: 0.157589\n",
      "[Epoch 20] Loss: 0.119086\n",
      "[Epoch 30] Loss: 0.086237\n",
      "[Epoch 40] Loss: 0.070783\n",
      "[Epoch 49] Loss: 0.067910\n",
      "Finished Training\n",
      "Accuracy: 0.717\n"
     ]
    }
   ],
   "source": [
    "from metal.label_model import LabelModel\n",
    "\n",
    "lm = LabelModel(seed=2)\n",
    "lm.train(Ls[0], n_epochs=50)\n",
    "Y_p = lm.score(Ls[1], Ys[1])"
   ]
  },
  {
   "cell_type": "code",
   "execution_count": 19,
   "metadata": {},
   "outputs": [],
   "source": [
    "Y_p = lm.predict(Ls[1])"
   ]
  },
  {
   "cell_type": "markdown",
   "metadata": {},
   "source": [
    "### Metrics"
   ]
  },
  {
   "cell_type": "markdown",
   "metadata": {},
   "source": [
    "Calculate metrics in one of two ways.\n",
    "\n",
    "1. Use metric_score() and pass the metric name\n",
    "3. The the specific metric's function (e.g., accuracy_score())"
   ]
  },
  {
   "cell_type": "code",
   "execution_count": 20,
   "metadata": {},
   "outputs": [
    {
     "data": {
      "text/plain": [
       "0.717"
      ]
     },
     "execution_count": 20,
     "metadata": {},
     "output_type": "execute_result"
    },
    {
     "data": {
      "text/plain": [
       "0.717"
      ]
     },
     "execution_count": 20,
     "metadata": {},
     "output_type": "execute_result"
    }
   ],
   "source": [
    "from metal.metrics import metric_score, accuracy_score\n",
    "\n",
    "metric_score(Ys[1], Y_p, 'accuracy')\n",
    "accuracy_score(Ys[1], Y_p)"
   ]
  },
  {
   "cell_type": "markdown",
   "metadata": {},
   "source": [
    "Built-in metrics include:"
   ]
  },
  {
   "cell_type": "code",
   "execution_count": 21,
   "metadata": {},
   "outputs": [
    {
     "data": {
      "text/plain": [
       "0.717"
      ]
     },
     "execution_count": 21,
     "metadata": {},
     "output_type": "execute_result"
    },
    {
     "data": {
      "text/plain": [
       "1.0"
      ]
     },
     "execution_count": 21,
     "metadata": {},
     "output_type": "execute_result"
    },
    {
     "data": {
      "text/plain": [
       "0.5156537753222836"
      ]
     },
     "execution_count": 21,
     "metadata": {},
     "output_type": "execute_result"
    },
    {
     "data": {
      "text/plain": [
       "0.9333333333333333"
      ]
     },
     "execution_count": 21,
     "metadata": {},
     "output_type": "execute_result"
    },
    {
     "data": {
      "text/plain": [
       "0.6642941874258601"
      ]
     },
     "execution_count": 21,
     "metadata": {},
     "output_type": "execute_result"
    },
    {
     "data": {
      "text/plain": [
       "0.6642941874258601"
      ]
     },
     "execution_count": 21,
     "metadata": {},
     "output_type": "execute_result"
    }
   ],
   "source": [
    "metric_score(Ys[1], Y_p, 'accuracy')\n",
    "metric_score(Ys[1], Y_p, 'coverage')\n",
    "metric_score(Ys[1], Y_p, 'precision')\n",
    "metric_score(Ys[1], Y_p, 'recall')\n",
    "metric_score(Ys[1], Y_p, 'f1')\n",
    "metric_score(Ys[1], Y_p, 'fbeta', beta=1.0)"
   ]
  },
  {
   "cell_type": "markdown",
   "metadata": {},
   "source": [
    "### Confusion matrix"
   ]
  },
  {
   "cell_type": "code",
   "execution_count": 22,
   "metadata": {
    "scrolled": true
   },
   "outputs": [
    {
     "data": {
      "text/plain": [
       "array([[280, 263],\n",
       "       [ 20, 437]])"
      ]
     },
     "execution_count": 22,
     "metadata": {},
     "output_type": "execute_result"
    }
   ],
   "source": [
    "from metal.analysis import confusion_matrix\n",
    "confusion_matrix(Y_p, Ys[1])"
   ]
  },
  {
   "cell_type": "code",
   "execution_count": 23,
   "metadata": {},
   "outputs": [
    {
     "data": {
      "text/plain": [
       "array([[0.28 , 0.263],\n",
       "       [0.02 , 0.437]])"
      ]
     },
     "execution_count": 23,
     "metadata": {},
     "output_type": "execute_result"
    }
   ],
   "source": [
    "confusion_matrix(Y_p, Ys[1], normalize=True)"
   ]
  },
  {
   "cell_type": "code",
   "execution_count": 24,
   "metadata": {},
   "outputs": [
    {
     "name": "stdout",
     "output_type": "stream",
     "text": [
      "        y=1    y=2   \n",
      " l=1    280    263   \n",
      " l=2    20     437   \n"
     ]
    }
   ],
   "source": [
    "mat = confusion_matrix(Y_p, Ys[1], pretty=True)"
   ]
  },
  {
   "cell_type": "markdown",
   "metadata": {},
   "source": [
    "### Error analysis"
   ]
  },
  {
   "cell_type": "code",
   "execution_count": 10,
   "metadata": {},
   "outputs": [],
   "source": [
    "from metal.analysis import error_buckets\n",
    "\n",
    "buckets = error_buckets(Y_p, Ys[1], Ds[1])\n",
    "tp = buckets[1,1]"
   ]
  },
  {
   "cell_type": "code",
   "execution_count": 11,
   "metadata": {},
   "outputs": [
    {
     "data": {
      "text/plain": [
       "['him fight mr within hope economy visit parent piece problem discuss camera join factor day should night personal music week sell catch manager base them chance job later away legal period left treatment successful control maintain if fail throw',\n",
       " 'professional operation arm response or organization city affect agency protect case simple defense shoulder such process patient property on large gun somebody side employee story their well court',\n",
       " 'animal sell think inside similar manage than these might ten or lose machine in hear land customer audience nearly attack go college capital weight social lead answer recent wall us individual response serious he team']"
      ]
     },
     "execution_count": 11,
     "metadata": {},
     "output_type": "execute_result"
    }
   ],
   "source": [
    "tp[:3]"
   ]
  },
  {
   "cell_type": "code",
   "execution_count": null,
   "metadata": {},
   "outputs": [],
   "source": []
  }
 ],
 "metadata": {
  "kernelspec": {
   "display_name": "Python [conda env:metal]",
   "language": "python",
   "name": "conda-env-metal-py"
  },
  "language_info": {
   "codemirror_mode": {
    "name": "ipython",
    "version": 3
   },
   "file_extension": ".py",
   "mimetype": "text/x-python",
   "name": "python",
   "nbconvert_exporter": "python",
   "pygments_lexer": "ipython3",
   "version": "3.6.5"
  }
 },
 "nbformat": 4,
 "nbformat_minor": 2
}
