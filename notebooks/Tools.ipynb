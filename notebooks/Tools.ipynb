{
 "cells": [
  {
   "cell_type": "code",
   "execution_count": 1,
   "metadata": {},
   "outputs": [],
   "source": [
    "%load_ext autoreload\n",
    "%autoreload 2\n",
    "\n",
    "import numpy as np"
   ]
  },
  {
   "cell_type": "markdown",
   "metadata": {},
   "source": [
    "### Generate synthetic data"
   ]
  },
  {
   "cell_type": "code",
   "execution_count": 2,
   "metadata": {
    "scrolled": false
   },
   "outputs": [],
   "source": [
    "from synthetics import generate_single_task_unipolar, gaussian_bags_of_words, vocab1k\n",
    "\n",
    "N = 10000\n",
    "M = 30\n",
    "K = 2\n",
    "NUM_SPLITS = 3\n",
    "\n",
    "Ds = [] # data\n",
    "Xs = [] # features\n",
    "Ls = [] # noisy labels\n",
    "Ys = [] # true labels\n",
    "for _ in range(NUM_SPLITS):\n",
    "    L, Y, _ = generate_single_task_unipolar(\n",
    "        N, M, k=K, alpha_range=[0.6, 0.9], beta_range=[0.1, 0.2], \n",
    "        class_balance=[0.3, 0.7], seed=1)\n",
    "    \n",
    "    X, D = gaussian_bags_of_words(Y, vocab1k)\n",
    "    \n",
    "    Ls.append(L)\n",
    "    Ys.append(Y)\n",
    "    Ds.append(D)\n",
    "    Xs.append(X)"
   ]
  },
  {
   "cell_type": "markdown",
   "metadata": {},
   "source": [
    "### Apply LabelModel"
   ]
  },
  {
   "cell_type": "code",
   "execution_count": 3,
   "metadata": {
    "scrolled": false
   },
   "outputs": [
    {
     "name": "stdout",
     "output_type": "stream",
     "text": [
      "Overwriting seed=None to seed=2\n",
      "Overwriting n_epochs=100 to n_epochs=1000\n",
      "Reaffirming lr=0.01\n",
      "Overwriting print_at=10 to print_at=100\n",
      "[Epoch 0] Loss: 435.422895\n",
      "[Epoch 100] Loss: 0.004350\n",
      "[Epoch 200] Loss: 0.001577\n",
      "[Epoch 300] Loss: 0.001421\n",
      "[Epoch 400] Loss: 0.001322\n",
      "[Epoch 500] Loss: 0.001171\n",
      "[Epoch 600] Loss: 0.000922\n",
      "[Epoch 700] Loss: 0.000642\n",
      "[Epoch 800] Loss: 0.000472\n",
      "[Epoch 900] Loss: 0.000413\n",
      "[Epoch 999] Loss: 0.000396\n",
      "Accuracy: 0.780\n"
     ]
    }
   ],
   "source": [
    "from metal.label_model import LabelModel\n",
    "\n",
    "lm = LabelModel(seed=2)\n",
    "lm.train(Ls[0], n_epochs=1000, lr=0.01, print_at=100)\n",
    "Y_p = lm.score(Ls[1], Ys[1])"
   ]
  },
  {
   "cell_type": "code",
   "execution_count": 4,
   "metadata": {},
   "outputs": [],
   "source": [
    "Y_p = lm.predict(Ls[1])"
   ]
  },
  {
   "cell_type": "markdown",
   "metadata": {},
   "source": [
    "### Random Search"
   ]
  },
  {
   "cell_type": "code",
   "execution_count": 5,
   "metadata": {},
   "outputs": [],
   "source": [
    "search_space = {\n",
    "    'print_at': 200,\n",
    "    'n_epochs': 1000, # a single constant value\n",
    "    'l2': [0, 0.1, 0.01], # a list of discrete values\n",
    "    'lr': {'range': [0.01, 0.0001], 'scale': 'log'}, # a range and scale to interpolate by\n",
    "}"
   ]
  },
  {
   "cell_type": "code",
   "execution_count": 6,
   "metadata": {
    "scrolled": false
   },
   "outputs": [
    {
     "name": "stdout",
     "output_type": "stream",
     "text": [
      "============================================================\n",
      "[1] Testing {'l2': 0.1, 'lr': 0.00014782367342623394}\n",
      "============================================================\n",
      "[Epoch 0] Loss: 348.311680\n",
      "[Epoch 200] Loss: 2.112149\n",
      "[Epoch 400] Loss: 1.095611\n",
      "[Epoch 600] Loss: 0.789488\n",
      "[Epoch 800] Loss: 0.671334\n",
      "[Epoch 999] Loss: 0.624715\n",
      "Accuracy: 0.590\n",
      "============================================================\n",
      "[2] Testing {'l2': 0.01, 'lr': 0.004884765313390349}\n",
      "============================================================\n",
      "[Epoch 0] Loss: 310.110048\n",
      "[Epoch 200] Loss: 0.064544\n",
      "[Epoch 400] Loss: 0.063798\n",
      "[Epoch 600] Loss: 0.063600\n",
      "[Epoch 800] Loss: 0.063457\n",
      "[Epoch 999] Loss: 0.063329\n",
      "Accuracy: 0.752\n",
      "============================================================\n",
      "[3] Testing {'l2': 0, 'lr': 0.00018566433578077888}\n",
      "============================================================\n",
      "[Epoch 0] Loss: 435.422895\n",
      "[Epoch 200] Loss: 0.824796\n",
      "[Epoch 400] Loss: 0.282886\n",
      "[Epoch 600] Loss: 0.124117\n",
      "[Epoch 800] Loss: 0.059642\n",
      "[Epoch 999] Loss: 0.031585\n",
      "Accuracy: 0.683\n",
      "============================================================\n",
      "[4] Testing {'l2': 0.1, 'lr': 0.008167112609961452}\n",
      "============================================================\n",
      "[Epoch 0] Loss: 193.782519\n",
      "[Epoch 200] Loss: 0.572848\n",
      "[Epoch 400] Loss: 0.572811\n",
      "[Epoch 600] Loss: 0.572810\n",
      "[Epoch 800] Loss: 0.572810\n",
      "[Epoch 999] Loss: 0.572810\n",
      "Accuracy: 0.502\n",
      "============================================================\n",
      "[5] Testing {'l2': 0.01, 'lr': 0.0002991777241598981}\n",
      "============================================================\n",
      "[Epoch 0] Loss: 380.069844\n",
      "[Epoch 200] Loss: 0.370411\n",
      "[Epoch 400] Loss: 0.146387\n",
      "[Epoch 600] Loss: 0.090500\n",
      "[Epoch 800] Loss: 0.076359\n",
      "[Epoch 999] Loss: 0.071719\n",
      "Accuracy: 0.604\n",
      "============================================================\n",
      "[SUMMARY]\n",
      "Best model: [2]\n",
      "Best config: {'print_at': 200, 'n_epochs': 1000, 'l2': 0.01, 'lr': 0.0002991777241598981, 'verbose': False, 'seed': 4}\n",
      "Best score: 0.7516\n",
      "============================================================\n"
     ]
    }
   ],
   "source": [
    "from metal.tuner import ModelTuner\n",
    "\n",
    "tuner = ModelTuner(LabelModel)\n",
    "init_args = []\n",
    "train_args = [Ls[0]]\n",
    "model, best_config = tuner.search(init_args, train_args, Ls[1], Ys[1], \n",
    "                                  search_space, max_search=5, metric='accuracy')"
   ]
  },
  {
   "cell_type": "markdown",
   "metadata": {},
   "source": [
    "### Metrics"
   ]
  },
  {
   "cell_type": "markdown",
   "metadata": {},
   "source": [
    "Calculate metrics in one of two ways.\n",
    "\n",
    "1. Use metric_score() and pass the metric name\n",
    "3. The the specific metric's function (e.g., accuracy_score())"
   ]
  },
  {
   "cell_type": "code",
   "execution_count": 8,
   "metadata": {},
   "outputs": [
    {
     "data": {
      "text/plain": [
       "0.7782"
      ]
     },
     "execution_count": 8,
     "metadata": {},
     "output_type": "execute_result"
    },
    {
     "data": {
      "text/plain": [
       "0.7782"
      ]
     },
     "execution_count": 8,
     "metadata": {},
     "output_type": "execute_result"
    }
   ],
   "source": [
    "from metal.metrics import metric_score, accuracy_score\n",
    "\n",
    "metric_score(Ys[1], Y_p, 'accuracy')\n",
    "accuracy_score(Ys[1], Y_p)"
   ]
  },
  {
   "cell_type": "markdown",
   "metadata": {},
   "source": [
    "Built-in metrics include:"
   ]
  },
  {
   "cell_type": "code",
   "execution_count": 9,
   "metadata": {},
   "outputs": [
    {
     "data": {
      "text/plain": [
       "0.7782"
      ]
     },
     "execution_count": 9,
     "metadata": {},
     "output_type": "execute_result"
    },
    {
     "data": {
      "text/plain": [
       "1.0"
      ]
     },
     "execution_count": 9,
     "metadata": {},
     "output_type": "execute_result"
    },
    {
     "data": {
      "text/plain": [
       "0.6135135135135135"
      ]
     },
     "execution_count": 9,
     "metadata": {},
     "output_type": "execute_result"
    },
    {
     "data": {
      "text/plain": [
       "0.7423152387181164"
      ]
     },
     "execution_count": 9,
     "metadata": {},
     "output_type": "execute_result"
    },
    {
     "data": {
      "text/plain": [
       "0.6717963894643385"
      ]
     },
     "execution_count": 9,
     "metadata": {},
     "output_type": "execute_result"
    },
    {
     "data": {
      "text/plain": [
       "0.6717963894643385"
      ]
     },
     "execution_count": 9,
     "metadata": {},
     "output_type": "execute_result"
    }
   ],
   "source": [
    "metric_score(Ys[1], Y_p, 'accuracy')\n",
    "metric_score(Ys[1], Y_p, 'coverage')\n",
    "metric_score(Ys[1], Y_p, 'precision')\n",
    "metric_score(Ys[1], Y_p, 'recall')\n",
    "metric_score(Ys[1], Y_p, 'f1')\n",
    "metric_score(Ys[1], Y_p, 'fbeta', beta=1.0)"
   ]
  },
  {
   "cell_type": "markdown",
   "metadata": {},
   "source": [
    "### Confusion matrix"
   ]
  },
  {
   "cell_type": "code",
   "execution_count": 10,
   "metadata": {
    "scrolled": false
   },
   "outputs": [
    {
     "data": {
      "text/plain": [
       "array([[2270, 1430],\n",
       "       [ 788, 5512]])"
      ]
     },
     "execution_count": 10,
     "metadata": {},
     "output_type": "execute_result"
    }
   ],
   "source": [
    "from metal.analysis import confusion_matrix\n",
    "confusion_matrix(Y_p, Ys[1])"
   ]
  },
  {
   "cell_type": "code",
   "execution_count": 11,
   "metadata": {},
   "outputs": [
    {
     "data": {
      "text/plain": [
       "array([[0.227 , 0.143 ],\n",
       "       [0.0788, 0.5512]])"
      ]
     },
     "execution_count": 11,
     "metadata": {},
     "output_type": "execute_result"
    }
   ],
   "source": [
    "confusion_matrix(Y_p, Ys[1], normalize=True)"
   ]
  },
  {
   "cell_type": "code",
   "execution_count": 12,
   "metadata": {},
   "outputs": [
    {
     "name": "stdout",
     "output_type": "stream",
     "text": [
      "        y=1    y=2   \n",
      " l=1   2270   1430   \n",
      " l=2    788   5512   \n"
     ]
    }
   ],
   "source": [
    "mat = confusion_matrix(Y_p, Ys[1], pretty_print=True)"
   ]
  },
  {
   "cell_type": "markdown",
   "metadata": {},
   "source": [
    "### Error analysis"
   ]
  },
  {
   "cell_type": "code",
   "execution_count": 13,
   "metadata": {},
   "outputs": [],
   "source": [
    "from metal.analysis import error_buckets\n",
    "\n",
    "buckets = error_buckets(Y_p, Ys[1], Ds[1])\n",
    "tp = buckets[1,1]"
   ]
  },
  {
   "cell_type": "code",
   "execution_count": 14,
   "metadata": {},
   "outputs": [
    {
     "data": {
      "text/plain": [
       "['congress sound represent wall even none within defense successful suffer commercial same college figure base building around station building level pain national card where subject public president some true foot senior fine try scene structure turn legal within so response mr everybody past process',\n",
       " 'along win allow win hundred evening call model indeed firm window imagine leave arm of beautiful southern issue result challenge six evening major point weight read final fill half nothing wear choice benefit ok purpose such thing risk rate discussion modern second hotel',\n",
       " 'region about himself room suddenly question threat know effect concern indeed realize two white than effect begin plan oh keep brother degree two pull more pretty training out thus another doctor responsibility degree voice begin responsibility enjoy adult provide recent finger likely finally project use responsibility new finally']"
      ]
     },
     "execution_count": 14,
     "metadata": {},
     "output_type": "execute_result"
    }
   ],
   "source": [
    "tp[:3]"
   ]
  },
  {
   "cell_type": "code",
   "execution_count": null,
   "metadata": {},
   "outputs": [],
   "source": []
  }
 ],
 "metadata": {
  "kernelspec": {
   "display_name": "Python [conda env:metal]",
   "language": "python",
   "name": "conda-env-metal-py"
  },
  "language_info": {
   "codemirror_mode": {
    "name": "ipython",
    "version": 3
   },
   "file_extension": ".py",
   "mimetype": "text/x-python",
   "name": "python",
   "nbconvert_exporter": "python",
   "pygments_lexer": "ipython3",
   "version": "3.6.5"
  }
 },
 "nbformat": 4,
 "nbformat_minor": 2
}
