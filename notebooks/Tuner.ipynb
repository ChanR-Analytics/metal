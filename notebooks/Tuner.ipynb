{
 "cells": [
  {
   "cell_type": "code",
   "execution_count": 1,
   "metadata": {},
   "outputs": [],
   "source": [
    "%load_ext autoreload\n",
    "%autoreload 2\n",
    "\n",
    "import numpy as np"
   ]
  },
  {
   "cell_type": "code",
   "execution_count": 2,
   "metadata": {},
   "outputs": [],
   "source": [
    "from synthetics import generate_single_task_unipolar, gaussian_bags_of_words, vocab1k\n",
    "\n",
    "N = 1000\n",
    "M = 30\n",
    "K = 2\n",
    "NUM_SPLITS = 3\n",
    "\n",
    "Ds = [] # data\n",
    "Xs = [] # features\n",
    "Ls = [] # noisy labels\n",
    "Ys = [] # true labels\n",
    "for _ in range(NUM_SPLITS):\n",
    "    L, Y, _ = generate_single_task_unipolar(\n",
    "        N, M, k=K, acc=[0.6, 0.9], rec=[0.1, 0.2], \n",
    "        class_balance=[0.3, 0.7], lf_balance=None, seed=1)\n",
    "    \n",
    "    X, D = gaussian_bags_of_words(Y, vocab1k)\n",
    "    \n",
    "    Ls.append(L)\n",
    "    Ys.append(Y)\n",
    "    Ds.append(D)\n",
    "    Xs.append(X)"
   ]
  },
  {
   "cell_type": "code",
   "execution_count": 3,
   "metadata": {},
   "outputs": [],
   "source": [
    "search_space = {\n",
    "    'n_epochs': 25,\n",
    "    'l2': [0.0, 0.01, 0.1],\n",
    "    'lr': {'range': [0.0001, 1], 'scale': 'log'},\n",
    "}"
   ]
  },
  {
   "cell_type": "code",
   "execution_count": 9,
   "metadata": {
    "scrolled": false
   },
   "outputs": [
    {
     "name": "stdout",
     "output_type": "stream",
     "text": [
      "============================================================\n",
      "[1] Testing {'l2': 0.01, 'lr': 0.0006945917330918604}\n",
      "============================================================\n",
      "[Epoch 0] Loss: 0.180101\n",
      "[Epoch 10] Loss: 0.179939\n",
      "[Epoch 20] Loss: 0.179628\n",
      "[Epoch 24] Loss: 0.179487\n",
      "Finished Training\n",
      "F1: 0.657\n",
      "============================================================\n",
      "[2] Testing {'l2': 0.1, 'lr': 0.0018637133052883145}\n",
      "============================================================\n",
      "[Epoch 0] Loss: 0.180101\n",
      "[Epoch 10] Loss: 0.179671\n",
      "[Epoch 20] Loss: 0.178875\n",
      "[Epoch 24] Loss: 0.178527\n",
      "Finished Training\n",
      "F1: 0.656\n",
      "============================================================\n",
      "[3] Testing {'l2': 0.0, 'lr': 0.028480062981020064}\n",
      "============================================================\n",
      "[Epoch 0] Loss: 0.180101\n",
      "[Epoch 10] Loss: 0.173526\n",
      "[Epoch 20] Loss: 0.161283\n",
      "[Epoch 24] Loss: 0.155877\n",
      "Finished Training\n",
      "F1: 0.672\n",
      "============================================================\n",
      "[4] Testing {'l2': 0.01, 'lr': 0.00013961334707661579}\n",
      "============================================================\n",
      "[Epoch 0] Loss: 0.180101\n",
      "[Epoch 10] Loss: 0.180069\n",
      "[Epoch 20] Loss: 0.180006\n",
      "[Epoch 24] Loss: 0.179977\n",
      "Finished Training\n",
      "F1: 0.653\n",
      "============================================================\n",
      "[5] Testing {'l2': 0.1, 'lr': 0.13801657369293308}\n",
      "============================================================\n",
      "[Epoch 0] Loss: 0.180101\n",
      "[Epoch 10] Loss: 0.166848\n",
      "[Epoch 20] Loss: 0.168373\n",
      "[Epoch 24] Loss: 0.167421\n",
      "Finished Training\n",
      "F1: 0.694\n",
      "============================================================\n",
      "[SUMMARY]\n",
      "Best model: [5]\n",
      "Best config: {'n_epochs': 25, 'l2': 0.1, 'lr': 0.13801657369293308, 'verbose': False}\n",
      "Best score: 0.6939501779359432\n",
      "============================================================\n"
     ]
    }
   ],
   "source": [
    "from metal.label_model import LabelModel\n",
    "from metal.tuner import ModelTuner\n",
    "\n",
    "tuner = ModelTuner(LabelModel)\n",
    "init_args = []\n",
    "train_args = [Ls[0]]\n",
    "model, best_config = tuner.search(init_args, train_args, Ls[1], Ys[1], \n",
    "                                  search_space, max_search=5, metric='f1')"
   ]
  },
  {
   "cell_type": "code",
   "execution_count": null,
   "metadata": {},
   "outputs": [],
   "source": []
  }
 ],
 "metadata": {
  "kernelspec": {
   "display_name": "Python [conda env:metal]",
   "language": "python",
   "name": "conda-env-metal-py"
  },
  "language_info": {
   "codemirror_mode": {
    "name": "ipython",
    "version": 3
   },
   "file_extension": ".py",
   "mimetype": "text/x-python",
   "name": "python",
   "nbconvert_exporter": "python",
   "pygments_lexer": "ipython3",
   "version": "3.6.5"
  }
 },
 "nbformat": 4,
 "nbformat_minor": 2
}
