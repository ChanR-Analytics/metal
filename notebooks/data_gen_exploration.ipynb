{
 "cells": [
  {
   "cell_type": "code",
   "execution_count": 1,
   "metadata": {},
   "outputs": [],
   "source": [
    "import numpy as np\n",
    "import copy\n",
    "#import numba\n",
    "import random\n",
    "from scipy import sparse\n",
    "import multiprocessing as mp\n",
    "\n",
    "import matplotlib.pyplot as plt"
   ]
  },
  {
   "cell_type": "code",
   "execution_count": 2,
   "metadata": {},
   "outputs": [],
   "source": [
    "def generate_data(ndata, nv, acc, deg, nlf):\n",
    "    cardinality = 2 * np.ones(nv, np.int64)     # all vocab terms are binary\n",
    "\n",
    "    Y = np.empty(ndata, np.int64)        # generate the vocab samples\n",
    "    V = np.empty((ndata, nv), np.int64)   # generate the vocab samples\n",
    "    for i in range(ndata):\n",
    "        r = random.random()\n",
    "        Y[i] = 1 if (random.random() < 0.5) else -1\n",
    "        for j in range(nv):\n",
    "            V[i, j] = Y[i] if (random.random() < acc) else -Y[i]\n",
    "            if V[i, j] == -1:\n",
    "                V[i, j] = 0\n",
    "            \n",
    "    L = np.empty((ndata, nlf), np.int64)\n",
    "    for i in range(deg):\n",
    "        L[:, i] = 2 * np.maximum(V[:, i], V[:, -1]) - 1\n",
    "    for i in range(deg, nlf):\n",
    "        L[:, i] = 2 * V[:, i] - 1\n",
    "    \n",
    "    # calculate mu's here\n",
    "    accuracies = np.array([np.mean(L[:,i] == Y) for i in range(nlf)])\n",
    "    mu_from_acc = 2*accuracies - 1\n",
    "        \n",
    "    return Y, V, L, cardinality, mu_from_acc"
   ]
  },
  {
   "cell_type": "code",
   "execution_count": 3,
   "metadata": {},
   "outputs": [],
   "source": [
    "Y, V, L, cardinality, mu = generate_data(10000, 11, 0.75, 9, 10)"
   ]
  },
  {
   "cell_type": "code",
   "execution_count": 4,
   "metadata": {},
   "outputs": [
    {
     "name": "stdout",
     "output_type": "stream",
     "text": [
      "(10000, 10)\n",
      "(10,)\n"
     ]
    }
   ],
   "source": [
    "print(L.shape)\n",
    "print(mu.shape)"
   ]
  },
  {
   "cell_type": "code",
   "execution_count": 5,
   "metadata": {},
   "outputs": [
    {
     "name": "stdout",
     "output_type": "stream",
     "text": [
      "(10, 10)\n"
     ]
    }
   ],
   "source": [
    "O = np.dot(L.T,L)/(9999)\n",
    "print(O.shape)\n",
    "O_inv = np.linalg.inv(O)\n",
    "sig = O - np.outer(mu,mu)"
   ]
  },
  {
   "cell_type": "code",
   "execution_count": 6,
   "metadata": {},
   "outputs": [],
   "source": [
    "sig_inv = np.linalg.pinv(sig)"
   ]
  },
  {
   "cell_type": "code",
   "execution_count": 7,
   "metadata": {},
   "outputs": [
    {
     "name": "stdout",
     "output_type": "stream",
     "text": [
      "[[ 2.407e+00 -2.404e-01 -2.795e-01 -2.578e-01 -2.371e-01 -3.110e-01\n",
      "  -2.562e-01 -3.041e-01 -2.658e-01  1.360e-02]\n",
      " [-2.404e-01  2.414e+00 -2.969e-01 -2.715e-01 -2.495e-01 -2.520e-01\n",
      "  -2.321e-01 -3.362e-01 -2.559e-01  1.140e-02]\n",
      " [-2.795e-01 -2.969e-01  2.435e+00 -2.524e-01 -2.621e-01 -2.416e-01\n",
      "  -2.505e-01 -2.893e-01 -2.970e-01 -1.508e-02]\n",
      " [-2.578e-01 -2.715e-01 -2.524e-01  2.366e+00 -2.666e-01 -3.006e-01\n",
      "  -3.067e-01 -2.243e-01 -2.008e-01  1.879e-02]\n",
      " [-2.371e-01 -2.495e-01 -2.621e-01 -2.666e-01  2.400e+00 -2.880e-01\n",
      "  -2.706e-01 -3.058e-01 -2.504e-01 -2.435e-02]\n",
      " [-3.110e-01 -2.520e-01 -2.416e-01 -3.006e-01 -2.880e-01  2.456e+00\n",
      "  -2.855e-01 -2.239e-01 -2.923e-01 -5.396e-04]\n",
      " [-2.562e-01 -2.321e-01 -2.505e-01 -3.067e-01 -2.706e-01 -2.855e-01\n",
      "   2.394e+00 -2.768e-01 -2.476e-01  2.777e-03]\n",
      " [-3.041e-01 -3.362e-01 -2.893e-01 -2.243e-01 -3.058e-01 -2.239e-01\n",
      "  -2.768e-01  2.512e+00 -2.881e-01 -3.719e-02]\n",
      " [-2.658e-01 -2.559e-01 -2.970e-01 -2.008e-01 -2.504e-01 -2.923e-01\n",
      "  -2.476e-01 -2.881e-01  2.380e+00  1.041e-02]\n",
      " [ 1.360e-02  1.140e-02 -1.508e-02  1.879e-02 -2.435e-02 -5.396e-04\n",
      "   2.777e-03 -3.719e-02  1.041e-02  1.321e+00]]\n"
     ]
    }
   ],
   "source": [
    "np.set_printoptions(precision=3)\n",
    "print(sig_inv)"
   ]
  },
  {
   "cell_type": "code",
   "execution_count": 8,
   "metadata": {},
   "outputs": [],
   "source": [
    "J_clean = copy.deepcopy(sig_inv)\n",
    "for i in range(sig_inv.shape[0]):\n",
    "    for j in range(sig_inv.shape[1]):\n",
    "        if abs(sig_inv[i,j]) < 0.1:\n",
    "            J_clean[i,j] = 0\n",
    "        else:\n",
    "            J_clean[i,j] = sig_inv[i,j]"
   ]
  },
  {
   "cell_type": "code",
   "execution_count": 9,
   "metadata": {},
   "outputs": [
    {
     "name": "stdout",
     "output_type": "stream",
     "text": [
      "[[ 2.407 -0.24  -0.279 -0.258 -0.237 -0.311 -0.256 -0.304 -0.266  0.   ]\n",
      " [-0.24   2.414 -0.297 -0.271 -0.249 -0.252 -0.232 -0.336 -0.256  0.   ]\n",
      " [-0.279 -0.297  2.435 -0.252 -0.262 -0.242 -0.251 -0.289 -0.297  0.   ]\n",
      " [-0.258 -0.271 -0.252  2.366 -0.267 -0.301 -0.307 -0.224 -0.201  0.   ]\n",
      " [-0.237 -0.249 -0.262 -0.267  2.4   -0.288 -0.271 -0.306 -0.25   0.   ]\n",
      " [-0.311 -0.252 -0.242 -0.301 -0.288  2.456 -0.285 -0.224 -0.292  0.   ]\n",
      " [-0.256 -0.232 -0.251 -0.307 -0.271 -0.285  2.394 -0.277 -0.248  0.   ]\n",
      " [-0.304 -0.336 -0.289 -0.224 -0.306 -0.224 -0.277  2.512 -0.288  0.   ]\n",
      " [-0.266 -0.256 -0.297 -0.201 -0.25  -0.292 -0.248 -0.288  2.38   0.   ]\n",
      " [ 0.     0.     0.     0.     0.     0.     0.     0.     0.     1.321]]\n"
     ]
    }
   ],
   "source": [
    "print(J_clean)"
   ]
  },
  {
   "cell_type": "code",
   "execution_count": 10,
   "metadata": {},
   "outputs": [],
   "source": [
    "def generate_data_block_diag(ndata, acc, deg, nlf):\n",
    "    assert(nlf % deg == 0)\n",
    "    nv = nlf+deg\n",
    "    cardinality = 2 * np.ones(nv, np.int64)     # all vocab terms are binary\n",
    "    Y = np.empty(ndata, np.int64)        # generate the vocab samples\n",
    "    V = np.empty((ndata, nv), np.int64)   # generate the vocab samples\n",
    "    for i in range(ndata):\n",
    "        r = random.random()\n",
    "        Y[i] = 1 if (random.random() < 0.5) else -1\n",
    "        for j in range(nv):\n",
    "            V[i, j] = Y[i] if (random.random() < acc) else -Y[i]\n",
    "            if V[i, j] == -1:\n",
    "                V[i, j] = 0\n",
    "            \n",
    "    L = np.empty((ndata, nlf), np.int64)\n",
    "    num_blocks = int(nlf/deg)\n",
    "    for k in range(num_blocks):\n",
    "        for i in range(k*deg,(k+1)*deg):\n",
    "            L[:, i] = 2 * np.maximum(V[:, i], V[:, -k]) - 1\n",
    "#         for i in range(deg, 2*deg):\n",
    "#             L[:, i] = 2 * np.maximum(V[:, i], V[:, -3]) - 1\n",
    "#         for i in range(2*deg, nlf):\n",
    "#             L[:, i] = 2 * np.maximum(V[:, i], V[:, -2]) - 1\n",
    "    \n",
    "    # calculate mu's here\n",
    "    accuracies = np.array([np.mean(L[:,i] == Y) for i in range(nlf)])\n",
    "    mu_from_acc = 2*accuracies - 1\n",
    "        \n",
    "    return Y, V, L, cardinality, mu_from_acc, accuracies"
   ]
  },
  {
   "cell_type": "code",
   "execution_count": 11,
   "metadata": {},
   "outputs": [],
   "source": [
    "n = 10000\n",
    "m = 9\n",
    "deg = 3\n",
    "acc = 0.75"
   ]
  },
  {
   "cell_type": "code",
   "execution_count": 12,
   "metadata": {},
   "outputs": [
    {
     "name": "stdout",
     "output_type": "stream",
     "text": [
      "[[ 2.195 -0.863 -0.817  0.     0.     0.     0.     0.     0.   ]\n",
      " [-0.863  2.16  -0.51   0.    -0.168  0.     0.     0.     0.   ]\n",
      " [-0.817 -0.51   2.129  0.     0.     0.     0.     0.     0.   ]\n",
      " [ 0.     0.     0.     2.034 -0.619 -0.65   0.     0.     0.   ]\n",
      " [ 0.    -0.168  0.    -0.619  2.001 -0.595  0.     0.     0.   ]\n",
      " [ 0.     0.     0.    -0.65  -0.595  2.062  0.     0.     0.   ]\n",
      " [ 0.     0.     0.     0.     0.     0.     2.012 -0.659 -0.587]\n",
      " [ 0.     0.     0.     0.     0.     0.    -0.659  2.084 -0.687]\n",
      " [ 0.     0.     0.     0.     0.     0.    -0.587 -0.687  2.029]]\n",
      "[0.75  0.75  0.75  0.752 0.752 0.761 0.746 0.747 0.745]\n"
     ]
    }
   ],
   "source": [
    "Y, V, L, cardinality, mu, accuracies = generate_data_block_diag(n,acc, deg, m)\n",
    "O = np.dot(L.T,L)/(n-1)\n",
    "O_inv = np.linalg.inv(O)\n",
    "sig = O - np.outer(mu,mu)\n",
    "sig_inv = np.linalg.pinv(sig)\n",
    "\n",
    "J_clean = copy.deepcopy(sig_inv)\n",
    "for i in range(sig_inv.shape[0]):\n",
    "    for j in range(sig_inv.shape[1]):\n",
    "        if abs(sig_inv[i,j]) < 0.15:\n",
    "            J_clean[i,j] = 0\n",
    "        else:\n",
    "            J_clean[i,j] = sig_inv[i,j]\n",
    "print(J_clean)\n",
    "\n",
    "print(accuracies)"
   ]
  },
  {
   "cell_type": "code",
   "execution_count": 13,
   "metadata": {},
   "outputs": [
    {
     "name": "stdout",
     "output_type": "stream",
     "text": [
      "[[-1 -1  1 ...  1  1  1]\n",
      " [-1 -1  1 ... -1  1 -1]\n",
      " [-1  1 -1 ... -1 -1 -1]\n",
      " ...\n",
      " [ 1  1  1 ...  1  1  1]\n",
      " [-1 -1 -1 ... -1 -1 -1]\n",
      " [-1 -1  1 ... -1 -1 -1]]\n"
     ]
    }
   ],
   "source": [
    "print(L)"
   ]
  },
  {
   "cell_type": "code",
   "execution_count": 14,
   "metadata": {},
   "outputs": [],
   "source": [
    "def generate_data_choice_blocks(ndata, acc, deg, nlf):\n",
    "    assert(nlf % deg == 0)\n",
    "    nv = nlf+deg\n",
    "    cardinality = 2 * np.ones(nv, np.int64)     # all vocab terms are binary\n",
    "    Y = np.empty(ndata, np.int64)        # generate the vocab samples\n",
    "    V = np.empty((ndata, nv), np.int64)   # generate the vocab samples\n",
    "    for i in range(ndata):\n",
    "        r = random.random()\n",
    "        Y[i] = 1 if (random.random() < 0.5) else -1\n",
    "        for j in range(nv):\n",
    "            V[i, j] = Y[i] if (random.random() < acc) else -Y[i]\n",
    "            if V[i, j] == -1:\n",
    "                V[i, j] = 0\n",
    "            \n",
    "    L = np.empty((ndata, nlf), np.int64)\n",
    "    num_blocks = int(nlf/deg)\n",
    "    blocks = np.random.choice(range(num_blocks), size=2, replace=False, p=None)\n",
    "    for k in range(num_blocks):\n",
    "        if k in blocks:\n",
    "            for i in range(k*deg,(k+1)*deg):\n",
    "                L[:, i] = 2 * np.maximum(V[:, i], V[:, -k]) - 1\n",
    "        else:\n",
    "            for i in range(k*deg,(k+1)*deg):\n",
    "                L[:, i] = 2 * V[:, i] - 1\n",
    "    \n",
    "    # calculate mu's here\n",
    "    accuracies = np.array([np.mean(L[:,i] == Y) for i in range(nlf)])\n",
    "    mu_from_acc = 2*accuracies - 1\n",
    "        \n",
    "    return Y, V, L, cardinality, mu_from_acc, accuracies"
   ]
  },
  {
   "cell_type": "code",
   "execution_count": 15,
   "metadata": {},
   "outputs": [
    {
     "name": "stdout",
     "output_type": "stream",
     "text": [
      "[[ 2.091 -0.756 -0.744  0.161  0.     0.     0.     0.     0.   ]\n",
      " [-0.756  2.089 -0.588  0.    -0.153  0.     0.     0.     0.   ]\n",
      " [-0.744 -0.588  2.073 -0.154  0.    -0.15   0.     0.     0.   ]\n",
      " [ 0.161  0.    -0.154  1.99  -0.581 -0.641  0.     0.     0.   ]\n",
      " [ 0.    -0.153  0.    -0.581  2.018 -0.662  0.     0.     0.   ]\n",
      " [ 0.     0.    -0.15  -0.641 -0.662  2.036  0.     0.     0.   ]\n",
      " [ 0.     0.     0.     0.     0.     0.     1.328  0.     0.   ]\n",
      " [ 0.     0.     0.     0.     0.     0.     0.     1.325  0.   ]\n",
      " [ 0.     0.     0.     0.     0.     0.     0.     0.     1.333]]\n",
      "[0.751 0.751 0.749 0.752 0.755 0.75  0.748 0.747 0.75 ]\n"
     ]
    }
   ],
   "source": [
    "Y, V, L, cardinality, mu, accuracies = generate_data_choice_blocks(n,acc, deg, m)\n",
    "O = np.dot(L.T,L)/(n-1)\n",
    "O_inv = np.linalg.inv(O)\n",
    "sig = O - np.outer(mu,mu)\n",
    "sig_inv = np.linalg.pinv(sig)\n",
    "\n",
    "J_clean = copy.deepcopy(sig_inv)\n",
    "for i in range(sig_inv.shape[0]):\n",
    "    for j in range(sig_inv.shape[1]):\n",
    "        if abs(sig_inv[i,j]) < 0.15:\n",
    "            J_clean[i,j] = 0\n",
    "        else:\n",
    "            J_clean[i,j] = sig_inv[i,j]\n",
    "print(J_clean)\n",
    "\n",
    "print(accuracies)"
   ]
  },
  {
   "cell_type": "code",
   "execution_count": 16,
   "metadata": {},
   "outputs": [],
   "source": [
    "def generate_data_d_braid(ndata, acc, deg, nlf):\n",
    "    assert(nlf % deg == 0)\n",
    "    nv = nlf-deg+1\n",
    "    cardinality = 2 * np.ones(nv, np.int64)     # all vocab terms are binary\n",
    "    Y = np.empty(ndata, np.int64)        # generate the vocab samples\n",
    "    V = np.empty((ndata, nv), np.int64)   # generate the vocab samples\n",
    "    W = np.empty((ndata,nlf), np.int64)\n",
    "    for i in range(ndata):\n",
    "        r = random.random()\n",
    "        Y[i] = 1 if (random.random() < 0.5) else -1\n",
    "        for j in range(nv):\n",
    "            V[i, j] = Y[i] if (random.random() < acc) else -Y[i]\n",
    "            if V[i, j] == -1:\n",
    "                V[i, j] = 0\n",
    "        # for the individual variables\n",
    "        for j in range(nlf):\n",
    "            W[i,j] = Y[i] if (random.random() < acc) else -Y[i]\n",
    "            if W[i, j] == -1:\n",
    "                W[i, j] = 0\n",
    "            \n",
    "    L = np.empty((ndata, nlf), np.int64)\n",
    "    for i in range(deg-1,nlf-deg+1):\n",
    "        tmplist = []\n",
    "        tmplist.append(W[:,i])\n",
    "        for r in range(1,deg):\n",
    "            tmplist.append(V[:,i-r])\n",
    "        tmp = np.maximum.reduce(tmplist)\n",
    "        L[:,i] = 2*tmp - 1\n",
    "        \n",
    "    for i in range(deg-1):\n",
    "        tmplist = []\n",
    "        tmplist.append(W[:,i])\n",
    "        for r in range(i):\n",
    "            tmplist.append(V[:,i+r])\n",
    "        tmp = np.maximum.reduce(tmplist)\n",
    "        L[:,i] = 2*tmp - 1\n",
    "    \n",
    "    base = nlf-deg\n",
    "    for i in range(nlf-deg+1,nlf):\n",
    "        tmplist = []\n",
    "        tmplist.append(W[:,i])\n",
    "        print(\"i: \", i)\n",
    "        for r in range(nlf-i):\n",
    "            print(\"base-r: \",base-r)\n",
    "            #import pdb; pdb.set_trace()\n",
    "            tmplist.append(V[:,base-r])\n",
    "        tmp = np.maximum.reduce(tmplist)\n",
    "        L[:,i] = 2*tmp - 1\n",
    "            \n",
    "    \n",
    "    # calculate mu's here\n",
    "    accuracies = np.array([np.mean(L[:,i] == Y) for i in range(nlf)])\n",
    "    mu_from_acc = 2*accuracies - 1\n",
    "        \n",
    "    return Y, V, L, cardinality, mu_from_acc, accuracies"
   ]
  },
  {
   "cell_type": "code",
   "execution_count": 17,
   "metadata": {},
   "outputs": [
    {
     "name": "stdout",
     "output_type": "stream",
     "text": [
      "i:  7\n",
      "base-r:  6\n",
      "base-r:  5\n",
      "i:  8\n",
      "base-r:  6\n",
      "[[1.    0.253 0.194 0.203 0.208 0.214 0.205 0.214 0.255]\n",
      " [0.253 1.    0.574 0.574 0.398 0.405 0.418 0.407 0.391]\n",
      " [0.194 0.574 1.    0.6   0.475 0.471 0.482 0.466 0.399]\n",
      " [0.203 0.574 0.6   1.    0.611 0.474 0.472 0.465 0.403]\n",
      " [0.208 0.398 0.475 0.611 1.    0.591 0.49  0.469 0.41 ]\n",
      " [0.214 0.405 0.471 0.474 0.591 1.    0.612 0.476 0.399]\n",
      " [0.205 0.418 0.482 0.472 0.49  0.612 1.    0.603 0.404]\n",
      " [0.214 0.407 0.466 0.465 0.469 0.476 0.603 1.    0.565]\n",
      " [0.255 0.391 0.399 0.403 0.41  0.399 0.404 0.565 1.   ]]\n",
      "[[ 1.326  0.     0.     0.     0.     0.     0.     0.     0.   ]\n",
      " [ 0.     1.908 -0.536 -0.584  0.     0.     0.     0.     0.   ]\n",
      " [ 0.    -0.536  1.944 -0.531  0.    -0.18  -0.186 -0.161  0.   ]\n",
      " [ 0.    -0.584 -0.531  2.229 -0.774  0.     0.     0.     0.   ]\n",
      " [ 0.     0.     0.    -0.774  2.039 -0.641  0.    -0.152  0.   ]\n",
      " [ 0.     0.    -0.18   0.    -0.641  2.02  -0.712  0.     0.   ]\n",
      " [ 0.     0.    -0.186  0.     0.    -0.712  2.09  -0.72   0.   ]\n",
      " [ 0.     0.    -0.161  0.    -0.152  0.    -0.72   2.039 -0.653]\n",
      " [ 0.     0.     0.     0.     0.     0.     0.    -0.653  1.741]]\n",
      "[0.748 0.748 0.692 0.692 0.699 0.705 0.703 0.707 0.755]\n"
     ]
    }
   ],
   "source": [
    "Y, V, L, cardinality, mu, accuracies = generate_data_d_braid(n,acc, deg, m)\n",
    "O = np.dot(L.T,L)/(n-1)\n",
    "print(O)\n",
    "O_inv = np.linalg.inv(O)\n",
    "sig = O - np.outer(mu,mu)\n",
    "sig_inv = np.linalg.pinv(sig)\n",
    "\n",
    "J_clean = copy.deepcopy(sig_inv)\n",
    "for i in range(sig_inv.shape[0]):\n",
    "    for j in range(sig_inv.shape[1]):\n",
    "        if abs(sig_inv[i,j]) < 0.15:\n",
    "            J_clean[i,j] = 0\n",
    "        else:\n",
    "            J_clean[i,j] = sig_inv[i,j]\n",
    "print(J_clean)\n",
    "\n",
    "print(accuracies)"
   ]
  },
  {
   "cell_type": "code",
   "execution_count": null,
   "metadata": {},
   "outputs": [],
   "source": []
  }
 ],
 "metadata": {
  "kernelspec": {
   "display_name": "Python [conda env:metal]",
   "language": "python",
   "name": "conda-env-metal-py"
  },
  "language_info": {
   "codemirror_mode": {
    "name": "ipython",
    "version": 3
   },
   "file_extension": ".py",
   "mimetype": "text/x-python",
   "name": "python",
   "nbconvert_exporter": "python",
   "pygments_lexer": "ipython3",
   "version": "3.6.6"
  }
 },
 "nbformat": 4,
 "nbformat_minor": 2
}
