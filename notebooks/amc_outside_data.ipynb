{
 "cells": [
  {
   "cell_type": "code",
   "execution_count": 1,
   "metadata": {},
   "outputs": [
    {
     "name": "stderr",
     "output_type": "stream",
     "text": [
      "/lfs/1/annhe/anaconda3/envs/metal/lib/python3.6/importlib/_bootstrap.py:219: RuntimeWarning: numpy.dtype size changed, may indicate binary incompatibility. Expected 96, got 88\n",
      "  return f(*args, **kwds)\n"
     ]
    }
   ],
   "source": [
    "from data_gen_utils import *\n",
    "import sys\n",
    "sys.path.append(\"../\") # go to parent dir\n",
    "\n",
    "import numpy as np\n",
    "import torch\n",
    "import matplotlib.pyplot as plt\n",
    "import mpmath\n",
    "\n",
    "from synthetic.generate import SingleTaskTreeDepsGenerator\n",
    "from metal.label_model import LabelModel, CliqueTree\n",
    "from metal.label_model.utils import (\n",
    "    compute_mu,\n",
    "    compute_covariance,\n",
    "    compute_inv_covariance,\n",
    "    print_matrix,\n",
    "    visualize_matrix\n",
    ")"
   ]
  },
  {
   "cell_type": "code",
   "execution_count": 2,
   "metadata": {},
   "outputs": [],
   "source": [
    "M = 6\n",
    "n = 10000\n",
    "dg = DataGenerator(M,n)"
   ]
  },
  {
   "cell_type": "code",
   "execution_count": 3,
   "metadata": {},
   "outputs": [],
   "source": [
    "dg.generate_O(k=3)"
   ]
  },
  {
   "cell_type": "code",
   "execution_count": 4,
   "metadata": {},
   "outputs": [
    {
     "name": "stdout",
     "output_type": "stream",
     "text": [
      "[(0, 0), (1, 1), (2, 2), (3, 3), (4, 4), (5, 5), (0, 1), (1, 0), (2, 3), (3, 2), (4, 5), (5, 4)]\n"
     ]
    }
   ],
   "source": [
    "print(dg.deps)"
   ]
  },
  {
   "cell_type": "code",
   "execution_count": 5,
   "metadata": {},
   "outputs": [
    {
     "name": "stdout",
     "output_type": "stream",
     "text": [
      "[(0, 1), (1, 0), (2, 3), (3, 2), (4, 5), (5, 4)]\n"
     ]
    }
   ],
   "source": [
    "# remove deps\n",
    "print(dg.deps_no_diag)"
   ]
  },
  {
   "cell_type": "code",
   "execution_count": 6,
   "metadata": {},
   "outputs": [
    {
     "name": "stdout",
     "output_type": "stream",
     "text": [
      "[[ 1. -1.  1. ... -1.  1. -1.]\n",
      " [ 1. -1.  1. ... -1.  1. -1.]\n",
      " [ 1.  1.  1. ... -1.  1. -1.]\n",
      " [ 1. -1.  1. ... -1.  1. -1.]\n",
      " [ 1. -1.  1. ...  1.  1. -1.]\n",
      " [ 1. -1.  1. ... -1.  1. -1.]]\n"
     ]
    }
   ],
   "source": [
    "print(dg.L)"
   ]
  },
  {
   "cell_type": "code",
   "execution_count": 7,
   "metadata": {},
   "outputs": [],
   "source": [
    "lm = LabelModel(k=1)\n",
    "lm.config['higher_order_cliques'] = False\n",
    "lm.config['verbose'] = True"
   ]
  },
  {
   "cell_type": "code",
   "execution_count": null,
   "metadata": {},
   "outputs": [
    {
     "name": "stdout",
     "output_type": "stream",
     "text": [
      "I GOT HERE\n",
      "I GOT HERE 2\n",
      "I GOT HERE 3\n",
      "INIT 1\n",
      "GET CLIQUE TREE 1\n",
      "GET CLIQUE TREE 2\n",
      "GET CLIQUE TREE 3\n",
      "GET CLIQUE TREE 4\n",
      "GET CLIQUE TREE 5\n",
      "INIT 2\n",
      "CLIQUE TREE 1\n",
      "I GOT HERE 4\n",
      "Warning: O is ill-conditioned: kappa(O) = inf.\n",
      "Computing O^{-1}...\n"
     ]
    }
   ],
   "source": [
    "lm.train(L=dg.L,\n",
    "         deps=dg.deps_no_diag,\n",
    "         all_unary_cliques=True,\n",
    "        higher_order_cliques=False,\n",
    "        n_epochs=50000,\n",
    "        print_every=5000,\n",
    "        lr=0.0001,\n",
    "        l2=0,\n",
    "        O_inv_prec=1024,)"
   ]
  }
 ],
 "metadata": {
  "kernelspec": {
   "display_name": "Python [conda env:metal]",
   "language": "python",
   "name": "conda-env-metal-py"
  },
  "language_info": {
   "codemirror_mode": {
    "name": "ipython",
    "version": 3
   },
   "file_extension": ".py",
   "mimetype": "text/x-python",
   "name": "python",
   "nbconvert_exporter": "python",
   "pygments_lexer": "ipython3",
   "version": "3.6.6"
  }
 },
 "nbformat": 4,
 "nbformat_minor": 2
}
