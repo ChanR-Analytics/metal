{
 "cells": [
  {
   "cell_type": "code",
   "execution_count": 1,
   "metadata": {},
   "outputs": [],
   "source": [
    "%load_ext autoreload\n",
    "%autoreload 2\n",
    "\n",
    "import numpy as np"
   ]
  },
  {
   "cell_type": "markdown",
   "metadata": {},
   "source": [
    "### Generate synthetic data"
   ]
  },
  {
   "cell_type": "code",
   "execution_count": 2,
   "metadata": {
    "scrolled": false
   },
   "outputs": [],
   "source": [
    "# from synthetics import generate_single_task_unipolar, gaussian_bags_of_words, vocab1k\n",
    "\n",
    "# N = 10000\n",
    "# M = 30\n",
    "# K = 2 # binary problem (class labels: {1,2})\n",
    "# NUM_SPLITS = 3\n",
    "\n",
    "# Ds = [] # data\n",
    "# Xs = [] # features\n",
    "# Ls = [] # noisy labels\n",
    "# Ys = [] # true labels\n",
    "# for _ in range(NUM_SPLITS):\n",
    "#     L, Y, _ = generate_single_task_unipolar(\n",
    "#         N, M, k=K, alpha_range=[0.6, 0.9], beta_range=[0.1, 0.2], \n",
    "#         class_balance=[0.3, 0.7], seed=1)\n",
    "    \n",
    "#     X, D = gaussian_bags_of_words(Y, vocab1k)\n",
    "    \n",
    "#     Ls.append(L)\n",
    "#     Ys.append(Y)\n",
    "#     Ds.append(D)\n",
    "#     Xs.append(X)"
   ]
  },
  {
   "cell_type": "markdown",
   "metadata": {},
   "source": [
    "### Load YouTube source data"
   ]
  },
  {
   "cell_type": "code",
   "execution_count": 3,
   "metadata": {},
   "outputs": [
    {
     "name": "stdout",
     "output_type": "stream",
     "text": [
      "Number of items: 10000\n"
     ]
    },
    {
     "data": {
      "text/html": [
       "<div>\n",
       "<style scoped>\n",
       "    .dataframe tbody tr th:only-of-type {\n",
       "        vertical-align: middle;\n",
       "    }\n",
       "\n",
       "    .dataframe tbody tr th {\n",
       "        vertical-align: top;\n",
       "    }\n",
       "\n",
       "    .dataframe thead th {\n",
       "        text-align: right;\n",
       "    }\n",
       "</style>\n",
       "<table border=\"1\" class=\"dataframe\">\n",
       "  <thead>\n",
       "    <tr style=\"text-align: right;\">\n",
       "      <th></th>\n",
       "      <th>event_id</th>\n",
       "      <th>spam_label_ids</th>\n",
       "      <th>organic_label_ids</th>\n",
       "    </tr>\n",
       "  </thead>\n",
       "  <tbody>\n",
       "    <tr>\n",
       "      <th>0</th>\n",
       "      <td>1528291117986164:181614023:990035844</td>\n",
       "      <td>NaN</td>\n",
       "      <td>0:6</td>\n",
       "    </tr>\n",
       "    <tr>\n",
       "      <th>1</th>\n",
       "      <td>1528007155560966:174093957:50873945</td>\n",
       "      <td>NaN</td>\n",
       "      <td>0</td>\n",
       "    </tr>\n",
       "    <tr>\n",
       "      <th>2</th>\n",
       "      <td>1528404965379990:176056194:3271892831</td>\n",
       "      <td>NaN</td>\n",
       "      <td>1</td>\n",
       "    </tr>\n",
       "    <tr>\n",
       "      <th>3</th>\n",
       "      <td>1527832766087949:169557517:2953696994</td>\n",
       "      <td>NaN</td>\n",
       "      <td>0</td>\n",
       "    </tr>\n",
       "    <tr>\n",
       "      <th>4</th>\n",
       "      <td>1528537737733629:181617606:1778831748</td>\n",
       "      <td>NaN</td>\n",
       "      <td>0</td>\n",
       "    </tr>\n",
       "    <tr>\n",
       "      <th>5</th>\n",
       "      <td>1527925188842250:181766341:2114970141</td>\n",
       "      <td>NaN</td>\n",
       "      <td>4:1</td>\n",
       "    </tr>\n",
       "    <tr>\n",
       "      <th>6</th>\n",
       "      <td>1528271240549429:169578966:117452686</td>\n",
       "      <td>17:14:15</td>\n",
       "      <td>NaN</td>\n",
       "    </tr>\n",
       "    <tr>\n",
       "      <th>7</th>\n",
       "      <td>1528366564782164:181617602:2030893217</td>\n",
       "      <td>16</td>\n",
       "      <td>0</td>\n",
       "    </tr>\n",
       "    <tr>\n",
       "      <th>8</th>\n",
       "      <td>1528293477902094:180402841:3926635366</td>\n",
       "      <td>17</td>\n",
       "      <td>NaN</td>\n",
       "    </tr>\n",
       "    <tr>\n",
       "      <th>9</th>\n",
       "      <td>1528566487786650:180404421:2986661743</td>\n",
       "      <td>3</td>\n",
       "      <td>NaN</td>\n",
       "    </tr>\n",
       "    <tr>\n",
       "      <th>10</th>\n",
       "      <td>1528548729208838:180190338:3858869744</td>\n",
       "      <td>3</td>\n",
       "      <td>NaN</td>\n",
       "    </tr>\n",
       "    <tr>\n",
       "      <th>11</th>\n",
       "      <td>1528094946406929:170526942:2400102762</td>\n",
       "      <td>36:23</td>\n",
       "      <td>1:6</td>\n",
       "    </tr>\n",
       "    <tr>\n",
       "      <th>12</th>\n",
       "      <td>1527593653019208:173144399:2752231962</td>\n",
       "      <td>NaN</td>\n",
       "      <td>4:0:6</td>\n",
       "    </tr>\n",
       "    <tr>\n",
       "      <th>13</th>\n",
       "      <td>1528502621776971:177308558:822762062</td>\n",
       "      <td>NaN</td>\n",
       "      <td>4</td>\n",
       "    </tr>\n",
       "    <tr>\n",
       "      <th>14</th>\n",
       "      <td>1528120780144105:169603342:839313399</td>\n",
       "      <td>NaN</td>\n",
       "      <td>4</td>\n",
       "    </tr>\n",
       "    <tr>\n",
       "      <th>15</th>\n",
       "      <td>1528686216333222:179486859:1326136247</td>\n",
       "      <td>NaN</td>\n",
       "      <td>4:0</td>\n",
       "    </tr>\n",
       "    <tr>\n",
       "      <th>16</th>\n",
       "      <td>1528493809140599:180196353:3523384135</td>\n",
       "      <td>NaN</td>\n",
       "      <td>2</td>\n",
       "    </tr>\n",
       "    <tr>\n",
       "      <th>17</th>\n",
       "      <td>1527833587419862:170599361:2735720566</td>\n",
       "      <td>22:14</td>\n",
       "      <td>NaN</td>\n",
       "    </tr>\n",
       "    <tr>\n",
       "      <th>18</th>\n",
       "      <td>1528633464102997:177179273:1392774880</td>\n",
       "      <td>3</td>\n",
       "      <td>0:1</td>\n",
       "    </tr>\n",
       "    <tr>\n",
       "      <th>19</th>\n",
       "      <td>1528029966028561:177179713:2467134698</td>\n",
       "      <td>NaN</td>\n",
       "      <td>4:0:6</td>\n",
       "    </tr>\n",
       "  </tbody>\n",
       "</table>\n",
       "</div>"
      ],
      "text/plain": [
       "                                 event_id spam_label_ids organic_label_ids\n",
       "0    1528291117986164:181614023:990035844            NaN               0:6\n",
       "1     1528007155560966:174093957:50873945            NaN                 0\n",
       "2   1528404965379990:176056194:3271892831            NaN                 1\n",
       "3   1527832766087949:169557517:2953696994            NaN                 0\n",
       "4   1528537737733629:181617606:1778831748            NaN                 0\n",
       "5   1527925188842250:181766341:2114970141            NaN               4:1\n",
       "6    1528271240549429:169578966:117452686       17:14:15               NaN\n",
       "7   1528366564782164:181617602:2030893217             16                 0\n",
       "8   1528293477902094:180402841:3926635366             17               NaN\n",
       "9   1528566487786650:180404421:2986661743              3               NaN\n",
       "10  1528548729208838:180190338:3858869744              3               NaN\n",
       "11  1528094946406929:170526942:2400102762          36:23               1:6\n",
       "12  1527593653019208:173144399:2752231962            NaN             4:0:6\n",
       "13   1528502621776971:177308558:822762062            NaN                 4\n",
       "14   1528120780144105:169603342:839313399            NaN                 4\n",
       "15  1528686216333222:179486859:1326136247            NaN               4:0\n",
       "16  1528493809140599:180196353:3523384135            NaN                 2\n",
       "17  1527833587419862:170599361:2735720566          22:14               NaN\n",
       "18  1528633464102997:177179273:1392774880              3               0:1\n",
       "19  1528029966028561:177179713:2467134698            NaN             4:0:6"
      ]
     },
     "execution_count": 3,
     "metadata": {},
     "output_type": "execute_result"
    }
   ],
   "source": [
    "import os\n",
    "import pandas as pd\n",
    "\n",
    "# DATA_FILEPATH = os.environ['METALHOME'] + '/data/source_clicks.csv'\n",
    "DATA_FILEPATH = os.environ['METALHOME'] + '/data/snorkel_527610_100Kposneg.csv'\n",
    "\n",
    "L_data = pd.read_csv(DATA_FILEPATH).sample(10000).reset_index(drop=True)\n",
    "\n",
    "N = L_data.shape[0]\n",
    "print(f\"Number of items: {N}\")\n",
    "L_data[:20]"
   ]
  },
  {
   "cell_type": "code",
   "execution_count": 6,
   "metadata": {},
   "outputs": [],
   "source": [
    "from itertools import chain\n",
    "from scipy.sparse import lil_matrix\n",
    "import numpy as np\n",
    "\n",
    "# YouTube\n",
    "# DELIMITER = ','\n",
    "# SPAM = 'spam_labels'\n",
    "# HAM = 'ham_labels'\n",
    "\n",
    "# GDN\n",
    "DELIMITER = ':'\n",
    "HAM = 'organic_label_ids'\n",
    "SPAM = 'spam_label_ids'\n",
    "\n",
    "# Get the pos/neg LF idxs, total number M\n",
    "def split_LF_idxs(x):\n",
    "    return map(int, x.split(DELIMITER)) if isinstance(x, str) else []\n",
    "\n",
    "def get_LF_idxs(col):\n",
    "    return set(chain.from_iterable([split_LF_idxs(x) for x in col]))\n",
    "\n",
    "LF_pos_idxs = get_LF_idxs(L_data.iloc[:,1])\n",
    "LF_neg_idxs = get_LF_idxs(L_data.iloc[:,2])\n",
    "M = max(LF_pos_idxs | LF_neg_idxs) + 1\n",
    "\n",
    "# Construct COO sparse matrix\n",
    "L = lil_matrix((N, M))\n",
    "for i, row in L_data.iterrows():\n",
    "    for j in split_LF_idxs(row[SPAM]):\n",
    "        L[i, j] = 1\n",
    "    for j in split_LF_idxs(row[HAM]):\n",
    "        L[i, j] = 2\n",
    "\n",
    "# Convert to CSR matrix\n",
    "L = L.tocsr().astype(np.int)\n",
    "Ls = [L]"
   ]
  },
  {
   "cell_type": "code",
   "execution_count": 7,
   "metadata": {},
   "outputs": [
    {
     "data": {
      "text/plain": [
       "<10000x98 sparse matrix of type '<class 'numpy.int64'>'\n",
       "\twith 23603 stored elements in Compressed Sparse Row format>"
      ]
     },
     "execution_count": 7,
     "metadata": {},
     "output_type": "execute_result"
    }
   ],
   "source": [
    "Ls[0]"
   ]
  },
  {
   "cell_type": "markdown",
   "metadata": {},
   "source": [
    "### Apply LabelModel"
   ]
  },
  {
   "cell_type": "code",
   "execution_count": 33,
   "metadata": {
    "scrolled": false
   },
   "outputs": [
    {
     "name": "stdout",
     "output_type": "stream",
     "text": [
      "Reaffirming seed=2\n",
      "Reaffirming n_epochs=1000\n",
      "Reaffirming lr=0.001\n",
      "Reaffirming print_at=100\n",
      "Reaffirming show_plots=True\n",
      "Reaffirming class_balance_init=[0.5, 0.5]\n",
      "Overwriting l2=0.1 to l2=0.01\n",
      "[Epoch 0] Loss: 542.847605\n",
      "[Epoch 100] Loss: 0.326833\n",
      "[Epoch 200] Loss: 0.137557\n",
      "[Epoch 300] Loss: 0.120716\n",
      "[Epoch 400] Loss: 0.116901\n",
      "[Epoch 500] Loss: 0.115165\n",
      "[Epoch 600] Loss: 0.114172\n",
      "[Epoch 700] Loss: 0.113539\n",
      "[Epoch 800] Loss: 0.113108\n",
      "[Epoch 900] Loss: 0.112799\n",
      "[Epoch 999] Loss: 0.112571\n",
      "Finished Training\n"
     ]
    },
    {
     "data": {
      "image/png": "[encoded data removed]",
      "text/plain": [
       "<Figure size 432x288 with 1 Axes>"
      ]
     },
     "metadata": {},
     "output_type": "display_data"
    }
   ],
   "source": [
    "from metal.label_model import LabelModel\n",
    "\n",
    "lm = LabelModel(seed=2)\n",
    "\n",
    "y_pos = 0.5\n",
    "lm.train(Ls[0], n_epochs=1000, lr=0.001, print_at=100, show_plots=True,\n",
    "         class_balance_init=[y_pos, 1-y_pos], l2=0.01)\n",
    "\n",
    "# Y_p = lm.score(Ls[1], Ys[1], metric='f1')"
   ]
  },
  {
   "cell_type": "code",
   "execution_count": 34,
   "metadata": {},
   "outputs": [],
   "source": [
    "Y_p = lm.predict(Ls[0])"
   ]
  },
  {
   "cell_type": "code",
   "execution_count": 35,
   "metadata": {},
   "outputs": [
    {
     "data": {
      "text/plain": [
       "[(0.95, 0.0072504940407994364, 1),\n",
       " (0.05, 0.007668903635806409, 0),\n",
       " (0.95, 0.008280781475647255, 1),\n",
       " (0.95, 0.008554496447132479, 1),\n",
       " (0.444084276145353, 0.01003202132578539, 1),\n",
       " (0.95, 0.01034292279712843, 1),\n",
       " (0.05, 0.011316782972793187, 1),\n",
       " (0.95, 0.01152529076056059, 1),\n",
       " (0.95, 0.011628561284663101, 1),\n",
       " (0.95, 0.011891225894239453, 1),\n",
       " (0.05, 0.011949494484841073, 1),\n",
       " (0.95, 0.012025023076111911, 0),\n",
       " (0.49628687738523797, 0.013744344723617203, 1),\n",
       " (0.05, 0.013769216880577811, 1),\n",
       " (0.05, 0.01455723918423503, 1),\n",
       " (0.05, 0.015143788234683424, 1),\n",
       " (0.95, 0.015609886540276454, 1),\n",
       " (0.29495256465655995, 0.01754769073308331, 1),\n",
       " (0.05, 0.01757609685486055, 1),\n",
       " (0.467780150629135, 0.01836746193231554, 1),\n",
       " (0.24145083095664485, 0.019066819127279123, 1),\n",
       " (0.95, 0.023849862304990543, 1),\n",
       " (0.9091365549615352, 0.024237868268711667, 1),\n",
       " (0.05, 0.02576236606218939, 1),\n",
       " (0.05, 0.026117217201592685, 1),\n",
       " (0.95, 0.029644287495365407, 1),\n",
       " (0.23994226760439366, 0.030051317526422035, 1),\n",
       " (0.29996311778025386, 0.034262472298242794, 1),\n",
       " (0.95, 0.04780931229643974, 1),\n",
       " (0.22760434398385196, 0.050669424049232824, 1),\n",
       " (0.43889516738698736, 0.05927712647534773, 1),\n",
       " (0.7065267215728367, 0.08079913866068582, 1),\n",
       " (0.4311027220020705, 0.147489901898671, 2),\n",
       " (0.4909906095958553, 0.16296477491747374, 1),\n",
       " (0.32100787141377524, 0.2083468936957417, 2),\n",
       " (0.4005534550982846, 0.42119708398833455, 2),\n",
       " (0.4398192588512598, 0.9544120443179511, 2)]"
      ]
     },
     "execution_count": 35,
     "metadata": {},
     "output_type": "execute_result"
    }
   ],
   "source": [
    "sorted(list(zip(\n",
    "    lm._alphas().numpy(),\n",
    "    lm._betas().numpy(),\n",
    "    lm.polarity\n",
    ")), key=lambda x : x[1])"
   ]
  },
  {
   "cell_type": "code",
   "execution_count": null,
   "metadata": {},
   "outputs": [],
   "source": [
    "import matplotlib.pyplot as plt\n",
    "%matplotlib inline\n",
    "\n",
    "plt.hist(lm._alphas().numpy())\n",
    "plt.show()"
   ]
  },
  {
   "cell_type": "code",
   "execution_count": null,
   "metadata": {},
   "outputs": [],
   "source": [
    "plt.hist(lm._betas().numpy())"
   ]
  },
  {
   "cell_type": "markdown",
   "metadata": {},
   "source": [
    "### Random Search"
   ]
  },
  {
   "cell_type": "code",
   "execution_count": null,
   "metadata": {},
   "outputs": [],
   "source": [
    "search_space = {\n",
    "    'print_at': 200,\n",
    "    'n_epochs': 1000, # a single constant value\n",
    "    'l2': [0, 0.1, 0.01], # a list of discrete values\n",
    "    'lr': {'range': [0.01, 0.0001], 'scale': 'log'}, # a range and scale to interpolate by\n",
    "}"
   ]
  },
  {
   "cell_type": "code",
   "execution_count": null,
   "metadata": {
    "scrolled": false
   },
   "outputs": [],
   "source": [
    "from metal.tuner import ModelTuner\n",
    "\n",
    "tuner = ModelTuner(LabelModel)\n",
    "init_args = []\n",
    "train_args = [Ls[0]]\n",
    "model, best_config = tuner.search(init_args, train_args, Ls[1], Ys[1], \n",
    "                                  search_space, max_search=5, metric='accuracy')"
   ]
  },
  {
   "cell_type": "markdown",
   "metadata": {},
   "source": [
    "### Metrics"
   ]
  },
  {
   "cell_type": "markdown",
   "metadata": {},
   "source": [
    "Calculate metrics in one of two ways.\n",
    "\n",
    "1. Use metric_score() and pass the metric name\n",
    "3. The the specific metric's function (e.g., accuracy_score())"
   ]
  },
  {
   "cell_type": "code",
   "execution_count": null,
   "metadata": {},
   "outputs": [],
   "source": [
    "from metal.metrics import metric_score, accuracy_score\n",
    "\n",
    "metric_score(Ys[1], Y_p, 'accuracy')\n",
    "accuracy_score(Ys[1], Y_p)"
   ]
  },
  {
   "cell_type": "markdown",
   "metadata": {},
   "source": [
    "Built-in metrics include:"
   ]
  },
  {
   "cell_type": "code",
   "execution_count": null,
   "metadata": {},
   "outputs": [],
   "source": [
    "metric_score(Ys[1], Y_p, 'accuracy')\n",
    "metric_score(Ys[1], Y_p, 'coverage')\n",
    "metric_score(Ys[1], Y_p, 'precision')\n",
    "metric_score(Ys[1], Y_p, 'recall')\n",
    "metric_score(Ys[1], Y_p, 'f1')\n",
    "metric_score(Ys[1], Y_p, 'fbeta', beta=1.0)"
   ]
  },
  {
   "cell_type": "markdown",
   "metadata": {},
   "source": [
    "### Confusion matrix"
   ]
  },
  {
   "cell_type": "code",
   "execution_count": null,
   "metadata": {
    "scrolled": false
   },
   "outputs": [],
   "source": [
    "from metal.analysis import confusion_matrix\n",
    "confusion_matrix(Y_p, Ys[1])"
   ]
  },
  {
   "cell_type": "code",
   "execution_count": null,
   "metadata": {},
   "outputs": [],
   "source": [
    "confusion_matrix(Y_p, Ys[1], normalize=True)"
   ]
  },
  {
   "cell_type": "code",
   "execution_count": null,
   "metadata": {},
   "outputs": [],
   "source": [
    "mat = confusion_matrix(Y_p, Ys[1], pretty_print=True)"
   ]
  },
  {
   "cell_type": "markdown",
   "metadata": {},
   "source": [
    "### Error analysis"
   ]
  },
  {
   "cell_type": "code",
   "execution_count": null,
   "metadata": {},
   "outputs": [],
   "source": [
    "from metal.analysis import error_buckets\n",
    "\n",
    "buckets = error_buckets(Y_p, Ys[1], Ds[1])\n",
    "tp = buckets[1,1]\n",
    "fp = buckets[1,2]"
   ]
  },
  {
   "cell_type": "code",
   "execution_count": null,
   "metadata": {},
   "outputs": [],
   "source": [
    "fp[:1]"
   ]
  },
  {
   "cell_type": "code",
   "execution_count": null,
   "metadata": {},
   "outputs": [],
   "source": [
    "tp[:3]"
   ]
  },
  {
   "cell_type": "markdown",
   "metadata": {},
   "source": [
    "### Label matrix analysis"
   ]
  },
  {
   "cell_type": "code",
   "execution_count": 26,
   "metadata": {},
   "outputs": [],
   "source": [
    "from metal.analysis import (\n",
    "    item_coverage,\n",
    "    item_overlap,\n",
    "    item_conflict,\n",
    "    LF_accuracies,\n",
    "    LF_coverages,\n",
    "    LF_overlaps,\n",
    "    LF_conflicts,\n",
    ")"
   ]
  },
  {
   "cell_type": "code",
   "execution_count": null,
   "metadata": {},
   "outputs": [],
   "source": [
    "item_coverage(Ls[0])"
   ]
  },
  {
   "cell_type": "code",
   "execution_count": null,
   "metadata": {},
   "outputs": [],
   "source": [
    "item_overlap(Ls[0])"
   ]
  },
  {
   "cell_type": "code",
   "execution_count": null,
   "metadata": {},
   "outputs": [],
   "source": [
    "item_conflict(Ls[0])"
   ]
  },
  {
   "cell_type": "code",
   "execution_count": null,
   "metadata": {
    "scrolled": true
   },
   "outputs": [],
   "source": [
    "# LF_accuracies(Ls[0], Ys[0])"
   ]
  },
  {
   "cell_type": "code",
   "execution_count": null,
   "metadata": {},
   "outputs": [],
   "source": [
    "# LF_coverages(Ls[0])"
   ]
  },
  {
   "cell_type": "code",
   "execution_count": null,
   "metadata": {
    "scrolled": true
   },
   "outputs": [],
   "source": [
    "LF_overlaps(Ls[0])"
   ]
  },
  {
   "cell_type": "code",
   "execution_count": null,
   "metadata": {
    "scrolled": true
   },
   "outputs": [],
   "source": [
    "# LF_conflicts(Ls[0])"
   ]
  },
  {
   "cell_type": "code",
   "execution_count": 27,
   "metadata": {},
   "outputs": [
    {
     "data": {
      "image/png": "[encoded data removed]",
      "text/plain": [
       "<Figure size 432x288 with 2 Axes>"
      ]
     },
     "metadata": {},
     "output_type": "display_data"
    }
   ],
   "source": [
    "from metal.analysis import (\n",
    "    view_label_matrix,\n",
    "    view_overlaps,\n",
    "    view_conflicts,\n",
    ")\n",
    "\n",
    "view_label_matrix(Ls[0])"
   ]
  },
  {
   "cell_type": "code",
   "execution_count": 28,
   "metadata": {},
   "outputs": [
    {
     "data": {
      "image/png": "[encoded data removed]",
      "text/plain": [
       "<Figure size 432x288 with 2 Axes>"
      ]
     },
     "metadata": {},
     "output_type": "display_data"
    }
   ],
   "source": [
    "view_overlaps(Ls[0], normalize=True)"
   ]
  },
  {
   "cell_type": "code",
   "execution_count": 29,
   "metadata": {},
   "outputs": [
    {
     "data": {
      "image/png": "[encoded data removed]",
      "text/plain": [
       "<Figure size 432x288 with 2 Axes>"
      ]
     },
     "metadata": {},
     "output_type": "display_data"
    }
   ],
   "source": [
    "view_conflicts(Ls[0], normalize=False)"
   ]
  },
  {
   "cell_type": "code",
   "execution_count": null,
   "metadata": {},
   "outputs": [],
   "source": []
  }
 ],
 "metadata": {
  "kernelspec": {
   "display_name": "Python [conda env:metal]",
   "language": "python",
   "name": "conda-env-metal-py"
  },
  "language_info": {
   "codemirror_mode": {
    "name": "ipython",
    "version": 3
   },
   "file_extension": ".py",
   "mimetype": "text/x-python",
   "name": "python",
   "nbconvert_exporter": "python",
   "pygments_lexer": "ipython3",
   "version": "3.6.5"
  }
 },
 "nbformat": 4,
 "nbformat_minor": 2
}
