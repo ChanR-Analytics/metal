{
 "cells": [
  {
   "cell_type": "code",
   "execution_count": 1,
   "metadata": {},
   "outputs": [],
   "source": [
    "%load_ext autoreload\n",
    "%autoreload 2\n",
    "\n",
    "import numpy as np"
   ]
  },
  {
   "cell_type": "markdown",
   "metadata": {},
   "source": [
    "### Generate synthetic data"
   ]
  },
  {
   "cell_type": "code",
   "execution_count": 2,
   "metadata": {
    "scrolled": false
   },
   "outputs": [],
   "source": [
    "# from synthetics import generate_single_task_unipolar, gaussian_bags_of_words, vocab1k\n",
    "\n",
    "# N = 10000\n",
    "# M = 30\n",
    "# K = 2 # binary problem (class labels: {1,2})\n",
    "# NUM_SPLITS = 3\n",
    "\n",
    "# Ds = [] # data\n",
    "# Xs = [] # features\n",
    "# Ls = [] # noisy labels\n",
    "# Ys = [] # true labels\n",
    "# for _ in range(NUM_SPLITS):\n",
    "#     L, Y, _ = generate_single_task_unipolar(\n",
    "#         N, M, k=K, alpha_range=[0.6, 0.9], beta_range=[0.1, 0.2], \n",
    "#         class_balance=[0.3, 0.7], seed=1)\n",
    "    \n",
    "#     X, D = gaussian_bags_of_words(Y, vocab1k)\n",
    "    \n",
    "#     Ls.append(L)\n",
    "#     Ys.append(Y)\n",
    "#     Ds.append(D)\n",
    "#     Xs.append(X)"
   ]
  },
  {
   "cell_type": "markdown",
   "metadata": {},
   "source": [
    "### Load YouTube source data"
   ]
  },
  {
   "cell_type": "code",
   "execution_count": 85,
   "metadata": {},
   "outputs": [
    {
     "name": "stdout",
     "output_type": "stream",
     "text": [
      "Number of items: 200000\n"
     ]
    },
    {
     "data": {
      "text/html": [
       "<div>\n",
       "<style scoped>\n",
       "    .dataframe tbody tr th:only-of-type {\n",
       "        vertical-align: middle;\n",
       "    }\n",
       "\n",
       "    .dataframe tbody tr th {\n",
       "        vertical-align: top;\n",
       "    }\n",
       "\n",
       "    .dataframe thead th {\n",
       "        text-align: right;\n",
       "    }\n",
       "</style>\n",
       "<table border=\"1\" class=\"dataframe\">\n",
       "  <thead>\n",
       "    <tr style=\"text-align: right;\">\n",
       "      <th></th>\n",
       "      <th>event_id</th>\n",
       "      <th>spam_label_ids</th>\n",
       "      <th>organic_label_ids</th>\n",
       "    </tr>\n",
       "  </thead>\n",
       "  <tbody>\n",
       "    <tr>\n",
       "      <th>0</th>\n",
       "      <td>1528134918075469:176053447:1729024668</td>\n",
       "      <td>NaN</td>\n",
       "      <td>1</td>\n",
       "    </tr>\n",
       "    <tr>\n",
       "      <th>1</th>\n",
       "      <td>1527753908712163:180190913:4161244819</td>\n",
       "      <td>NaN</td>\n",
       "      <td>0:6</td>\n",
       "    </tr>\n",
       "    <tr>\n",
       "      <th>2</th>\n",
       "      <td>1528661124630905:173143956:587620968</td>\n",
       "      <td>NaN</td>\n",
       "      <td>0:1</td>\n",
       "    </tr>\n",
       "    <tr>\n",
       "      <th>3</th>\n",
       "      <td>1528392695247858:175145107:4010031814</td>\n",
       "      <td>3</td>\n",
       "      <td>0</td>\n",
       "    </tr>\n",
       "    <tr>\n",
       "      <th>4</th>\n",
       "      <td>1527624368463530:177277711:2902498421</td>\n",
       "      <td>NaN</td>\n",
       "      <td>5</td>\n",
       "    </tr>\n",
       "    <tr>\n",
       "      <th>5</th>\n",
       "      <td>1528557347145388:169580813:1912926733</td>\n",
       "      <td>22</td>\n",
       "      <td>0</td>\n",
       "    </tr>\n",
       "    <tr>\n",
       "      <th>6</th>\n",
       "      <td>1528457711645241:181617475:3959473435</td>\n",
       "      <td>NaN</td>\n",
       "      <td>5:1</td>\n",
       "    </tr>\n",
       "    <tr>\n",
       "      <th>7</th>\n",
       "      <td>1528177151577718:174380307:1879191700</td>\n",
       "      <td>25:16:15</td>\n",
       "      <td>NaN</td>\n",
       "    </tr>\n",
       "    <tr>\n",
       "      <th>8</th>\n",
       "      <td>1528158189338257:176235670:470055836</td>\n",
       "      <td>15</td>\n",
       "      <td>0:2</td>\n",
       "    </tr>\n",
       "    <tr>\n",
       "      <th>9</th>\n",
       "      <td>1527628113059510:176235280:3640807248</td>\n",
       "      <td>NaN</td>\n",
       "      <td>0:6</td>\n",
       "    </tr>\n",
       "    <tr>\n",
       "      <th>10</th>\n",
       "      <td>1528677679759674:180168408:1309286389</td>\n",
       "      <td>17</td>\n",
       "      <td>0</td>\n",
       "    </tr>\n",
       "    <tr>\n",
       "      <th>11</th>\n",
       "      <td>1528315852398868:179543176:1494140731</td>\n",
       "      <td>22</td>\n",
       "      <td>NaN</td>\n",
       "    </tr>\n",
       "    <tr>\n",
       "      <th>12</th>\n",
       "      <td>1527808376752389:180196500:3457028063</td>\n",
       "      <td>NaN</td>\n",
       "      <td>0</td>\n",
       "    </tr>\n",
       "    <tr>\n",
       "      <th>13</th>\n",
       "      <td>1528420896138909:176052100:1510796978</td>\n",
       "      <td>NaN</td>\n",
       "      <td>0</td>\n",
       "    </tr>\n",
       "    <tr>\n",
       "      <th>14</th>\n",
       "      <td>1528370762017518:176570566:2667813850</td>\n",
       "      <td>21</td>\n",
       "      <td>NaN</td>\n",
       "    </tr>\n",
       "    <tr>\n",
       "      <th>15</th>\n",
       "      <td>1528546264068609:180401502:2299365224</td>\n",
       "      <td>17:22</td>\n",
       "      <td>NaN</td>\n",
       "    </tr>\n",
       "    <tr>\n",
       "      <th>16</th>\n",
       "      <td>1528512485820973:174384004:4212123425</td>\n",
       "      <td>71:12:13:16:22:14:15</td>\n",
       "      <td>NaN</td>\n",
       "    </tr>\n",
       "    <tr>\n",
       "      <th>17</th>\n",
       "      <td>1528332497978850:180167946:587411316</td>\n",
       "      <td>NaN</td>\n",
       "      <td>4:0:6</td>\n",
       "    </tr>\n",
       "    <tr>\n",
       "      <th>18</th>\n",
       "      <td>1528005915480759:179472267:3943037375</td>\n",
       "      <td>NaN</td>\n",
       "      <td>0</td>\n",
       "    </tr>\n",
       "    <tr>\n",
       "      <th>19</th>\n",
       "      <td>1527636944492153:169582017:369338592</td>\n",
       "      <td>29:12:14</td>\n",
       "      <td>NaN</td>\n",
       "    </tr>\n",
       "  </tbody>\n",
       "</table>\n",
       "</div>"
      ],
      "text/plain": [
       "                                 event_id        spam_label_ids  \\\n",
       "0   1528134918075469:176053447:1729024668                   NaN   \n",
       "1   1527753908712163:180190913:4161244819                   NaN   \n",
       "2    1528661124630905:173143956:587620968                   NaN   \n",
       "3   1528392695247858:175145107:4010031814                     3   \n",
       "4   1527624368463530:177277711:2902498421                   NaN   \n",
       "5   1528557347145388:169580813:1912926733                    22   \n",
       "6   1528457711645241:181617475:3959473435                   NaN   \n",
       "7   1528177151577718:174380307:1879191700              25:16:15   \n",
       "8    1528158189338257:176235670:470055836                    15   \n",
       "9   1527628113059510:176235280:3640807248                   NaN   \n",
       "10  1528677679759674:180168408:1309286389                    17   \n",
       "11  1528315852398868:179543176:1494140731                    22   \n",
       "12  1527808376752389:180196500:3457028063                   NaN   \n",
       "13  1528420896138909:176052100:1510796978                   NaN   \n",
       "14  1528370762017518:176570566:2667813850                    21   \n",
       "15  1528546264068609:180401502:2299365224                 17:22   \n",
       "16  1528512485820973:174384004:4212123425  71:12:13:16:22:14:15   \n",
       "17   1528332497978850:180167946:587411316                   NaN   \n",
       "18  1528005915480759:179472267:3943037375                   NaN   \n",
       "19   1527636944492153:169582017:369338592              29:12:14   \n",
       "\n",
       "   organic_label_ids  \n",
       "0                  1  \n",
       "1                0:6  \n",
       "2                0:1  \n",
       "3                  0  \n",
       "4                  5  \n",
       "5                  0  \n",
       "6                5:1  \n",
       "7                NaN  \n",
       "8                0:2  \n",
       "9                0:6  \n",
       "10                 0  \n",
       "11               NaN  \n",
       "12                 0  \n",
       "13                 0  \n",
       "14               NaN  \n",
       "15               NaN  \n",
       "16               NaN  \n",
       "17             4:0:6  \n",
       "18                 0  \n",
       "19               NaN  "
      ]
     },
     "execution_count": 85,
     "metadata": {},
     "output_type": "execute_result"
    }
   ],
   "source": [
    "import os\n",
    "import pandas as pd\n",
    "\n",
    "# DATA_FILEPATH = os.environ['METALHOME'] + '/data/source_clicks.csv'\n",
    "DATA_FILEPATH = os.environ['METALHOME'] + '/data/snorkel_527610_100Kposneg.csv'\n",
    "# DATA_FILEPATH = os.environ['METALHOME'] + '/data/snorkel_527610_200Kuniform.csv'\n",
    "\n",
    "L_data = pd.read_csv(DATA_FILEPATH).sample(200000).reset_index(drop=True)\n",
    "\n",
    "N = L_data.shape[0]\n",
    "print(f\"Number of items: {N}\")\n",
    "L_data[:20]"
   ]
  },
  {
   "cell_type": "code",
   "execution_count": 86,
   "metadata": {},
   "outputs": [
    {
     "name": "stdout",
     "output_type": "stream",
     "text": [
      "CPU times: user 17.7 s, sys: 163 ms, total: 17.8 s\n",
      "Wall time: 17.9 s\n"
     ]
    }
   ],
   "source": [
    "%%time\n",
    "\n",
    "from itertools import chain\n",
    "from scipy.sparse import lil_matrix\n",
    "import numpy as np\n",
    "\n",
    "# YouTube\n",
    "# DELIMITER = ','\n",
    "# SPAM = 'spam_labels'\n",
    "# HAM = 'ham_labels'\n",
    "\n",
    "# GDN\n",
    "DELIMITER = ':'\n",
    "HAM = 'organic_label_ids'\n",
    "SPAM = 'spam_label_ids'\n",
    "\n",
    "# Get the pos/neg LF idxs, total number M\n",
    "def split_LF_idxs(x):\n",
    "    return map(int, x.split(DELIMITER)) if isinstance(x, str) else []\n",
    "\n",
    "def get_LF_idxs(col):\n",
    "    return set(chain.from_iterable([split_LF_idxs(x) for x in col]))\n",
    "\n",
    "LF_pos_idxs = get_LF_idxs(L_data.iloc[:,1])\n",
    "LF_neg_idxs = get_LF_idxs(L_data.iloc[:,2])\n",
    "M = max(LF_pos_idxs | LF_neg_idxs) + 1\n",
    "\n",
    "# Construct COO sparse matrix\n",
    "L = lil_matrix((N, M))\n",
    "for i, row in L_data.iterrows():\n",
    "    for j in split_LF_idxs(row[SPAM]):\n",
    "        L[i, j] = 1\n",
    "    for j in split_LF_idxs(row[HAM]):\n",
    "        L[i, j] = 2\n",
    "\n",
    "# Convert to CSR matrix\n",
    "L = L.tocsr().astype(np.int)\n",
    "Ls = [L]"
   ]
  },
  {
   "cell_type": "code",
   "execution_count": 87,
   "metadata": {},
   "outputs": [
    {
     "data": {
      "text/plain": [
       "<200000x104 sparse matrix of type '<class 'numpy.int64'>'\n",
       "\twith 473260 stored elements in Compressed Sparse Row format>"
      ]
     },
     "execution_count": 87,
     "metadata": {},
     "output_type": "execute_result"
    }
   ],
   "source": [
    "Ls[0]"
   ]
  },
  {
   "cell_type": "markdown",
   "metadata": {},
   "source": [
    "### Apply LabelModel"
   ]
  },
  {
   "cell_type": "code",
   "execution_count": 88,
   "metadata": {
    "scrolled": false
   },
   "outputs": [
    {
     "name": "stdout",
     "output_type": "stream",
     "text": [
      "Reaffirming seed=2\n",
      "Reaffirming n_epochs=1000\n",
      "Reaffirming lr=0.001\n",
      "Reaffirming print_at=100\n",
      "Reaffirming show_plots=True\n",
      "Overwriting class_balance_init=[0.1, 0.9] to class_balance_init=[0.5, 0.5]\n",
      "Overwriting l2=0.01 to l2=0\n",
      "[Epoch 0] Loss: 4558.806476\n",
      "[Epoch 100] Loss: 0.407929\n",
      "[Epoch 200] Loss: 0.069186\n",
      "[Epoch 300] Loss: 0.049870\n",
      "[Epoch 400] Loss: 0.043712\n",
      "[Epoch 500] Loss: 0.037236\n",
      "[Epoch 600] Loss: 0.029741\n",
      "[Epoch 700] Loss: 0.022175\n",
      "[Epoch 800] Loss: 0.016114\n",
      "[Epoch 900] Loss: 0.012316\n",
      "[Epoch 999] Loss: 0.010356\n",
      "Finished Training\n"
     ]
    },
    {
     "data": {
      "image/png": "[encoded data removed]",
      "text/plain": [
       "<Figure size 432x288 with 1 Axes>"
      ]
     },
     "metadata": {},
     "output_type": "display_data"
    }
   ],
   "source": [
    "from metal.label_model import LabelModel\n",
    "\n",
    "lm = LabelModel(seed=2)\n",
    "\n",
    "y_pos = 0.5\n",
    "lm.train(Ls[0], n_epochs=1000, lr=0.001, print_at=100, show_plots=True,\n",
    "         class_balance_init=[y_pos, 1-y_pos], l2=0)\n",
    "\n",
    "# Y_p = lm.score(Ls[1], Ys[1], metric='f1')"
   ]
  },
  {
   "cell_type": "code",
   "execution_count": 81,
   "metadata": {},
   "outputs": [
    {
     "data": {
      "text/plain": [
       "array([0.011, 0.015, 0.007, 0.055, 0.008, 0.006, 0.004, 0.002, 0.   ,\n",
       "       0.001, 0.   , 0.006, 0.007, 0.006, 0.   , 0.   , 0.003, 0.009,\n",
       "       0.   , 0.   , 0.003, 0.001, 0.   , 0.   , 0.002, 0.001, 0.   ,\n",
       "       0.008, 0.006, 0.008, 0.004, 0.   , 0.   , 0.002, 0.002, 0.   ,\n",
       "       0.   , 0.001, 0.   , 0.001, 0.   , 0.   , 0.001, 0.   , 0.001,\n",
       "       0.   , 0.001, 0.001, 0.   , 0.   , 0.   , 0.   , 0.001, 0.   ,\n",
       "       0.   , 0.   , 0.   , 0.   , 0.004, 0.   , 0.   , 0.   , 0.   ,\n",
       "       0.   , 0.   , 0.   , 0.   , 0.001, 0.   , 0.   , 0.   , 0.   ,\n",
       "       0.   , 0.   , 0.   , 0.   , 0.   , 0.   , 0.   , 0.   , 0.   ,\n",
       "       0.   , 0.   , 0.   , 0.   , 0.   , 0.   , 0.   , 0.   , 0.   ,\n",
       "       0.   , 0.   , 0.   , 0.   , 0.   , 0.   , 0.   , 0.   , 0.   ,\n",
       "       0.   , 0.   , 0.   ])"
      ]
     },
     "execution_count": 81,
     "metadata": {},
     "output_type": "execute_result"
    }
   ],
   "source": [
    "np.round(lm.O.numpy(), decimals=3)[3,:]"
   ]
  },
  {
   "cell_type": "code",
   "execution_count": 82,
   "metadata": {},
   "outputs": [
    {
     "data": {
      "text/plain": [
       "array([0.   , 0.001, 0.   , 0.001, 0.   , 0.   , 0.001, 0.   , 0.   ,\n",
       "       0.003, 0.   , 0.   , 0.   , 0.001, 0.   , 0.   , 0.001, 0.   ,\n",
       "       0.   , 0.   , 0.   , 0.   , 0.   , 0.   , 0.   , 0.   , 0.   ,\n",
       "       0.   , 0.   , 0.   , 0.   , 0.   , 0.   , 0.   , 0.   , 0.   ,\n",
       "       0.   , 0.   , 0.   , 0.   , 0.   , 0.   , 0.   , 0.   , 0.   ,\n",
       "       0.   , 0.   , 0.   , 0.   , 0.   , 0.   , 0.   , 0.   , 0.   ,\n",
       "       0.   , 0.   , 0.   , 0.   , 0.   , 0.   , 0.   , 0.   , 0.   ,\n",
       "       0.   , 0.   , 0.   , 0.   , 0.   , 0.   , 0.   , 0.   , 0.   ,\n",
       "       0.   , 0.   , 0.   , 0.   , 0.   , 0.   , 0.   , 0.   , 0.   ,\n",
       "       0.   , 0.   , 0.   , 0.   , 0.   , 0.   , 0.   , 0.   , 0.   ,\n",
       "       0.   , 0.   , 0.   , 0.   , 0.   , 0.   , 0.   , 0.   , 0.   ,\n",
       "       0.   , 0.   , 0.   ])"
      ]
     },
     "execution_count": 82,
     "metadata": {},
     "output_type": "execute_result"
    }
   ],
   "source": [
    "np.round(lm.O.numpy(), decimals=3)[9,:]"
   ]
  },
  {
   "cell_type": "code",
   "execution_count": 69,
   "metadata": {},
   "outputs": [],
   "source": [
    "Y_p = lm.predict(Ls[0])"
   ]
  },
  {
   "cell_type": "code",
   "execution_count": 84,
   "metadata": {},
   "outputs": [
    {
     "data": {
      "text/plain": [
       "[(0.8876525945395399, 0.36021520760920017, 2, 0.60653),\n",
       " (0.95, 0.40021831596685253, 2, 0.82074),\n",
       " (0.95, 0.24603226667401712, 2, 0.44052),\n",
       " (0.05, 0.03179509996233794, 1, 0.05485),\n",
       " (0.95, 0.2970533314656644, 2, 0.51896),\n",
       " (0.48523894139717116, 0.07660882589840612, 1, 0.0471),\n",
       " (0.8346227006070391, 0.175808350051698, 1, 0.04469),\n",
       " (0.5230605620101347, 0.10454927986464005, 1, 0.05998),\n",
       " (0.95, -0.09627692423316815, 1, 0.001385),\n",
       " (0.95, -0.001139147899932651, 1, 0.0029),\n",
       " (0.5861170806976456, 0.2482152349209477, 2, 0.3157),\n",
       " (0.9288076534135256, 0.2152731242433592, 1, 0.030725),\n",
       " (0.8204738159139291, 0.11537660997714416, 1, 0.02708),\n",
       " (0.857042920332803, 0.21354010524914413, 1, 0.04845),\n",
       " (0.95, 0.10335777923816407, 1, 0.00428),\n",
       " (0.95, 0.14379882633442678, 1, 0.007485),\n",
       " (0.5668601604241083, 0.11860428301178988, 1, 0.059895),\n",
       " (0.5808376343862047, 0.04544684508871719, 1, 0.020105),\n",
       " (0.95, -0.053740960177290555, 1, 0.004915),\n",
       " (0.5076026044329436, 0.007038047307393928, 1, 0.00111),\n",
       " (0.2544326287457091, 0.2566247643968536, 2, 0.15224),\n",
       " (0.95, -0.0758746346632396, 1, 0.00276),\n",
       " (0.95, -0.058673826742540305, 1, 0.000775),\n",
       " (0.95, -0.03030819320920024, 1, 0.003305),\n",
       " (0.95, -0.015239295068449744, 1, 0.007775),\n",
       " (0.95, -0.03632028069847512, 1, 0.00771),\n",
       " (0.95, 0.1049740115994957, 1, 0.00156),\n",
       " (0.7840483857685431, 0.04995499458401535, 1, 0.01132),\n",
       " (0.946301963170935, 0.08746397800916275, 1, 0.007485),\n",
       " (0.05, 0.015126468634179999, 1, 0.017785),\n",
       " (0.95, -0.07899619257742144, 1, 0.01496),\n",
       " (0.95, -0.016628586302669345, 1, 0.00241),\n",
       " (0.95, 0.12560858233932917, 1, 0.000825),\n",
       " (0.95, -0.06382190840601101, 1, 0.011295),\n",
       " (0.7183273662967821, 0.038741387427871504, 1, 0.011365),\n",
       " (0.95, 0.06181528655003081, 1, 0.00207),\n",
       " (0.95, 0.2163453705161484, 1, 0.000445),\n",
       " (0.9496898176645722, 0.06792272018651528, 1, 0.005245),\n",
       " (0.95, 0.03878142483003198, 1, 0.00141),\n",
       " (0.95, 0.13771930521575487, 1, 0.004445),\n",
       " (0.95, 0.12263261803635798, 1, 0.000545),\n",
       " (0.95, 0.07034030661666163, 1, 0.00039),\n",
       " (0.95, 0.07731050707560629, 1, 0.00507),\n",
       " (0.95, 0.08244449123498485, 1, 0.000965),\n",
       " (0.95, 0.3010703524926883, 1, 0.00128),\n",
       " (0.95, 0.0904408231811035, 1, 0.002815),\n",
       " (0.95, -0.07933661541683878, 1, 0.004065),\n",
       " (0.95, -0.0902261761721738, 1, 0.005105),\n",
       " (0.9161731048318841, 0.054925828493317626, 1, 0.005175),\n",
       " (0.95, 0.0905524201122834, 1, 0.000835),\n",
       " (0.95, 0.0952888789794319, 1, 0.0016),\n",
       " (0.95, 0.09756836644851177, 1, 0.00086),\n",
       " (0.95, -0.003323966809926017, 1, 0.00398),\n",
       " (0.95, -0.015567489627957667, 1, 0.0013),\n",
       " (0.8967798632462785, 0.04454170341495922, 1, 0.00451),\n",
       " (0.95, 0.0854469966697262, 1, 0.001615),\n",
       " (0.95, 0.08836344492912018, 1, 0.001285),\n",
       " (0.95, 0.12438612677910423, 1, 0.001395),\n",
       " (0.95, 0.1547458408426445, 1, 0.00692),\n",
       " (0.95, 0.03709616039965767, 1, 0.000305),\n",
       " (0.95, -0.038884170852190855, 1, 0.00059),\n",
       " (0.95, 0.04817804063976473, 1, 0.00152),\n",
       " (0.90801321234057, 0.019912089152279593, 1, 0.00024),\n",
       " (0.95, 0.09396604539110272, 1, 0.00055),\n",
       " (0.95, 0.055250210337931684, 1, 0.001155),\n",
       " (0.95, 0.057454372505963185, 1, 0.001295),\n",
       " (0.95, 0.10763811547486128, 1, 0.00085),\n",
       " (0.95, 0.10312146325201058, 1, 0.001875),\n",
       " (0.95, 0.0410235761852394, 1, 0.00024),\n",
       " (0.95, 0.057312779571600275, 1, 0.001055),\n",
       " (0.95, 0.06518514065106819, 1, 0.001155),\n",
       " (0.95, -0.13750687333159145, 1, 7e-05),\n",
       " (0.95, 0.0864630487310238, 1, 0.000485),\n",
       " (0.95, 0.08899202043369464, 1, 0.00031),\n",
       " (0.95, 0.2364777952005629, 1, 0.001),\n",
       " (0.95, 0.14856800432930617, 1, 0.0008),\n",
       " (0.95, 0.09522628463109149, 1, 0.000325),\n",
       " (0.95, 0.09857661924949992, 1, 0.000395),\n",
       " (0.95, 0.29638414663625057, 1, 0.00011),\n",
       " (0.95, -0.0077255523654167196, 1, 0.00033),\n",
       " (0.95, 0.09642403467931497, 1, 0.00037),\n",
       " (0.95, 0.06641432822170995, 1, 0.00084),\n",
       " (0.95, 0.04822481971730115, 1, 0.00011),\n",
       " (0.95, 0.06760046161854075, 1, 0.000155),\n",
       " (0.95, 0.1403133561382233, 1, 0.000195),\n",
       " (0.95, 0.14991964742578578, 1, 0.000165),\n",
       " (0.95, -0.013097299787588607, 1, 0.000125),\n",
       " (0.95, 0.06678391485961487, 1, 0.000295),\n",
       " (0.95, 0.08804370226176303, 1, 2.5e-05),\n",
       " (0.95, -0.04814573048628567, 1, 0.000195),\n",
       " (0.95, 0.09349218728386455, 1, 2.5e-05),\n",
       " (0.95, 0.03819867218794469, 1, 0.0003),\n",
       " (0.95, 0.09220501677403249, 1, 2e-05),\n",
       " (0.95, 0.17341262723978634, 1, 3e-05),\n",
       " (0.95, -0.03798473114182685, 1, 6.5e-05),\n",
       " (0.95, 0.12112918142998985, 1, 0.000225),\n",
       " (0.95, -0.04715166034216778, 1, 2.5e-05),\n",
       " (0.95, 0.053251506668157346, 1, 2.5e-05),\n",
       " (0.95, 0.08295410613930543, 1, 3e-05),\n",
       " (0.95, 0.11663078192020838, 1, 5e-06),\n",
       " (0.95, 0.03039961074100086, 1, 2e-05),\n",
       " (0.8452609380739066, 0.013135168660732253, 1, 1e-05)]"
      ]
     },
     "execution_count": 84,
     "metadata": {},
     "output_type": "execute_result"
    }
   ],
   "source": [
    "# sorted(\n",
    "list(zip(\n",
    "    lm._alphas().numpy(),\n",
    "    lm._betas().numpy(),\n",
    "    lm.polarity,\n",
    "    LF_coverages(Ls[0]),\n",
    "))\n",
    "#, key=lambda x: x[2])"
   ]
  },
  {
   "cell_type": "code",
   "execution_count": null,
   "metadata": {},
   "outputs": [],
   "source": [
    "import matplotlib.pyplot as plt\n",
    "%matplotlib inline\n",
    "\n",
    "plt.hist(lm._alphas().numpy())\n",
    "plt.show()"
   ]
  },
  {
   "cell_type": "code",
   "execution_count": null,
   "metadata": {},
   "outputs": [],
   "source": [
    "plt.hist(lm._betas().numpy())"
   ]
  },
  {
   "cell_type": "markdown",
   "metadata": {},
   "source": [
    "### Random Search"
   ]
  },
  {
   "cell_type": "code",
   "execution_count": null,
   "metadata": {},
   "outputs": [],
   "source": [
    "search_space = {\n",
    "    'print_at': 200,\n",
    "    'n_epochs': 1000, # a single constant value\n",
    "    'l2': [0, 0.1, 0.01], # a list of discrete values\n",
    "    'lr': {'range': [0.01, 0.0001], 'scale': 'log'}, # a range and scale to interpolate by\n",
    "}"
   ]
  },
  {
   "cell_type": "code",
   "execution_count": null,
   "metadata": {
    "scrolled": false
   },
   "outputs": [],
   "source": [
    "from metal.tuner import ModelTuner\n",
    "\n",
    "tuner = ModelTuner(LabelModel)\n",
    "init_args = []\n",
    "train_args = [Ls[0]]\n",
    "model, best_config = tuner.search(init_args, train_args, Ls[1], Ys[1], \n",
    "                                  search_space, max_search=5, metric='accuracy')"
   ]
  },
  {
   "cell_type": "markdown",
   "metadata": {},
   "source": [
    "### Metrics"
   ]
  },
  {
   "cell_type": "markdown",
   "metadata": {},
   "source": [
    "Calculate metrics in one of two ways.\n",
    "\n",
    "1. Use metric_score() and pass the metric name\n",
    "3. The the specific metric's function (e.g., accuracy_score())"
   ]
  },
  {
   "cell_type": "code",
   "execution_count": null,
   "metadata": {},
   "outputs": [],
   "source": [
    "from metal.metrics import metric_score, accuracy_score\n",
    "\n",
    "metric_score(Ys[1], Y_p, 'accuracy')\n",
    "accuracy_score(Ys[1], Y_p)"
   ]
  },
  {
   "cell_type": "markdown",
   "metadata": {},
   "source": [
    "Built-in metrics include:"
   ]
  },
  {
   "cell_type": "code",
   "execution_count": null,
   "metadata": {},
   "outputs": [],
   "source": [
    "metric_score(Ys[1], Y_p, 'accuracy')\n",
    "metric_score(Ys[1], Y_p, 'coverage')\n",
    "metric_score(Ys[1], Y_p, 'precision')\n",
    "metric_score(Ys[1], Y_p, 'recall')\n",
    "metric_score(Ys[1], Y_p, 'f1')\n",
    "metric_score(Ys[1], Y_p, 'fbeta', beta=1.0)"
   ]
  },
  {
   "cell_type": "markdown",
   "metadata": {},
   "source": [
    "### Confusion matrix"
   ]
  },
  {
   "cell_type": "code",
   "execution_count": null,
   "metadata": {
    "scrolled": false
   },
   "outputs": [],
   "source": [
    "from metal.analysis import confusion_matrix\n",
    "confusion_matrix(Y_p, Ys[1])"
   ]
  },
  {
   "cell_type": "code",
   "execution_count": null,
   "metadata": {},
   "outputs": [],
   "source": [
    "confusion_matrix(Y_p, Ys[1], normalize=True)"
   ]
  },
  {
   "cell_type": "code",
   "execution_count": null,
   "metadata": {},
   "outputs": [],
   "source": [
    "mat = confusion_matrix(Y_p, Ys[1], pretty_print=True)"
   ]
  },
  {
   "cell_type": "markdown",
   "metadata": {},
   "source": [
    "### Error analysis"
   ]
  },
  {
   "cell_type": "code",
   "execution_count": null,
   "metadata": {},
   "outputs": [],
   "source": [
    "from metal.analysis import error_buckets\n",
    "\n",
    "buckets = error_buckets(Y_p, Ys[1], Ds[1])\n",
    "tp = buckets[1,1]\n",
    "fp = buckets[1,2]"
   ]
  },
  {
   "cell_type": "code",
   "execution_count": null,
   "metadata": {},
   "outputs": [],
   "source": [
    "fp[:1]"
   ]
  },
  {
   "cell_type": "code",
   "execution_count": null,
   "metadata": {},
   "outputs": [],
   "source": [
    "tp[:3]"
   ]
  },
  {
   "cell_type": "markdown",
   "metadata": {},
   "source": [
    "### Label matrix analysis"
   ]
  },
  {
   "cell_type": "code",
   "execution_count": 39,
   "metadata": {},
   "outputs": [],
   "source": [
    "from metal.analysis import (\n",
    "    item_coverage,\n",
    "    item_overlap,\n",
    "    item_conflict,\n",
    "    LF_accuracies,\n",
    "    LF_coverages,\n",
    "    LF_overlaps,\n",
    "    LF_conflicts,\n",
    ")"
   ]
  },
  {
   "cell_type": "code",
   "execution_count": 40,
   "metadata": {},
   "outputs": [
    {
     "data": {
      "text/plain": [
       "1.0"
      ]
     },
     "execution_count": 40,
     "metadata": {},
     "output_type": "execute_result"
    }
   ],
   "source": [
    "item_coverage(Ls[0])"
   ]
  },
  {
   "cell_type": "code",
   "execution_count": 41,
   "metadata": {},
   "outputs": [
    {
     "data": {
      "text/plain": [
       "0.93508"
      ]
     },
     "execution_count": 41,
     "metadata": {},
     "output_type": "execute_result"
    }
   ],
   "source": [
    "item_overlap(Ls[0])"
   ]
  },
  {
   "cell_type": "code",
   "execution_count": null,
   "metadata": {},
   "outputs": [],
   "source": [
    "item_conflict(Ls[0])"
   ]
  },
  {
   "cell_type": "code",
   "execution_count": null,
   "metadata": {
    "scrolled": true
   },
   "outputs": [],
   "source": [
    "# LF_accuracies(Ls[0], Ys[0])"
   ]
  },
  {
   "cell_type": "code",
   "execution_count": 56,
   "metadata": {},
   "outputs": [
    {
     "data": {
      "text/plain": [
       "[0.82004,\n",
       " 0.60584,\n",
       " 0.51712,\n",
       " 0.44312,\n",
       " 0.31428,\n",
       " 0.14928,\n",
       " 0.05964,\n",
       " 0.05932,\n",
       " 0.05368,\n",
       " 0.04838,\n",
       " 0.04766,\n",
       " 0.04564,\n",
       " 0.03068,\n",
       " 0.02724,\n",
       " 0.02046,\n",
       " 0.0173,\n",
       " 0.01442,\n",
       " 0.01156,\n",
       " 0.01128,\n",
       " 0.01122,\n",
       " 0.00796,\n",
       " 0.00788,\n",
       " 0.00784,\n",
       " 0.00782,\n",
       " 0.00724,\n",
       " 0.0056,\n",
       " 0.00538,\n",
       " 0.0053,\n",
       " 0.00528,\n",
       " 0.0048,\n",
       " 0.00456,\n",
       " 0.00438,\n",
       " 0.00434,\n",
       " 0.00404,\n",
       " 0.004,\n",
       " 0.00324,\n",
       " 0.00276,\n",
       " 0.0026,\n",
       " 0.00258,\n",
       " 0.0024,\n",
       " 0.00212,\n",
       " 0.00208,\n",
       " 0.00188,\n",
       " 0.00172,\n",
       " 0.00164,\n",
       " 0.00156,\n",
       " 0.0015,\n",
       " 0.00148,\n",
       " 0.00144,\n",
       " 0.0014,\n",
       " 0.00138,\n",
       " 0.00138,\n",
       " 0.00132,\n",
       " 0.00132,\n",
       " 0.00128,\n",
       " 0.0012,\n",
       " 0.00106,\n",
       " 0.00104,\n",
       " 0.00102,\n",
       " 0.001,\n",
       " 0.00098,\n",
       " 0.00098,\n",
       " 0.0009,\n",
       " 0.0009,\n",
       " 0.00076,\n",
       " 0.00072,\n",
       " 0.00068,\n",
       " 0.00062,\n",
       " 0.0006,\n",
       " 0.00058,\n",
       " 0.00052,\n",
       " 0.00052,\n",
       " 0.0004,\n",
       " 0.00038,\n",
       " 0.00038,\n",
       " 0.00036,\n",
       " 0.00032,\n",
       " 0.00032,\n",
       " 0.0003,\n",
       " 0.00026,\n",
       " 0.00024,\n",
       " 0.0002,\n",
       " 0.0002,\n",
       " 0.0002,\n",
       " 0.00018,\n",
       " 0.00016,\n",
       " 0.00016,\n",
       " 0.00012,\n",
       " 0.00012,\n",
       " 0.0001,\n",
       " 0.0001,\n",
       " 8e-05,\n",
       " 6e-05,\n",
       " 4e-05,\n",
       " 2e-05,\n",
       " 2e-05,\n",
       " 2e-05,\n",
       " 0.0,\n",
       " 0.0,\n",
       " 0.0,\n",
       " 0.0]"
      ]
     },
     "execution_count": 56,
     "metadata": {},
     "output_type": "execute_result"
    }
   ],
   "source": [
    "sorted(LF_coverages(Ls[0]), reverse=True)"
   ]
  },
  {
   "cell_type": "code",
   "execution_count": null,
   "metadata": {
    "scrolled": true
   },
   "outputs": [],
   "source": [
    "LF_overlaps(Ls[0])"
   ]
  },
  {
   "cell_type": "code",
   "execution_count": null,
   "metadata": {
    "scrolled": true
   },
   "outputs": [],
   "source": [
    "# LF_conflicts(Ls[0])"
   ]
  },
  {
   "cell_type": "code",
   "execution_count": 71,
   "metadata": {},
   "outputs": [
    {
     "data": {
      "image/png": "[encoded data removed]",
      "text/plain": [
       "<Figure size 432x288 with 2 Axes>"
      ]
     },
     "metadata": {},
     "output_type": "display_data"
    }
   ],
   "source": [
    "from metal.analysis import (\n",
    "    view_label_matrix,\n",
    "    view_overlaps,\n",
    "    view_conflicts,\n",
    ")\n",
    "\n",
    "view_label_matrix(Ls[0])"
   ]
  },
  {
   "cell_type": "code",
   "execution_count": 72,
   "metadata": {},
   "outputs": [
    {
     "data": {
      "image/png": "[encoded data removed]",
      "text/plain": [
       "<Figure size 432x288 with 2 Axes>"
      ]
     },
     "metadata": {},
     "output_type": "display_data"
    }
   ],
   "source": [
    "view_overlaps(Ls[0], normalize=True)"
   ]
  },
  {
   "cell_type": "code",
   "execution_count": 52,
   "metadata": {},
   "outputs": [
    {
     "data": {
      "image/png": "[encoded data removed]",
      "text/plain": [
       "<Figure size 432x288 with 2 Axes>"
      ]
     },
     "metadata": {},
     "output_type": "display_data"
    }
   ],
   "source": [
    "view_conflicts(Ls[0], normalize=False)"
   ]
  },
  {
   "cell_type": "code",
   "execution_count": null,
   "metadata": {},
   "outputs": [],
   "source": []
  }
 ],
 "metadata": {
  "kernelspec": {
   "display_name": "Python [conda env:metal]",
   "language": "python",
   "name": "conda-env-metal-py"
  },
  "language_info": {
   "codemirror_mode": {
    "name": "ipython",
    "version": 3
   },
   "file_extension": ".py",
   "mimetype": "text/x-python",
   "name": "python",
   "nbconvert_exporter": "python",
   "pygments_lexer": "ipython3",
   "version": "3.6.5"
  }
 },
 "nbformat": 4,
 "nbformat_minor": 2
}
