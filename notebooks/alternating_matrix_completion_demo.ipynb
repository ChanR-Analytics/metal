{
 "cells": [
  {
   "cell_type": "code",
   "execution_count": 1,
   "metadata": {},
   "outputs": [
    {
     "name": "stderr",
     "output_type": "stream",
     "text": [
      "/lfs/1/annhe/anaconda3/envs/metal/lib/python3.6/importlib/_bootstrap.py:219: RuntimeWarning: numpy.dtype size changed, may indicate binary incompatibility. Expected 96, got 88\n",
      "  return f(*args, **kwds)\n"
     ]
    }
   ],
   "source": [
    "%matplotlib inline\n",
    "import sys\n",
    "sys.path.append(\"../\") # go to parent dir\n",
    "\n",
    "import numpy as np\n",
    "import torch\n",
    "import matplotlib.pyplot as plt\n",
    "import mpmath\n",
    "\n",
    "from synthetic.generate import SingleTaskTreeDepsGenerator\n",
    "from metal.label_model import LabelModel\n",
    "from metal.label_model.utils import (\n",
    "    compute_mu,\n",
    "    compute_covariance,\n",
    "    compute_inv_covariance,\n",
    "    print_matrix,\n",
    "    visualize_matrix\n",
    ")\n",
    "\n",
    "from amc_utils import *"
   ]
  },
  {
   "cell_type": "code",
   "execution_count": 2,
   "metadata": {},
   "outputs": [
    {
     "name": "stdout",
     "output_type": "stream",
     "text": [
      "(0, 1)   [0.18310474 0.26763419]\n",
      "(0, 2)   [0.41100465 0.45709073]\n",
      "(1, 1)   [0.58493506 0.47727506]\n",
      "(1, 2)   [0.71669755 0.28400702]\n",
      "(2, 1)   [0.89030569 0.12464883]\n",
      "(2, 2)   [0.70342076 0.47557432]\n",
      "(3, 1)   [0.60282085 0.22634824]\n",
      "(3, 2)   [0.27829134 0.82067011]\n",
      "((0, 1), 1, 1)   [0.29365232 0.16268484]\n",
      "((0, 1), 1, 2)   [0.23846452 0.27527783]\n",
      "((0, 1), 2, 1)   [0.27892133 0.11700884]\n",
      "((0, 1), 2, 2)   [0.10781096 0.13396608]\n",
      "((1, 2), 1, 1)   [0.2756285  0.11966937]\n",
      "((1, 2), 1, 2)   [0.18422153 0.29157791]\n",
      "((1, 2), 2, 1)   [0.20663306 0.23837542]\n",
      "((1, 2), 2, 2)   [0.16310313 0.23730019]\n",
      "((0, 3), 1, 1)   [0.26692513 0.10365766]\n",
      "((0, 3), 1, 2)   [0.25002886 0.29777222]\n",
      "((0, 3), 2, 1)   [0.24963313 0.1560888 ]\n",
      "((0, 3), 2, 2)   [0.25785587 0.1206452 ]\n",
      "Labeler =  0\n",
      "i:  0  y:  1  val:  0\n",
      "P(L= 0 , Y= 1 ) =  0.20010198328541137\n",
      "i:  0  y:  1  val:  1\n",
      "P(L= 1 , Y= 1 ) =  0.3678074948819359\n",
      "i:  0  y:  1  val:  2\n",
      "P(L= 2 , Y= 1 ) =  0.4320905218326526\n",
      "Labeler =  1\n",
      "i:  1  y:  1  val:  0\n",
      "P(L= 0 , Y= 1 ) =  0.15466540449573404\n",
      "i:  1  y:  1  val:  1\n",
      "P(L= 1 , Y= 1 ) =  0.42342789879073933\n",
      "i:  1  y:  1  val:  2\n",
      "P(L= 2 , Y= 1 ) =  0.42190669671352654\n",
      "Labeler =  2\n",
      "i:  2  y:  1  val:  0\n",
      "P(L= 0 , Y= 1 ) =  0.15832633937059554\n",
      "i:  2  y:  1  val:  1\n",
      "P(L= 1 , Y= 1 ) =  0.471982799238226\n",
      "i:  2  y:  1  val:  2\n",
      "P(L= 2 , Y= 1 ) =  0.3696908613911784\n",
      "Labeler =  3\n",
      "i:  3  y:  1  val:  0\n",
      "P(L= 0 , Y= 1 ) =  0.20608923955545908\n",
      "i:  3  y:  1  val:  1\n",
      "P(L= 1 , Y= 1 ) =  0.4613272644030424\n",
      "i:  3  y:  1  val:  2\n",
      "P(L= 2 , Y= 1 ) =  0.3325834960414983\n",
      "Labeler =  0\n",
      "i:  0  y:  2  val:  0\n",
      "P(L= 0 , Y= 2 ) =  0.20813258463526177\n",
      "i:  0  y:  2  val:  1\n",
      "P(L= 1 , Y= 2 ) =  0.38883704245483103\n",
      "i:  0  y:  2  val:  2\n",
      "P(L= 2 , Y= 2 ) =  0.4030303729099071\n",
      "Labeler =  1\n",
      "i:  1  y:  2  val:  0\n",
      "P(L= 0 , Y= 2 ) =  0.20031367450030899\n",
      "i:  1  y:  2  val:  1\n",
      "P(L= 1 , Y= 2 ) =  0.4260530495879272\n",
      "i:  1  y:  2  val:  2\n",
      "P(L= 2 , Y= 2 ) =  0.37363327591176365\n",
      "Labeler =  2\n",
      "i:  2  y:  2  val:  0\n",
      "P(L= 0 , Y= 2 ) =  0.23314852963850305\n",
      "i:  2  y:  2  val:  1\n",
      "P(L= 1 , Y= 2 ) =  0.30339161370338164\n",
      "i:  2  y:  2  val:  2\n",
      "P(L= 2 , Y= 2 ) =  0.4634598566581151\n",
      "Labeler =  3\n",
      "i:  3  y:  2  val:  0\n",
      "P(L= 0 , Y= 2 ) =  0.1974560256221515\n",
      "i:  3  y:  2  val:  1\n",
      "P(L= 1 , Y= 2 ) =  0.2743587135242448\n",
      "i:  3  y:  2  val:  2\n",
      "P(L= 2 , Y= 2 ) =  0.5281852608536036\n",
      "Labelers =  (0, 1)\n",
      "P(L_ 0 = 0 , L_ 1 = 0  | Y =  1 ) =  0.03588999943045893\n",
      "P(L_ 0 = 0 , L_ 1 = 1  | Y =  1 ) =  0.07836984803863589\n",
      "P(L_ 0 = 0 , L_ 1 = 2  | Y =  1 ) =  0.0858421358163166\n",
      "P(L_ 0 = 1 , L_ 1 = 0  | Y =  1 ) =  0.05280917002614045\n",
      "P(L_ 0 = 1 , L_ 1 = 1  | Y =  1 ) =  0.15467370024740146\n",
      "P(L_ 0 = 1 , L_ 1 = 2  | Y =  1 ) =  0.16032462460839395\n",
      "P(L_ 0 = 2 , L_ 1 = 0  | Y =  1 ) =  0.0659662350391347\n",
      "P(L_ 0 = 2 , L_ 1 = 1  | Y =  1 ) =  0.1903843505047019\n",
      "P(L_ 0 = 2 , L_ 1 = 2  | Y =  1 ) =  0.17573993628881604\n",
      "Labelers =  (0, 2)\n",
      "P(L_ 0 = 0 , L_ 2 = 0  | Y =  1 ) =  0.03185149472198274\n",
      "P(L_ 0 = 0 , L_ 2 = 1  | Y =  1 ) =  0.09424285011869385\n",
      "P(L_ 0 = 0 , L_ 2 = 2  | Y =  1 ) =  0.07400763844473479\n",
      "P(L_ 0 = 1 , L_ 2 = 0  | Y =  1 ) =  0.05813275082041914\n",
      "P(L_ 0 = 1 , L_ 2 = 1  | Y =  1 ) =  0.17368021338751213\n",
      "P(L_ 0 = 1 , L_ 2 = 2  | Y =  1 ) =  0.13599453067400455\n",
      "P(L_ 0 = 2 , L_ 2 = 0  | Y =  1 ) =  0.06834209382819366\n",
      "P(L_ 0 = 2 , L_ 2 = 1  | Y =  1 ) =  0.20405973573202\n",
      "P(L_ 0 = 2 , L_ 2 = 2  | Y =  1 ) =  0.159688692272439\n",
      "Labelers =  (0, 3)\n",
      "P(L_ 0 = 0 , L_ 3 = 0  | Y =  1 ) =  0.04823900135244169\n",
      "P(L_ 0 = 0 , L_ 3 = 1  | Y =  1 ) =  0.08814548571721209\n",
      "P(L_ 0 = 0 , L_ 3 = 2  | Y =  1 ) =  0.0637174962157576\n",
      "P(L_ 0 = 1 , L_ 3 = 0  | Y =  1 ) =  0.07236906733345425\n",
      "P(L_ 0 = 1 , L_ 3 = 1  | Y =  1 ) =  0.17269463881002547\n",
      "P(L_ 0 = 1 , L_ 3 = 2  | Y =  1 ) =  0.12274378873845612\n",
      "P(L_ 0 = 2 , L_ 3 = 0  | Y =  1 ) =  0.08548117086956314\n",
      "P(L_ 0 = 2 , L_ 3 = 1  | Y =  1 ) =  0.2004871398758049\n",
      "P(L_ 0 = 2 , L_ 3 = 2  | Y =  1 ) =  0.1461222110872846\n",
      "Labelers =  (1, 2)\n",
      "P(L_ 1 = 0 , L_ 2 = 0  | Y =  1 ) =  0.02834502567362275\n",
      "P(L_ 1 = 0 , L_ 2 = 1  | Y =  1 ) =  0.0690449157889924\n",
      "P(L_ 1 = 0 , L_ 2 = 2  | Y =  1 ) =  0.057275463033118916\n",
      "P(L_ 1 = 1 , L_ 2 = 0  | Y =  1 ) =  0.06378545506086628\n",
      "P(L_ 1 = 1 , L_ 2 = 1  | Y =  1 ) =  0.2046823736382822\n",
      "P(L_ 1 = 1 , L_ 2 = 2  | Y =  1 ) =  0.15496007009159074\n",
      "P(L_ 1 = 2 , L_ 2 = 0  | Y =  1 ) =  0.0661958586361065\n",
      "P(L_ 1 = 2 , L_ 2 = 1  | Y =  1 ) =  0.19825550981095136\n",
      "P(L_ 1 = 2 , L_ 2 = 2  | Y =  1 ) =  0.1574553282664687\n",
      "Labelers =  (1, 3)\n",
      "P(L_ 1 = 0 , L_ 3 = 0  | Y =  1 ) =  0.03209291112518442\n",
      "P(L_ 1 = 0 , L_ 3 = 1  | Y =  1 ) =  0.07121274204561134\n",
      "P(L_ 1 = 0 , L_ 3 = 2  | Y =  1 ) =  0.0513597513249383\n",
      "P(L_ 1 = 1 , L_ 3 = 0  | Y =  1 ) =  0.08699011609055772\n",
      "P(L_ 1 = 1 , L_ 3 = 1  | Y =  1 ) =  0.19548231111104655\n",
      "P(L_ 1 = 1 , L_ 3 = 2  | Y =  1 ) =  0.1409554715891349\n",
      "P(L_ 1 = 2 , L_ 3 = 0  | Y =  1 ) =  0.08700621233971689\n",
      "P(L_ 1 = 2 , L_ 3 = 1  | Y =  1 ) =  0.19463221124638455\n",
      "P(L_ 1 = 2 , L_ 3 = 2  | Y =  1 ) =  0.1402682731274251\n",
      "Labelers =  (2, 3)\n",
      "P(L_ 2 = 0 , L_ 3 = 0  | Y =  1 ) =  0.0326368175173858\n",
      "P(L_ 2 = 0 , L_ 3 = 1  | Y =  1 ) =  0.07303570385372185\n",
      "P(L_ 2 = 0 , L_ 3 = 2  | Y =  1 ) =  0.05265381799948785\n",
      "P(L_ 2 = 1 , L_ 3 = 0  | Y =  1 ) =  0.0972617609527922\n",
      "P(L_ 2 = 1 , L_ 3 = 1  | Y =  1 ) =  0.21774372529839306\n",
      "P(L_ 2 = 1 , L_ 3 = 2  | Y =  1 ) =  0.1569773129870406\n",
      "P(L_ 2 = 2 , L_ 3 = 0  | Y =  1 ) =  0.07619066108528104\n",
      "P(L_ 2 = 2 , L_ 3 = 1  | Y =  1 ) =  0.17054783525092748\n",
      "P(L_ 2 = 2 , L_ 3 = 2  | Y =  1 ) =  0.12295236505496981\n",
      "Labelers =  (0, 1)\n",
      "P(L_ 0 = 0 , L_ 1 = 0  | Y =  2 ) =  0.04627217260647874\n",
      "P(L_ 0 = 0 , L_ 1 = 1  | Y =  2 ) =  0.08830202592705598\n",
      "P(L_ 0 = 0 , L_ 1 = 2  | Y =  2 ) =  0.07355838610172702\n",
      "P(L_ 0 = 1 , L_ 1 = 0  | Y =  2 ) =  0.07283080310148778\n",
      "P(L_ 0 = 1 , L_ 1 = 1  | Y =  2 ) =  0.16353812034383117\n",
      "P(L_ 0 = 1 , L_ 1 = 2  | Y =  2 ) =  0.15246811900951204\n",
      "P(L_ 0 = 2 , L_ 1 = 0  | Y =  2 ) =  0.08121069879234245\n",
      "P(L_ 0 = 2 , L_ 1 = 1  | Y =  2 ) =  0.1742129033170401\n",
      "P(L_ 0 = 2 , L_ 1 = 2  | Y =  2 ) =  0.14760677080052462\n",
      "Labelers =  (0, 2)\n",
      "P(L_ 0 = 0 , L_ 2 = 0  | Y =  2 ) =  0.048726092674802386\n",
      "P(L_ 0 = 0 , L_ 2 = 1  | Y =  2 ) =  0.06307392655460159\n",
      "P(L_ 0 = 0 , L_ 2 = 2  | Y =  2 ) =  0.09633256540585779\n",
      "P(L_ 0 = 1 , L_ 2 = 0  | Y =  2 ) =  0.09042955240310338\n",
      "P(L_ 0 = 1 , L_ 2 = 1  | Y =  2 ) =  0.11813270924904881\n",
      "P(L_ 0 = 1 , L_ 2 = 2  | Y =  2 ) =  0.18027478080267875\n",
      "P(L_ 0 = 2 , L_ 2 = 0  | Y =  2 ) =  0.09399288456059726\n",
      "P(L_ 0 = 2 , L_ 2 = 1  | Y =  2 ) =  0.1221849778997312\n",
      "P(L_ 0 = 2 , L_ 2 = 2  | Y =  2 ) =  0.18685251044957868\n",
      "Labelers =  (0, 3)\n",
      "P(L_ 0 = 0 , L_ 3 = 0  | Y =  2 ) =  0.04598564189335496\n",
      "P(L_ 0 = 0 , L_ 3 = 1  | Y =  2 ) =  0.0576665602093936\n",
      "P(L_ 0 = 0 , L_ 3 = 2  | Y =  2 ) =  0.10448038253251321\n",
      "P(L_ 0 = 1 , L_ 3 = 0  | Y =  2 ) =  0.07133236959338847\n",
      "P(L_ 0 = 1 , L_ 3 = 1  | Y =  2 ) =  0.09922163805843534\n",
      "P(L_ 0 = 1 , L_ 3 = 2  | Y =  2 ) =  0.21828303480300718\n",
      "P(L_ 0 = 2 , L_ 3 = 0  | Y =  2 ) =  0.08013801413540807\n",
      "P(L_ 0 = 2 , L_ 3 = 1  | Y =  2 ) =  0.11747051525641586\n",
      "P(L_ 0 = 2 , L_ 3 = 2  | Y =  2 ) =  0.20542184351808315\n",
      "Labelers =  (1, 2)\n",
      "P(L_ 1 = 0 , L_ 2 = 0  | Y =  2 ) =  0.053535635099807424\n",
      "P(L_ 1 = 0 , L_ 2 = 1  | Y =  2 ) =  0.06064252275817541\n",
      "P(L_ 1 = 0 , L_ 2 = 2  | Y =  2 ) =  0.08613551664232615\n",
      "P(L_ 1 = 1 , L_ 2 = 0  | Y =  2 ) =  0.09616636257589689\n",
      "P(L_ 1 = 1 , L_ 2 = 1  | Y =  2 ) =  0.12278045426204481\n",
      "P(L_ 1 = 1 , L_ 2 = 2  | Y =  2 ) =  0.20710623274998552\n",
      "P(L_ 1 = 2 , L_ 2 = 0  | Y =  2 ) =  0.08344653196279873\n",
      "P(L_ 1 = 2 , L_ 2 = 1  | Y =  2 ) =  0.11996863668316138\n",
      "P(L_ 1 = 2 , L_ 2 = 2  | Y =  2 ) =  0.1702181072658035\n",
      "Labelers =  (1, 3)\n",
      "P(L_ 1 = 0 , L_ 3 = 0  | Y =  2 ) =  0.03973223446860761\n",
      "P(L_ 1 = 0 , L_ 3 = 1  | Y =  2 ) =  0.05507542668438832\n",
      "P(L_ 1 = 0 , L_ 3 = 2  | Y =  2 ) =  0.10550601334731305\n",
      "P(L_ 1 = 1 , L_ 3 = 0  | Y =  2 ) =  0.08415121743732801\n",
      "P(L_ 1 = 1 , L_ 3 = 1  | Y =  2 ) =  0.11697394344760953\n",
      "P(L_ 1 = 1 , L_ 3 = 2  | Y =  2 ) =  0.2249278887029897\n",
      "P(L_ 1 = 2 , L_ 3 = 0  | Y =  2 ) =  0.07357257371621587\n",
      "P(L_ 1 = 2 , L_ 3 = 1  | Y =  2 ) =  0.10230934339224698\n",
      "P(L_ 1 = 2 , L_ 3 = 2  | Y =  2 ) =  0.19775135880330078\n",
      "Labelers =  (2, 3)\n",
      "P(L_ 2 = 0 , L_ 3 = 0  | Y =  2 ) =  0.046044506116986725\n",
      "P(L_ 2 = 0 , L_ 3 = 1  | Y =  2 ) =  0.0639716930790727\n",
      "P(L_ 2 = 0 , L_ 3 = 2  | Y =  2 ) =  0.12313233044244361\n",
      "P(L_ 2 = 1 , L_ 3 = 0  | Y =  2 ) =  0.05990241074061221\n",
      "P(L_ 2 = 1 , L_ 3 = 1  | Y =  2 ) =  0.0832332573306161\n",
      "P(L_ 2 = 1 , L_ 3 = 2  | Y =  2 ) =  0.1602559456321533\n",
      "P(L_ 2 = 2 , L_ 3 = 0  | Y =  2 ) =  0.09150910876455252\n",
      "P(L_ 2 = 2 , L_ 3 = 1  | Y =  2 ) =  0.12715376311455603\n",
      "P(L_ 2 = 2 , L_ 3 = 2  | Y =  2 ) =  0.24479698477900663\n",
      "test =  0.09449491532507694\n"
     ]
    },
    {
     "name": "stdout",
     "output_type": "stream",
     "text": [
      "[[0.38189338 0.         0.16061121 0.15506223 0.13647371 0.16565407\n",
      "  0.12348139 0.18673732]\n",
      " [0.         0.41262562 0.17955249 0.15689594 0.14921887 0.1778834\n",
      "  0.14488143 0.18584194]\n",
      " [0.16061121 0.17955249 0.42518626 0.         0.14982331 0.18988831\n",
      "  0.1428963  0.19720138]\n",
      " [0.15506223 0.15689594 0.         0.38957248 0.14581786 0.16600402\n",
      "  0.13279305 0.17877126]\n",
      " [0.13647371 0.14921887 0.14982331 0.14581786 0.35905804 0.\n",
      "  0.12764671 0.15917339]\n",
      " [0.16565407 0.1778834  0.18988831 0.16600402 0.         0.43249866\n",
      "  0.14148187 0.20456561]\n",
      " [0.12348139 0.14488143 0.1428963  0.13279305 0.12764671 0.14148187\n",
      "  0.33609309 0.        ]\n",
      " [0.18673732 0.18584194 0.19720138 0.17877126 0.15917339 0.20456561\n",
      "  0.         0.46360032]]\n",
      "\n",
      "Condition number =  18.70961815074761 \n",
      "\n",
      "[[0.36780749 0.38883704]\n",
      " [0.43209052 0.40303037]\n",
      " [0.4234279  0.42605305]\n",
      " [0.4219067  0.37363328]\n",
      " [0.4719828  0.30339161]\n",
      " [0.36969086 0.46345986]\n",
      " [0.46132726 0.27435871]\n",
      " [0.3325835  0.52818526]]\n",
      "[0.33018588 0.66981412]\n",
      "sig\n",
      " [[ 2.35953019e-01 -1.57443838e-01 -1.77681533e-03  6.51159263e-03\n",
      "   1.35931336e-04  4.95757592e-05 -4.00075772e-03  8.78169404e-03]\n",
      " [-1.57443838e-01  2.42178948e-01  4.12661227e-03 -4.16189681e-03\n",
      "  -2.12233178e-05  2.60290965e-05  4.99915867e-03 -4.19428971e-03]\n",
      " [-1.77681533e-03  4.12661227e-03  2.44401380e-01 -1.65612839e-01\n",
      "  -2.74535355e-03  5.94137726e-03  1.02685197e-04 -2.86685748e-05]\n",
      " [ 6.51159263e-03 -4.16189681e-03 -1.65612839e-01  2.37290381e-01\n",
      "   4.13879490e-03 -1.48445001e-03 -1.35699528e-04  2.53633793e-04]\n",
      " [ 1.35931336e-04 -2.12233178e-05 -2.74535355e-03  4.13879490e-03\n",
      "   2.23849247e-01 -1.51795836e-01 -1.55145851e-06  7.20267156e-06]\n",
      " [ 4.95757592e-05  2.60290965e-05  5.94137726e-03 -1.48445001e-03\n",
      "  -1.51795836e-01  2.43498964e-01 -5.36978259e-07  2.65747915e-06]\n",
      " [-4.00075772e-03  4.99915867e-03  1.02685197e-04 -1.35699528e-04\n",
      "  -1.55145851e-06 -5.36978259e-07  2.15403271e-01 -1.47724622e-01]\n",
      " [ 8.78169404e-03 -4.19428971e-03 -2.86685748e-05  2.53633793e-04\n",
      "   7.20267156e-06  2.65747915e-06 -1.47724622e-01  2.40213349e-01]]\n",
      "\n",
      "Condition number =  5.633537387765084 \n",
      "\n",
      "moment of truth!!!\n",
      "[[ 7.50671734e+00  4.87771353e+00 -2.07228745e-01 -2.64831086e-01\n",
      "  -1.36263293e-03  5.45540637e-04 -1.78934588e-01 -2.99046486e-01]\n",
      " [ 4.87771353e+00  7.30211132e+00 -1.73888581e-01 -1.27037862e-01\n",
      "  -1.55744582e-03  7.25297584e-04 -1.96534784e-01 -1.71569144e-01]\n",
      " [-2.07228745e-01 -1.73888581e-01  7.77994406e+00  5.43414647e+00\n",
      "  -1.92579028e-01 -2.76694227e-01 -4.83466098e-04 -5.58088786e-04]\n",
      " [-2.64831086e-01 -1.27037862e-01  5.43414647e+00  8.01467357e+00\n",
      "  -2.39274747e-01 -2.32828120e-01  4.36104961e-04 -7.24574831e-05]\n",
      " [-1.36263293e-03 -1.55744582e-03 -1.92579028e-01 -2.39274747e-01\n",
      "   7.74608409e+00  4.83210438e+00 -5.51966861e-06 -3.68341940e-05]\n",
      " [ 5.45540637e-04  7.25297584e-04 -2.76694227e-01 -2.32828120e-01\n",
      "   4.83210438e+00  7.12443113e+00  3.22141707e-05  1.63906595e-06]\n",
      " [-1.78934588e-01 -1.96534784e-01 -4.83466098e-04  4.36104961e-04\n",
      "  -5.51966860e-06  3.22141707e-05  8.03430267e+00  4.94398511e+00]\n",
      " [-2.99046486e-01 -1.71569144e-01 -5.58088786e-04 -7.24574831e-05\n",
      "  -3.68341940e-05  1.63906595e-06  4.94398511e+00  7.21131803e+00]]\n"
     ]
    }
   ],
   "source": [
    "# Generate synthetic dataset \n",
    "np.random.seed(1)\n",
    "N = 50\n",
    "M = 4\n",
    "K = 2\n",
    "data = SingleTaskTreeDepsGenerator(N, M, k=K, edge_prob=1.0)\n"
   ]
  },
  {
   "cell_type": "code",
   "execution_count": 3,
   "metadata": {},
   "outputs": [
    {
     "name": "stdout",
     "output_type": "stream",
     "text": [
      "[(0, 1), (1, 2), (0, 3)]\n"
     ]
    }
   ],
   "source": [
    "print(data.E)"
   ]
  },
  {
   "cell_type": "code",
   "execution_count": 4,
   "metadata": {},
   "outputs": [],
   "source": [
    "def translate_dependencies(edges):\n",
    "    new_edges = []\n",
    "    for x,y in edges:\n",
    "        new_edges.append((2*x,2*y))\n",
    "        new_edges.append((2*x+1,2*y))\n",
    "        new_edges.append((2*x,2*y+1))\n",
    "        new_edges.append((2*x+1,2*y+1))\n",
    "    return new_edges"
   ]
  },
  {
   "cell_type": "code",
   "execution_count": 5,
   "metadata": {},
   "outputs": [
    {
     "name": "stdout",
     "output_type": "stream",
     "text": [
      "[(0, 1), (1, 2), (0, 3)]\n",
      "translated edges:  [(0, 2), (1, 2), (0, 3), (1, 3), (2, 4), (3, 4), (2, 5), (3, 5), (0, 6), (1, 6), (0, 7), (1, 7)]\n"
     ]
    },
    {
     "data": {
      "image/png": "[encoded data removed]",
      "text/plain": [
       "<Figure size 720x720 with 2 Axes>"
      ]
     },
     "metadata": {},
     "output_type": "display_data"
    }
   ],
   "source": [
    "print(data.E)\n",
    "sg_no_diag = np.copy(data.sig_inv)\n",
    "for i in range(M):\n",
    "    sg_no_diag[i*2:i*2+2,i*2:i*2+2] = np.zeros([2,2])\n",
    "visualize_matrix(np.abs(sg_no_diag))\n",
    "\n",
    "new_edges = translate_dependencies(data.E)\n",
    "print(\"translated edges: \", new_edges)"
   ]
  },
  {
   "cell_type": "code",
   "execution_count": 6,
   "metadata": {},
   "outputs": [
    {
     "name": "stdout",
     "output_type": "stream",
     "text": [
      "(8, 2)\n",
      "(8, 8)\n"
     ]
    }
   ],
   "source": [
    "iterative_deps_mask = []\n",
    "for i in range(M):\n",
    "#     iterative_deps_mask.append((2*i,2*i))\n",
    "#     iterative_deps_mask.append((2*i+1,2*i+1))\n",
    "#     iterative_deps_mask.append((2*i,2*i+1))\n",
    "#     iterative_deps_mask.append((2*i+1,2*i))\n",
    "    iterative_deps_mask.append((2*i,2*i))\n",
    "    iterative_deps_mask.append((2*i+1,2*i+1))\n",
    "\n",
    "mu_true = data.mu_true\n",
    "print(mu_true.shape)\n",
    "O_true = data.O_true\n",
    "print(O_true.shape)\n",
    "p = data.p\n",
    "O_true_inv = np.linalg.pinv(O_true)"
   ]
  },
  {
   "cell_type": "markdown",
   "metadata": {},
   "source": [
    "### Let's plug this O into our AMC algorithm"
   ]
  },
  {
   "cell_type": "code",
   "execution_count": 7,
   "metadata": {},
   "outputs": [],
   "source": [
    "from amc_utils import *"
   ]
  },
  {
   "cell_type": "code",
   "execution_count": 8,
   "metadata": {},
   "outputs": [],
   "source": [
    "mu = solveMatrixCompletionWithMu(O_true_inv,O_true,iterative_deps_mask)"
   ]
  },
  {
   "cell_type": "code",
   "execution_count": 9,
   "metadata": {},
   "outputs": [
    {
     "name": "stdout",
     "output_type": "stream",
     "text": [
      "[0.38616819 0.41424099 0.42766355 0.39241534 0.36112299 0.4344358\n",
      " 0.33905166 0.46346773]\n"
     ]
    }
   ],
   "source": [
    "print(mu)"
   ]
  },
  {
   "cell_type": "markdown",
   "metadata": {},
   "source": [
    "### First iteration of AMC"
   ]
  },
  {
   "cell_type": "code",
   "execution_count": 10,
   "metadata": {},
   "outputs": [
    {
     "name": "stdout",
     "output_type": "stream",
     "text": [
      "[(0, 0), (1, 1), (2, 2), (3, 3), (4, 4), (5, 5), (6, 6), (7, 7)]\n",
      "Index of largest value:  (2, 3)\n",
      "Largest value:  5.823090794424967\n"
     ]
    },
    {
     "data": {
      "image/png": "[encoded data removed]",
      "text/plain": [
       "<Figure size 720x720 with 2 Axes>"
      ]
     },
     "metadata": {},
     "output_type": "display_data"
    }
   ],
   "source": [
    "C_synth = O_true - np.outer(mu, mu)\n",
    "J_synth = np.linalg.pinv(C_synth)\n",
    "J_clean = copy.deepcopy(J_synth)\n",
    "# for i in range(M):\n",
    "#     for j in range(M):\n",
    "#         if abs(J_clean[i,j]) < 0.3:\n",
    "#             J_clean[i,j] = 0.0\n",
    "# print(J_clean)\n",
    "\n",
    "sg_no_diag = np.copy(J_synth)\n",
    "# for i in range(M):\n",
    "#     sg_no_diag[i*2:i*2+2,i*2:i*2+2] = np.zeros([2,2])\n",
    "visualize_matrix(np.abs(sg_no_diag))\n",
    "\n",
    "print(iterative_deps_mask)\n",
    "max_val, max_ind, J_clean = find_largest(O_true,mu,M,iterative_deps_mask,0.1)\n",
    "print(\"Index of largest value: \", max_ind)\n",
    "print(\"Largest value: \", max_val)"
   ]
  },
  {
   "cell_type": "code",
   "execution_count": 11,
   "metadata": {},
   "outputs": [],
   "source": [
    "def amc(O, O_inv,iterative_deps_mask,thresh=0.1, nonzeros=3):\n",
    "    dim = np.shape(O)[0]\n",
    "#    iterative_deps_mask = samplegrid(dim,dim,nonzeros)\n",
    "#     try:\n",
    "#         C_synth = O - np.outer(mu_true, mu_true)\n",
    "#         J_synth = np.linalg.pinv(C_synth)\n",
    "#     except:\n",
    "#         print(\"Failed to invert J before loop\")\n",
    "#         return np.zeros(np.shape(mu_true)), iterative_deps_mask\n",
    "    num_iters = 0\n",
    "    while(True):\n",
    "        num_iters = num_iters + 1\n",
    "        starttime = time.time()\n",
    "        mu = solveMatrixCompletionWithMu(O_inv,O,iterative_deps_mask)\n",
    "        max_val, max_ind, J_clean = find_largest(O,mu,dim,iterative_deps_mask,thresh)\n",
    "        #if max_val < 1e-6: return J_distances, mu_distances, max_vals, mu, num_iters\n",
    "        if max_val < 1e-6: \n",
    "            return mu, iterative_deps_mask\n",
    "\n",
    "        iterative_deps_mask.append(max_ind)\n",
    "    #return J_distances, mu_distances, max_vals, mu, num_iters\n",
    "    return mu, iterative_deps_mask"
   ]
  },
  {
   "cell_type": "code",
   "execution_count": 12,
   "metadata": {},
   "outputs": [
    {
     "name": "stdout",
     "output_type": "stream",
     "text": [
      "[(0, 0), (1, 1), (2, 2), (3, 3), (4, 4), (5, 5), (6, 6), (7, 7), (2, 3), (3, 2), (1, 0), (7, 6), (5, 4), (0, 1), (6, 7), (4, 5), (0, 7), (7, 0), (1, 7), (7, 1), (1, 6), (6, 1), (0, 6), (6, 0), (0, 3), (3, 0)]\n",
      "[(0, 7), (7, 0), (1, 7), (7, 1), (1, 6), (6, 1), (0, 6), (6, 0), (0, 3), (3, 0)]\n"
     ]
    }
   ],
   "source": [
    "mu, end_deps = amc(O_true,O_true_inv,iterative_deps_mask)\n",
    "print(end_deps)\n",
    "diag_set = []\n",
    "for i in range(M):\n",
    "    diag_set.append((2*i,2*i))\n",
    "    diag_set.append((2*i+1,2*i+1))\n",
    "    diag_set.append((2*i,2*i+1))\n",
    "    diag_set.append((2*i+1,2*i))\n",
    "diag_set = set(diag_set)\n",
    "new_deps = []\n",
    "for edge in end_deps:\n",
    "    if edge in diag_set: continue\n",
    "    new_deps.append(edge)\n",
    "\n",
    "print(new_deps)"
   ]
  },
  {
   "cell_type": "code",
   "execution_count": 13,
   "metadata": {},
   "outputs": [
    {
     "name": "stdout",
     "output_type": "stream",
     "text": [
      "[(0, 2), (1, 2), (0, 3), (1, 3), (2, 4), (3, 4), (2, 5), (3, 5), (0, 6), (1, 6), (0, 7), (1, 7)]\n"
     ]
    }
   ],
   "source": [
    "print(new_edges)"
   ]
  },
  {
   "cell_type": "code",
   "execution_count": 14,
   "metadata": {},
   "outputs": [
    {
     "name": "stdout",
     "output_type": "stream",
     "text": [
      "[(0, 7), (7, 0), (1, 7), (7, 1), (1, 6), (6, 1), (0, 6), (6, 0), (0, 3), (3, 0)]\n"
     ]
    }
   ],
   "source": [
    "print(new_deps)"
   ]
  },
  {
   "cell_type": "code",
   "execution_count": null,
   "metadata": {},
   "outputs": [],
   "source": []
  },
  {
   "cell_type": "code",
   "execution_count": 15,
   "metadata": {},
   "outputs": [
    {
     "name": "stdout",
     "output_type": "stream",
     "text": [
      "edges:  [(0, 1), (1, 2), (0, 3)]\n"
     ]
    }
   ],
   "source": [
    "O = data.rank_one_O\n",
    "mu_true = data.rank_one_mu\n",
    "O_inv = np.linalg.pinv(O)\n",
    "print(\"edges: \", data.E)\n",
    "\n",
    "iterative_deps_mask = [(i,i) for i in range(M)]"
   ]
  },
  {
   "cell_type": "code",
   "execution_count": 16,
   "metadata": {},
   "outputs": [
    {
     "name": "stdout",
     "output_type": "stream",
     "text": [
      "[[-15.52212362 -85.84803813  41.35156732  10.28299144]\n",
      " [-85.84803813 -18.09226753   6.55310092  31.39502737]\n",
      " [ 41.35156732   6.55310092 -94.12462067 -18.65150892]\n",
      " [ 10.28299144  31.39502737 -18.65150892 -48.27725144]]\n"
     ]
    }
   ],
   "source": [
    "C = O - np.outer(mu_true, mu_true)\n",
    "J = np.linalg.pinv(C)\n",
    "print(J)"
   ]
  },
  {
   "cell_type": "code",
   "execution_count": null,
   "metadata": {},
   "outputs": [],
   "source": []
  }
 ],
 "metadata": {
  "kernelspec": {
   "display_name": "Python [conda env:metal]",
   "language": "python",
   "name": "conda-env-metal-py"
  },
  "language_info": {
   "codemirror_mode": {
    "name": "ipython",
    "version": 3
   },
   "file_extension": ".py",
   "mimetype": "text/x-python",
   "name": "python",
   "nbconvert_exporter": "python",
   "pygments_lexer": "ipython3",
   "version": "3.6.6"
  }
 },
 "nbformat": 4,
 "nbformat_minor": 2
}
