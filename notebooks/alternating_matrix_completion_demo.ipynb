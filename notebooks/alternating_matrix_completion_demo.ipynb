{
 "cells": [
  {
   "cell_type": "code",
   "execution_count": 1,
   "metadata": {},
   "outputs": [
    {
     "name": "stderr",
     "output_type": "stream",
     "text": [
      "/lfs/1/annhe/anaconda3/envs/metal/lib/python3.6/importlib/_bootstrap.py:219: RuntimeWarning: numpy.dtype size changed, may indicate binary incompatibility. Expected 96, got 88\n",
      "  return f(*args, **kwds)\n"
     ]
    }
   ],
   "source": [
    "%matplotlib inline\n",
    "import sys\n",
    "sys.path.append(\"../\") # go to parent dir\n",
    "\n",
    "import numpy as np\n",
    "import torch\n",
    "import matplotlib.pyplot as plt\n",
    "import mpmath\n",
    "\n",
    "from synthetic.generate import SingleTaskTreeDepsGenerator\n",
    "from metal.label_model import LabelModel\n",
    "from metal.label_model.utils import (\n",
    "    compute_mu,\n",
    "    compute_covariance,\n",
    "    compute_inv_covariance,\n",
    "    print_matrix,\n",
    "    visualize_matrix\n",
    ")\n",
    "\n",
    "from amc_utils import *"
   ]
  },
  {
   "cell_type": "code",
   "execution_count": 2,
   "metadata": {},
   "outputs": [
    {
     "name": "stdout",
     "output_type": "stream",
     "text": [
      "(0, 1)   [0.18310474]\n",
      "(1, 1)   [0.26763419]\n",
      "(2, 1)   [0.41100465]\n",
      "(3, 1)   [0.45709073]\n",
      "((0, 1), 1, 1)   [0.20776335]\n",
      "((1, 2), 1, 1)   [0.1838389]\n",
      "((0, 3), 1, 1)   [0.2370439]\n",
      "Labeler =  0\n",
      "val:  0\n",
      "i:  0  y:  1  val:  0\n",
      "P(L= 0 , Y= 1 ) =  0.38617669571241636\n",
      "val:  1\n",
      "i:  0  y:  1  val:  1\n",
      "P(L= 1 , Y= 1 ) =  0.6138233042875836\n",
      "Labeler =  1\n",
      "val:  0\n",
      "i:  1  y:  1  val:  0\n",
      "P(L= 0 , Y= 1 ) =  0.37555302648243905\n",
      "val:  1\n",
      "i:  1  y:  1  val:  1\n",
      "P(L= 1 , Y= 1 ) =  0.6244469735175607\n",
      "Labeler =  2\n",
      "val:  0\n",
      "i:  2  y:  1  val:  0\n",
      "P(L= 0 , Y= 1 ) =  0.37172826124446584\n",
      "val:  1\n",
      "i:  2  y:  1  val:  1\n",
      "P(L= 1 , Y= 1 ) =  0.628271738755534\n",
      "Labeler =  3\n",
      "val:  0\n",
      "i:  3  y:  1  val:  0\n",
      "P(L= 0 , Y= 1 ) =  0.35418461558314\n",
      "val:  1\n",
      "i:  3  y:  1  val:  1\n",
      "P(L= 1 , Y= 1 ) =  0.6458153844168599\n",
      "Labelers =  (0, 1)\n",
      "P(L_ 0 = 0 , L_ 1 = 0  | Y =  1 ) =  0.15663394629197847\n",
      "P(L_ 0 = 0 , L_ 1 = 1  | Y =  1 ) =  0.22954274942043787\n",
      "P(L_ 0 = 1 , L_ 1 = 0  | Y =  1 ) =  0.21891908019046055\n",
      "P(L_ 0 = 1 , L_ 1 = 1  | Y =  1 ) =  0.394904224097123\n",
      "Labelers =  (0, 2)\n",
      "P(L_ 0 = 0 , L_ 2 = 0  | Y =  1 ) =  0.1440534740813203\n",
      "P(L_ 0 = 0 , L_ 2 = 1  | Y =  1 ) =  0.24212322163109604\n",
      "P(L_ 0 = 1 , L_ 2 = 0  | Y =  1 ) =  0.22767478716314563\n",
      "P(L_ 0 = 1 , L_ 2 = 1  | Y =  1 ) =  0.38614851712443804\n",
      "Labelers =  (0, 3)\n",
      "P(L_ 0 = 0 , L_ 3 = 0  | Y =  1 ) =  0.14971151810572422\n",
      "P(L_ 0 = 0 , L_ 3 = 1  | Y =  1 ) =  0.23646517760669214\n",
      "P(L_ 0 = 1 , L_ 3 = 0  | Y =  1 ) =  0.20447309747741577\n",
      "P(L_ 0 = 1 , L_ 3 = 1  | Y =  1 ) =  0.4093502068101679\n",
      "Labelers =  (1, 2)\n",
      "P(L_ 1 = 0 , L_ 2 = 0  | Y =  1 ) =  0.1497221938971373\n",
      "P(L_ 1 = 0 , L_ 2 = 1  | Y =  1 ) =  0.22583083258530176\n",
      "P(L_ 1 = 1 , L_ 2 = 0  | Y =  1 ) =  0.22200606734732853\n",
      "P(L_ 1 = 1 , L_ 2 = 1  | Y =  1 ) =  0.40244090617023226\n",
      "Labelers =  (1, 3)\n",
      "P(L_ 1 = 0 , L_ 3 = 0  | Y =  1 ) =  0.13364825146002693\n",
      "P(L_ 1 = 0 , L_ 3 = 1  | Y =  1 ) =  0.24190477502241214\n",
      "P(L_ 1 = 1 , L_ 3 = 0  | Y =  1 ) =  0.22053636412311303\n",
      "P(L_ 1 = 1 , L_ 3 = 1  | Y =  1 ) =  0.40391060939444773\n",
      "Labelers =  (2, 3)\n",
      "P(L_ 2 = 0 , L_ 3 = 0  | Y =  1 ) =  0.131687749683285\n",
      "P(L_ 2 = 0 , L_ 3 = 1  | Y =  1 ) =  0.24004051156118086\n",
      "P(L_ 2 = 1 , L_ 3 = 0  | Y =  1 ) =  0.22249686589985498\n",
      "P(L_ 2 = 1 , L_ 3 = 1  | Y =  1 ) =  0.4057748728556791\n",
      "test =  0.26031057647827804\n",
      "idx1 , idx2 =  0 0\n",
      "nodes_1 =  {0: 1}\n",
      "nodes_2 =  {0: 1}\n",
      "idx1 , idx2 =  0 1\n",
      "nodes_1 =  {0: 1}\n",
      "nodes_2 =  {0: 2}\n",
      "idx1 , idx2 =  0 2\n",
      "nodes_1 =  {0: 1}\n",
      "nodes_2 =  {1: 1}\n",
      "idx1 , idx2 =  0 3\n",
      "nodes_1 =  {0: 1}\n",
      "nodes_2 =  {1: 2}\n"
     ]
    },
    {
     "ename": "IndexError",
     "evalue": "index 2 is out of bounds for axis 0 with size 2",
     "output_type": "error",
     "traceback": [
      "\u001b[0;31m---------------------------------------------------------------------------\u001b[0m",
      "\u001b[0;31mIndexError\u001b[0m                                Traceback (most recent call last)",
      "\u001b[0;32m<ipython-input-2-67f3c55d86d3>\u001b[0m in \u001b[0;36m<module>\u001b[0;34m()\u001b[0m\n\u001b[1;32m      4\u001b[0m \u001b[0mM\u001b[0m \u001b[0;34m=\u001b[0m \u001b[0;36m4\u001b[0m\u001b[0;34m\u001b[0m\u001b[0m\n\u001b[1;32m      5\u001b[0m \u001b[0mK\u001b[0m \u001b[0;34m=\u001b[0m \u001b[0;36m1\u001b[0m\u001b[0;34m\u001b[0m\u001b[0m\n\u001b[0;32m----> 6\u001b[0;31m \u001b[0mdata\u001b[0m \u001b[0;34m=\u001b[0m \u001b[0mSingleTaskTreeDepsGenerator\u001b[0m\u001b[0;34m(\u001b[0m\u001b[0mN\u001b[0m\u001b[0;34m,\u001b[0m \u001b[0mM\u001b[0m\u001b[0;34m,\u001b[0m \u001b[0mk\u001b[0m\u001b[0;34m=\u001b[0m\u001b[0mK\u001b[0m\u001b[0;34m,\u001b[0m \u001b[0medge_prob\u001b[0m\u001b[0;34m=\u001b[0m\u001b[0;36m1.0\u001b[0m\u001b[0;34m)\u001b[0m\u001b[0;34m\u001b[0m\u001b[0m\n\u001b[0m",
      "\u001b[0;32m/lfs/1/annhe/metal/synthetic/generate.py\u001b[0m in \u001b[0;36m__init__\u001b[0;34m(self, n, m, k, class_balance, theta_range, edge_prob, theta_edge_range, special_edge_range, edges_list, higher_order, **kwargs)\u001b[0m\n\u001b[1;32m     78\u001b[0m \u001b[0;34m\u001b[0m\u001b[0m\n\u001b[1;32m     79\u001b[0m         \u001b[0;31m# Generate the true labels self.Y and label matrix self.L\u001b[0m\u001b[0;34m\u001b[0m\u001b[0;34m\u001b[0m\u001b[0m\n\u001b[0;32m---> 80\u001b[0;31m         \u001b[0mself\u001b[0m\u001b[0;34m.\u001b[0m\u001b[0m_generate_label_matrix\u001b[0m\u001b[0;34m(\u001b[0m\u001b[0mhigher_order\u001b[0m\u001b[0;34m)\u001b[0m\u001b[0;34m\u001b[0m\u001b[0m\n\u001b[0m\u001b[1;32m     81\u001b[0m \u001b[0;34m\u001b[0m\u001b[0m\n\u001b[1;32m     82\u001b[0m         \u001b[0;31m# Compute the conditional clique probabilities\u001b[0m\u001b[0;34m\u001b[0m\u001b[0;34m\u001b[0m\u001b[0m\n",
      "\u001b[0;32m/lfs/1/annhe/metal/synthetic/generate.py\u001b[0m in \u001b[0;36m_generate_label_matrix\u001b[0;34m(self, higher_order)\u001b[0m\n\u001b[1;32m    531\u001b[0m \u001b[0;34m\u001b[0m\u001b[0m\n\u001b[1;32m    532\u001b[0m         \u001b[0mself\u001b[0m\u001b[0;34m.\u001b[0m\u001b[0m_generate_true_mu\u001b[0m\u001b[0;34m(\u001b[0m\u001b[0mhigher_order\u001b[0m \u001b[0;34m=\u001b[0m \u001b[0mhigher_order\u001b[0m\u001b[0;34m)\u001b[0m\u001b[0;34m\u001b[0m\u001b[0m\n\u001b[0;32m--> 533\u001b[0;31m         \u001b[0mself\u001b[0m\u001b[0;34m.\u001b[0m\u001b[0m_generate_true_O\u001b[0m\u001b[0;34m(\u001b[0m\u001b[0mhigher_order\u001b[0m \u001b[0;34m=\u001b[0m \u001b[0mhigher_order\u001b[0m\u001b[0;34m)\u001b[0m\u001b[0;34m\u001b[0m\u001b[0m\n\u001b[0m\u001b[1;32m    534\u001b[0m         \u001b[0;31m#import pdb; pdb.set_trace()\u001b[0m\u001b[0;34m\u001b[0m\u001b[0;34m\u001b[0m\u001b[0m\n\u001b[1;32m    535\u001b[0m         \u001b[0mprint\u001b[0m\u001b[0;34m(\u001b[0m\u001b[0mself\u001b[0m\u001b[0;34m.\u001b[0m\u001b[0mO_true\u001b[0m\u001b[0;34m)\u001b[0m\u001b[0;34m\u001b[0m\u001b[0m\n",
      "\u001b[0;32m/lfs/1/annhe/metal/synthetic/generate.py\u001b[0m in \u001b[0;36m_generate_true_O\u001b[0;34m(self, higher_order)\u001b[0m\n\u001b[1;32m    492\u001b[0m                         \u001b[0;32melse\u001b[0m\u001b[0;34m:\u001b[0m\u001b[0;34m\u001b[0m\u001b[0m\n\u001b[1;32m    493\u001b[0m                             \u001b[0;31m#import pdb; pdb.set_trace()\u001b[0m\u001b[0;34m\u001b[0m\u001b[0;34m\u001b[0m\u001b[0m\n\u001b[0;32m--> 494\u001b[0;31m                             \u001b[0msm\u001b[0m \u001b[0;34m+=\u001b[0m \u001b[0;34m(\u001b[0m\u001b[0mself\u001b[0m\u001b[0;34m.\u001b[0m\u001b[0mnaive_SPA\u001b[0m\u001b[0;34m(\u001b[0m\u001b[0mnv\u001b[0m\u001b[0;34m[\u001b[0m\u001b[0;36m0\u001b[0m\u001b[0;34m]\u001b[0m\u001b[0;34m,\u001b[0m \u001b[0my\u001b[0m\u001b[0;34m,\u001b[0m \u001b[0mother_nodes\u001b[0m\u001b[0;34m=\u001b[0m\u001b[0mnodes\u001b[0m\u001b[0;34m)\u001b[0m\u001b[0;34m[\u001b[0m\u001b[0mnv\u001b[0m\u001b[0;34m[\u001b[0m\u001b[0;36m1\u001b[0m\u001b[0;34m]\u001b[0m\u001b[0;34m]\u001b[0m \u001b[0;34m/\u001b[0m \u001b[0mZ_vals\u001b[0m\u001b[0;34m[\u001b[0m\u001b[0my\u001b[0m\u001b[0;34m]\u001b[0m\u001b[0;34m)\u001b[0m \u001b[0;34m*\u001b[0m \u001b[0mself\u001b[0m\u001b[0;34m.\u001b[0m\u001b[0mp\u001b[0m\u001b[0;34m[\u001b[0m\u001b[0my\u001b[0m\u001b[0;34m-\u001b[0m\u001b[0;36m1\u001b[0m\u001b[0;34m]\u001b[0m\u001b[0;34m\u001b[0m\u001b[0m\n\u001b[0m\u001b[1;32m    495\u001b[0m \u001b[0;34m\u001b[0m\u001b[0m\n\u001b[1;32m    496\u001b[0m                 \u001b[0mself\u001b[0m\u001b[0;34m.\u001b[0m\u001b[0mO_true\u001b[0m\u001b[0;34m[\u001b[0m\u001b[0midx1\u001b[0m\u001b[0;34m,\u001b[0m \u001b[0midx2\u001b[0m\u001b[0;34m]\u001b[0m \u001b[0;34m=\u001b[0m \u001b[0msm\u001b[0m\u001b[0;34m\u001b[0m\u001b[0m\n",
      "\u001b[0;31mIndexError\u001b[0m: index 2 is out of bounds for axis 0 with size 2"
     ]
    }
   ],
   "source": [
    "# Generate synthetic dataset \n",
    "np.random.seed(1)\n",
    "N = 50\n",
    "M = 4\n",
    "K = 1\n",
    "data = SingleTaskTreeDepsGenerator(N, M, k=K, edge_prob=1.0)\n"
   ]
  },
  {
   "cell_type": "code",
   "execution_count": null,
   "metadata": {},
   "outputs": [],
   "source": [
    "print(data.p_solo)\n",
    "print(len(data.p_solo))"
   ]
  },
  {
   "cell_type": "markdown",
   "metadata": {},
   "source": [
    "### Let's plug this O into our AMC algorithm"
   ]
  },
  {
   "cell_type": "code",
   "execution_count": null,
   "metadata": {},
   "outputs": [],
   "source": [
    "from amc_utils import *"
   ]
  },
  {
   "cell_type": "markdown",
   "metadata": {},
   "source": [
    "### First iteration of AMC"
   ]
  },
  {
   "cell_type": "code",
   "execution_count": null,
   "metadata": {},
   "outputs": [],
   "source": [
    "# C_synth = O_true - np.outer(mu, mu)\n",
    "# J_synth = np.linalg.pinv(C_synth)\n",
    "# J_clean = copy.deepcopy(J_synth)\n",
    "# # for i in range(M):\n",
    "# #     for j in range(M):\n",
    "# #         if abs(J_clean[i,j]) < 0.3:\n",
    "# #             J_clean[i,j] = 0.0\n",
    "# # print(J_clean)\n",
    "\n",
    "# sg_no_diag = np.copy(J_synth)\n",
    "# # for i in range(M):\n",
    "# #     sg_no_diag[i*2:i*2+2,i*2:i*2+2] = np.zeros([2,2])\n",
    "# visualize_matrix(np.abs(sg_no_diag))\n",
    "\n",
    "# print(iterative_deps_mask)\n",
    "# max_val, max_ind, J_clean = find_largest(O_true,mu,M,iterative_deps_mask,0.1)\n",
    "# print(\"Index of largest value: \", max_ind)\n",
    "# print(\"Largest value: \", max_val)"
   ]
  },
  {
   "cell_type": "code",
   "execution_count": null,
   "metadata": {},
   "outputs": [],
   "source": [
    "def amc(O, O_inv,iterative_deps_mask,thresh=0.1, nonzeros=3):\n",
    "    dim = np.shape(O)[0]\n",
    "#    iterative_deps_mask = samplegrid(dim,dim,nonzeros)\n",
    "#     try:\n",
    "#         C_synth = O - np.outer(mu_true, mu_true)\n",
    "#         J_synth = np.linalg.pinv(C_synth)\n",
    "#     except:\n",
    "#         print(\"Failed to invert J before loop\")\n",
    "#         return np.zeros(np.shape(mu_true)), iterative_deps_mask\n",
    "    num_iters = 0\n",
    "    while(True):\n",
    "        num_iters = num_iters + 1\n",
    "        starttime = time.time()\n",
    "        mu = solveMatrixCompletionWithMu(O_inv,O,iterative_deps_mask)\n",
    "        max_val, max_ind, J_clean = find_largest(O,mu,dim,iterative_deps_mask,thresh)\n",
    "        #if max_val < 1e-6: return J_distances, mu_distances, max_vals, mu, num_iters\n",
    "        if max_val < 1e-6: \n",
    "            return mu, iterative_deps_mask\n",
    "\n",
    "        iterative_deps_mask.append(max_ind)\n",
    "    #return J_distances, mu_distances, max_vals, mu, num_iters\n",
    "    return mu, iterative_deps_mask"
   ]
  },
  {
   "cell_type": "code",
   "execution_count": null,
   "metadata": {},
   "outputs": [],
   "source": [
    "O = data.O_true\n",
    "mu_true = data.mu_true\n",
    "O_inv = np.linalg.pinv(O)\n",
    "print(\"edges: \", data.E)\n",
    "\n",
    "iterative_deps_mask = [(i,i) for i in range(M)]"
   ]
  },
  {
   "cell_type": "code",
   "execution_count": null,
   "metadata": {},
   "outputs": [],
   "source": [
    "C = O - np.outer(mu_true, mu_true)\n",
    "J = np.linalg.pinv(C)\n",
    "print(J)"
   ]
  },
  {
   "cell_type": "code",
   "execution_count": null,
   "metadata": {},
   "outputs": [],
   "source": [
    "\n"
   ]
  },
  {
   "cell_type": "code",
   "execution_count": null,
   "metadata": {},
   "outputs": [],
   "source": []
  },
  {
   "cell_type": "code",
   "execution_count": null,
   "metadata": {},
   "outputs": [],
   "source": []
  },
  {
   "cell_type": "code",
   "execution_count": null,
   "metadata": {},
   "outputs": [],
   "source": []
  }
 ],
 "metadata": {
  "kernelspec": {
   "display_name": "Python [conda env:metal]",
   "language": "python",
   "name": "conda-env-metal-py"
  },
  "language_info": {
   "codemirror_mode": {
    "name": "ipython",
    "version": 3
   },
   "file_extension": ".py",
   "mimetype": "text/x-python",
   "name": "python",
   "nbconvert_exporter": "python",
   "pygments_lexer": "ipython3",
   "version": "3.6.6"
  }
 },
 "nbformat": 4,
 "nbformat_minor": 2
}
