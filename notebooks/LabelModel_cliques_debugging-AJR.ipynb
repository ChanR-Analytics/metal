{
 "cells": [
  {
   "cell_type": "markdown",
   "metadata": {},
   "source": [
    "## Debugging the `LabelModel` with deps + higher-order cliques"
   ]
  },
  {
   "cell_type": "code",
   "execution_count": 1,
   "metadata": {
    "collapsed": true
   },
   "outputs": [],
   "source": [
    "%matplotlib inline\n",
    "%load_ext autoreload\n",
    "%autoreload 2\n",
    "\n",
    "# 052f482ee8732d1d53f6a4cd5c6a47a7009d868b\n",
    "\n",
    "import sys\n",
    "sys.path.append(\"../\") # go to parent dir\n",
    "\n",
    "import numpy as np\n",
    "import torch\n",
    "import matplotlib.pyplot as plt\n",
    "import mpmath\n",
    "\n",
    "from synthetic.generate import SingleTaskTreeDepsGenerator\n",
    "from metal.label_model import LabelModel\n",
    "from metal.label_model.utils import (\n",
    "    compute_mu,\n",
    "    compute_covariance,\n",
    "    compute_inv_covariance,\n",
    "    print_matrix,\n",
    "    visualize_matrix\n",
    ")"
   ]
  },
  {
   "cell_type": "markdown",
   "metadata": {},
   "source": [
    "### Generating a dataset"
   ]
  },
  {
   "cell_type": "code",
   "execution_count": 2,
   "metadata": {
    "collapsed": true,
    "scrolled": false
   },
   "outputs": [],
   "source": [
    "# Generate synthetic dataset\n",
    "np.random.seed(949293)\n",
    "N = 10000\n",
    "M = 15\n",
    "K = 2\n",
    "EDGE_PROB=1.0\n",
    "data = SingleTaskTreeDepsGenerator(N, M, k=K, edge_prob=EDGE_PROB)"
   ]
  },
  {
   "cell_type": "code",
   "execution_count": 3,
   "metadata": {
    "scrolled": false
   },
   "outputs": [
    {
     "name": "stdout",
     "output_type": "stream",
     "text": [
      "[(0, 1), (1, 2), (2, 3), (3, 4), (4, 5), (5, 6), (6, 7), (7, 8), (8, 9), (9, 10), (10, 11), (11, 12), (12, 13), (13, 14)]\n"
     ]
    }
   ],
   "source": [
    "# mask the diagonals so we don't get influenced by them unfairly\n",
    "'''sg_no_diag = np.copy(data.sig_inv)\n",
    "for i in range(M):\n",
    "    sg_no_diag[i*2:i*2+2,i*2:i*2+2] = np.zeros([2,2])\n",
    "for j in range(M-1):\n",
    "    sg_no_diag[2*M+j*4:2*M+j*4+4,2*M+j*4:2*M+j*4+4] = np.zeros([4,4])\n",
    "'''\n",
    "\n",
    "print(data.E)\n",
    "#visualize_matrix(np.abs(data.sig_inv))\n",
    "#visualize_matrix(np.abs(sg_no_diag))\n",
    "\n",
    "R_s = np.zeros([1,2])\n",
    "R_s[0,0] = 1\n",
    "R_s[0,1] = -1\n",
    "\n",
    "R = np.zeros([2*M-1, 2*M+4*(M-1)])\n",
    "m = M\n",
    "\n",
    "for i in range(m):\n",
    "    R[i:i+1, 2*i:2*i+2] = R_s\n",
    "\n",
    "for i in range(m-1):\n",
    "    R[m+i:m+i+1, 2*m+4*i : 2*m+4*i+2 ] = R_s\n",
    "    R[m+i:m+i+1, 2*m+4*i+2 : 2*m+4*i+4 ] = R_s\n",
    "\n",
    "V = np.copy(data.sig_this)\n",
    "\n",
    "roll = R @ V @ R.T\n",
    "R_mu = R @ data.mu_true "
   ]
  },
  {
   "cell_type": "code",
   "execution_count": 4,
   "metadata": {},
   "outputs": [
    {
     "data": {
      "image/png": "[encoded data removed]",
      "text/plain": [
       "<matplotlib.figure.Figure at 0x7f265195c2e8>"
      ]
     },
     "metadata": {},
     "output_type": "display_data"
    }
   ],
   "source": [
    "visualize_matrix(np.abs(np.linalg.inv(roll)))"
   ]
  },
  {
   "cell_type": "code",
   "execution_count": 5,
   "metadata": {},
   "outputs": [
    {
     "name": "stdout",
     "output_type": "stream",
     "text": [
      "1\n"
     ]
    }
   ],
   "source": [
    "data.k=1\n",
    "lm = LabelModel(k=data.k, class_balance=data.p)\n",
    "\n",
    "squashed_O = R @ data.O_true @ R.T"
   ]
  },
  {
   "cell_type": "code",
   "execution_count": 6,
   "metadata": {
    "scrolled": true
   },
   "outputs": [
    {
     "name": "stdout",
     "output_type": "stream",
     "text": [
      "our k is 1\n",
      "Estimating Z...\n",
      "[Epoch 0] Loss: 787.464600\n",
      "[Epoch 5000] Loss: 0.058140\n",
      "[Epoch 10000] Loss: 0.058140\n",
      "[Epoch 15000] Loss: 0.058140\n",
      "[Epoch 20000] Loss: 0.058140\n",
      "[Epoch 25000] Loss: 0.058140\n",
      "[Epoch 30000] Loss: 0.058140\n",
      "[Epoch 35000] Loss: 0.058140\n",
      "[Epoch 40000] Loss: 0.058140\n",
      "[Epoch 45000] Loss: 0.058140\n",
      "[Epoch 49999] Loss: 0.058140\n",
      "Estimating \\mu...\n",
      "[Epoch 0] Loss: 1073.772705\n",
      "[Epoch 5000] Loss: 0.000000\n",
      "[Epoch 10000] Loss: 0.000000\n",
      "[Epoch 15000] Loss: 0.000000\n",
      "[Epoch 20000] Loss: 0.000000\n",
      "[Epoch 25000] Loss: 0.000000\n",
      "[Epoch 30000] Loss: 0.000000\n",
      "[Epoch 35000] Loss: 0.000000\n",
      "[Epoch 40000] Loss: 0.000000\n",
      "[Epoch 45000] Loss: 0.000000\n",
      "[Epoch 49999] Loss: 0.000000\n",
      "Average absolute error: 0.3322026306331677\n",
      "Average absolute error -- cols swapped: 0.3322026306331677\n"
     ]
    }
   ],
   "source": [
    "# Get the exact O_inv\n",
    "O_inv = np.linalg.inv(data.O_true)\n",
    "\n",
    "# Generate c_data: clique data structure\n",
    "# Normally this is assembled while computing O, but if we pass in O\n",
    "# ourselves, we need to construct this data structure too...\n",
    "\n",
    "data.k = 1\n",
    "\n",
    "lm.train(\n",
    "    data.L,\n",
    "    deps=data.E,\n",
    "    all_unary_cliques=True,\n",
    "    higher_order_cliques=True,\n",
    "    n_epochs=50000,\n",
    "    print_every=5000,\n",
    "    lr=0.001,\n",
    "    l2=0,\n",
    "    O_inv_prec=1024,\n",
    "    O=squashed_O,\n",
    "    #O_inv=O_inv,\n",
    "    c_data=data.c_tree.c_data_1\n",
    ")\n",
    "\n",
    "ZZ_true = np.abs(np.linalg.inv(squashed_O) - np.linalg.inv(roll))\n",
    "ZZ = np.abs(lm.Z.detach().numpy() @ lm.Z.detach().numpy().T)\n",
    "\n",
    "#print(np.abs(ZZ_true - ZZ))\n",
    "\n",
    "mu_est = lm.mu.detach().numpy() # Note: we can swap column order\n",
    "mu_est_swapped = lm.mu.detach().numpy()[:,::-1] # Note: we can swap column order\n",
    "print(f\"Average absolute error: {np.mean(np.abs(mu_est -R_mu))}\")\n",
    "print(f\"Average absolute error -- cols swapped: {np.mean(np.abs(mu_est_swapped - R_mu))}\")"
   ]
  },
  {
   "cell_type": "code",
   "execution_count": 7,
   "metadata": {},
   "outputs": [
    {
     "name": "stdout",
     "output_type": "stream",
     "text": [
      "mu_est\n",
      "[[-0.17494003]\n",
      " [-0.1012973 ]\n",
      " [ 0.21297917]\n",
      " [ 0.25409067]\n",
      " [ 0.10396322]\n",
      " [-0.26736084]\n",
      " [-0.11769985]\n",
      " [ 0.24854188]\n",
      " [ 0.31910253]\n",
      " [ 0.1023389 ]\n",
      " [-0.0748187 ]\n",
      " [ 0.02857596]\n",
      " [-0.18400252]\n",
      " [-0.28874478]\n",
      " [-0.13334401]\n",
      " [-0.11928535]\n",
      " [ 0.19710033]\n",
      " [-0.11631187]\n",
      " [ 0.23980275]\n",
      " [ 0.0864536 ]\n",
      " [-0.27648407]\n",
      " [ 0.09031324]\n",
      " [ 0.29084453]\n",
      " [ 0.22842588]\n",
      " [ 0.01879531]\n",
      " [-0.09557265]\n",
      " [-0.14496298]\n",
      " [-0.06749635]\n",
      " [-0.23058803]]\n",
      "\n",
      "R_mu\n",
      " [[ 0.17336605]\n",
      " [ 0.10741031]\n",
      " [-0.22101762]\n",
      " [-0.24842976]\n",
      " [-0.09425551]\n",
      " [ 0.25584557]\n",
      " [ 0.11461263]\n",
      " [-0.26712011]\n",
      " [-0.32921171]\n",
      " [-0.10208187]\n",
      " [ 0.06554064]\n",
      " [-0.01669844]\n",
      " [ 0.19021976]\n",
      " [ 0.29865679]\n",
      " [ 0.13192383]\n",
      " [ 0.11682541]\n",
      " [-0.2053919 ]\n",
      " [ 0.11309   ]\n",
      " [-0.25607953]\n",
      " [-0.08590931]\n",
      " [ 0.28600031]\n",
      " [-0.08112996]\n",
      " [-0.29861509]\n",
      " [-0.22288903]\n",
      " [-0.0070916 ]\n",
      " [ 0.1008469 ]\n",
      " [ 0.15044619]\n",
      " [ 0.05814728]\n",
      " [ 0.22078591]]\n",
      "\n",
      "Average absolute error: 0.007508956246242508\n"
     ]
    }
   ],
   "source": [
    "print(\"mu_est\")\n",
    "print(mu_est)\n",
    "\n",
    "#mu_comb = mu_est[:,0]+mu_est[:,1]\n",
    "\n",
    "print(\"\\nR_mu\\n\", np.array(R_mu))\n",
    "print(f\"\\nAverage absolute error: {np.mean(np.abs(np.abs(mu_est)-np.abs(R_mu)))}\")\n"
   ]
  },
  {
   "cell_type": "code",
   "execution_count": 8,
   "metadata": {},
   "outputs": [
    {
     "name": "stdout",
     "output_type": "stream",
     "text": [
      "[[9.51448611e-04 1.32678533e-03 6.41057204e-04 1.41801304e-03\n",
      "  1.58871169e-03 5.12409124e-03 6.42922810e-04 5.04051461e-03\n",
      "  4.50719182e-03 2.81815065e-04 2.89312434e-04 6.94959636e-04\n",
      "  5.78768594e-04 6.33833298e-04 2.76693290e-03 3.66299499e-03\n",
      "  2.25194750e-03 1.64154741e-03 1.27695860e-03 9.00949353e-04\n",
      "  1.09370526e-03 1.45590594e-03 3.15238379e-03 1.28154193e-03\n",
      "  2.15627294e-03 2.35868005e-04 1.05005283e-04 1.95398607e-03\n",
      "  1.70749770e-03]\n",
      " [1.32678533e-03 5.70641723e-04 8.54143623e-04 2.28818028e-03\n",
      "  8.15268390e-04 2.09933360e-03 5.06350451e-04 2.01196187e-03\n",
      "  3.52795427e-03 2.16207114e-03 7.75460283e-04 1.00607374e-03\n",
      "  2.51786072e-03 1.58240202e-03 2.40326036e-03 1.24242633e-03\n",
      "  1.38974727e-03 6.11495275e-04 1.37138784e-03 1.55142306e-03\n",
      "  1.77848572e-03 2.29972592e-04 2.21568041e-04 4.50755697e-04\n",
      "  1.26711877e-03 4.36571659e-04 5.90830276e-04 4.72874976e-04\n",
      "  5.48037990e-04]\n",
      " [6.41057204e-04 8.54143623e-04 4.31269696e-04 9.60522483e-04\n",
      "  1.04740290e-03 3.36948693e-03 4.10114977e-04 3.24749296e-03\n",
      "  2.87545963e-03 1.47867760e-04 1.75545975e-04 4.68849473e-04\n",
      "  3.35288571e-04 3.86507278e-04 1.76131834e-03 2.36359900e-03\n",
      "  1.44280960e-03 1.07844077e-03 8.53644552e-04 5.60866136e-04\n",
      "  6.82585547e-04 9.43781950e-04 2.04805736e-03 8.26668630e-04\n",
      "  1.38255634e-03 1.60690676e-04 7.80562475e-05 1.26395905e-03\n",
      "  1.12032038e-03]\n",
      " [1.41801304e-03 2.28818028e-03 9.60522483e-04 2.07347146e-03\n",
      "  2.54752165e-03 8.28460652e-03 1.13829239e-03 8.67287983e-03\n",
      "  7.97717205e-03 7.48016555e-04 5.82526115e-04 1.03100136e-03\n",
      "  1.28942272e-03 1.26125858e-03 4.92761456e-03 6.27446924e-03\n",
      "  3.93779184e-03 2.66188514e-03 1.95569105e-03 1.70320326e-03\n",
      "  2.05413514e-03 2.45999958e-03 5.29100682e-03 2.19726140e-03\n",
      "  3.76233102e-03 3.37710817e-04 9.94470619e-05 3.32267306e-03\n",
      "  2.78012670e-03]\n",
      " [1.58871169e-03 8.15268390e-04 1.04740290e-03 2.54752165e-03\n",
      "  1.84296204e-03 5.63748872e-03 2.62123811e-04 3.18742859e-03\n",
      "  1.85022141e-03 1.00723877e-03 1.98772124e-04 1.18180711e-03\n",
      "  9.56684011e-04 3.68094900e-04 9.98485668e-04 2.44340145e-03\n",
      "  1.14013576e-03 1.77071190e-03 1.89549863e-03 1.19595259e-04\n",
      "  8.45325513e-05 1.12376727e-03 2.59307744e-03 8.45553412e-04\n",
      "  1.12847337e-03 4.56115232e-04 4.32371334e-04 1.41323311e-03\n",
      "  1.79093896e-03]\n",
      " [5.12409124e-03 2.09933360e-03 3.36948693e-03 8.28460652e-03\n",
      "  5.63748872e-03 1.70775531e-02 5.38195540e-04 8.30049349e-03\n",
      "  3.81844953e-03 3.80821870e-03 8.99282363e-04 3.81979141e-03\n",
      "  3.81376814e-03 1.72733830e-03 1.84911039e-03 6.48998820e-03\n",
      "  2.68521157e-03 5.34369948e-03 6.02393620e-03 1.00064019e-03\n",
      "  9.96144705e-04 3.12951233e-03 7.35224443e-03 2.23708407e-03\n",
      "  2.70367091e-03 1.49469042e-03 1.49185684e-03 3.85782438e-03\n",
      "  5.37489665e-03]\n",
      " [6.42922810e-04 5.06350451e-04 4.10114977e-04 1.13829239e-03\n",
      "  2.62123811e-04 5.38195540e-04 3.78554469e-04 1.83328363e-03\n",
      "  2.64121083e-03 1.29025619e-03 4.87691295e-04 4.91024316e-04\n",
      "  1.53575484e-03 1.00093535e-03 1.75903974e-03 1.20495491e-03\n",
      "  1.10351650e-03 1.37039579e-04 6.25675266e-04 1.01834710e-03\n",
      "  1.17545251e-03 3.26023294e-04 5.45754222e-04 4.30885198e-04\n",
      "  1.01978530e-03 2.21771257e-04 3.28491133e-04 5.32730333e-04\n",
      "  9.15341258e-05]\n",
      " [5.04051461e-03 2.01196187e-03 3.24749296e-03 8.67287983e-03\n",
      "  3.18742859e-03 8.30049349e-03 1.83328363e-03 7.06118711e-03\n",
      "  1.27707639e-02 8.04922545e-03 2.87007174e-03 3.81973728e-03\n",
      "  9.35129553e-03 5.85275551e-03 8.72675948e-03 4.31098648e-03\n",
      "  4.98791900e-03 2.43115634e-03 5.23632771e-03 5.71306814e-03\n",
      "  6.54375052e-03 7.28090431e-04 5.44321359e-04 1.56829564e-03\n",
      "  4.53854038e-03 1.65162041e-03 2.21596515e-03 1.59050269e-03\n",
      "  2.20009059e-03]\n",
      " [4.50719182e-03 3.52795427e-03 2.87545963e-03 7.97717205e-03\n",
      "  1.85022141e-03 3.81844953e-03 2.64121083e-03 1.27707639e-02\n",
      "  1.84277653e-02 9.02229569e-03 3.40832860e-03 3.44197826e-03\n",
      "  1.07364261e-02 6.99481977e-03 1.22753074e-02 8.39011236e-03\n",
      "  7.69537642e-03 9.75821649e-04 4.38996713e-03 7.11380847e-03\n",
      "  8.21072461e-03 2.26522196e-03 3.78440967e-03 3.00055497e-03\n",
      "  7.11068481e-03 1.55375157e-03 2.29887574e-03 3.70589322e-03\n",
      "  6.58206267e-04]\n",
      " [2.81815065e-04 2.16207114e-03 1.47867760e-04 7.48016555e-04\n",
      "  1.00723877e-03 3.80821870e-03 1.29025619e-03 8.04922545e-03\n",
      "  9.02229569e-03 2.61325854e-03 1.15857751e-03 2.44854949e-04\n",
      "  3.33788211e-03 2.41528671e-03 5.78936212e-03 5.61758752e-03\n",
      "  4.11422752e-03 1.28442691e-03 5.37818929e-05 2.69661437e-03\n",
      "  3.16287612e-03 1.95430849e-03 3.93984264e-03 1.98234877e-03\n",
      "  3.87232449e-03 1.83489150e-04 5.00144769e-04 2.79622963e-03\n",
      "  1.42893358e-03]\n",
      " [2.89312434e-04 7.75460283e-04 1.75545975e-04 5.82526115e-04\n",
      "  1.98772124e-04 8.99282363e-04 4.87691295e-04 2.87007174e-03\n",
      "  3.40832860e-03 1.15857751e-03 4.86132994e-04 2.29319078e-04\n",
      "  1.44320484e-03 1.00830152e-03 2.20799507e-03 1.97872683e-03\n",
      "  1.52130268e-03 3.17820797e-04 1.88960663e-04 1.09338811e-03\n",
      "  1.27625077e-03 6.57982568e-04 1.29009838e-03 7.00110754e-04\n",
      "  1.42570505e-03 1.24148440e-04 2.48345511e-04 9.63060583e-04\n",
      "  3.73455681e-04]\n",
      " [6.94959636e-04 1.00607374e-03 4.68849473e-04 1.03100136e-03\n",
      "  1.18180711e-03 3.81979141e-03 4.91024316e-04 3.81973728e-03\n",
      "  3.44197826e-03 2.44854949e-04 2.29319078e-04 5.07048802e-04\n",
      "  4.73510794e-04 5.00620818e-04 2.11663174e-03 2.77248893e-03\n",
      "  1.71403591e-03 1.22463614e-03 9.38967414e-04 7.00941769e-04\n",
      "  8.49305100e-04 1.09793413e-03 2.37307013e-03 9.70233463e-04\n",
      "  1.64024374e-03 1.70639735e-04 6.99130606e-05 1.47605588e-03\n",
      "  1.27517956e-03]\n",
      " [5.78768594e-04 2.51786072e-03 3.35288571e-04 1.28942272e-03\n",
      "  9.56684011e-04 3.81376814e-03 1.53575484e-03 9.35129553e-03\n",
      "  1.07364261e-02 3.33788211e-03 1.44320484e-03 4.73510794e-04\n",
      "  4.21466274e-03 3.00180558e-03 6.91717994e-03 6.49394883e-03\n",
      "  4.85206213e-03 1.30561794e-03 2.14590297e-04 3.30837571e-03\n",
      "  3.87216962e-03 2.21872001e-03 4.42446125e-03 2.29406760e-03\n",
      "  4.55858846e-03 2.91342582e-04 6.74248969e-04 3.20332750e-03\n",
      "  1.47897099e-03]\n",
      " [6.33833298e-04 1.58240202e-03 3.86507278e-04 1.26125858e-03\n",
      "  3.68094900e-04 1.72733830e-03 1.00093535e-03 5.85275551e-03\n",
      "  6.99481977e-03 2.41528671e-03 1.00830152e-03 5.00620818e-04\n",
      "  3.00180558e-03 2.09033002e-03 4.53600243e-03 4.02944718e-03\n",
      "  3.11491114e-03 6.15558006e-04 4.33679326e-04 2.26030637e-03\n",
      "  2.63706445e-03 1.33275774e-03 2.60417291e-03 1.42612967e-03\n",
      "  2.91779464e-03 2.66807017e-04 5.22696073e-04 1.95601713e-03\n",
      "  7.29965086e-04]\n",
      " [2.76693290e-03 2.40326036e-03 1.76131834e-03 4.92761456e-03\n",
      "  9.98485668e-04 1.84911039e-03 1.75903974e-03 8.72675948e-03\n",
      "  1.22753074e-02 5.78936212e-03 2.20799507e-03 2.11663174e-03\n",
      "  6.91717994e-03 4.53600243e-03 8.14997316e-03 5.77358345e-03\n",
      "  5.16851732e-03 4.34480849e-04 2.65481633e-03 4.64254905e-03\n",
      "  5.36457922e-03 1.61232252e-03 2.77618473e-03 2.06154412e-03\n",
      "  4.78446381e-03 9.64397387e-04 1.45485819e-03 2.58870256e-03\n",
      "  2.24251560e-04]\n",
      " [3.66299499e-03 1.24242633e-03 2.36359900e-03 6.27446924e-03\n",
      "  2.44340145e-03 6.48998820e-03 1.20495491e-03 4.31098648e-03\n",
      "  8.39011236e-03 5.61758752e-03 1.97872683e-03 2.77248893e-03\n",
      "  6.49394883e-03 4.02944718e-03 5.77358345e-03 2.55654448e-03\n",
      "  3.21367508e-03 1.91898916e-03 3.84243901e-03 3.89694295e-03\n",
      "  4.45560966e-03 3.23998770e-04 2.34719027e-05 9.36614315e-04\n",
      "  2.91034265e-03 1.19048038e-03 1.57003606e-03 8.65648481e-04\n",
      "  1.76517604e-03]\n",
      " [2.25194750e-03 1.38974727e-03 1.44280960e-03 3.93779184e-03\n",
      "  1.14013576e-03 2.68521157e-03 1.10351650e-03 4.98791900e-03\n",
      "  7.69537642e-03 4.11422752e-03 1.52130268e-03 1.71403591e-03\n",
      "  4.85206213e-03 3.11491114e-03 5.16851732e-03 3.21367508e-03\n",
      "  3.14699675e-03 7.45999124e-04 2.25643394e-03 3.12174985e-03\n",
      "  3.59341712e-03 7.83586123e-04 1.17946977e-03 1.15442902e-03\n",
      "  2.89431036e-03 7.59722304e-04 1.08013495e-03 1.35897338e-03\n",
      "  6.11250949e-04]\n",
      " [1.64154741e-03 6.11495275e-04 1.07844077e-03 2.66188514e-03\n",
      "  1.77071190e-03 5.34369948e-03 1.37039579e-04 2.43115634e-03\n",
      "  9.75821649e-04 1.28442691e-03 3.17820797e-04 1.22463614e-03\n",
      "  1.30561794e-03 6.15558006e-04 4.34480849e-04 1.91898916e-03\n",
      "  7.45999124e-04 1.66959723e-03 1.91949953e-03 3.91366091e-04\n",
      "  4.02429275e-04 9.45572210e-04 2.23891849e-03 6.60238939e-04\n",
      "  7.58369075e-04 4.81552069e-04 4.89135523e-04 1.15525367e-03\n",
      "  1.67567295e-03]\n",
      " [1.27695860e-03 1.37138784e-03 8.53644552e-04 1.95569105e-03\n",
      "  1.89549863e-03 6.02393620e-03 6.25675266e-04 5.23632771e-03\n",
      "  4.38996713e-03 5.37818929e-05 1.88960663e-04 9.38967414e-04\n",
      "  2.14590297e-04 4.33679326e-04 2.65481633e-03 3.84243901e-03\n",
      "  2.25643394e-03 1.91949953e-03 1.64462545e-03 7.34436531e-04\n",
      "  9.09298682e-04 1.57183994e-03 3.45013938e-03 1.34160406e-03\n",
      "  2.17132050e-03 3.34765928e-04 2.16069628e-04 2.08181461e-03\n",
      "  1.98173160e-03]\n",
      " [9.00949353e-04 1.55142306e-03 5.60866136e-04 1.70320326e-03\n",
      "  1.19595259e-04 1.00064019e-03 1.01834710e-03 5.71306814e-03\n",
      "  7.11380847e-03 2.69661437e-03 1.09338811e-03 7.00941769e-04\n",
      "  3.30837571e-03 2.26030637e-03 4.64254905e-03 3.89694295e-03\n",
      "  3.12174985e-03 3.91366091e-04 7.34436531e-04 2.40346753e-03\n",
      "  2.79606240e-03 1.24287106e-03 2.37055750e-03 1.38203970e-03\n",
      "  2.91537302e-03 3.48213447e-04 6.14868397e-04 1.85854697e-03\n",
      "  5.09183233e-04]\n",
      " [1.09370526e-03 1.77848572e-03 6.82585547e-04 2.05413514e-03\n",
      "  8.45325513e-05 9.96144705e-04 1.17545251e-03 6.54375052e-03\n",
      "  8.21072461e-03 3.16287612e-03 1.27625077e-03 8.49305100e-04\n",
      "  3.87216962e-03 2.63706445e-03 5.36457922e-03 4.45560966e-03\n",
      "  3.59341712e-03 4.02429275e-04 9.09298682e-04 2.79606240e-03\n",
      "  3.25117375e-03 1.41087686e-03 2.67772015e-03 1.58078926e-03\n",
      "  3.35397743e-03 4.18049692e-04 7.27169147e-04 2.11766778e-03\n",
      "  5.38721338e-04]\n",
      " [1.45590594e-03 2.29972592e-04 9.43781950e-04 2.45999958e-03\n",
      "  1.12376727e-03 3.12951233e-03 3.26023294e-04 7.28090431e-04\n",
      "  2.26522196e-03 1.95430849e-03 6.57982568e-04 1.09793413e-03\n",
      "  2.21872001e-03 1.33275774e-03 1.61232252e-03 3.23998770e-04\n",
      "  7.83586123e-04 9.45572210e-04 1.57183994e-03 1.24287106e-03\n",
      "  1.41087686e-03 1.17563528e-04 5.12594269e-04 1.28366262e-04\n",
      "  6.90929001e-04 4.61438740e-04 5.75596254e-04 4.45249742e-06\n",
      "  9.01376609e-04]\n",
      " [3.15238379e-03 2.21568041e-04 2.04805736e-03 5.29100682e-03\n",
      "  2.59307744e-03 7.35224443e-03 5.45754222e-04 5.44321359e-04\n",
      "  3.78440967e-03 3.93984264e-03 1.29009838e-03 2.37307013e-03\n",
      "  4.42446125e-03 2.60417291e-03 2.77618473e-03 2.34719027e-05\n",
      "  1.17946977e-03 2.23891849e-03 3.45013938e-03 2.37055750e-03\n",
      "  2.67772015e-03 5.12594269e-04 1.63705658e-03 2.24558719e-05\n",
      "  1.00807689e-03 9.86834297e-04 1.19556765e-03 3.74709500e-04\n",
      "  2.16096834e-03]\n",
      " [1.28154193e-03 4.50755697e-04 8.26668630e-04 2.19726140e-03\n",
      "  8.45553412e-04 2.23708407e-03 4.30885198e-04 1.56829564e-03\n",
      "  3.00055497e-03 1.98234877e-03 7.00110755e-04 9.70233463e-04\n",
      "  2.29406760e-03 1.42612967e-03 2.06154412e-03 9.36614315e-04\n",
      "  1.15442902e-03 6.60238939e-04 1.34160406e-03 1.38203970e-03\n",
      "  1.58078926e-03 1.28366262e-04 2.24558719e-05 3.42548482e-04\n",
      "  1.04660402e-03 4.17218589e-04 5.52247109e-04 3.24095104e-04\n",
      "  6.05393294e-04]\n",
      " [2.15627294e-03 1.26711877e-03 1.38255634e-03 3.76233102e-03\n",
      "  1.12847337e-03 2.70367091e-03 1.01978530e-03 4.53854038e-03\n",
      "  7.11068481e-03 3.87232449e-03 1.42570505e-03 1.64024374e-03\n",
      "  4.55858846e-03 2.91779464e-03 4.78446381e-03 2.91034265e-03\n",
      "  2.89431036e-03 7.58369075e-04 2.17132050e-03 2.91537302e-03\n",
      "  3.35397743e-03 6.90929001e-04 1.00807689e-03 1.04660402e-03\n",
      "  2.65908498e-03 7.24617889e-04 1.02257266e-03 1.21724754e-03\n",
      "  6.33428125e-04]\n",
      " [2.35868005e-04 4.36571659e-04 1.60690676e-04 3.37710817e-04\n",
      "  4.56115232e-04 1.49469042e-03 2.21771257e-04 1.65162041e-03\n",
      "  1.55375157e-03 1.83489150e-04 1.24148440e-04 1.70639735e-04\n",
      "  2.91342582e-04 2.66807017e-04 9.64397387e-04 1.19048038e-03\n",
      "  7.59722304e-04 4.81552069e-04 3.34765928e-04 3.48213447e-04\n",
      "  4.18049692e-04 4.61438740e-04 9.86834297e-04 4.17218589e-04\n",
      "  7.24617889e-04 5.36851739e-05 6.26831127e-06 6.26604855e-04\n",
      "  5.04812807e-04]\n",
      " [1.05005283e-04 5.90830276e-04 7.80562475e-05 9.94470619e-05\n",
      "  4.32371334e-04 1.49185684e-03 3.28491133e-04 2.21596515e-03\n",
      "  2.29887574e-03 5.00144769e-04 2.48345511e-04 6.99130606e-05\n",
      "  6.74248969e-04 5.22696073e-04 1.45485819e-03 1.57003606e-03\n",
      "  1.08013495e-03 4.89135523e-04 2.16069628e-04 6.14868397e-04\n",
      "  7.27169147e-04 5.75596254e-04 1.19556765e-03 5.52247109e-04\n",
      "  1.02257266e-03 6.26831128e-06 6.99919670e-05 8.02661282e-04\n",
      "  5.24945600e-04]\n",
      " [1.95398607e-03 4.72874976e-04 1.26395905e-03 3.32267306e-03\n",
      "  1.41323311e-03 3.85782438e-03 5.32730333e-04 1.59050269e-03\n",
      "  3.70589322e-03 2.79622963e-03 9.63060583e-04 1.47605588e-03\n",
      "  3.20332750e-03 1.95601713e-03 2.58870256e-03 8.65648481e-04\n",
      "  1.35897338e-03 1.15525367e-03 2.08181461e-03 1.85854697e-03\n",
      "  2.11766778e-03 4.45249742e-06 3.74709500e-04 3.24095104e-04\n",
      "  1.21724754e-03 6.26604855e-04 8.02661282e-04 2.10951884e-04\n",
      "  1.08539463e-03]\n",
      " [1.70749770e-03 5.48037990e-04 1.12032038e-03 2.78012670e-03\n",
      "  1.79093896e-03 5.37489665e-03 9.15341258e-05 2.20009059e-03\n",
      "  6.58206267e-04 1.42893358e-03 3.73455681e-04 1.27517956e-03\n",
      "  1.47897099e-03 7.29965086e-04 2.24251560e-04 1.76517604e-03\n",
      "  6.11250949e-04 1.67567295e-03 1.98173160e-03 5.09183233e-04\n",
      "  5.38721338e-04 9.01376609e-04 2.16096834e-03 6.05393294e-04\n",
      "  6.33428125e-04 5.04812807e-04 5.24945600e-04 1.08539463e-03\n",
      "  1.67634120e-03]]\n"
     ]
    },
    {
     "data": {
      "image/png": "[encoded data removed]",
      "text/plain": [
       "<matplotlib.figure.Figure at 0x7f26526d3828>"
      ]
     },
     "metadata": {},
     "output_type": "display_data"
    }
   ],
   "source": [
    "visualize_matrix(np.abs(ZZ_true - ZZ))\n",
    "\n",
    "print(np.abs(ZZ_true - ZZ))"
   ]
  },
  {
   "cell_type": "code",
   "execution_count": 9,
   "metadata": {},
   "outputs": [
    {
     "name": "stdout",
     "output_type": "stream",
     "text": [
      "[[2.36279367e-02 5.49148573e-03 1.52877365e-02 4.01492455e-02\n",
      "  1.72201207e-02 4.71218200e-02 6.31054967e-03 1.83863652e-02\n",
      "  4.38937436e-02 3.35733263e-02 1.15351443e-02 1.78452626e-02\n",
      "  3.84239592e-02 2.34216427e-02 3.07169143e-02 9.87314286e-03\n",
      "  1.60089072e-02 1.41265596e-02 2.52119751e-02 2.22110497e-02\n",
      "  2.52979687e-02 2.65406467e-04 4.96327289e-03 3.70954133e-03\n",
      "  1.43191008e-02 7.56693693e-03 9.66432079e-03 2.25154928e-03\n",
      "  1.32963604e-02]\n",
      " [5.49148573e-03 1.27630338e-03 3.55309852e-03 9.33128489e-03\n",
      "  4.00221350e-03 1.09518154e-02 1.46666609e-03 4.27326616e-03\n",
      "  1.02015622e-02 7.80294296e-03 2.68093998e-03 4.14750581e-03\n",
      "  8.93030257e-03 5.44353992e-03 7.13907011e-03 2.29466601e-03\n",
      "  3.72070937e-03 3.28322365e-03 5.85963994e-03 5.16218001e-03\n",
      "  5.87962614e-03 6.16844308e-05 1.15353882e-03 8.62152863e-04\n",
      "  3.32797311e-03 1.75866927e-03 2.24613264e-03 5.23293713e-04\n",
      "  3.09027295e-03]\n",
      " [1.52877365e-02 3.55309852e-03 9.89146409e-03 2.59773460e-02\n",
      "  1.11417544e-02 3.04887378e-02 4.08304888e-03 1.18963374e-02\n",
      "  2.84001094e-02 2.17225978e-02 7.46346363e-03 1.15462334e-02\n",
      "  2.48610520e-02 1.51542602e-02 1.98744435e-02 6.38811625e-03\n",
      "  1.03580756e-02 9.14015997e-03 1.63126403e-02 1.43709829e-02\n",
      "  1.63682798e-02 1.71723168e-04 3.21133449e-03 2.40014569e-03\n",
      "  9.26473789e-03 4.89595598e-03 6.25300430e-03 1.45679636e-03\n",
      "  8.60300488e-03]\n",
      " [4.01492455e-02 9.33128489e-03 2.59773460e-02 6.82227118e-02\n",
      "  2.92609068e-02 8.00707037e-02 1.07230611e-02 3.12426219e-02\n",
      "  7.45854669e-02 5.70487274e-02 1.96008372e-02 3.03231652e-02\n",
      "  6.52910574e-02 3.97987050e-02 5.21950329e-02 1.67767182e-02\n",
      "  2.72027792e-02 2.40042420e-02 4.28408875e-02 3.77416318e-02\n",
      "  4.29870103e-02 4.50986032e-04 8.43373098e-03 6.30335553e-03\n",
      "  2.43314134e-02 1.28579491e-02 1.64218820e-02 3.82589500e-03\n",
      "  2.25935445e-02]\n",
      " [1.72201207e-02 4.00221350e-03 1.11417544e-02 2.92609068e-02\n",
      "  1.25500826e-02 3.43425428e-02 4.59915008e-03 1.34000456e-02\n",
      "  3.19899098e-02 2.44683545e-02 8.40685242e-03 1.30056881e-02\n",
      "  2.80035123e-02 1.70697729e-02 2.23865917e-02 7.19558013e-03\n",
      "  1.16673461e-02 1.02954847e-02 1.83745733e-02 1.61874886e-02\n",
      "  1.84372457e-02 1.93429137e-04 3.61725018e-03 2.70352635e-03\n",
      "  1.04358094e-02 5.51480940e-03 7.04338990e-03 1.64093678e-03\n",
      "  9.69043275e-03]\n",
      " [4.71218200e-02 1.09518154e-02 3.04887378e-02 8.00707037e-02\n",
      "  3.43425428e-02 9.39762937e-02 1.25852964e-02 3.66684152e-02\n",
      "  8.75384556e-02 6.69561739e-02 2.30048438e-02 3.55892798e-02\n",
      "  7.66299196e-02 4.67104024e-02 6.12595558e-02 1.96902703e-02\n",
      "  3.19269877e-02 2.81729720e-02 5.02809098e-02 4.42960847e-02\n",
      "  5.04524091e-02 5.29307147e-04 9.89838658e-03 7.39803653e-03\n",
      "  2.85569621e-02 1.50909427e-02 1.92738109e-02 4.49032436e-03\n",
      "  2.65172838e-02]\n",
      " [6.31054967e-03 1.46666609e-03 4.08304888e-03 1.07230611e-02\n",
      "  4.59915008e-03 1.25852964e-02 1.68542170e-03 4.91063069e-03\n",
      "  1.17231417e-02 8.96676447e-03 3.08080650e-03 4.76611298e-03\n",
      "  1.02622716e-02 6.25545266e-03 8.20387391e-03 2.63691914e-03\n",
      "  4.27565916e-03 3.77292175e-03 6.73361467e-03 5.93212747e-03\n",
      "  6.75658185e-03 7.08847630e-05 1.32559099e-03 9.90744351e-04\n",
      "  3.82434565e-03 2.02097762e-03 2.58114694e-03 6.01343813e-04\n",
      "  3.55119213e-03]\n",
      " [1.83863652e-02 4.27326616e-03 1.18963374e-02 3.12426219e-02\n",
      "  1.34000456e-02 3.66684152e-02 4.91063069e-03 1.43075729e-02\n",
      "  3.41564485e-02 2.61254907e-02 8.97621230e-03 1.38865073e-02\n",
      "  2.99000695e-02 1.82258351e-02 2.39027391e-02 7.68290575e-03\n",
      "  1.24575251e-02 1.09927535e-02 1.96190039e-02 1.72837975e-02\n",
      "  1.96859209e-02 2.06529258e-04 3.86223094e-03 2.88662453e-03\n",
      "  1.11425818e-02 5.88830366e-03 7.52040833e-03 1.75207035e-03\n",
      "  1.03467240e-02]\n",
      " [4.38937436e-02 1.02015622e-02 2.84001094e-02 7.45854669e-02\n",
      "  3.19899098e-02 8.75384556e-02 1.17231417e-02 3.41564485e-02\n",
      "  8.15416410e-02 6.23693468e-02 2.14288989e-02 3.31512392e-02\n",
      "  7.13803934e-02 4.35105102e-02 5.70629751e-02 1.83413900e-02\n",
      "  2.97398321e-02 2.62429849e-02 4.68364203e-02 4.12615851e-02\n",
      "  4.69961710e-02 4.93047005e-04 9.22029844e-03 6.89123465e-03\n",
      "  2.66006698e-02 1.40571390e-02 1.79534601e-02 4.18271507e-03\n",
      "  2.47007195e-02]\n",
      " [3.35733263e-02 7.80294296e-03 2.17225978e-02 5.70487274e-02\n",
      "  2.44683545e-02 6.69561739e-02 8.96676447e-03 2.61254907e-02\n",
      "  6.23693468e-02 4.77048950e-02 1.63904774e-02 2.53566289e-02\n",
      "  5.45972396e-02 3.32801997e-02 4.36461719e-02 1.40289121e-02\n",
      "  2.27473212e-02 2.00726624e-02 3.58241127e-02 3.15600481e-02\n",
      "  3.59463025e-02 3.77120442e-04 7.05239659e-03 5.27094867e-03\n",
      "  2.03462474e-02 1.07519859e-02 1.37321934e-02 3.19926363e-03\n",
      "  1.88930186e-02]\n",
      " [1.15351443e-02 2.68093998e-03 7.46346363e-03 1.96008372e-02\n",
      "  8.40685242e-03 2.30048438e-02 3.08080650e-03 8.97621230e-03\n",
      "  2.14288989e-02 1.63904774e-02 5.63145040e-03 8.71204630e-03\n",
      "  1.87585535e-02 1.14344317e-02 1.49959788e-02 4.82006232e-03\n",
      "  7.81553873e-03 6.89657779e-03 1.23084709e-02 1.08434209e-02\n",
      "  1.23504529e-02 1.29571275e-04 2.42306680e-03 1.81099581e-03\n",
      "  6.99057629e-03 3.69417399e-03 4.71811552e-03 1.09920498e-03\n",
      "  6.49127505e-03]\n",
      " [1.78452626e-02 4.14750581e-03 1.15462334e-02 3.03231652e-02\n",
      "  1.30056881e-02 3.55892798e-02 4.76611298e-03 1.38865073e-02\n",
      "  3.31512392e-02 2.53566289e-02 8.71204630e-03 1.34778335e-02\n",
      "  2.90201235e-02 1.76894567e-02 2.31992919e-02 7.45680120e-03\n",
      "  1.20909056e-02 1.06692416e-02 1.90416252e-02 1.67751429e-02\n",
      "  1.91065729e-02 2.00451193e-04 3.74856717e-03 2.80167244e-03\n",
      "  1.08146605e-02 5.71501346e-03 7.29908601e-03 1.70050769e-03\n",
      "  1.00422244e-02]\n",
      " [3.84239592e-02 8.93030257e-03 2.48610520e-02 6.52910574e-02\n",
      "  2.80035123e-02 7.66299196e-02 1.02622716e-02 2.99000695e-02\n",
      "  7.13803934e-02 5.45972396e-02 1.87585535e-02 2.90201235e-02\n",
      "  6.24853816e-02 3.80884821e-02 4.99521172e-02 1.60557921e-02\n",
      "  2.60338262e-02 2.29727360e-02 4.09999365e-02 3.61198051e-02\n",
      "  4.11397800e-02 4.31606339e-04 8.07131818e-03 6.03248885e-03\n",
      "  2.32858482e-02 1.23054196e-02 1.57162038e-02 3.66148931e-03\n",
      "  2.16226587e-02]\n",
      " [2.34216427e-02 5.44353992e-03 1.51542602e-02 3.97987050e-02\n",
      "  1.70697729e-02 4.67104024e-02 6.25545266e-03 1.82258351e-02\n",
      "  4.35105102e-02 3.32801997e-02 1.14344317e-02 1.76894567e-02\n",
      "  3.80884821e-02 2.32171498e-02 3.04487269e-02 9.78694108e-03\n",
      "  1.58691344e-02 1.40032215e-02 2.49918510e-02 2.20171264e-02\n",
      "  2.50770938e-02 2.63089220e-04 4.91993886e-03 3.67715356e-03\n",
      "  1.41940817e-02 7.50087048e-03 9.57994222e-03 2.23189114e-03\n",
      "  1.31802708e-02]\n",
      " [3.07169143e-02 7.13907011e-03 1.98744435e-02 5.21950329e-02\n",
      "  2.23865917e-02 6.12595558e-02 8.20387391e-03 2.39027391e-02\n",
      "  5.70629751e-02 4.36461719e-02 1.49959788e-02 2.31992919e-02\n",
      "  4.99521172e-02 3.04487269e-02 3.99327642e-02 1.28353350e-02\n",
      "  2.08119836e-02 1.83648842e-02 3.27762042e-02 2.88749254e-02\n",
      "  3.28879981e-02 3.45035109e-04 6.45238007e-03 4.82249739e-03\n",
      "  1.86151926e-02 9.83720907e-03 1.25638611e-02 2.92707091e-03\n",
      "  1.72856043e-02]\n",
      " [9.87314286e-03 2.29466601e-03 6.38811625e-03 1.67767182e-02\n",
      "  7.19558013e-03 1.96902703e-02 2.63691914e-03 7.68290575e-03\n",
      "  1.83413900e-02 1.40289121e-02 4.82006232e-03 7.45680120e-03\n",
      "  1.60557921e-02 9.78694108e-03 1.28353350e-02 4.12558029e-03\n",
      "  6.68946383e-03 5.90290820e-03 1.05350474e-02 9.28108406e-03\n",
      "  1.05709806e-02 1.10902446e-04 2.07394759e-03 1.55006474e-03\n",
      "  5.98336325e-03 3.16191169e-03 4.03832214e-03 9.40829831e-04\n",
      "  5.55600211e-03]\n",
      " [1.60089072e-02 3.72070937e-03 1.03580756e-02 2.72027792e-02\n",
      "  1.16673461e-02 3.19269877e-02 4.27565916e-03 1.24575251e-02\n",
      "  2.97398321e-02 2.27473212e-02 7.81553873e-03 1.20909056e-02\n",
      "  2.60338262e-02 1.58691344e-02 2.08119836e-02 6.68946383e-03\n",
      "  1.08466987e-02 9.57133012e-03 1.70821589e-02 1.50489075e-02\n",
      "  1.71404232e-02 1.79823891e-04 3.36282326e-03 2.51336812e-03\n",
      "  9.70178478e-03 5.12691365e-03 6.54797822e-03 1.52551803e-03\n",
      "  9.00883573e-03]\n",
      " [1.41265596e-02 3.28322365e-03 9.14015997e-03 2.40042420e-02\n",
      "  1.02954847e-02 2.81729720e-02 3.77292175e-03 1.09927535e-02\n",
      "  2.62429849e-02 2.00726624e-02 6.89657779e-03 1.06692416e-02\n",
      "  2.29727360e-02 1.40032215e-02 1.83648842e-02 5.90290820e-03\n",
      "  9.57133012e-03 8.44592100e-03 1.50736171e-02 1.32794379e-02\n",
      "  1.51250305e-02 1.58679970e-04 2.96741824e-03 2.21784312e-03\n",
      "  8.56103664e-03 4.52408465e-03 5.77805865e-03 1.34614569e-03\n",
      "  7.94956542e-03]\n",
      " [2.52119751e-02 5.85963994e-03 1.63126403e-02 4.28408875e-02\n",
      "  1.83745733e-02 5.02809098e-02 6.73361467e-03 1.96190039e-02\n",
      "  4.68364203e-02 3.58241127e-02 1.23084709e-02 1.90416252e-02\n",
      "  4.09999365e-02 2.49918510e-02 3.27762042e-02 1.05350474e-02\n",
      "  1.70821589e-02 1.50736171e-02 2.69022089e-02 2.37000987e-02\n",
      "  2.69939676e-02 2.83199559e-04 5.29601523e-03 3.95823236e-03\n",
      "  1.52790664e-02 8.07423128e-03 1.03122257e-02 2.40249519e-03\n",
      "  1.41877606e-02]\n",
      " [2.22110497e-02 5.16218001e-03 1.43709829e-02 3.77416318e-02\n",
      "  1.61874886e-02 4.42960847e-02 5.93212747e-03 1.72837975e-02\n",
      "  4.12615851e-02 3.15600481e-02 1.08434209e-02 1.67751429e-02\n",
      "  3.61198051e-02 2.20171264e-02 2.88749254e-02 9.28108406e-03\n",
      "  1.50489075e-02 1.32794379e-02 2.37000987e-02 2.08791286e-02\n",
      "  2.37809356e-02 2.49490944e-04 4.66564229e-03 3.48709275e-03\n",
      "  1.34604331e-02 7.11317346e-03 9.08478435e-03 2.11653153e-03\n",
      "  1.24990229e-02]\n",
      " [2.52979687e-02 5.87962614e-03 1.63682798e-02 4.29870103e-02\n",
      "  1.84372457e-02 5.04524091e-02 6.75658185e-03 1.96859209e-02\n",
      "  4.69961710e-02 3.59463025e-02 1.23504529e-02 1.91065729e-02\n",
      "  4.11397800e-02 2.50770938e-02 3.28879981e-02 1.05709806e-02\n",
      "  1.71404232e-02 1.51250305e-02 2.69939676e-02 2.37809356e-02\n",
      "  2.70860393e-02 2.84165502e-04 5.31407900e-03 3.97173320e-03\n",
      "  1.53311806e-02 8.10177106e-03 1.03473989e-02 2.41068968e-03\n",
      "  1.42361525e-02]\n",
      " [2.65406467e-04 6.16844308e-05 1.71723168e-04 4.50986032e-04\n",
      "  1.93429137e-04 5.29307147e-04 7.08847630e-05 2.06529258e-04\n",
      "  4.93047005e-04 3.77120442e-04 1.29571275e-04 2.00451193e-04\n",
      "  4.31606339e-04 2.63089220e-04 3.45035109e-04 1.10902446e-04\n",
      "  1.79823891e-04 1.58679970e-04 2.83199559e-04 2.49490944e-04\n",
      "  2.84165502e-04 2.98124185e-06 5.57511533e-05 4.16683129e-05\n",
      "  1.60842735e-04 8.49974343e-05 1.08556802e-04 2.52910674e-05\n",
      "  1.49354558e-04]\n",
      " [4.96327289e-03 1.15353882e-03 3.21133449e-03 8.43373098e-03\n",
      "  3.61725018e-03 9.89838658e-03 1.32559099e-03 3.86223094e-03\n",
      "  9.22029844e-03 7.05239659e-03 2.42306680e-03 3.74856717e-03\n",
      "  8.07131818e-03 4.91993886e-03 6.45238007e-03 2.07394759e-03\n",
      "  3.36282326e-03 2.96741824e-03 5.29601523e-03 4.66564229e-03\n",
      "  5.31407900e-03 5.57511533e-05 1.04258269e-03 7.79224447e-04\n",
      "  3.00786335e-03 1.58950709e-03 2.03008252e-03 4.72959346e-04\n",
      "  2.79302700e-03]\n",
      " [3.70954133e-03 8.62152863e-04 2.40014569e-03 6.30335553e-03\n",
      "  2.70352635e-03 7.39803653e-03 9.90744351e-04 2.88662453e-03\n",
      "  6.89123465e-03 5.27094867e-03 1.81099581e-03 2.80167244e-03\n",
      "  6.03248885e-03 3.67715356e-03 4.82249739e-03 1.55006474e-03\n",
      "  2.51336812e-03 2.21784312e-03 3.95823236e-03 3.48709275e-03\n",
      "  3.97173320e-03 4.16683129e-05 7.79224447e-04 5.82390966e-04\n",
      "  2.24807172e-03 1.18799477e-03 1.51728007e-03 3.53488974e-04\n",
      "  2.08750342e-03]\n",
      " [1.43191008e-02 3.32797311e-03 9.26473789e-03 2.43314134e-02\n",
      "  1.04358094e-02 2.85569621e-02 3.82434565e-03 1.11425818e-02\n",
      "  2.66006698e-02 2.03462474e-02 6.99057629e-03 1.08146605e-02\n",
      "  2.32858482e-02 1.41940817e-02 1.86151926e-02 5.98336325e-03\n",
      "  9.70178478e-03 8.56103664e-03 1.52790664e-02 1.34604331e-02\n",
      "  1.53311806e-02 1.60842735e-04 3.00786335e-03 2.24807172e-03\n",
      "  8.67772126e-03 4.58574671e-03 5.85681203e-03 1.36449329e-03\n",
      "  8.05791586e-03]\n",
      " [7.56693693e-03 1.75866927e-03 4.89595598e-03 1.28579491e-02\n",
      "  5.51480940e-03 1.50909427e-02 2.02097762e-03 5.88830366e-03\n",
      "  1.40571390e-02 1.07519859e-02 3.69417399e-03 5.71501346e-03\n",
      "  1.23054196e-02 7.50087048e-03 9.83720907e-03 3.16191169e-03\n",
      "  5.12691365e-03 4.52408465e-03 8.07423128e-03 7.11317346e-03\n",
      "  8.10177106e-03 8.49974343e-05 1.58950709e-03 1.18799477e-03\n",
      "  4.58574671e-03 2.42334044e-03 3.09503563e-03 7.21067252e-04\n",
      "  4.25821019e-03]\n",
      " [9.66432079e-03 2.24613264e-03 6.25300430e-03 1.64218820e-02\n",
      "  7.04338990e-03 1.92738109e-02 2.58114694e-03 7.52040833e-03\n",
      "  1.79534601e-02 1.37321934e-02 4.71811552e-03 7.29908601e-03\n",
      "  1.57162038e-02 9.57994222e-03 1.25638611e-02 4.03832214e-03\n",
      "  6.54797822e-03 5.77805865e-03 1.03122257e-02 9.08478435e-03\n",
      "  1.03473989e-02 1.08556802e-04 2.03008252e-03 1.51728007e-03\n",
      "  5.85681203e-03 3.09503563e-03 3.95290954e-03 9.20930794e-04\n",
      "  5.43848980e-03]\n",
      " [2.25154928e-03 5.23293713e-04 1.45679636e-03 3.82589500e-03\n",
      "  1.64093678e-03 4.49032436e-03 6.01343813e-04 1.75207035e-03\n",
      "  4.18271507e-03 3.19926363e-03 1.09920498e-03 1.70050769e-03\n",
      "  3.66148931e-03 2.23189114e-03 2.92707091e-03 9.40829831e-04\n",
      "  1.52551803e-03 1.34614569e-03 2.40249519e-03 2.11653153e-03\n",
      "  2.41068968e-03 2.52910674e-05 4.72959346e-04 3.53488974e-04\n",
      "  1.36449329e-03 7.21067252e-04 9.20930794e-04 2.14554246e-04\n",
      "  1.26703449e-03]\n",
      " [1.32963604e-02 3.09027295e-03 8.60300488e-03 2.25935445e-02\n",
      "  9.69043275e-03 2.65172838e-02 3.55119213e-03 1.03467240e-02\n",
      "  2.47007195e-02 1.88930186e-02 6.49127505e-03 1.00422244e-02\n",
      "  2.16226587e-02 1.31802708e-02 1.72856043e-02 5.55600211e-03\n",
      "  9.00883573e-03 7.94956542e-03 1.41877606e-02 1.24990229e-02\n",
      "  1.42361525e-02 1.49354558e-04 2.79302700e-03 2.08750342e-03\n",
      "  8.05791586e-03 4.25821019e-03 5.43848980e-03 1.26703449e-03\n",
      "  7.48237999e-03]]\n",
      "\n",
      "\n",
      "\n",
      "[[2.45793853e-02 4.16470040e-03 1.59287937e-02 4.15672585e-02\n",
      "  1.88088324e-02 5.22459112e-02 5.66762686e-03 1.33458506e-02\n",
      "  3.93865518e-02 3.32915112e-02 1.12458318e-02 1.85402222e-02\n",
      "  3.78451906e-02 2.27878094e-02 2.79499814e-02 6.21014787e-03\n",
      "  1.37569597e-02 1.57681070e-02 2.64889337e-02 2.13101003e-02\n",
      "  2.42042635e-02 1.72131241e-03 8.11565667e-03 2.42799940e-03\n",
      "  1.21628279e-02 7.80280493e-03 9.76932608e-03 2.97563209e-04\n",
      "  1.50038581e-02]\n",
      " [4.16470040e-03 7.05661660e-04 2.69895489e-03 7.04310462e-03\n",
      "  3.18694510e-03 8.85248184e-03 9.60315636e-04 2.26130430e-03\n",
      "  6.67360798e-03 5.64087182e-03 1.90547970e-03 3.14143207e-03\n",
      "  6.41244184e-03 3.86113790e-03 4.73580975e-03 1.05223968e-03\n",
      "  2.33096210e-03 2.67172838e-03 4.48825210e-03 3.61075695e-03\n",
      "  4.10114042e-03 2.91657023e-04 1.37510686e-03 4.11397166e-04\n",
      "  2.06085434e-03 1.32209761e-03 1.65530236e-03 5.04187374e-05\n",
      "  2.54223496e-03]\n",
      " [1.59287937e-02 2.69895489e-03 1.03227338e-02 2.69378684e-02\n",
      "  1.21891573e-02 3.38582247e-02 3.67293390e-03 8.64884444e-03\n",
      "  2.55246498e-02 2.15747301e-02 7.28791766e-03 1.20150829e-02\n",
      "  2.45257635e-02 1.47677530e-02 1.81131251e-02 4.02451726e-03\n",
      "  8.91526602e-03 1.02186007e-02 1.71662848e-02 1.38101168e-02\n",
      "  1.56856943e-02 1.11550512e-03 5.25939185e-03 1.57347706e-03\n",
      "  7.88218156e-03 5.05664665e-03 6.33106055e-03 1.92837309e-04\n",
      "  9.72332526e-03]\n",
      " [4.15672585e-02 7.04310462e-03 2.69378684e-02 7.02961832e-02\n",
      "  3.18084285e-02 8.83553103e-02 9.58476868e-03 2.25697421e-02\n",
      "  6.66082948e-02 5.63007109e-02 1.90183111e-02 3.13541666e-02\n",
      "  6.40016347e-02 3.85374464e-02 4.72674184e-02 1.05022490e-02\n",
      "  2.32649874e-02 2.66661271e-02 4.47965786e-02 3.60384285e-02\n",
      "  4.09328751e-02 2.91098561e-03 1.37247378e-02 4.10609413e-03\n",
      "  2.05690823e-02 1.31956600e-02 1.65213291e-02 5.03221934e-04\n",
      "  2.53736712e-02]\n",
      " [1.88088324e-02 3.18694510e-03 1.21891573e-02 3.18084285e-02\n",
      "  1.43930446e-02 3.99800315e-02 4.33702627e-03 1.02126170e-02\n",
      "  3.01396884e-02 2.54755933e-02 8.60562455e-03 1.41874952e-02\n",
      "  2.89601963e-02 1.74378678e-02 2.13881060e-02 4.75217868e-03\n",
      "  1.05272103e-02 1.20661967e-02 2.02700719e-02 1.63070839e-02\n",
      "  1.85217783e-02 1.31719641e-03 6.21032761e-03 1.85797294e-03\n",
      "  9.30733606e-03 5.97092463e-03 7.47576123e-03 2.27703669e-04\n",
      "  1.14813717e-02]\n",
      " [5.22459112e-02 8.85248184e-03 3.38582247e-02 8.83553103e-02\n",
      "  3.99800315e-02 1.11053847e-01 1.20471008e-02 2.83679217e-02\n",
      "  8.37200060e-02 7.07643926e-02 2.39041261e-02 3.94090712e-02\n",
      "  8.04436877e-02 4.84377407e-02 5.94104454e-02 1.32002821e-02\n",
      "  2.92417761e-02 3.35166715e-02 5.63048460e-02 4.52967249e-02\n",
      "  5.14485538e-02 3.65881948e-03 1.72506310e-02 5.16095245e-03\n",
      "  2.58532912e-02 1.65856332e-02 2.07656678e-02 6.32499985e-04\n",
      "  3.18921804e-02]\n",
      " [5.66762686e-03 9.60315636e-04 3.67293390e-03 9.58476868e-03\n",
      "  4.33702627e-03 1.20471008e-02 1.30686723e-03 3.07734706e-03\n",
      "  9.08193085e-03 7.67650828e-03 2.59311520e-03 4.27508866e-03\n",
      "  8.72651674e-03 5.25451731e-03 6.44483417e-03 1.43196422e-03\n",
      "  3.17214266e-03 3.63588217e-03 6.10793941e-03 4.91378037e-03\n",
      "  5.58112934e-03 3.96908057e-04 1.87134522e-03 5.59859152e-04\n",
      "  2.80456035e-03 1.79920637e-03 2.25265580e-03 6.86134808e-05\n",
      "  3.45965801e-03]\n",
      " [1.33458506e-02 2.26130430e-03 8.64884444e-03 2.25697421e-02\n",
      "  1.02126170e-02 2.83679217e-02 3.07734706e-03 7.24638579e-03\n",
      "  2.13856846e-02 1.80762652e-02 6.10614056e-03 1.00667700e-02\n",
      "  2.05487739e-02 1.23730795e-02 1.51759796e-02 3.37191927e-03\n",
      "  7.46960612e-03 8.56159721e-03 1.43826762e-02 1.15707293e-02\n",
      "  1.31421704e-02 9.34619689e-04 4.40655230e-03 1.31832890e-03\n",
      "  6.60404144e-03 4.23668325e-03 5.30444318e-03 1.61567659e-04\n",
      "  8.14663339e-03]\n",
      " [3.93865518e-02 6.67360798e-03 2.55246498e-02 6.66082948e-02\n",
      "  3.01396884e-02 8.37200060e-02 9.08193085e-03 2.13856846e-02\n",
      "  6.31138757e-02 5.33470511e-02 1.80205703e-02 2.97092609e-02\n",
      "  6.06439672e-02 3.65156904e-02 4.47876677e-02 9.95127764e-03\n",
      "  2.20444556e-02 2.52671633e-02 4.24464531e-02 3.41477767e-02\n",
      "  3.87854464e-02 2.75826897e-03 1.30047081e-02 3.89067968e-03\n",
      "  1.94899850e-02 1.25033874e-02 1.56545844e-02 4.76821850e-04\n",
      "  2.40425132e-02]\n",
      " [3.32915112e-02 5.64087182e-03 2.15747301e-02 5.63007109e-02\n",
      "  2.54755933e-02 7.07643926e-02 7.67650828e-03 1.80762652e-02\n",
      "  5.33470511e-02 4.50916365e-02 1.52318999e-02 2.51117740e-02\n",
      "  5.12593575e-02 3.08649130e-02 3.78568098e-02 8.41132458e-03\n",
      "  1.86330937e-02 2.13570893e-02 3.58778946e-02 2.88634337e-02\n",
      "  3.27834263e-02 2.33142893e-03 1.09922392e-02 3.28859990e-03\n",
      "  1.64739229e-02 1.05684968e-02 1.32320486e-02 4.03034006e-04\n",
      "  2.03219522e-02]\n",
      " [1.12458318e-02 1.90547970e-03 7.28791766e-03 1.90183111e-02\n",
      "  8.60562455e-03 2.39041261e-02 2.59311520e-03 6.10614056e-03\n",
      "  1.80205703e-02 1.52318999e-02 5.14531741e-03 8.48272722e-03\n",
      "  1.73153486e-02 1.04261301e-02 1.27879838e-02 2.84133549e-03\n",
      "  6.29423605e-03 7.21439859e-03 1.21195102e-02 9.75003280e-03\n",
      "  1.10742021e-02 7.87553843e-04 3.71316518e-03 1.11088506e-03\n",
      "  5.56487124e-03 3.57002555e-03 4.46977001e-03 1.36144401e-04\n",
      "  6.86473073e-03]\n",
      " [1.85402222e-02 3.14143207e-03 1.20150829e-02 3.13541666e-02\n",
      "  1.41874952e-02 3.94090712e-02 4.27508866e-03 1.00667700e-02\n",
      "  2.97092609e-02 2.51117740e-02 8.48272722e-03 1.39848823e-02\n",
      "  2.85466127e-02 1.71888359e-02 2.10826602e-02 4.68431227e-03\n",
      "  1.03768697e-02 1.18938778e-02 1.99805927e-02 1.60742011e-02\n",
      "  1.82572678e-02 1.29838532e-03 6.12163730e-03 1.83143897e-03\n",
      "  9.17441677e-03 5.88565320e-03 7.36899907e-03 2.24451811e-04\n",
      "  1.13174040e-02]\n",
      " [3.78451906e-02 6.41244184e-03 2.45257635e-02 6.40016347e-02\n",
      "  2.89601963e-02 8.04436877e-02 8.72651674e-03 2.05487739e-02\n",
      "  6.06439672e-02 5.12593575e-02 1.73153486e-02 2.85466127e-02\n",
      "  5.82707189e-02 3.50866765e-02 4.30349372e-02 9.56184324e-03\n",
      "  2.11817641e-02 2.42783539e-02 4.07853462e-02 3.28114294e-02\n",
      "  3.72676104e-02 2.65032635e-03 1.24957794e-02 3.73842125e-03\n",
      "  1.87272597e-02 1.20140770e-02 1.50419548e-02 4.58161812e-04\n",
      "  2.31016297e-02]\n",
      " [2.27878094e-02 3.86113790e-03 1.47677530e-02 3.85374464e-02\n",
      "  1.74378678e-02 4.84377407e-02 5.25451731e-03 1.23730795e-02\n",
      "  3.65156904e-02 3.08649130e-02 1.04261301e-02 1.71888359e-02\n",
      "  3.50866765e-02 2.11268198e-02 2.59127244e-02 5.75749390e-03\n",
      "  1.27542233e-02 1.46187795e-02 2.45581716e-02 1.97568201e-02\n",
      "  2.24400293e-02 1.59584696e-03 7.52411177e-03 2.25102389e-03\n",
      "  1.12762870e-02 7.23406347e-03 9.05724615e-03 2.75874016e-04\n",
      "  1.39102358e-02]\n",
      " [2.79499814e-02 4.73580975e-03 1.81131251e-02 4.72674184e-02\n",
      "  2.13881060e-02 5.94104454e-02 6.44483417e-03 1.51759796e-02\n",
      "  4.47876677e-02 3.78568098e-02 1.27879838e-02 2.10826602e-02\n",
      "  4.30349372e-02 2.59127244e-02 3.17827910e-02 7.06175156e-03\n",
      "  1.56434663e-02 1.79304034e-02 3.01213879e-02 2.42323764e-02\n",
      "  2.75234189e-02 1.95735763e-03 9.22856480e-03 2.76095327e-03\n",
      "  1.38307288e-02 8.87281168e-03 1.11090029e-02 3.38368351e-04\n",
      "  1.70613527e-02]\n",
      " [6.21014787e-03 1.05223968e-03 4.02451726e-03 1.05022490e-02\n",
      "  4.75217868e-03 1.32002821e-02 1.43196422e-03 3.37191927e-03\n",
      "  9.95127764e-03 8.41132458e-03 2.84133549e-03 4.68431227e-03\n",
      "  9.56184324e-03 5.75749390e-03 7.06175156e-03 1.56903581e-03\n",
      "  3.47578875e-03 3.98391904e-03 6.69260835e-03 5.38414111e-03\n",
      "  6.11537090e-03 4.34901216e-04 2.05047568e-03 6.13450422e-04\n",
      "  3.07302061e-03 1.97143131e-03 2.46828608e-03 7.51813495e-05\n",
      "  3.79082607e-03]\n",
      " [1.37569597e-02 2.33096210e-03 8.91526602e-03 2.32649874e-02\n",
      "  1.05272103e-02 2.92417761e-02 3.17214266e-03 7.46960612e-03\n",
      "  2.20444556e-02 1.86330937e-02 6.29423605e-03 1.03768697e-02\n",
      "  2.11817641e-02 1.27542233e-02 1.56434663e-02 3.47578875e-03\n",
      "  7.69970194e-03 8.82533100e-03 1.48257250e-02 1.19271576e-02\n",
      "  1.35470061e-02 9.63410013e-04 4.54229303e-03 1.35893910e-03\n",
      "  6.80747442e-03 4.36719134e-03 5.46784326e-03 1.66544647e-04\n",
      "  8.39758478e-03]\n",
      " [1.57681070e-02 2.67172838e-03 1.02186007e-02 2.66661271e-02\n",
      "  1.20661967e-02 3.35166715e-02 3.63588217e-03 8.56159721e-03\n",
      "  2.52671633e-02 2.13570893e-02 7.21439859e-03 1.18938778e-02\n",
      "  2.42783539e-02 1.46187795e-02 1.79304034e-02 3.98391904e-03\n",
      "  8.82533100e-03 1.01155182e-02 1.69931166e-02 1.36708040e-02\n",
      "  1.55274598e-02 1.10425218e-03 5.20633673e-03 1.55760418e-03\n",
      "  7.80266756e-03 5.00563672e-03 6.26719417e-03 1.90892024e-04\n",
      "  9.62523837e-03]\n",
      " [2.64889337e-02 4.48825210e-03 1.71662848e-02 4.47965786e-02\n",
      "  2.02700719e-02 5.63048460e-02 6.10793941e-03 1.43826762e-02\n",
      "  4.24464531e-02 3.58778946e-02 1.21195102e-02 1.99805927e-02\n",
      "  4.07853462e-02 2.45581716e-02 3.01213879e-02 6.69260835e-03\n",
      "  1.48257250e-02 1.69931166e-02 2.85468344e-02 2.29656622e-02\n",
      "  2.60846689e-02 1.85503950e-03 8.74615461e-03 2.61662831e-03\n",
      "  1.31077459e-02 8.40899721e-03 1.05282953e-02 3.20680585e-04\n",
      "  1.61694922e-02]\n",
      " [2.13101003e-02 3.61075695e-03 1.38101168e-02 3.60384285e-02\n",
      "  1.63070839e-02 4.52967249e-02 4.91378037e-03 1.15707293e-02\n",
      "  3.41477767e-02 2.88634337e-02 9.75003280e-03 1.60742011e-02\n",
      "  3.28114294e-02 1.97568201e-02 2.42323764e-02 5.38414111e-03\n",
      "  1.19271576e-02 1.36708040e-02 2.29656622e-02 1.84756611e-02\n",
      "  2.09848732e-02 1.49236200e-03 7.03619979e-03 2.10505305e-03\n",
      "  1.05450600e-02 6.76496001e-03 8.46991595e-03 2.57984560e-04\n",
      "  1.30082062e-02]\n",
      " [2.42042635e-02 4.10114042e-03 1.56856943e-02 4.09328751e-02\n",
      "  1.85217783e-02 5.14485538e-02 5.58112934e-03 1.31421704e-02\n",
      "  3.87854464e-02 3.27834263e-02 1.10742021e-02 1.82572678e-02\n",
      "  3.72676104e-02 2.24400293e-02 2.75234189e-02 6.11537090e-03\n",
      "  1.35470061e-02 1.55274598e-02 2.60846689e-02 2.09848732e-02\n",
      "  2.38348655e-02 1.69504236e-03 7.99179915e-03 2.39094393e-03\n",
      "  1.19772032e-02 7.68372137e-03 9.62022971e-03 2.93021905e-04\n",
      "  1.47748739e-02]\n",
      " [1.72131241e-03 2.91657023e-04 1.11550512e-03 2.91098561e-03\n",
      "  1.31719641e-03 3.65881948e-03 3.96908057e-04 9.34619689e-04\n",
      "  2.75826897e-03 2.33142893e-03 7.87553843e-04 1.29838532e-03\n",
      "  2.65032635e-03 1.59584696e-03 1.95735763e-03 4.34901216e-04\n",
      "  9.63410013e-04 1.10425218e-03 1.85503950e-03 1.49236200e-03\n",
      "  1.69504236e-03 1.20544770e-04 5.68345422e-04 1.70034575e-04\n",
      "  8.51771736e-04 5.46436175e-04 6.84153056e-04 2.08385700e-05\n",
      "  1.05073117e-03]\n",
      " [8.11565667e-03 1.37510686e-03 5.25939185e-03 1.37247378e-02\n",
      "  6.21032761e-03 1.72506310e-02 1.87134522e-03 4.40655230e-03\n",
      "  1.30047081e-02 1.09922392e-02 3.71316518e-03 6.12163730e-03\n",
      "  1.24957794e-02 7.52411177e-03 9.22856480e-03 2.05047568e-03\n",
      "  4.54229303e-03 5.20633673e-03 8.74615461e-03 7.03619979e-03\n",
      "  7.99179915e-03 5.68345422e-04 2.67963926e-03 8.01680319e-04\n",
      "  4.01594024e-03 2.57634139e-03 3.22565017e-03 9.82498459e-05\n",
      "  4.95399535e-03]\n",
      " [2.42799940e-03 4.11397166e-04 1.57347706e-03 4.10609413e-03\n",
      "  1.85797294e-03 5.16095245e-03 5.59859152e-04 1.31832890e-03\n",
      "  3.89067968e-03 3.28859990e-03 1.11088506e-03 1.83143897e-03\n",
      "  3.73842125e-03 2.25102389e-03 2.76095327e-03 6.13450422e-04\n",
      "  1.35893910e-03 1.55760418e-03 2.61662831e-03 2.10505305e-03\n",
      "  2.39094393e-03 1.70034575e-04 8.01680319e-04 2.39842484e-04\n",
      "  1.20146770e-03 7.70776183e-04 9.65032959e-04 2.93938701e-05\n",
      "  1.48211012e-03]\n",
      " [1.21628279e-02 2.06085434e-03 7.88218156e-03 2.05690823e-02\n",
      "  9.30733606e-03 2.58532912e-02 2.80456035e-03 6.60404144e-03\n",
      "  1.94899850e-02 1.64739229e-02 5.56487124e-03 9.17441677e-03\n",
      "  1.87272597e-02 1.12762870e-02 1.38307288e-02 3.07302061e-03\n",
      "  6.80747442e-03 7.80266756e-03 1.31077459e-02 1.05450600e-02\n",
      "  1.19772032e-02 8.51771736e-04 4.01594024e-03 1.20146770e-03\n",
      "  6.01863628e-03 3.86112882e-03 4.83423937e-03 1.47245752e-04\n",
      "  7.42448773e-03]\n",
      " [7.80280493e-03 1.32209761e-03 5.05664665e-03 1.31956600e-02\n",
      "  5.97092463e-03 1.65856332e-02 1.79920637e-03 4.23668325e-03\n",
      "  1.25033874e-02 1.05684968e-02 3.57002555e-03 5.88565320e-03\n",
      "  1.20140770e-02 7.23406347e-03 8.87281168e-03 1.97143131e-03\n",
      "  4.36719134e-03 5.00563672e-03 8.40899721e-03 6.76496001e-03\n",
      "  7.68372137e-03 5.46436175e-04 2.57634139e-03 7.70776183e-04\n",
      "  3.86112882e-03 2.47702561e-03 3.10130394e-03 9.44623971e-05\n",
      "  4.76302300e-03]\n",
      " [9.76932608e-03 1.65530236e-03 6.33106055e-03 1.65213291e-02\n",
      "  7.47576123e-03 2.07656678e-02 2.25265580e-03 5.30444318e-03\n",
      "  1.56545844e-02 1.32320486e-02 4.46977001e-03 7.36899907e-03\n",
      "  1.50419548e-02 9.05724615e-03 1.11090029e-02 2.46828608e-03\n",
      "  5.46784326e-03 6.26719417e-03 1.05282953e-02 8.46991595e-03\n",
      "  9.62022971e-03 6.84153056e-04 3.22565017e-03 9.65032959e-04\n",
      "  4.83423937e-03 3.10130394e-03 3.88291758e-03 1.18269512e-04\n",
      "  5.96343540e-03]\n",
      " [2.97563209e-04 5.04187374e-05 1.92837309e-04 5.03221934e-04\n",
      "  2.27703669e-04 6.32499985e-04 6.86134808e-05 1.61567659e-04\n",
      "  4.76821850e-04 4.03034006e-04 1.36144401e-04 2.24451811e-04\n",
      "  4.58161812e-04 2.75874016e-04 3.38368351e-04 7.51813495e-05\n",
      "  1.66544647e-04 1.90892024e-04 3.20680585e-04 2.57984560e-04\n",
      "  2.93021905e-04 2.08385700e-05 9.82498459e-05 2.93938701e-05\n",
      "  1.47245752e-04 9.44623971e-05 1.18269512e-04 3.60236254e-06\n",
      "  1.81639858e-04]\n",
      " [1.50038581e-02 2.54223496e-03 9.72332526e-03 2.53736712e-02\n",
      "  1.14813717e-02 3.18921804e-02 3.45965801e-03 8.14663339e-03\n",
      "  2.40425132e-02 2.03219522e-02 6.86473073e-03 1.13174040e-02\n",
      "  2.31016297e-02 1.39102358e-02 1.70613527e-02 3.79082607e-03\n",
      "  8.39758478e-03 9.62523837e-03 1.61694922e-02 1.30082062e-02\n",
      "  1.47748739e-02 1.05073117e-03 4.95399535e-03 1.48211012e-03\n",
      "  7.42448773e-03 4.76302300e-03 5.96343540e-03 1.81639858e-04\n",
      "  9.15872119e-03]]\n",
      "\n",
      "\n",
      "\n",
      "[[9.51448611e-04 1.32678533e-03 6.41057204e-04 1.41801304e-03\n",
      "  1.58871169e-03 5.12409124e-03 6.42922810e-04 5.04051461e-03\n",
      "  4.50719182e-03 2.81815065e-04 2.89312434e-04 6.94959636e-04\n",
      "  5.78768594e-04 6.33833298e-04 2.76693290e-03 3.66299499e-03\n",
      "  2.25194750e-03 1.64154741e-03 1.27695860e-03 9.00949353e-04\n",
      "  1.09370526e-03 1.45590594e-03 3.15238379e-03 1.28154193e-03\n",
      "  2.15627294e-03 2.35868005e-04 1.05005283e-04 1.95398607e-03\n",
      "  1.70749770e-03]\n",
      " [1.32678533e-03 5.70641723e-04 8.54143623e-04 2.28818028e-03\n",
      "  8.15268390e-04 2.09933360e-03 5.06350451e-04 2.01196187e-03\n",
      "  3.52795427e-03 2.16207114e-03 7.75460283e-04 1.00607374e-03\n",
      "  2.51786072e-03 1.58240202e-03 2.40326036e-03 1.24242633e-03\n",
      "  1.38974727e-03 6.11495275e-04 1.37138784e-03 1.55142306e-03\n",
      "  1.77848572e-03 2.29972592e-04 2.21568041e-04 4.50755697e-04\n",
      "  1.26711877e-03 4.36571659e-04 5.90830276e-04 4.72874976e-04\n",
      "  5.48037990e-04]\n",
      " [6.41057204e-04 8.54143623e-04 4.31269696e-04 9.60522483e-04\n",
      "  1.04740290e-03 3.36948693e-03 4.10114977e-04 3.24749296e-03\n",
      "  2.87545963e-03 1.47867760e-04 1.75545975e-04 4.68849473e-04\n",
      "  3.35288571e-04 3.86507278e-04 1.76131834e-03 2.36359900e-03\n",
      "  1.44280960e-03 1.07844077e-03 8.53644552e-04 5.60866136e-04\n",
      "  6.82585547e-04 9.43781950e-04 2.04805736e-03 8.26668630e-04\n",
      "  1.38255634e-03 1.60690676e-04 7.80562475e-05 1.26395905e-03\n",
      "  1.12032038e-03]\n",
      " [1.41801304e-03 2.28818028e-03 9.60522483e-04 2.07347146e-03\n",
      "  2.54752165e-03 8.28460652e-03 1.13829239e-03 8.67287983e-03\n",
      "  7.97717205e-03 7.48016555e-04 5.82526115e-04 1.03100136e-03\n",
      "  1.28942272e-03 1.26125858e-03 4.92761456e-03 6.27446924e-03\n",
      "  3.93779184e-03 2.66188514e-03 1.95569105e-03 1.70320326e-03\n",
      "  2.05413514e-03 2.45999958e-03 5.29100682e-03 2.19726140e-03\n",
      "  3.76233102e-03 3.37710817e-04 9.94470619e-05 3.32267306e-03\n",
      "  2.78012670e-03]\n",
      " [1.58871169e-03 8.15268390e-04 1.04740290e-03 2.54752165e-03\n",
      "  1.84296204e-03 5.63748872e-03 2.62123811e-04 3.18742859e-03\n",
      "  1.85022141e-03 1.00723877e-03 1.98772124e-04 1.18180711e-03\n",
      "  9.56684011e-04 3.68094900e-04 9.98485668e-04 2.44340145e-03\n",
      "  1.14013576e-03 1.77071190e-03 1.89549863e-03 1.19595259e-04\n",
      "  8.45325513e-05 1.12376727e-03 2.59307744e-03 8.45553412e-04\n",
      "  1.12847337e-03 4.56115232e-04 4.32371334e-04 1.41323311e-03\n",
      "  1.79093896e-03]\n",
      " [5.12409124e-03 2.09933360e-03 3.36948693e-03 8.28460652e-03\n",
      "  5.63748872e-03 1.70775531e-02 5.38195540e-04 8.30049349e-03\n",
      "  3.81844953e-03 3.80821870e-03 8.99282363e-04 3.81979141e-03\n",
      "  3.81376814e-03 1.72733830e-03 1.84911039e-03 6.48998820e-03\n",
      "  2.68521157e-03 5.34369948e-03 6.02393620e-03 1.00064019e-03\n",
      "  9.96144705e-04 3.12951233e-03 7.35224443e-03 2.23708407e-03\n",
      "  2.70367091e-03 1.49469042e-03 1.49185684e-03 3.85782438e-03\n",
      "  5.37489665e-03]\n",
      " [6.42922810e-04 5.06350451e-04 4.10114977e-04 1.13829239e-03\n",
      "  2.62123811e-04 5.38195540e-04 3.78554469e-04 1.83328363e-03\n",
      "  2.64121083e-03 1.29025619e-03 4.87691295e-04 4.91024316e-04\n",
      "  1.53575484e-03 1.00093535e-03 1.75903974e-03 1.20495491e-03\n",
      "  1.10351650e-03 1.37039579e-04 6.25675266e-04 1.01834710e-03\n",
      "  1.17545251e-03 3.26023294e-04 5.45754222e-04 4.30885198e-04\n",
      "  1.01978530e-03 2.21771257e-04 3.28491133e-04 5.32730333e-04\n",
      "  9.15341258e-05]\n",
      " [5.04051461e-03 2.01196187e-03 3.24749296e-03 8.67287983e-03\n",
      "  3.18742859e-03 8.30049349e-03 1.83328363e-03 7.06118711e-03\n",
      "  1.27707639e-02 8.04922545e-03 2.87007174e-03 3.81973728e-03\n",
      "  9.35129553e-03 5.85275551e-03 8.72675948e-03 4.31098648e-03\n",
      "  4.98791900e-03 2.43115634e-03 5.23632771e-03 5.71306814e-03\n",
      "  6.54375052e-03 7.28090431e-04 5.44321359e-04 1.56829564e-03\n",
      "  4.53854038e-03 1.65162041e-03 2.21596515e-03 1.59050269e-03\n",
      "  2.20009059e-03]\n",
      " [4.50719182e-03 3.52795427e-03 2.87545963e-03 7.97717205e-03\n",
      "  1.85022141e-03 3.81844953e-03 2.64121083e-03 1.27707639e-02\n",
      "  1.84277653e-02 9.02229569e-03 3.40832860e-03 3.44197826e-03\n",
      "  1.07364261e-02 6.99481977e-03 1.22753074e-02 8.39011236e-03\n",
      "  7.69537642e-03 9.75821649e-04 4.38996713e-03 7.11380847e-03\n",
      "  8.21072461e-03 2.26522196e-03 3.78440967e-03 3.00055497e-03\n",
      "  7.11068481e-03 1.55375157e-03 2.29887574e-03 3.70589322e-03\n",
      "  6.58206267e-04]\n",
      " [2.81815065e-04 2.16207114e-03 1.47867760e-04 7.48016555e-04\n",
      "  1.00723877e-03 3.80821870e-03 1.29025619e-03 8.04922545e-03\n",
      "  9.02229569e-03 2.61325854e-03 1.15857751e-03 2.44854949e-04\n",
      "  3.33788211e-03 2.41528671e-03 5.78936212e-03 5.61758752e-03\n",
      "  4.11422752e-03 1.28442691e-03 5.37818929e-05 2.69661437e-03\n",
      "  3.16287612e-03 1.95430849e-03 3.93984264e-03 1.98234877e-03\n",
      "  3.87232449e-03 1.83489150e-04 5.00144769e-04 2.79622963e-03\n",
      "  1.42893358e-03]\n",
      " [2.89312434e-04 7.75460283e-04 1.75545975e-04 5.82526115e-04\n",
      "  1.98772124e-04 8.99282363e-04 4.87691295e-04 2.87007174e-03\n",
      "  3.40832860e-03 1.15857751e-03 4.86132994e-04 2.29319078e-04\n",
      "  1.44320484e-03 1.00830152e-03 2.20799507e-03 1.97872683e-03\n",
      "  1.52130268e-03 3.17820797e-04 1.88960663e-04 1.09338811e-03\n",
      "  1.27625077e-03 6.57982568e-04 1.29009838e-03 7.00110754e-04\n",
      "  1.42570505e-03 1.24148440e-04 2.48345511e-04 9.63060583e-04\n",
      "  3.73455681e-04]\n",
      " [6.94959636e-04 1.00607374e-03 4.68849473e-04 1.03100136e-03\n",
      "  1.18180711e-03 3.81979141e-03 4.91024316e-04 3.81973728e-03\n",
      "  3.44197826e-03 2.44854949e-04 2.29319078e-04 5.07048802e-04\n",
      "  4.73510794e-04 5.00620818e-04 2.11663174e-03 2.77248893e-03\n",
      "  1.71403591e-03 1.22463614e-03 9.38967414e-04 7.00941769e-04\n",
      "  8.49305100e-04 1.09793413e-03 2.37307013e-03 9.70233463e-04\n",
      "  1.64024374e-03 1.70639735e-04 6.99130606e-05 1.47605588e-03\n",
      "  1.27517956e-03]\n",
      " [5.78768594e-04 2.51786072e-03 3.35288571e-04 1.28942272e-03\n",
      "  9.56684011e-04 3.81376814e-03 1.53575484e-03 9.35129553e-03\n",
      "  1.07364261e-02 3.33788211e-03 1.44320484e-03 4.73510794e-04\n",
      "  4.21466274e-03 3.00180558e-03 6.91717994e-03 6.49394883e-03\n",
      "  4.85206213e-03 1.30561794e-03 2.14590297e-04 3.30837571e-03\n",
      "  3.87216962e-03 2.21872001e-03 4.42446125e-03 2.29406760e-03\n",
      "  4.55858846e-03 2.91342582e-04 6.74248969e-04 3.20332750e-03\n",
      "  1.47897099e-03]\n",
      " [6.33833298e-04 1.58240202e-03 3.86507278e-04 1.26125858e-03\n",
      "  3.68094900e-04 1.72733830e-03 1.00093535e-03 5.85275551e-03\n",
      "  6.99481977e-03 2.41528671e-03 1.00830152e-03 5.00620818e-04\n",
      "  3.00180558e-03 2.09033002e-03 4.53600243e-03 4.02944718e-03\n",
      "  3.11491114e-03 6.15558006e-04 4.33679326e-04 2.26030637e-03\n",
      "  2.63706445e-03 1.33275774e-03 2.60417291e-03 1.42612967e-03\n",
      "  2.91779464e-03 2.66807017e-04 5.22696073e-04 1.95601713e-03\n",
      "  7.29965086e-04]\n",
      " [2.76693290e-03 2.40326036e-03 1.76131834e-03 4.92761456e-03\n",
      "  9.98485668e-04 1.84911039e-03 1.75903974e-03 8.72675948e-03\n",
      "  1.22753074e-02 5.78936212e-03 2.20799507e-03 2.11663174e-03\n",
      "  6.91717994e-03 4.53600243e-03 8.14997316e-03 5.77358345e-03\n",
      "  5.16851732e-03 4.34480849e-04 2.65481633e-03 4.64254905e-03\n",
      "  5.36457922e-03 1.61232252e-03 2.77618473e-03 2.06154412e-03\n",
      "  4.78446381e-03 9.64397387e-04 1.45485819e-03 2.58870256e-03\n",
      "  2.24251560e-04]\n",
      " [3.66299499e-03 1.24242633e-03 2.36359900e-03 6.27446924e-03\n",
      "  2.44340145e-03 6.48998820e-03 1.20495491e-03 4.31098648e-03\n",
      "  8.39011236e-03 5.61758752e-03 1.97872683e-03 2.77248893e-03\n",
      "  6.49394883e-03 4.02944718e-03 5.77358345e-03 2.55654448e-03\n",
      "  3.21367508e-03 1.91898916e-03 3.84243901e-03 3.89694295e-03\n",
      "  4.45560966e-03 3.23998770e-04 2.34719027e-05 9.36614315e-04\n",
      "  2.91034265e-03 1.19048038e-03 1.57003606e-03 8.65648481e-04\n",
      "  1.76517604e-03]\n",
      " [2.25194750e-03 1.38974727e-03 1.44280960e-03 3.93779184e-03\n",
      "  1.14013576e-03 2.68521157e-03 1.10351650e-03 4.98791900e-03\n",
      "  7.69537642e-03 4.11422752e-03 1.52130268e-03 1.71403591e-03\n",
      "  4.85206213e-03 3.11491114e-03 5.16851732e-03 3.21367508e-03\n",
      "  3.14699675e-03 7.45999124e-04 2.25643394e-03 3.12174985e-03\n",
      "  3.59341712e-03 7.83586123e-04 1.17946977e-03 1.15442902e-03\n",
      "  2.89431036e-03 7.59722304e-04 1.08013495e-03 1.35897338e-03\n",
      "  6.11250949e-04]\n",
      " [1.64154741e-03 6.11495275e-04 1.07844077e-03 2.66188514e-03\n",
      "  1.77071190e-03 5.34369948e-03 1.37039579e-04 2.43115634e-03\n",
      "  9.75821649e-04 1.28442691e-03 3.17820797e-04 1.22463614e-03\n",
      "  1.30561794e-03 6.15558006e-04 4.34480849e-04 1.91898916e-03\n",
      "  7.45999124e-04 1.66959723e-03 1.91949953e-03 3.91366091e-04\n",
      "  4.02429275e-04 9.45572210e-04 2.23891849e-03 6.60238939e-04\n",
      "  7.58369075e-04 4.81552069e-04 4.89135523e-04 1.15525367e-03\n",
      "  1.67567295e-03]\n",
      " [1.27695860e-03 1.37138784e-03 8.53644552e-04 1.95569105e-03\n",
      "  1.89549863e-03 6.02393620e-03 6.25675266e-04 5.23632771e-03\n",
      "  4.38996713e-03 5.37818929e-05 1.88960663e-04 9.38967414e-04\n",
      "  2.14590297e-04 4.33679326e-04 2.65481633e-03 3.84243901e-03\n",
      "  2.25643394e-03 1.91949953e-03 1.64462545e-03 7.34436531e-04\n",
      "  9.09298682e-04 1.57183994e-03 3.45013938e-03 1.34160406e-03\n",
      "  2.17132050e-03 3.34765928e-04 2.16069628e-04 2.08181461e-03\n",
      "  1.98173160e-03]\n",
      " [9.00949353e-04 1.55142306e-03 5.60866136e-04 1.70320326e-03\n",
      "  1.19595259e-04 1.00064019e-03 1.01834710e-03 5.71306814e-03\n",
      "  7.11380847e-03 2.69661437e-03 1.09338811e-03 7.00941769e-04\n",
      "  3.30837571e-03 2.26030637e-03 4.64254905e-03 3.89694295e-03\n",
      "  3.12174985e-03 3.91366091e-04 7.34436531e-04 2.40346753e-03\n",
      "  2.79606240e-03 1.24287106e-03 2.37055750e-03 1.38203970e-03\n",
      "  2.91537302e-03 3.48213447e-04 6.14868397e-04 1.85854697e-03\n",
      "  5.09183233e-04]\n",
      " [1.09370526e-03 1.77848572e-03 6.82585547e-04 2.05413514e-03\n",
      "  8.45325513e-05 9.96144705e-04 1.17545251e-03 6.54375052e-03\n",
      "  8.21072461e-03 3.16287612e-03 1.27625077e-03 8.49305100e-04\n",
      "  3.87216962e-03 2.63706445e-03 5.36457922e-03 4.45560966e-03\n",
      "  3.59341712e-03 4.02429275e-04 9.09298682e-04 2.79606240e-03\n",
      "  3.25117375e-03 1.41087686e-03 2.67772015e-03 1.58078926e-03\n",
      "  3.35397743e-03 4.18049692e-04 7.27169147e-04 2.11766778e-03\n",
      "  5.38721338e-04]\n",
      " [1.45590594e-03 2.29972592e-04 9.43781950e-04 2.45999958e-03\n",
      "  1.12376727e-03 3.12951233e-03 3.26023294e-04 7.28090431e-04\n",
      "  2.26522196e-03 1.95430849e-03 6.57982568e-04 1.09793413e-03\n",
      "  2.21872001e-03 1.33275774e-03 1.61232252e-03 3.23998770e-04\n",
      "  7.83586123e-04 9.45572210e-04 1.57183994e-03 1.24287106e-03\n",
      "  1.41087686e-03 1.17563528e-04 5.12594269e-04 1.28366262e-04\n",
      "  6.90929001e-04 4.61438740e-04 5.75596254e-04 4.45249742e-06\n",
      "  9.01376609e-04]\n",
      " [3.15238379e-03 2.21568041e-04 2.04805736e-03 5.29100682e-03\n",
      "  2.59307744e-03 7.35224443e-03 5.45754222e-04 5.44321359e-04\n",
      "  3.78440967e-03 3.93984264e-03 1.29009838e-03 2.37307013e-03\n",
      "  4.42446125e-03 2.60417291e-03 2.77618473e-03 2.34719027e-05\n",
      "  1.17946977e-03 2.23891849e-03 3.45013938e-03 2.37055750e-03\n",
      "  2.67772015e-03 5.12594269e-04 1.63705658e-03 2.24558719e-05\n",
      "  1.00807689e-03 9.86834297e-04 1.19556765e-03 3.74709500e-04\n",
      "  2.16096834e-03]\n",
      " [1.28154193e-03 4.50755697e-04 8.26668630e-04 2.19726140e-03\n",
      "  8.45553412e-04 2.23708407e-03 4.30885198e-04 1.56829564e-03\n",
      "  3.00055497e-03 1.98234877e-03 7.00110755e-04 9.70233463e-04\n",
      "  2.29406760e-03 1.42612967e-03 2.06154412e-03 9.36614315e-04\n",
      "  1.15442902e-03 6.60238939e-04 1.34160406e-03 1.38203970e-03\n",
      "  1.58078926e-03 1.28366262e-04 2.24558719e-05 3.42548482e-04\n",
      "  1.04660402e-03 4.17218589e-04 5.52247109e-04 3.24095104e-04\n",
      "  6.05393294e-04]\n",
      " [2.15627294e-03 1.26711877e-03 1.38255634e-03 3.76233102e-03\n",
      "  1.12847337e-03 2.70367091e-03 1.01978530e-03 4.53854038e-03\n",
      "  7.11068481e-03 3.87232449e-03 1.42570505e-03 1.64024374e-03\n",
      "  4.55858846e-03 2.91779464e-03 4.78446381e-03 2.91034265e-03\n",
      "  2.89431036e-03 7.58369075e-04 2.17132050e-03 2.91537302e-03\n",
      "  3.35397743e-03 6.90929001e-04 1.00807689e-03 1.04660402e-03\n",
      "  2.65908498e-03 7.24617889e-04 1.02257266e-03 1.21724754e-03\n",
      "  6.33428125e-04]\n",
      " [2.35868005e-04 4.36571659e-04 1.60690676e-04 3.37710817e-04\n",
      "  4.56115232e-04 1.49469042e-03 2.21771257e-04 1.65162041e-03\n",
      "  1.55375157e-03 1.83489150e-04 1.24148440e-04 1.70639735e-04\n",
      "  2.91342582e-04 2.66807017e-04 9.64397387e-04 1.19048038e-03\n",
      "  7.59722304e-04 4.81552069e-04 3.34765928e-04 3.48213447e-04\n",
      "  4.18049692e-04 4.61438740e-04 9.86834297e-04 4.17218589e-04\n",
      "  7.24617889e-04 5.36851739e-05 6.26831127e-06 6.26604855e-04\n",
      "  5.04812807e-04]\n",
      " [1.05005283e-04 5.90830276e-04 7.80562475e-05 9.94470619e-05\n",
      "  4.32371334e-04 1.49185684e-03 3.28491133e-04 2.21596515e-03\n",
      "  2.29887574e-03 5.00144769e-04 2.48345511e-04 6.99130606e-05\n",
      "  6.74248969e-04 5.22696073e-04 1.45485819e-03 1.57003606e-03\n",
      "  1.08013495e-03 4.89135523e-04 2.16069628e-04 6.14868397e-04\n",
      "  7.27169147e-04 5.75596254e-04 1.19556765e-03 5.52247109e-04\n",
      "  1.02257266e-03 6.26831128e-06 6.99919670e-05 8.02661282e-04\n",
      "  5.24945600e-04]\n",
      " [1.95398607e-03 4.72874976e-04 1.26395905e-03 3.32267306e-03\n",
      "  1.41323311e-03 3.85782438e-03 5.32730333e-04 1.59050269e-03\n",
      "  3.70589322e-03 2.79622963e-03 9.63060583e-04 1.47605588e-03\n",
      "  3.20332750e-03 1.95601713e-03 2.58870256e-03 8.65648481e-04\n",
      "  1.35897338e-03 1.15525367e-03 2.08181461e-03 1.85854697e-03\n",
      "  2.11766778e-03 4.45249742e-06 3.74709500e-04 3.24095104e-04\n",
      "  1.21724754e-03 6.26604855e-04 8.02661282e-04 2.10951884e-04\n",
      "  1.08539463e-03]\n",
      " [1.70749770e-03 5.48037990e-04 1.12032038e-03 2.78012670e-03\n",
      "  1.79093896e-03 5.37489665e-03 9.15341258e-05 2.20009059e-03\n",
      "  6.58206267e-04 1.42893358e-03 3.73455681e-04 1.27517956e-03\n",
      "  1.47897099e-03 7.29965086e-04 2.24251560e-04 1.76517604e-03\n",
      "  6.11250949e-04 1.67567295e-03 1.98173160e-03 5.09183233e-04\n",
      "  5.38721338e-04 9.01376609e-04 2.16096834e-03 6.05393294e-04\n",
      "  6.33428125e-04 5.04812807e-04 5.24945600e-04 1.08539463e-03\n",
      "  1.67634120e-03]]\n",
      "\n",
      "\n",
      "\n"
     ]
    }
   ],
   "source": [
    "ZZ_true = np.abs(np.linalg.inv(squashed_O) - np.linalg.inv(roll))\n",
    "print(ZZ_true)\n",
    "print(\"\\n\\n\")\n",
    "ZZ = np.abs(lm.Z.detach().numpy() @ lm.Z.detach().numpy().T)\n",
    "print(ZZ)\n",
    "print(\"\\n\\n\")\n",
    "\n",
    "print(np.abs(ZZ_true - ZZ))\n",
    "print(\"\\n\\n\")\n",
    "\n"
   ]
  },
  {
   "cell_type": "code",
   "execution_count": 10,
   "metadata": {},
   "outputs": [
    {
     "data": {
      "image/png": "[encoded data removed]",
      "text/plain": [
       "<matplotlib.figure.Figure at 0x7f264fd3cc88>"
      ]
     },
     "metadata": {},
     "output_type": "display_data"
    }
   ],
   "source": [
    "visualize_matrix(lm.mask)"
   ]
  },
  {
   "cell_type": "code",
   "execution_count": null,
   "metadata": {
    "collapsed": true
   },
   "outputs": [],
   "source": []
  },
  {
   "cell_type": "code",
   "execution_count": null,
   "metadata": {
    "collapsed": true
   },
   "outputs": [],
   "source": [
    "np.hstack((lm.mu.detach().numpy(), data.mu_true))"
   ]
  },
  {
   "cell_type": "code",
   "execution_count": null,
   "metadata": {
    "collapsed": true
   },
   "outputs": [],
   "source": [
    "sig_inv_rec = O_inv + (lm.Z @ lm.Z.t()).detach().numpy()\n",
    "np.linalg.eig(sig_inv_rec)"
   ]
  },
  {
   "cell_type": "code",
   "execution_count": null,
   "metadata": {
    "collapsed": true,
    "scrolled": true
   },
   "outputs": [],
   "source": [
    "A = O_inv - data.sig_inv\n",
    "B = (lm.Z @ lm.Z.t()).detach().numpy()\n",
    "\n",
    "print(A)\n",
    "print(B)\n",
    "\n",
    "print(np.sum(np.abs(A+B))/(56**2))\n",
    "visualize_matrix(np.abs(A+B))\n",
    "\n"
   ]
  },
  {
   "cell_type": "code",
   "execution_count": null,
   "metadata": {
    "collapsed": true
   },
   "outputs": [],
   "source": [
    "mu = lm.mu.detach().numpy()\n",
    "diff = np.abs(np.abs(mu @ mu.T) - np.abs(data.mu_true @ data.mu_true.T))\n",
    "visualize_matrix(diff)\n",
    "print(diff)\n"
   ]
  },
  {
   "cell_type": "code",
   "execution_count": null,
   "metadata": {
    "collapsed": true
   },
   "outputs": [],
   "source": [
    "d2 = np.abs(np.abs(mu[:,::-1]) - np.abs(data.mu_true))\n",
    "print(d2)\n",
    "visualize_matrix(d2)"
   ]
  },
  {
   "cell_type": "markdown",
   "metadata": {},
   "source": [
    "### Training the `LabelModel`\n",
    "\n",
    "Note that:\n",
    "* The `train` method assembles other data structures, such as the dependencies junction tree, etc.\n",
    "* The `higher_order_cliques` kwarg controls whether or not to include them"
   ]
  },
  {
   "cell_type": "code",
   "execution_count": null,
   "metadata": {
    "collapsed": true
   },
   "outputs": [],
   "source": [
    "lm = LabelModel(k=data.k, class_balance=data.p)"
   ]
  },
  {
   "cell_type": "code",
   "execution_count": null,
   "metadata": {
    "collapsed": true
   },
   "outputs": [],
   "source": [
    "lm.config['higher_order_cliques'] = True"
   ]
  },
  {
   "cell_type": "code",
   "execution_count": null,
   "metadata": {
    "collapsed": true
   },
   "outputs": [],
   "source": [
    "'''# Generate the \"correct\" mu\n",
    "lm._set_constants(data.L)\n",
    "lm._set_dependencies(data.E)\n",
    "mu = compute_mu(lm._get_augmented_label_matrix(data.L.todense()), data.Y, K, data.p)\n",
    "\n",
    "# Compute O, O_inv, P based on L\n",
    "lm._generate_O(data.L.todense())\n",
    "O = lm.O.numpy()\n",
    "print(O)\n",
    "d, d = O.shape\n",
    "O_inv = np.linalg.inv(O)\n",
    "P = np.diag(data.p)\n",
    "\n",
    "JJT = np.linalg.inv(np.linalg.inv(P) - mu.T @ O_inv @ mu)\n",
    "ZZT = O_inv @ mu @ JJT @ mu.T @ O_inv.T'''"
   ]
  },
  {
   "cell_type": "code",
   "execution_count": null,
   "metadata": {
    "collapsed": true
   },
   "outputs": [],
   "source": [
    "# Check that JJT is indeed PSD ==> ZZT is rank k\n",
    "#np.linalg.eig(JJT)[0]"
   ]
  },
  {
   "cell_type": "code",
   "execution_count": null,
   "metadata": {
    "collapsed": true
   },
   "outputs": [],
   "source": [
    "#np.linalg.eig((ZZT + ZZT.T)/2)[0]"
   ]
  },
  {
   "cell_type": "code",
   "execution_count": null,
   "metadata": {
    "collapsed": true
   },
   "outputs": [],
   "source": [
    "lm.train(\n",
    "    data.L,\n",
    "    deps=data.E,\n",
    "    all_unary_cliques=True,\n",
    "    higher_order_cliques=True,\n",
    "    n_epochs=50000,\n",
    "    print_every=5000,\n",
    "    lr=0.0001,\n",
    "    l2=0,\n",
    "    O_inv_prec=1024,\n",
    "    #O_inv=ZZT\n",
    ")\n",
    "\n",
    "lm._set_constants(data.L)\n",
    "lm._set_dependencies(data.E)\n",
    "mu = compute_mu(lm._get_augmented_label_matrix(data.L.todense()), data.Y, K, data.p)\n",
    "\n",
    "\n",
    "# Test against the true parameter values\n",
    "mu_est = lm.mu.detach().numpy()\n",
    "print(mu)\n",
    "print(mu_est)\n",
    "print(f\"Average absolute error: {np.mean(np.abs(mu_est - mu))}\")"
   ]
  },
  {
   "cell_type": "markdown",
   "metadata": {},
   "source": [
    "### Sanity check that the true $Z$ gets lower loss"
   ]
  },
  {
   "cell_type": "code",
   "execution_count": null,
   "metadata": {
    "collapsed": true
   },
   "outputs": [],
   "source": [
    "sorted(np.linalg.eig(O)[0])[::-1]"
   ]
  },
  {
   "cell_type": "code",
   "execution_count": null,
   "metadata": {
    "collapsed": true
   },
   "outputs": [],
   "source": [
    "O = lm.O.numpy()\n",
    "d, d = O.shape\n",
    "O_inv = lm.O_inv.numpy()\n",
    "mask = lm.mask.numpy()\n",
    "P = lm.P.numpy()\n",
    "\n",
    "JJT = np.linalg.inv(np.linalg.inv(P) - mu.T @ O_inv @ mu)\n",
    "ZZT = O_inv @ mu @ JJT @ mu.T @ O_inv.T\n",
    "\n",
    "np.linalg.norm((O_inv + ZZT) * mask)**2"
   ]
  },
  {
   "cell_type": "markdown",
   "metadata": {},
   "source": [
    "#### Seed=2"
   ]
  },
  {
   "cell_type": "code",
   "execution_count": null,
   "metadata": {
    "collapsed": true
   },
   "outputs": [],
   "source": [
    "visualize_matrix(mask)"
   ]
  },
  {
   "cell_type": "code",
   "execution_count": null,
   "metadata": {
    "collapsed": true
   },
   "outputs": [],
   "source": [
    "#visualize_matrix(np.abs((O_inv + ZZT) * mask))"
   ]
  },
  {
   "cell_type": "code",
   "execution_count": null,
   "metadata": {
    "collapsed": true
   },
   "outputs": [],
   "source": [
    "lm.c_data"
   ]
  },
  {
   "cell_type": "code",
   "execution_count": null,
   "metadata": {
    "collapsed": true
   },
   "outputs": [],
   "source": [
    "Z_est = lm.Z.detach().numpy()\n",
    "visualize_matrix(np.abs((O_inv + Z_est @ Z_est.T) * mask))"
   ]
  },
  {
   "cell_type": "markdown",
   "metadata": {},
   "source": [
    "#### Seed=1"
   ]
  },
  {
   "cell_type": "code",
   "execution_count": null,
   "metadata": {
    "collapsed": true
   },
   "outputs": [],
   "source": [
    "visualize_matrix(mask)"
   ]
  },
  {
   "cell_type": "code",
   "execution_count": null,
   "metadata": {
    "collapsed": true
   },
   "outputs": [],
   "source": [
    "visualize_matrix(np.abs((O_inv + ZZT) * mask))"
   ]
  },
  {
   "cell_type": "code",
   "execution_count": null,
   "metadata": {
    "collapsed": true
   },
   "outputs": [],
   "source": [
    "Z_est = lm.Z.detach().numpy()\n",
    "visualize_matrix(np.abs((O_inv + Z_est @ Z_est.T) * mask))"
   ]
  },
  {
   "cell_type": "markdown",
   "metadata": {},
   "source": [
    "#### Seed=0"
   ]
  },
  {
   "cell_type": "code",
   "execution_count": null,
   "metadata": {
    "collapsed": true
   },
   "outputs": [],
   "source": [
    "visualize_matrix(mask)"
   ]
  },
  {
   "cell_type": "code",
   "execution_count": null,
   "metadata": {
    "collapsed": true
   },
   "outputs": [],
   "source": [
    "visualize_matrix(np.abs((O_inv + ZZT) * mask))"
   ]
  },
  {
   "cell_type": "code",
   "execution_count": null,
   "metadata": {
    "collapsed": true
   },
   "outputs": [],
   "source": [
    "Z_est = lm.Z.detach().numpy()\n",
    "visualize_matrix(np.abs((O_inv + Z_est @ Z_est.T) * mask))"
   ]
  },
  {
   "cell_type": "markdown",
   "metadata": {},
   "source": [
    "### Visualizing matrices"
   ]
  },
  {
   "cell_type": "code",
   "execution_count": null,
   "metadata": {
    "collapsed": true
   },
   "outputs": [],
   "source": [
    "visualize_matrix(np.abs(mu_est - mu))"
   ]
  },
  {
   "cell_type": "code",
   "execution_count": null,
   "metadata": {
    "collapsed": true
   },
   "outputs": [],
   "source": [
    "visualize_matrix(np.abs(mu_est - mu))"
   ]
  },
  {
   "cell_type": "code",
   "execution_count": null,
   "metadata": {
    "collapsed": true
   },
   "outputs": [],
   "source": [
    "lm.c_data"
   ]
  },
  {
   "cell_type": "code",
   "execution_count": null,
   "metadata": {
    "collapsed": true
   },
   "outputs": [],
   "source": [
    "data.E"
   ]
  },
  {
   "cell_type": "markdown",
   "metadata": {},
   "source": [
    "### Trying to solve with `scipy.optimize.minimize`"
   ]
  },
  {
   "cell_type": "code",
   "execution_count": null,
   "metadata": {
    "collapsed": true
   },
   "outputs": [],
   "source": [
    "from scipy.optimize import minimize\n",
    "\n",
    "O_inv = lm.O_inv.numpy()\n",
    "mask = lm.mask.numpy()\n",
    "\n",
    "z0 = np.random.randn(lm.d * lm.k)\n",
    "l import LabelModl import LabelModel\n",
    "from metal.label_model.utils import (\n",
    "    compute_mu,\n",
    "    compute_covariance,\n",
    "    compute_inv_covariance,\n",
    "    print_matrix,el\n",
    "from metal.label_model.utils import (\n",
    "    compute_mu,\n",
    "    compute_covariance,\n",
    "    compute_inv_covariance,\n",
    "    print_matrix,\n",
    "def objective_fn(z):\n",
    "    Z = z.reshape(-1, data.k)\n",
    "    return np.linalg.norm( (O_inv + Z @ Z.T) * mask )**2\n",
    "\n",
    "def gradient_fn(z):\n",
    "    Z = z.reshape(-1, data.k)\n",
    "    X = (O_inv + Z @ Z.T) * mask\n",
    "    return np.ravel(X @ Z)\n",
    "\n",
    "res = minimize(objective_fn, z0, jac=gradient_fn, method='BFGS')\n",
    "Z = res['x'].reshape(-1, data.k)\n",
    "res['fun']"
   ]
  },
  {
   "cell_type": "code",
   "execution_count": null,
   "metadata": {
    "collapsed": true
   },
   "outputs": [],
   "source": [
    "O = lm.O.numpy()\n",
    "P = lm.P.numpy()\n",
    "I_k = np.eye(data.k)\n",
    "Q = O @ Z @ np.linalg.inv(I_k + Z.T @ O @ Z) @ Z.T @ O\n",
    "\n",
    "mu0 = np.random.randn(lm.d * lm.k)\n",
    "\n",
    "def objective_fn_2(mu):\n",
    "    M = mu.reshape(-1, data.k)\n",
    "    return np.linalg.norm(Q - M @ P @ M.T)**2 + np.linalg.norm(np.sum(M @ P, 1) - np.diag(O))**2\n",
    "\n",
    "res_2 = minimize(objective_fn_2, mu0, method='BFGS')\n",
    "M = res_2['x'].reshape(-1, data.k)\n",
    "res_2['fun']"
   ]
  },
  {
   "cell_type": "code",
   "execution_count": null,
   "metadata": {
    "collapsed": true
   },
   "outputs": [],
   "source": [
    "# Test against the true parameter values\n",
    "print(f\"Average absolute error: {np.mean(np.abs(M - mu))}\")"
   ]
  },
  {
   "cell_type": "markdown",
   "metadata": {},
   "source": [
    "## Visualizing the inverse covariance matrix"
   ]
  },
  {
   "cell_type": "code",
   "execution_count": null,
   "metadata": {
    "collapsed": true
   },
   "outputs": [],
   "source": [
    "J = compute_inv_covariance(\n",
    "    lm._get_augmented_label_matrix(data.L.todense()),\n",
    "    data.Y,\n",
    "    data.k,\n",
    "    data.p\n",
    ")\n",
    "visualize_matrix(np.abs(J))"
   ]
  },
  {
   "cell_type": "code",
   "execution_count": null,
   "metadata": {
    "collapsed": true
   },
   "outputs": [],
   "source": [
    "visualize_matrix(lm.mask.numpy(), fig_size=[5,5])"
   ]
  },
  {
   "cell_type": "code",
   "execution_count": null,
   "metadata": {
    "collapsed": true
   },
   "outputs": [],
   "source": [
    "O_inv = lm.O_inv.numpy()\n",
    "Z = lm.Z.detach().numpy()\n",
    "mask = lm.mask.numpy()\n",
    "visualize_matrix(np.abs((O_inv + Z@Z.T) * mask))"
   ]
  },
  {
   "cell_type": "markdown",
   "metadata": {},
   "source": [
    "### Looking at the internal 'bookkeeping' of cliques..."
   ]
  },
  {
   "cell_type": "code",
   "execution_count": null,
   "metadata": {
    "collapsed": true
   },
   "outputs": [],
   "source": [
    "lm.c_data"
   ]
  },
  {
   "cell_type": "code",
   "execution_count": null,
   "metadata": {
    "collapsed": true
   },
   "outputs": [],
   "source": [
    "# Dependency edge weights\n",
    "[((i,j), data.theta[(i,j)]) for i,j in data.E]"
   ]
  },
  {
   "cell_type": "code",
   "execution_count": null,
   "metadata": {
    "collapsed": true
   },
   "outputs": [],
   "source": []
  },
  {
   "cell_type": "code",
   "execution_count": null,
   "metadata": {
    "collapsed": true
   },
   "outputs": [],
   "source": []
  },
  {
   "cell_type": "code",
   "execution_count": null,
   "metadata": {
    "collapsed": true
   },
   "outputs": [],
   "source": []
  },
  {
   "cell_type": "code",
   "execution_count": null,
   "metadata": {
    "collapsed": true
   },
   "outputs": [],
   "source": []
  },
  {
   "cell_type": "code",
   "execution_count": null,
   "metadata": {
    "collapsed": true
   },
   "outputs": [],
   "source": []
  },
  {
   "cell_type": "code",
   "execution_count": null,
   "metadata": {
    "collapsed": true
   },
   "outputs": [],
   "source": []
  }
 ],
 "metadata": {
  "kernelspec": {
   "display_name": "Python 3",
   "language": "python",
   "name": "python3"
  },
  "language_info": {
   "codemirror_mode": {
    "name": "ipython",
    "version": 3
   },
   "file_extension": ".py",
   "mimetype": "text/x-python",
   "name": "python",
   "nbconvert_exporter": "python",
   "pygments_lexer": "ipython3",
   "version": "3.6.3"
  }
 },
 "nbformat": 4,
 "nbformat_minor": 2
}
