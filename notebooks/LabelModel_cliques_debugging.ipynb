{
 "cells": [
  {
   "cell_type": "markdown",
   "metadata": {},
   "source": [
    "## Debugging the `LabelModel` with deps + higher-order cliques"
   ]
  },
  {
   "cell_type": "code",
   "execution_count": 1,
   "metadata": {},
   "outputs": [],
   "source": [
    "%matplotlib inline\n",
    "import sys\n",
    "sys.path.append(\"../\") # go to parent dir\n",
    "\n",
    "import numpy as np\n",
    "import torch\n",
    "import matplotlib.pyplot as plt\n",
    "import mpmath\n",
    "\n",
    "from synthetic.generate import SingleTaskTreeDepsGenerator\n",
    "from metal.label_model import LabelModel\n",
    "from metal.label_model.utils import (\n",
    "    compute_mu,\n",
    "    compute_covariance,\n",
    "    compute_inv_covariance,\n",
    "    print_matrix,\n",
    "    visualize_matrix\n",
    ")"
   ]
  },
  {
   "cell_type": "markdown",
   "metadata": {},
   "source": [
    "### Generating a dataset"
   ]
  },
  {
   "cell_type": "code",
   "execution_count": 2,
   "metadata": {},
   "outputs": [
    {
     "name": "stdout",
     "output_type": "stream",
     "text": [
      "(0, 1)   [0.44911967 0.70277143]\n",
      "(0, 2)   [0.94198516 0.86167983]\n",
      "(1, 1)   [0.38194617 0.57209334]\n",
      "(1, 2)   [0.4991076  0.30661949]\n",
      "(2, 1)   [0.58097252 0.92256582]\n",
      "(2, 2)   [0.51148433 0.48762871]\n",
      "(3, 1)   [0.94521501 0.80055031]\n",
      "(3, 2)   [0.74437346 0.82248175]\n",
      "(4, 1)   [0.18352073 0.56633729]\n",
      "(4, 2)   [0.87851823 0.84623222]\n",
      "((0, 1), 1, 1)   [0.84664302 0.34574498]\n",
      "((0, 1), 1, 2)   [0.15331888 0.70347524]\n",
      "((0, 1), 2, 1)   [0.63375897 0.70448869]\n",
      "((0, 1), 2, 2)   [0.47060909 0.27779581]\n",
      "((1, 2), 1, 1)   [0.36066668 0.22790812]\n",
      "((1, 2), 1, 2)   [0.80498303 0.47128496]\n",
      "((1, 2), 2, 1)   [0.13075418 0.66162699]\n",
      "((1, 2), 2, 2)   [0.69457216 0.36864577]\n",
      "((0, 3), 1, 1)   [0.50152106 0.29991209]\n",
      "((0, 3), 1, 2)   [0.16602775 0.52231467]\n",
      "((0, 3), 2, 1)   [0.18655503 0.91303315]\n",
      "((0, 3), 2, 2)   [0.20754142 0.57231944]\n",
      "((0, 4), 1, 1)   [0.1752607 0.9251752]\n",
      "((0, 4), 1, 2)   [0.91940354 0.3690371 ]\n",
      "((0, 4), 2, 1)   [0.62595021 0.60932082]\n",
      "((0, 4), 2, 2)   [0.65254449 0.96088209]\n",
      "Labeler =  0\n",
      "P(L= 0 , Y= 1 ) =  0.06369728215295714\n",
      "P(L= 1 , Y= 1 ) =  0.40538726213326676\n",
      "P(L= 2 , Y= 1 ) =  0.5309154557137762\n",
      "Labeler =  1\n",
      "P(L= 0 , Y= 1 ) =  0.111574531777163\n",
      "P(L= 1 , Y= 1 ) =  0.527453572634144\n",
      "P(L= 2 , Y= 1 ) =  0.36097189558869314\n",
      "Labeler =  2\n",
      "P(L= 0 , Y= 1 ) =  0.1539493639836094\n",
      "P(L= 1 , Y= 1 ) =  0.3455026529850439\n",
      "P(L= 2 , Y= 1 ) =  0.500547983031347\n",
      "Labeler =  3\n",
      "P(L= 0 , Y= 1 ) =  0.14296800437130167\n",
      "P(L= 1 , Y= 1 ) =  0.49761763908854284\n",
      "P(L= 2 , Y= 1 ) =  0.35941435654015547\n",
      "Labeler =  4\n",
      "P(L= 0 , Y= 1 ) =  0.12915226315917638\n",
      "P(L= 1 , Y= 1 ) =  0.2367024177577393\n",
      "P(L= 2 , Y= 1 ) =  0.6341453190830845\n",
      "Labeler =  0\n",
      "P(L= 0 , Y= 2 ) =  0.04297956026418862\n",
      "P(L= 1 , Y= 2 ) =  0.33786325963519453\n",
      "P(L= 2 , Y= 2 ) =  0.6191571801006168\n",
      "Labeler =  1\n",
      "P(L= 0 , Y= 2 ) =  0.11880923646195059\n",
      "P(L= 1 , Y= 2 ) =  0.4864192362156868\n",
      "P(L= 2 , Y= 2 ) =  0.39477152732236265\n",
      "Labeler =  2\n",
      "P(L= 0 , Y= 2 ) =  0.1429293947866472\n",
      "P(L= 1 , Y= 2 ) =  0.5190386125858538\n",
      "P(L= 2 , Y= 2 ) =  0.33803199262749883\n",
      "Labeler =  3\n",
      "P(L= 0 , Y= 2 ) =  0.10939385252852937\n",
      "P(L= 1 , Y= 2 ) =  0.4714997340373973\n",
      "P(L= 2 , Y= 2 ) =  0.41910641343407323\n",
      "Labeler =  4\n",
      "P(L= 0 , Y= 2 ) =  0.10668739258990502\n",
      "P(L= 1 , Y= 2 ) =  0.3793482120646628\n",
      "P(L= 2 , Y= 2 ) =  0.5139643953454323\n",
      "Labelers =  (0, 1)\n",
      "P(L_ 0 = 0 , L_ 1 = 0  | Y =  1 ) =  0.011065145182385284\n",
      "P(L_ 0 = 0 , L_ 1 = 1  | Y =  1 ) =  0.02654137694057381\n",
      "P(L_ 0 = 0 , L_ 1 = 2  | Y =  1 ) =  0.026090760029998043\n",
      "P(L_ 0 = 1 , L_ 1 = 0  | Y =  1 ) =  0.04339497482507433\n",
      "P(L_ 0 = 1 , L_ 1 = 1  | Y =  1 ) =  0.24271586646530122\n",
      "P(L_ 0 = 1 , L_ 1 = 2  | Y =  1 ) =  0.11927642084289132\n",
      "P(L_ 0 = 2 , L_ 1 = 0  | Y =  1 ) =  0.05711441176970338\n",
      "P(L_ 0 = 2 , L_ 1 = 1  | Y =  1 ) =  0.25819632922826896\n",
      "P(L_ 0 = 2 , L_ 1 = 2  | Y =  1 ) =  0.21560471471580386\n",
      "Labelers =  (0, 2)\n",
      "P(L_ 0 = 0 , L_ 2 = 0  | Y =  1 ) =  0.010212928812404348\n",
      "P(L_ 0 = 0 , L_ 2 = 1  | Y =  1 ) =  0.022105070000347556\n",
      "P(L_ 0 = 0 , L_ 2 = 2  | Y =  1 ) =  0.03137928334020523\n",
      "P(L_ 0 = 1 , L_ 2 = 0  | Y =  1 ) =  0.061715653240133304\n",
      "P(L_ 0 = 1 , L_ 2 = 1  | Y =  1 ) =  0.14083849471418092\n",
      "P(L_ 0 = 1 , L_ 2 = 2  | Y =  1 ) =  0.20283311417895267\n",
      "P(L_ 0 = 2 , L_ 2 = 0  | Y =  1 ) =  0.08202078193107172\n",
      "P(L_ 0 = 2 , L_ 2 = 1  | Y =  1 ) =  0.18255908827051548\n",
      "P(L_ 0 = 2 , L_ 2 = 2  | Y =  1 ) =  0.266335585512189\n",
      "Labelers =  (0, 3)\n",
      "P(L_ 0 = 0 , L_ 3 = 0  | Y =  1 ) =  0.011217294853007376\n",
      "P(L_ 0 = 0 , L_ 3 = 1  | Y =  1 ) =  0.028866212140364333\n",
      "P(L_ 0 = 0 , L_ 3 = 2  | Y =  1 ) =  0.023613775159585428\n",
      "P(L_ 0 = 1 , L_ 3 = 0  | Y =  1 ) =  0.05241257381601041\n",
      "P(L_ 0 = 1 , L_ 3 = 1  | Y =  1 ) =  0.2227126970585755\n",
      "P(L_ 0 = 1 , L_ 3 = 2  | Y =  1 ) =  0.1302619912586809\n",
      "P(L_ 0 = 2 , L_ 3 = 0  | Y =  1 ) =  0.07933813570228387\n",
      "P(L_ 0 = 2 , L_ 3 = 1  | Y =  1 ) =  0.2460387298896031\n",
      "P(L_ 0 = 2 , L_ 3 = 2  | Y =  1 ) =  0.20553859012188916\n",
      "Labelers =  (0, 4)\n",
      "P(L_ 0 = 0 , L_ 4 = 0  | Y =  1 ) =  0.01382088599117999\n",
      "P(L_ 0 = 0 , L_ 4 = 1  | Y =  1 ) =  0.016604963445459205\n",
      "P(L_ 0 = 0 , L_ 4 = 2  | Y =  1 ) =  0.03327143271631794\n",
      "P(L_ 0 = 1 , L_ 4 = 0  | Y =  1 ) =  0.04786904843820689\n",
      "P(L_ 0 = 1 , L_ 4 = 1  | Y =  1 ) =  0.06852855755720766\n",
      "P(L_ 0 = 1 , L_ 4 = 2  | Y =  1 ) =  0.28898965613785227\n",
      "P(L_ 0 = 2 , L_ 4 = 0  | Y =  1 ) =  0.06746232872978948\n",
      "P(L_ 0 = 2 , L_ 4 = 1  | Y =  1 ) =  0.1515688967550724\n",
      "P(L_ 0 = 2 , L_ 4 = 2  | Y =  1 ) =  0.3118842302289143\n",
      "Labelers =  (1, 2)\n",
      "P(L_ 1 = 0 , L_ 2 = 0  | Y =  1 ) =  0.025041746744757228\n",
      "P(L_ 1 = 0 , L_ 2 = 1  | Y =  1 ) =  0.04476903959421309\n",
      "P(L_ 1 = 0 , L_ 2 = 2  | Y =  1 ) =  0.04176374543819268\n",
      "P(L_ 1 = 1 , L_ 2 = 0  | Y =  1 ) =  0.07230936754590728\n",
      "P(L_ 1 = 1 , L_ 2 = 1  | Y =  1 ) =  0.1854143184635245\n",
      "P(L_ 1 = 1 , L_ 2 = 2  | Y =  1 ) =  0.2697298866247122\n",
      "P(L_ 1 = 2 , L_ 2 = 0  | Y =  1 ) =  0.056598249692944864\n",
      "P(L_ 1 = 2 , L_ 2 = 1  | Y =  1 ) =  0.11531929492730636\n",
      "P(L_ 1 = 2 , L_ 2 = 2  | Y =  1 ) =  0.18905435096844198\n",
      "Labelers =  (1, 3)\n",
      "P(L_ 1 = 0 , L_ 3 = 0  | Y =  1 ) =  0.016094126087077935\n",
      "P(L_ 1 = 0 , L_ 3 = 1  | Y =  1 ) =  0.055323088144123934\n",
      "P(L_ 1 = 0 , L_ 3 = 2  | Y =  1 ) =  0.04015731754596112\n",
      "P(L_ 1 = 1 , L_ 3 = 0  | Y =  1 ) =  0.0746387383981722\n",
      "P(L_ 1 = 1 , L_ 3 = 1  | Y =  1 ) =  0.265026099222874\n",
      "P(L_ 1 = 1 , L_ 3 = 2  | Y =  1 ) =  0.18778873501309776\n",
      "P(L_ 1 = 2 , L_ 3 = 0  | Y =  1 ) =  0.05223513988605153\n",
      "P(L_ 1 = 2 , L_ 3 = 1  | Y =  1 ) =  0.17726845172154496\n",
      "P(L_ 1 = 2 , L_ 3 = 2  | Y =  1 ) =  0.1314683039810967\n",
      "Labelers =  (1, 4)\n",
      "P(L_ 1 = 0 , L_ 4 = 0  | Y =  1 ) =  0.014782476418998481\n",
      "P(L_ 1 = 0 , L_ 4 = 1  | Y =  1 ) =  0.02652557465278036\n",
      "P(L_ 1 = 0 , L_ 4 = 2  | Y =  1 ) =  0.07026648070538415\n",
      "P(L_ 1 = 1 , L_ 4 = 0  | Y =  1 ) =  0.06722779946206554\n",
      "P(L_ 1 = 1 , L_ 4 = 1  | Y =  1 ) =  0.1216602001447608\n",
      "P(L_ 1 = 1 , L_ 4 = 2  | Y =  1 ) =  0.3385655730273176\n",
      "P(L_ 1 = 2 , L_ 4 = 0  | Y =  1 ) =  0.04714198727811232\n",
      "P(L_ 1 = 2 , L_ 4 = 1  | Y =  1 ) =  0.08851664296019808\n",
      "P(L_ 1 = 2 , L_ 4 = 2  | Y =  1 ) =  0.2253132653503828\n",
      "Labelers =  (2, 3)\n",
      "P(L_ 2 = 0 , L_ 3 = 0  | Y =  1 ) =  0.02203465127749573\n",
      "P(L_ 2 = 0 , L_ 3 = 1  | Y =  1 ) =  0.07654414250383279\n",
      "P(L_ 2 = 0 , L_ 3 = 2  | Y =  1 ) =  0.05537057020228085\n",
      "P(L_ 2 = 1 , L_ 3 = 0  | Y =  1 ) =  0.04938278855835131\n",
      "P(L_ 2 = 1 , L_ 3 = 1  | Y =  1 ) =  0.17199393016921102\n",
      "P(L_ 2 = 1 , L_ 3 = 2  | Y =  1 ) =  0.12412593425748154\n",
      "P(L_ 2 = 2 , L_ 3 = 0  | Y =  1 ) =  0.07155056453545464\n",
      "P(L_ 2 = 2 , L_ 3 = 1  | Y =  1 ) =  0.24907956641549905\n",
      "P(L_ 2 = 2 , L_ 3 = 2  | Y =  1 ) =  0.17991785208039313\n",
      "Labelers =  (2, 4)\n",
      "P(L_ 2 = 0 , L_ 4 = 0  | Y =  1 ) =  0.019925712766597395\n",
      "P(L_ 2 = 0 , L_ 4 = 1  | Y =  1 ) =  0.03651084567901716\n",
      "P(L_ 2 = 0 , L_ 4 = 2  | Y =  1 ) =  0.0975128055379948\n",
      "P(L_ 2 = 1 , L_ 4 = 0  | Y =  1 ) =  0.044624240908188964\n",
      "P(L_ 2 = 1 , L_ 4 = 1  | Y =  1 ) =  0.08168852310406213\n",
      "P(L_ 2 = 1 , L_ 4 = 2  | Y =  1 ) =  0.21918988897279282\n",
      "P(L_ 2 = 2 , L_ 4 = 0  | Y =  1 ) =  0.06460230948439001\n",
      "P(L_ 2 = 2 , L_ 4 = 1  | Y =  1 ) =  0.11850304897465995\n",
      "P(L_ 2 = 2 , L_ 4 = 2  | Y =  1 ) =  0.3174426245722969\n",
      "Labelers =  (3, 4)\n",
      "P(L_ 3 = 0 , L_ 4 = 0  | Y =  1 ) =  0.01870423069005449\n",
      "P(L_ 3 = 0 , L_ 4 = 1  | Y =  1 ) =  0.03443417562829527\n",
      "P(L_ 3 = 0 , L_ 4 = 2  | Y =  1 ) =  0.0898295980529519\n",
      "P(L_ 3 = 1 , L_ 4 = 0  | Y =  1 ) =  0.06382537605372028\n",
      "P(L_ 3 = 1 , L_ 4 = 1  | Y =  1 ) =  0.11541399827661482\n",
      "P(L_ 3 = 1 , L_ 4 = 2  | Y =  1 ) =  0.31837826475820774\n",
      "P(L_ 3 = 2 , L_ 4 = 0  | Y =  1 ) =  0.04662265641540158\n",
      "P(L_ 3 = 2 , L_ 4 = 1  | Y =  1 ) =  0.08685424385282915\n",
      "P(L_ 3 = 2 , L_ 4 = 2  | Y =  1 ) =  0.22593745627192474\n",
      "Labelers =  (0, 1)\n",
      "P(L_ 0 = 0 , L_ 1 = 0  | Y =  2 ) =  0.007806851581621747\n",
      "P(L_ 0 = 0 , L_ 1 = 1  | Y =  2 ) =  0.018201695480931427\n",
      "P(L_ 0 = 0 , L_ 1 = 2  | Y =  2 ) =  0.016971013201635445\n",
      "P(L_ 0 = 1 , L_ 1 = 0  | Y =  2 ) =  0.0388913137678289\n",
      "P(L_ 0 = 1 , L_ 1 = 1  | Y =  2 ) =  0.12812788901441602\n",
      "P(L_ 0 = 1 , L_ 1 = 2  | Y =  2 ) =  0.17084405685294954\n",
      "P(L_ 0 = 2 , L_ 1 = 0  | Y =  2 ) =  0.07211107111249992\n",
      "P(L_ 0 = 2 , L_ 1 = 1  | Y =  2 ) =  0.34008965172033917\n",
      "P(L_ 0 = 2 , L_ 1 = 2  | Y =  2 ) =  0.20695645726777764\n",
      "Labelers =  (0, 2)\n",
      "P(L_ 0 = 0 , L_ 2 = 0  | Y =  2 ) =  0.0062689231509987535\n",
      "P(L_ 0 = 0 , L_ 2 = 1  | Y =  2 ) =  0.022368561090941538\n",
      "P(L_ 0 = 0 , L_ 2 = 2  | Y =  2 ) =  0.014342076022248327\n",
      "P(L_ 0 = 1 , L_ 2 = 0  | Y =  2 ) =  0.047249511457118434\n",
      "P(L_ 0 = 1 , L_ 2 = 1  | Y =  2 ) =  0.18004150199333882\n",
      "P(L_ 0 = 1 , L_ 2 = 2  | Y =  2 ) =  0.11057224618473724\n",
      "P(L_ 0 = 2 , L_ 2 = 0  | Y =  2 ) =  0.08941096017853001\n",
      "P(L_ 0 = 2 , L_ 2 = 1  | Y =  2 ) =  0.3166285495015735\n",
      "P(L_ 0 = 2 , L_ 2 = 2  | Y =  2 ) =  0.21311767042051324\n",
      "Labelers =  (0, 3)\n",
      "P(L_ 0 = 0 , L_ 3 = 0  | Y =  2 ) =  0.007810336439775886\n",
      "P(L_ 0 = 0 , L_ 3 = 1  | Y =  2 ) =  0.017391791702899846\n",
      "P(L_ 0 = 0 , L_ 3 = 2  | Y =  2 ) =  0.017777432121512893\n",
      "P(L_ 0 = 1 , L_ 3 = 0  | Y =  2 ) =  0.04307853501346159\n",
      "P(L_ 0 = 1 , L_ 3 = 1  | Y =  2 ) =  0.12947492732540117\n",
      "P(L_ 0 = 1 , L_ 3 = 2  | Y =  2 ) =  0.16530979729633175\n",
      "P(L_ 0 = 2 , L_ 3 = 0  | Y =  2 ) =  0.058504981075291895\n",
      "P(L_ 0 = 2 , L_ 3 = 1  | Y =  2 ) =  0.3246330150090963\n",
      "P(L_ 0 = 2 , L_ 3 = 2  | Y =  2 ) =  0.2360191840162286\n",
      "Labelers =  (0, 4)\n",
      "P(L_ 0 = 0 , L_ 4 = 0  | Y =  2 ) =  0.008439526924595313\n",
      "P(L_ 0 = 0 , L_ 4 = 1  | Y =  2 ) =  0.014868777573040785\n",
      "P(L_ 0 = 0 , L_ 4 = 2  | Y =  2 ) =  0.01967125576655252\n",
      "P(L_ 0 = 1 , L_ 4 = 0  | Y =  2 ) =  0.0383281611292832\n",
      "P(L_ 0 = 1 , L_ 4 = 1  | Y =  2 ) =  0.17032313018142764\n",
      "P(L_ 0 = 1 , L_ 4 = 2  | Y =  2 ) =  0.1292119683244837\n",
      "P(L_ 0 = 2 , L_ 4 = 0  | Y =  2 ) =  0.059919704536026505\n",
      "P(L_ 0 = 2 , L_ 4 = 1  | Y =  2 ) =  0.19415630431019432\n",
      "P(L_ 0 = 2 , L_ 4 = 2  | Y =  2 ) =  0.36508117125439604\n",
      "Labelers =  (1, 2)\n",
      "P(L_ 1 = 0 , L_ 2 = 0  | Y =  2 ) =  0.02309582306116568\n",
      "P(L_ 1 = 0 , L_ 2 = 1  | Y =  2 ) =  0.05810301776787237\n",
      "P(L_ 1 = 0 , L_ 2 = 2  | Y =  2 ) =  0.03761039563291253\n",
      "P(L_ 1 = 1 , L_ 2 = 0  | Y =  2 ) =  0.07186460474503253\n",
      "P(L_ 1 = 1 , L_ 2 = 1  | Y =  2 ) =  0.22706987808226578\n",
      "P(L_ 1 = 1 , L_ 2 = 2  | Y =  2 ) =  0.18748475338838833\n",
      "P(L_ 1 = 2 , L_ 2 = 0  | Y =  2 ) =  0.047968966980449\n",
      "P(L_ 1 = 2 , L_ 2 = 1  | Y =  2 ) =  0.23386571673571563\n",
      "P(L_ 1 = 2 , L_ 2 = 2  | Y =  2 ) =  0.11293684360619796\n",
      "Labelers =  (1, 3)\n",
      "P(L_ 1 = 0 , L_ 3 = 0  | Y =  2 ) =  0.013191302157239012\n",
      "P(L_ 1 = 0 , L_ 3 = 1  | Y =  2 ) =  0.055871745307973196\n",
      "P(L_ 1 = 0 , L_ 3 = 2  | Y =  2 ) =  0.04974618899673837\n",
      "P(L_ 1 = 1 , L_ 3 = 0  | Y =  2 ) =  0.05177984513332328\n",
      "P(L_ 1 = 1 , L_ 3 = 1  | Y =  2 ) =  0.23478003839555206\n",
      "P(L_ 1 = 1 , L_ 3 = 2  | Y =  2 ) =  0.19985935268681146\n",
      "P(L_ 1 = 2 , L_ 3 = 0  | Y =  2 ) =  0.04442270523796708\n",
      "P(L_ 1 = 2 , L_ 3 = 1  | Y =  2 ) =  0.18084795033387213\n",
      "P(L_ 1 = 2 , L_ 3 = 2  | Y =  2 ) =  0.16950087175052345\n",
      "Labelers =  (1, 4)\n",
      "P(L_ 1 = 0 , L_ 4 = 0  | Y =  2 ) =  0.01292354309234136\n",
      "P(L_ 1 = 0 , L_ 4 = 1  | Y =  2 ) =  0.044919317693924155\n",
      "P(L_ 1 = 0 , L_ 4 = 2  | Y =  2 ) =  0.060966375675685074\n",
      "P(L_ 1 = 1 , L_ 4 = 0  | Y =  2 ) =  0.051021897781563526\n",
      "P(L_ 1 = 1 , L_ 4 = 1  | Y =  2 ) =  0.17753437915569278\n",
      "P(L_ 1 = 1 , L_ 4 = 2  | Y =  2 ) =  0.25786295927843045\n",
      "P(L_ 1 = 2 , L_ 4 = 0  | Y =  2 ) =  0.04274195171600013\n",
      "P(L_ 1 = 2 , L_ 4 = 1  | Y =  2 ) =  0.15689451521504583\n",
      "P(L_ 1 = 2 , L_ 4 = 2  | Y =  2 ) =  0.19513506039131676\n",
      "Labelers =  (2, 3)\n",
      "P(L_ 2 = 0 , L_ 3 = 0  | Y =  2 ) =  0.015612210147746457\n",
      "P(L_ 2 = 0 , L_ 3 = 1  | Y =  2 ) =  0.06752300221594582\n",
      "P(L_ 2 = 0 , L_ 3 = 2  | Y =  2 ) =  0.05979418242295495\n",
      "P(L_ 2 = 1 , L_ 3 = 0  | Y =  2 ) =  0.056939320770314585\n",
      "P(L_ 2 = 1 , L_ 3 = 1  | Y =  2 ) =  0.24405935449036403\n",
      "P(L_ 2 = 1 , L_ 3 = 2  | Y =  2 ) =  0.21803993732517532\n",
      "P(L_ 2 = 2 , L_ 3 = 0  | Y =  2 ) =  0.03684232161046833\n",
      "P(L_ 2 = 2 , L_ 3 = 1  | Y =  2 ) =  0.15991737733108752\n",
      "P(L_ 2 = 2 , L_ 3 = 2  | Y =  2 ) =  0.14127229368594302\n",
      "Labelers =  (2, 4)\n",
      "P(L_ 2 = 0 , L_ 4 = 0  | Y =  2 ) =  0.01524394905750925\n",
      "P(L_ 2 = 0 , L_ 4 = 1  | Y =  2 ) =  0.05402572077846305\n",
      "P(L_ 2 = 0 , L_ 4 = 2  | Y =  2 ) =  0.07365972495067492\n",
      "P(L_ 2 = 1 , L_ 4 = 0  | Y =  2 ) =  0.055458858771442986\n",
      "P(L_ 2 = 1 , L_ 4 = 1  | Y =  2 ) =  0.19778955034409915\n",
      "P(L_ 2 = 1 , L_ 4 = 2  | Y =  2 ) =  0.2657902034703118\n",
      "P(L_ 2 = 2 , L_ 4 = 0  | Y =  2 ) =  0.035984584760952766\n",
      "P(L_ 2 = 2 , L_ 4 = 1  | Y =  2 ) =  0.12753294094210055\n",
      "P(L_ 2 = 2 , L_ 4 = 2  | Y =  2 ) =  0.17451446692444553\n",
      "Labelers =  (3, 4)\n",
      "P(L_ 3 = 0 , L_ 4 = 0  | Y =  2 ) =  0.012082491322536968\n",
      "P(L_ 3 = 0 , L_ 4 = 1  | Y =  2 ) =  0.04276475950831715\n",
      "P(L_ 3 = 0 , L_ 4 = 2  | Y =  2 ) =  0.054546601697675265\n",
      "P(L_ 3 = 1 , L_ 4 = 0  | Y =  2 ) =  0.04951984056070924\n",
      "P(L_ 3 = 1 , L_ 4 = 1  | Y =  2 ) =  0.17308634294452668\n",
      "P(L_ 3 = 1 , L_ 4 = 2  | Y =  2 ) =  0.24889355053216136\n",
      "P(L_ 3 = 2 , L_ 4 = 0  | Y =  2 ) =  0.045085060706658804\n",
      "P(L_ 3 = 2 , L_ 4 = 1  | Y =  2 ) =  0.16349710961181887\n",
      "P(L_ 3 = 2 , L_ 4 = 2  | Y =  2 ) =  0.2105242431155956\n"
     ]
    }
   ],
   "source": [
    "# Generate synthetic dataset\n",
    "np.random.seed(1)\n",
    "N = 50\n",
    "M = 5\n",
    "K = 2\n",
    "EDGE_PROB=1.0\n",
    "data = SingleTaskTreeDepsGenerator(N, M, k=K, edge_prob=EDGE_PROB)"
   ]
  },
  {
   "cell_type": "markdown",
   "metadata": {},
   "source": [
    "### Training the `LabelModel`\n",
    "\n",
    "Note that:\n",
    "* The `train` method assembles other data structures, such as the dependencies junction tree, etc.\n",
    "* The `higher_order_cliques` kwarg controls whether or not to include them"
   ]
  },
  {
   "cell_type": "code",
   "execution_count": 3,
   "metadata": {
    "collapsed": true
   },
   "outputs": [],
   "source": [
    "lm = LabelModel(k=data.k, class_balance=data.p)"
   ]
  },
  {
   "cell_type": "code",
   "execution_count": 4,
   "metadata": {
    "collapsed": true
   },
   "outputs": [],
   "source": [
    "lm.config['higher_order_cliques'] = True"
   ]
  },
  {
   "cell_type": "code",
   "execution_count": 5,
   "metadata": {},
   "outputs": [
    {
     "name": "stdout",
     "output_type": "stream",
     "text": [
      "[[0.56 0.   0.56 0.   0.56 0.   0.56 0.   0.56 0.   0.56 0.   0.   0.\n",
      "  0.56 0.   0.   0.   0.56 0.   0.   0.   0.56 0.   0.   0.  ]\n",
      " [0.   0.44 0.   0.44 0.   0.44 0.   0.44 0.   0.44 0.   0.   0.   0.44\n",
      "  0.   0.   0.   0.44 0.   0.   0.   0.44 0.   0.   0.   0.44]\n",
      " [0.56 0.   0.56 0.   0.56 0.   0.56 0.   0.56 0.   0.56 0.   0.   0.\n",
      "  0.56 0.   0.   0.   0.56 0.   0.   0.   0.56 0.   0.   0.  ]\n",
      " [0.   0.44 0.   0.44 0.   0.44 0.   0.44 0.   0.44 0.   0.   0.   0.44\n",
      "  0.   0.   0.   0.44 0.   0.   0.   0.44 0.   0.   0.   0.44]\n",
      " [0.56 0.   0.56 0.   0.56 0.   0.56 0.   0.56 0.   0.56 0.   0.   0.\n",
      "  0.56 0.   0.   0.   0.56 0.   0.   0.   0.56 0.   0.   0.  ]\n",
      " [0.   0.44 0.   0.44 0.   0.44 0.   0.44 0.   0.44 0.   0.   0.   0.44\n",
      "  0.   0.   0.   0.44 0.   0.   0.   0.44 0.   0.   0.   0.44]\n",
      " [0.56 0.   0.56 0.   0.56 0.   0.56 0.   0.56 0.   0.56 0.   0.   0.\n",
      "  0.56 0.   0.   0.   0.56 0.   0.   0.   0.56 0.   0.   0.  ]\n",
      " [0.   0.44 0.   0.44 0.   0.44 0.   0.44 0.   0.44 0.   0.   0.   0.44\n",
      "  0.   0.   0.   0.44 0.   0.   0.   0.44 0.   0.   0.   0.44]\n",
      " [0.56 0.   0.56 0.   0.56 0.   0.56 0.   0.56 0.   0.56 0.   0.   0.\n",
      "  0.56 0.   0.   0.   0.56 0.   0.   0.   0.56 0.   0.   0.  ]\n",
      " [0.   0.44 0.   0.44 0.   0.44 0.   0.44 0.   0.44 0.   0.   0.   0.44\n",
      "  0.   0.   0.   0.44 0.   0.   0.   0.44 0.   0.   0.   0.44]\n",
      " [0.56 0.   0.56 0.   0.56 0.   0.56 0.   0.56 0.   0.56 0.   0.   0.\n",
      "  0.56 0.   0.   0.   0.56 0.   0.   0.   0.56 0.   0.   0.  ]\n",
      " [0.   0.   0.   0.   0.   0.   0.   0.   0.   0.   0.   0.   0.   0.\n",
      "  0.   0.   0.   0.   0.   0.   0.   0.   0.   0.   0.   0.  ]\n",
      " [0.   0.   0.   0.   0.   0.   0.   0.   0.   0.   0.   0.   0.   0.\n",
      "  0.   0.   0.   0.   0.   0.   0.   0.   0.   0.   0.   0.  ]\n",
      " [0.   0.44 0.   0.44 0.   0.44 0.   0.44 0.   0.44 0.   0.   0.   0.44\n",
      "  0.   0.   0.   0.44 0.   0.   0.   0.44 0.   0.   0.   0.44]\n",
      " [0.56 0.   0.56 0.   0.56 0.   0.56 0.   0.56 0.   0.56 0.   0.   0.\n",
      "  0.56 0.   0.   0.   0.56 0.   0.   0.   0.56 0.   0.   0.  ]\n",
      " [0.   0.   0.   0.   0.   0.   0.   0.   0.   0.   0.   0.   0.   0.\n",
      "  0.   0.   0.   0.   0.   0.   0.   0.   0.   0.   0.   0.  ]\n",
      " [0.   0.   0.   0.   0.   0.   0.   0.   0.   0.   0.   0.   0.   0.\n",
      "  0.   0.   0.   0.   0.   0.   0.   0.   0.   0.   0.   0.  ]\n",
      " [0.   0.44 0.   0.44 0.   0.44 0.   0.44 0.   0.44 0.   0.   0.   0.44\n",
      "  0.   0.   0.   0.44 0.   0.   0.   0.44 0.   0.   0.   0.44]\n",
      " [0.56 0.   0.56 0.   0.56 0.   0.56 0.   0.56 0.   0.56 0.   0.   0.\n",
      "  0.56 0.   0.   0.   0.56 0.   0.   0.   0.56 0.   0.   0.  ]\n",
      " [0.   0.   0.   0.   0.   0.   0.   0.   0.   0.   0.   0.   0.   0.\n",
      "  0.   0.   0.   0.   0.   0.   0.   0.   0.   0.   0.   0.  ]\n",
      " [0.   0.   0.   0.   0.   0.   0.   0.   0.   0.   0.   0.   0.   0.\n",
      "  0.   0.   0.   0.   0.   0.   0.   0.   0.   0.   0.   0.  ]\n",
      " [0.   0.44 0.   0.44 0.   0.44 0.   0.44 0.   0.44 0.   0.   0.   0.44\n",
      "  0.   0.   0.   0.44 0.   0.   0.   0.44 0.   0.   0.   0.44]\n",
      " [0.56 0.   0.56 0.   0.56 0.   0.56 0.   0.56 0.   0.56 0.   0.   0.\n",
      "  0.56 0.   0.   0.   0.56 0.   0.   0.   0.56 0.   0.   0.  ]\n",
      " [0.   0.   0.   0.   0.   0.   0.   0.   0.   0.   0.   0.   0.   0.\n",
      "  0.   0.   0.   0.   0.   0.   0.   0.   0.   0.   0.   0.  ]\n",
      " [0.   0.   0.   0.   0.   0.   0.   0.   0.   0.   0.   0.   0.   0.\n",
      "  0.   0.   0.   0.   0.   0.   0.   0.   0.   0.   0.   0.  ]\n",
      " [0.   0.44 0.   0.44 0.   0.44 0.   0.44 0.   0.44 0.   0.   0.   0.44\n",
      "  0.   0.   0.   0.44 0.   0.   0.   0.44 0.   0.   0.   0.44]]\n"
     ]
    },
    {
     "ename": "LinAlgError",
     "evalue": "Singular matrix",
     "output_type": "error",
     "traceback": [
      "\u001b[0;31m---------------------------------------------------------------------------\u001b[0m",
      "\u001b[0;31mLinAlgError\u001b[0m                               Traceback (most recent call last)",
      "\u001b[0;32m<ipython-input-5-0df5328a991b>\u001b[0m in \u001b[0;36m<module>\u001b[0;34m()\u001b[0m\n\u001b[1;32m      9\u001b[0m \u001b[0mprint\u001b[0m\u001b[0;34m(\u001b[0m\u001b[0mO\u001b[0m\u001b[0;34m)\u001b[0m\u001b[0;34m\u001b[0m\u001b[0m\n\u001b[1;32m     10\u001b[0m \u001b[0md\u001b[0m\u001b[0;34m,\u001b[0m \u001b[0md\u001b[0m \u001b[0;34m=\u001b[0m \u001b[0mO\u001b[0m\u001b[0;34m.\u001b[0m\u001b[0mshape\u001b[0m\u001b[0;34m\u001b[0m\u001b[0m\n\u001b[0;32m---> 11\u001b[0;31m \u001b[0mO_inv\u001b[0m \u001b[0;34m=\u001b[0m \u001b[0mnp\u001b[0m\u001b[0;34m.\u001b[0m\u001b[0mlinalg\u001b[0m\u001b[0;34m.\u001b[0m\u001b[0minv\u001b[0m\u001b[0;34m(\u001b[0m\u001b[0mO\u001b[0m\u001b[0;34m)\u001b[0m\u001b[0;34m\u001b[0m\u001b[0m\n\u001b[0m\u001b[1;32m     12\u001b[0m \u001b[0mP\u001b[0m \u001b[0;34m=\u001b[0m \u001b[0mnp\u001b[0m\u001b[0;34m.\u001b[0m\u001b[0mdiag\u001b[0m\u001b[0;34m(\u001b[0m\u001b[0mdata\u001b[0m\u001b[0;34m.\u001b[0m\u001b[0mp\u001b[0m\u001b[0;34m)\u001b[0m\u001b[0;34m\u001b[0m\u001b[0m\n\u001b[1;32m     13\u001b[0m \u001b[0;34m\u001b[0m\u001b[0m\n",
      "\u001b[0;32m~/anaconda3/lib/python3.6/site-packages/numpy/linalg/linalg.py\u001b[0m in \u001b[0;36minv\u001b[0;34m(a)\u001b[0m\n\u001b[1;32m    526\u001b[0m     \u001b[0msignature\u001b[0m \u001b[0;34m=\u001b[0m \u001b[0;34m'D->D'\u001b[0m \u001b[0;32mif\u001b[0m \u001b[0misComplexType\u001b[0m\u001b[0;34m(\u001b[0m\u001b[0mt\u001b[0m\u001b[0;34m)\u001b[0m \u001b[0;32melse\u001b[0m \u001b[0;34m'd->d'\u001b[0m\u001b[0;34m\u001b[0m\u001b[0m\n\u001b[1;32m    527\u001b[0m     \u001b[0mextobj\u001b[0m \u001b[0;34m=\u001b[0m \u001b[0mget_linalg_error_extobj\u001b[0m\u001b[0;34m(\u001b[0m\u001b[0m_raise_linalgerror_singular\u001b[0m\u001b[0;34m)\u001b[0m\u001b[0;34m\u001b[0m\u001b[0m\n\u001b[0;32m--> 528\u001b[0;31m     \u001b[0mainv\u001b[0m \u001b[0;34m=\u001b[0m \u001b[0m_umath_linalg\u001b[0m\u001b[0;34m.\u001b[0m\u001b[0minv\u001b[0m\u001b[0;34m(\u001b[0m\u001b[0ma\u001b[0m\u001b[0;34m,\u001b[0m \u001b[0msignature\u001b[0m\u001b[0;34m=\u001b[0m\u001b[0msignature\u001b[0m\u001b[0;34m,\u001b[0m \u001b[0mextobj\u001b[0m\u001b[0;34m=\u001b[0m\u001b[0mextobj\u001b[0m\u001b[0;34m)\u001b[0m\u001b[0;34m\u001b[0m\u001b[0m\n\u001b[0m\u001b[1;32m    529\u001b[0m     \u001b[0;32mreturn\u001b[0m \u001b[0mwrap\u001b[0m\u001b[0;34m(\u001b[0m\u001b[0mainv\u001b[0m\u001b[0;34m.\u001b[0m\u001b[0mastype\u001b[0m\u001b[0;34m(\u001b[0m\u001b[0mresult_t\u001b[0m\u001b[0;34m,\u001b[0m \u001b[0mcopy\u001b[0m\u001b[0;34m=\u001b[0m\u001b[0;32mFalse\u001b[0m\u001b[0;34m)\u001b[0m\u001b[0;34m)\u001b[0m\u001b[0;34m\u001b[0m\u001b[0m\n\u001b[1;32m    530\u001b[0m \u001b[0;34m\u001b[0m\u001b[0m\n",
      "\u001b[0;32m~/anaconda3/lib/python3.6/site-packages/numpy/linalg/linalg.py\u001b[0m in \u001b[0;36m_raise_linalgerror_singular\u001b[0;34m(err, flag)\u001b[0m\n\u001b[1;32m     87\u001b[0m \u001b[0;34m\u001b[0m\u001b[0m\n\u001b[1;32m     88\u001b[0m \u001b[0;32mdef\u001b[0m \u001b[0m_raise_linalgerror_singular\u001b[0m\u001b[0;34m(\u001b[0m\u001b[0merr\u001b[0m\u001b[0;34m,\u001b[0m \u001b[0mflag\u001b[0m\u001b[0;34m)\u001b[0m\u001b[0;34m:\u001b[0m\u001b[0;34m\u001b[0m\u001b[0m\n\u001b[0;32m---> 89\u001b[0;31m     \u001b[0;32mraise\u001b[0m \u001b[0mLinAlgError\u001b[0m\u001b[0;34m(\u001b[0m\u001b[0;34m\"Singular matrix\"\u001b[0m\u001b[0;34m)\u001b[0m\u001b[0;34m\u001b[0m\u001b[0m\n\u001b[0m\u001b[1;32m     90\u001b[0m \u001b[0;34m\u001b[0m\u001b[0m\n\u001b[1;32m     91\u001b[0m \u001b[0;32mdef\u001b[0m \u001b[0m_raise_linalgerror_nonposdef\u001b[0m\u001b[0;34m(\u001b[0m\u001b[0merr\u001b[0m\u001b[0;34m,\u001b[0m \u001b[0mflag\u001b[0m\u001b[0;34m)\u001b[0m\u001b[0;34m:\u001b[0m\u001b[0;34m\u001b[0m\u001b[0m\n",
      "\u001b[0;31mLinAlgError\u001b[0m: Singular matrix"
     ]
    }
   ],
   "source": [
    "# Generate the \"correct\" mu\n",
    "lm._set_constants(data.L)\n",
    "lm._set_dependencies(data.E)\n",
    "mu = compute_mu(lm._get_augmented_label_matrix(data.L.todense()), data.Y, K, data.p)\n",
    "\n",
    "# Compute O, O_inv, P based on L\n",
    "lm._generate_O(data.L.todense())\n",
    "O = lm.O.numpy()\n",
    "print(O)\n",
    "d, d = O.shape\n",
    "O_inv = np.linalg.inv(O)\n",
    "P = np.diag(data.p)\n",
    "\n",
    "JJT = np.linalg.inv(np.linalg.inv(P) - mu.T @ O_inv @ mu)\n",
    "ZZT = O_inv @ mu @ JJT @ mu.T @ O_inv.T"
   ]
  },
  {
   "cell_type": "code",
   "execution_count": null,
   "metadata": {},
   "outputs": [],
   "source": [
    "# Check that JJT is indeed PSD ==> ZZT is rank k\n",
    "np.linalg.eig(JJT)[0]"
   ]
  },
  {
   "cell_type": "code",
   "execution_count": null,
   "metadata": {},
   "outputs": [],
   "source": [
    "np.linalg.eig((ZZT + ZZT.T)/2)[0]"
   ]
  },
  {
   "cell_type": "code",
   "execution_count": null,
   "metadata": {},
   "outputs": [],
   "source": [
    "lm.train(\n",
    "    data.L,\n",
    "    deps=data.E,\n",
    "    all_unary_cliques=True,\n",
    "    higher_order_cliques=True,\n",
    "    n_epochs=50000,\n",
    "    print_every=5000,\n",
    "    lr=0.0001,\n",
    "    l2=0,\n",
    "    O_inv_prec=1024,\n",
    "    #O_inv=ZZT\n",
    ")\n",
    "\n",
    "# Test against the true parameter values\n",
    "mu_est = lm.mu.detach().numpy()\n",
    "print(f\"Average absolute error: {np.mean(np.abs(mu_est - mu))}\")"
   ]
  },
  {
   "cell_type": "markdown",
   "metadata": {},
   "source": [
    "### Sanity check that the true $Z$ gets lower loss"
   ]
  },
  {
   "cell_type": "code",
   "execution_count": null,
   "metadata": {},
   "outputs": [],
   "source": [
    "sorted(np.linalg.eig(O)[0])[::-1]"
   ]
  },
  {
   "cell_type": "code",
   "execution_count": null,
   "metadata": {},
   "outputs": [],
   "source": [
    "O = lm.O.numpy()\n",
    "d, d = O.shape\n",
    "O_inv = lm.O_inv.numpy()\n",
    "mask = lm.mask.numpy()\n",
    "P = lm.P.numpy()\n",
    "\n",
    "JJT = np.linalg.inv(np.linalg.inv(P) - mu.T @ O_inv @ mu)\n",
    "ZZT = O_inv @ mu @ JJT @ mu.T @ O_inv.T\n",
    "\n",
    "np.linalg.norm((O_inv + ZZT) * mask)**2"
   ]
  },
  {
   "cell_type": "markdown",
   "metadata": {},
   "source": [
    "#### Seed=2"
   ]
  },
  {
   "cell_type": "code",
   "execution_count": null,
   "metadata": {},
   "outputs": [],
   "source": [
    "visualize_matrix(mask)"
   ]
  },
  {
   "cell_type": "code",
   "execution_count": null,
   "metadata": {
    "collapsed": true
   },
   "outputs": [],
   "source": [
    "#visualize_matrix(np.abs((O_inv + ZZT) * mask))"
   ]
  },
  {
   "cell_type": "code",
   "execution_count": null,
   "metadata": {},
   "outputs": [],
   "source": [
    "lm.c_data"
   ]
  },
  {
   "cell_type": "code",
   "execution_count": null,
   "metadata": {},
   "outputs": [],
   "source": [
    "Z_est = lm.Z.detach().numpy()\n",
    "visualize_matrix(np.abs((O_inv + Z_est @ Z_est.T) * mask))"
   ]
  },
  {
   "cell_type": "markdown",
   "metadata": {},
   "source": [
    "#### Seed=1"
   ]
  },
  {
   "cell_type": "code",
   "execution_count": null,
   "metadata": {},
   "outputs": [],
   "source": [
    "visualize_matrix(mask)"
   ]
  },
  {
   "cell_type": "code",
   "execution_count": null,
   "metadata": {},
   "outputs": [],
   "source": [
    "visualize_matrix(np.abs((O_inv + ZZT) * mask))"
   ]
  },
  {
   "cell_type": "code",
   "execution_count": null,
   "metadata": {},
   "outputs": [],
   "source": [
    "Z_est = lm.Z.detach().numpy()\n",
    "visualize_matrix(np.abs((O_inv + Z_est @ Z_est.T) * mask))"
   ]
  },
  {
   "cell_type": "markdown",
   "metadata": {},
   "source": [
    "#### Seed=0"
   ]
  },
  {
   "cell_type": "code",
   "execution_count": null,
   "metadata": {},
   "outputs": [],
   "source": [
    "visualize_matrix(mask)"
   ]
  },
  {
   "cell_type": "code",
   "execution_count": null,
   "metadata": {},
   "outputs": [],
   "source": [
    "visualize_matrix(np.abs((O_inv + ZZT) * mask))"
   ]
  },
  {
   "cell_type": "code",
   "execution_count": null,
   "metadata": {},
   "outputs": [],
   "source": [
    "Z_est = lm.Z.detach().numpy()\n",
    "visualize_matrix(np.abs((O_inv + Z_est @ Z_est.T) * mask))"
   ]
  },
  {
   "cell_type": "markdown",
   "metadata": {},
   "source": [
    "### Visualizing matrices"
   ]
  },
  {
   "cell_type": "code",
   "execution_count": null,
   "metadata": {},
   "outputs": [],
   "source": [
    "visualize_matrix(np.abs(mu_est - mu))"
   ]
  },
  {
   "cell_type": "code",
   "execution_count": null,
   "metadata": {},
   "outputs": [],
   "source": [
    "visualize_matrix(np.abs(mu_est - mu))"
   ]
  },
  {
   "cell_type": "code",
   "execution_count": null,
   "metadata": {},
   "outputs": [],
   "source": [
    "lm.c_data"
   ]
  },
  {
   "cell_type": "code",
   "execution_count": null,
   "metadata": {},
   "outputs": [],
   "source": [
    "data.E"
   ]
  },
  {
   "cell_type": "markdown",
   "metadata": {},
   "source": [
    "### Trying to solve with `scipy.optimize.minimize`"
   ]
  },
  {
   "cell_type": "code",
   "execution_count": null,
   "metadata": {},
   "outputs": [],
   "source": [
    "from scipy.optimize import minimize\n",
    "\n",
    "O_inv = lm.O_inv.numpy()\n",
    "mask = lm.mask.numpy()\n",
    "\n",
    "z0 = np.random.randn(lm.d * lm.k)\n",
    "\n",
    "def objective_fn(z):\n",
    "    Z = z.reshape(-1, data.k)\n",
    "    return np.linalg.norm( (O_inv + Z @ Z.T) * mask )**2\n",
    "\n",
    "def gradient_fn(z):\n",
    "    Z = z.reshape(-1, data.k)\n",
    "    X = (O_inv + Z @ Z.T) * mask\n",
    "    return np.ravel(X @ Z)\n",
    "\n",
    "res = minimize(objective_fn, z0, jac=gradient_fn, method='BFGS')\n",
    "Z = res['x'].reshape(-1, data.k)\n",
    "res['fun']"
   ]
  },
  {
   "cell_type": "code",
   "execution_count": null,
   "metadata": {},
   "outputs": [],
   "source": [
    "O = lm.O.numpy()\n",
    "P = lm.P.numpy()\n",
    "I_k = np.eye(data.k)\n",
    "Q = O @ Z @ np.linalg.inv(I_k + Z.T @ O @ Z) @ Z.T @ O\n",
    "\n",
    "mu0 = np.random.randn(lm.d * lm.k)\n",
    "\n",
    "def objective_fn_2(mu):\n",
    "    M = mu.reshape(-1, data.k)\n",
    "    return np.linalg.norm(Q - M @ P @ M.T)**2 + np.linalg.norm(np.sum(M @ P, 1) - np.diag(O))**2\n",
    "\n",
    "res_2 = minimize(objective_fn_2, mu0, method='BFGS')\n",
    "M = res_2['x'].reshape(-1, data.k)\n",
    "res_2['fun']"
   ]
  },
  {
   "cell_type": "code",
   "execution_count": null,
   "metadata": {},
   "outputs": [],
   "source": [
    "# Test against the true parameter values\n",
    "print(f\"Average absolute error: {np.mean(np.abs(M - mu))}\")"
   ]
  },
  {
   "cell_type": "markdown",
   "metadata": {},
   "source": [
    "## Visualizing the inverse covariance matrix"
   ]
  },
  {
   "cell_type": "code",
   "execution_count": null,
   "metadata": {},
   "outputs": [],
   "source": [
    "J = compute_inv_covariance(\n",
    "    lm._get_augmented_label_matrix(data.L.todense()),\n",
    "    data.Y,\n",
    "    data.k,\n",
    "    data.p\n",
    ")\n",
    "visualize_matrix(np.abs(J))"
   ]
  },
  {
   "cell_type": "code",
   "execution_count": null,
   "metadata": {},
   "outputs": [],
   "source": [
    "visualize_matrix(lm.mask.numpy(), fig_size=[5,5])"
   ]
  },
  {
   "cell_type": "code",
   "execution_count": null,
   "metadata": {},
   "outputs": [],
   "source": [
    "O_inv = lm.O_inv.numpy()\n",
    "Z = lm.Z.detach().numpy()\n",
    "mask = lm.mask.numpy()\n",
    "visualize_matrix(np.abs((O_inv + Z@Z.T) * mask))"
   ]
  },
  {
   "cell_type": "markdown",
   "metadata": {},
   "source": [
    "### Looking at the internal 'bookkeeping' of cliques..."
   ]
  },
  {
   "cell_type": "code",
   "execution_count": null,
   "metadata": {},
   "outputs": [],
   "source": [
    "lm.c_data"
   ]
  },
  {
   "cell_type": "code",
   "execution_count": null,
   "metadata": {},
   "outputs": [],
   "source": [
    "# Dependency edge weights\n",
    "[((i,j), data.theta[(i,j)]) for i,j in data.E]"
   ]
  },
  {
   "cell_type": "code",
   "execution_count": null,
   "metadata": {
    "collapsed": true
   },
   "outputs": [],
   "source": []
  }
 ],
 "metadata": {
  "kernelspec": {
   "display_name": "Python 3",
   "language": "python",
   "name": "python3"
  },
  "language_info": {
   "codemirror_mode": {
    "name": "ipython",
    "version": 3
   },
   "file_extension": ".py",
   "mimetype": "text/x-python",
   "name": "python",
   "nbconvert_exporter": "python",
   "pygments_lexer": "ipython3",
   "version": "3.6.3"
  }
 },
 "nbformat": 4,
 "nbformat_minor": 2
}
