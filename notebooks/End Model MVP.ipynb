{
 "cells": [
  {
   "cell_type": "code",
   "execution_count": 1,
   "metadata": {},
   "outputs": [],
   "source": [
    "%load_ext autoreload\n",
    "%autoreload 2\n",
    "\n",
    "import numpy as np\n",
    "import torch"
   ]
  },
  {
   "cell_type": "markdown",
   "metadata": {},
   "source": [
    "Create raw data"
   ]
  },
  {
   "cell_type": "code",
   "execution_count": 2,
   "metadata": {},
   "outputs": [],
   "source": [
    "from metal.utils import hard_to_soft\n",
    "\n",
    "N = 1200\n",
    "X = np.random.random((N,2)) * 2 - 1\n",
    "Y = (X[:,0] > X[:,1] + 0.5).astype(int) + 1\n",
    "\n",
    "X = torch.tensor(X, dtype=torch.float)\n",
    "Y = torch.tensor(Y, dtype=torch.int16)"
   ]
  },
  {
   "cell_type": "markdown",
   "metadata": {},
   "source": [
    "Separate into splits"
   ]
  },
  {
   "cell_type": "code",
   "execution_count": 3,
   "metadata": {},
   "outputs": [],
   "source": [
    "X_train = X[:1000]\n",
    "X_dev = X[1000:1100]\n",
    "X_test = X[1100:]\n",
    "\n",
    "Y_train = Y[:1000]\n",
    "Y_dev = Y[1000:1100]\n",
    "Y_test = Y[1100:]"
   ]
  },
  {
   "cell_type": "code",
   "execution_count": 4,
   "metadata": {},
   "outputs": [
    {
     "name": "stdout",
     "output_type": "stream",
     "text": [
      "Counter({1: 719, 2: 281})\n",
      "Counter({1: 71, 2: 29})\n",
      "Counter({1: 77, 2: 23})\n"
     ]
    }
   ],
   "source": [
    "from collections import Counter\n",
    "print(Counter(Y_train.numpy()))\n",
    "print(Counter(Y_dev.numpy()))\n",
    "print(Counter(Y_test.numpy()))"
   ]
  },
  {
   "cell_type": "markdown",
   "metadata": {},
   "source": [
    "Train and score"
   ]
  },
  {
   "cell_type": "code",
   "execution_count": 12,
   "metadata": {
    "scrolled": true
   },
   "outputs": [
    {
     "name": "stdout",
     "output_type": "stream",
     "text": [
      "EndModel(\n",
      "  (net): Sequential(\n",
      "    (0): Linear(in_features=2, out_features=4, bias=True)\n",
      "    (1): Linear(in_features=4, out_features=2, bias=True)\n",
      "  )\n",
      "  (criteria): SoftCrossEntropyLoss()\n",
      ")\n",
      "[E:1]\tTrain Loss: 0.006\tDev score: 0.690\n",
      "[E:2]\tTrain Loss: 0.004\tDev score: 0.840\n",
      "[E:3]\tTrain Loss: 0.003\tDev score: 0.780\n",
      "[E:4]\tTrain Loss: 0.003\tDev score: 0.810\n",
      "[E:5]\tTrain Loss: 0.003\tDev score: 0.860\n",
      "[E:6]\tTrain Loss: 0.002\tDev score: 0.910\n",
      "[E:7]\tTrain Loss: 0.002\tDev score: 0.920\n",
      "[E:8]\tTrain Loss: 0.002\tDev score: 0.950\n",
      "[E:9]\tTrain Loss: 0.002\tDev score: 0.970\n",
      "[E:10]\tTrain Loss: 0.001\tDev score: 0.980\n"
     ]
    }
   ],
   "source": [
    "from metal.end_model import EndModel\n",
    "\n",
    "em = EndModel()\n",
    "em.train(X_train, Y_train, X_dev, Y_dev)"
   ]
  },
  {
   "cell_type": "code",
   "execution_count": 13,
   "metadata": {
    "scrolled": true
   },
   "outputs": [
    {
     "name": "stdout",
     "output_type": "stream",
     "text": [
      "Accuracy: 0.960\n"
     ]
    },
    {
     "data": {
      "text/plain": [
       "0.96"
      ]
     },
     "execution_count": 13,
     "metadata": {},
     "output_type": "execute_result"
    }
   ],
   "source": [
    "em.score(X_test, Y_test)"
   ]
  },
  {
   "cell_type": "code",
   "execution_count": null,
   "metadata": {},
   "outputs": [],
   "source": []
  }
 ],
 "metadata": {
  "kernelspec": {
   "display_name": "Python [conda env:metal]",
   "language": "python",
   "name": "conda-env-metal-py"
  },
  "language_info": {
   "codemirror_mode": {
    "name": "ipython",
    "version": 3
   },
   "file_extension": ".py",
   "mimetype": "text/x-python",
   "name": "python",
   "nbconvert_exporter": "python",
   "pygments_lexer": "ipython3",
   "version": "3.6.5"
  }
 },
 "nbformat": 4,
 "nbformat_minor": 2
}
