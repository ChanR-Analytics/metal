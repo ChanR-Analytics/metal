{
 "cells": [
  {
   "cell_type": "code",
   "execution_count": 1,
   "metadata": {},
   "outputs": [],
   "source": [
    "%load_ext autoreload\n",
    "%autoreload 2\n",
    "\n",
    "import numpy as np\n",
    "import torch"
   ]
  },
  {
   "cell_type": "markdown",
   "metadata": {},
   "source": [
    "Create raw data"
   ]
  },
  {
   "cell_type": "code",
   "execution_count": 2,
   "metadata": {},
   "outputs": [],
   "source": [
    "from metal.utils import hard_to_soft\n",
    "\n",
    "N = 1200\n",
    "X = np.random.random((N,2)) * 2 - 1\n",
    "Y = np.zeros((N,2))\n",
    "Y[:,0] = (X[:,0] > X[:,1] + 0.5).astype(int) + 1\n",
    "Y[:,1] = (X[:,0] > X[:,1] + 0.25).astype(int) + 1\n",
    "\n",
    "X = torch.tensor(X, dtype=torch.float)\n",
    "Y = torch.tensor(Y, dtype=torch.short)"
   ]
  },
  {
   "cell_type": "markdown",
   "metadata": {},
   "source": [
    "Separate into splits"
   ]
  },
  {
   "cell_type": "code",
   "execution_count": 3,
   "metadata": {},
   "outputs": [],
   "source": [
    "X_train = X[:1000]\n",
    "X_dev   = X[1000:1100]\n",
    "X_test  = X[1100:]\n",
    "\n",
    "Y_train = [Y[:1000, 0],     Y[:1000, 1]]\n",
    "Y_dev   = [Y[1000:1100, 0], Y[1000:1100, 1]]\n",
    "Y_test  = [Y[1100:, 0],     Y[1100:, 1]]"
   ]
  },
  {
   "cell_type": "markdown",
   "metadata": {},
   "source": [
    "Train and score"
   ]
  },
  {
   "cell_type": "code",
   "execution_count": 4,
   "metadata": {
    "scrolled": false
   },
   "outputs": [
    {
     "name": "stdout",
     "output_type": "stream",
     "text": [
      "Overwriting dropout=0.5 to dropout=0.0\n"
     ]
    }
   ],
   "source": [
    "from metal.end_model import EndModel\n",
    "\n",
    "em = EndModel(label_map=[[1,2],[1,2]], dropout=0.0)"
   ]
  },
  {
   "cell_type": "code",
   "execution_count": 5,
   "metadata": {
    "scrolled": false
   },
   "outputs": [
    {
     "name": "stdout",
     "output_type": "stream",
     "text": [
      "Overwriting n_epochs=10 to n_epochs=20\n",
      "EndModel(\n",
      "  (layers): ModuleList(\n",
      "    (layer0): Sequential(\n",
      "      (0): IdentityModule()\n",
      "      (1): ReLU()\n",
      "      (2): BatchNorm1d(2, eps=1e-05, momentum=0.1, affine=True, track_running_stats=True)\n",
      "    )\n",
      "    (layer1): Sequential(\n",
      "      (0): Linear(in_features=2, out_features=10, bias=True)\n",
      "      (1): ReLU()\n",
      "      (2): BatchNorm1d(10, eps=1e-05, momentum=0.1, affine=True, track_running_stats=True)\n",
      "    )\n",
      "    (layer2): Sequential(\n",
      "      (0): Linear(in_features=10, out_features=10, bias=True)\n",
      "      (1): ReLU()\n",
      "      (2): BatchNorm1d(10, eps=1e-05, momentum=0.1, affine=True, track_running_stats=True)\n",
      "    )\n",
      "    (layer3): Sequential(\n",
      "      (0): Linear(in_features=10, out_features=2, bias=True)\n",
      "      (1): ReLU()\n",
      "      (2): BatchNorm1d(2, eps=1e-05, momentum=0.1, affine=True, track_running_stats=True)\n",
      "    )\n",
      "  )\n",
      "  (heads): ModuleList(\n",
      "    (0): Linear(in_features=2, out_features=2, bias=True)\n",
      "    (1): Linear(in_features=2, out_features=2, bias=True)\n",
      "  )\n",
      "  (criteria): SoftCrossEntropyLoss()\n",
      ")\n",
      "[E:1]\tTrain Loss: 0.010\tDev score: 0.815\n",
      "[E:2]\tTrain Loss: 0.009\tDev score: 0.815\n",
      "[E:3]\tTrain Loss: 0.008\tDev score: 0.905\n",
      "[E:4]\tTrain Loss: 0.006\tDev score: 0.935\n",
      "[E:5]\tTrain Loss: 0.005\tDev score: 0.930\n",
      "[E:6]\tTrain Loss: 0.004\tDev score: 0.940\n",
      "[E:7]\tTrain Loss: 0.004\tDev score: 0.950\n",
      "[E:8]\tTrain Loss: 0.004\tDev score: 0.955\n",
      "[E:9]\tTrain Loss: 0.004\tDev score: 0.950\n",
      "[E:10]\tTrain Loss: 0.004\tDev score: 0.945\n",
      "[E:11]\tTrain Loss: 0.004\tDev score: 0.955\n",
      "[E:12]\tTrain Loss: 0.004\tDev score: 0.955\n",
      "[E:13]\tTrain Loss: 0.003\tDev score: 0.955\n",
      "[E:14]\tTrain Loss: 0.003\tDev score: 0.940\n",
      "[E:15]\tTrain Loss: 0.004\tDev score: 0.945\n",
      "[E:16]\tTrain Loss: 0.003\tDev score: 0.955\n",
      "[E:17]\tTrain Loss: 0.003\tDev score: 0.955\n",
      "[E:18]\tTrain Loss: 0.003\tDev score: 0.955\n",
      "[E:19]\tTrain Loss: 0.003\tDev score: 0.945\n",
      "[E:20]\tTrain Loss: 0.004\tDev score: 0.955\n"
     ]
    }
   ],
   "source": [
    "em.train(X_train, Y_train, X_dev, Y_dev, n_epochs=20)"
   ]
  },
  {
   "cell_type": "code",
   "execution_count": 10,
   "metadata": {
    "scrolled": true
   },
   "outputs": [
    {
     "name": "stdout",
     "output_type": "stream",
     "text": [
      "Accuracy (t=0): 0.900\n",
      "Accuracy (t=1): 0.870\n"
     ]
    },
    {
     "data": {
      "text/plain": [
       "[0.9, 0.87]"
      ]
     },
     "execution_count": 10,
     "metadata": {},
     "output_type": "execute_result"
    }
   ],
   "source": [
    "em.score(X_test, Y_test, reduce=None)"
   ]
  },
  {
   "cell_type": "code",
   "execution_count": null,
   "metadata": {},
   "outputs": [],
   "source": []
  },
  {
   "cell_type": "code",
   "execution_count": null,
   "metadata": {},
   "outputs": [],
   "source": []
  }
 ],
 "metadata": {
  "kernelspec": {
   "display_name": "Python [conda env:metal]",
   "language": "python",
   "name": "conda-env-metal-py"
  },
  "language_info": {
   "codemirror_mode": {
    "name": "ipython",
    "version": 3
   },
   "file_extension": ".py",
   "mimetype": "text/x-python",
   "name": "python",
   "nbconvert_exporter": "python",
   "pygments_lexer": "ipython3",
   "version": "3.6.5"
  }
 },
 "nbformat": 4,
 "nbformat_minor": 2
}
