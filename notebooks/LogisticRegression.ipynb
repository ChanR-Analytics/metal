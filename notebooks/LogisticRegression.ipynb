{
 "cells": [
  {
   "cell_type": "code",
   "execution_count": 1,
   "metadata": {},
   "outputs": [],
   "source": [
    "%load_ext autoreload\n",
    "%autoreload 2\n",
    "\n",
    "import numpy as np\n",
    "import torch"
   ]
  },
  {
   "cell_type": "code",
   "execution_count": 2,
   "metadata": {},
   "outputs": [],
   "source": [
    "from torch.distributions import MultivariateNormal\n",
    "\n",
    "A = MultivariateNormal(torch.zeros(2), torch.eye(2))\n",
    "B = MultivariateNormal(torch.ones(2) * 2, torch.eye(2))"
   ]
  },
  {
   "cell_type": "code",
   "execution_count": 3,
   "metadata": {},
   "outputs": [],
   "source": [
    "As = A.sample((100,))\n",
    "Bs = B.sample((100,))"
   ]
  },
  {
   "cell_type": "code",
   "execution_count": 4,
   "metadata": {},
   "outputs": [
    {
     "data": {
      "text/plain": [
       "<matplotlib.collections.PathCollection at 0x11ca5b128>"
      ]
     },
     "execution_count": 4,
     "metadata": {},
     "output_type": "execute_result"
    },
    {
     "data": {
      "text/plain": [
       "<matplotlib.collections.PathCollection at 0x11ca5b0f0>"
      ]
     },
     "execution_count": 4,
     "metadata": {},
     "output_type": "execute_result"
    }
   ],
   "source": [
    "import matplotlib.pyplot as plt\n",
    "\n",
    "plt.scatter(As[:,0], As[:,1])\n",
    "plt.scatter(Bs[:,0], Bs[:,1])"
   ]
  },
  {
   "cell_type": "code",
   "execution_count": 5,
   "metadata": {},
   "outputs": [
    {
     "data": {
      "text/plain": [
       "torch.Size([100, 2])"
      ]
     },
     "execution_count": 5,
     "metadata": {},
     "output_type": "execute_result"
    }
   ],
   "source": [
    "As.shape"
   ]
  },
  {
   "cell_type": "code",
   "execution_count": 6,
   "metadata": {},
   "outputs": [],
   "source": [
    "X = torch.cat((As, Bs))\n",
    "Y = torch.cat((torch.ones(As.shape[0]), torch.full((Bs.shape[0],), 2))).long()"
   ]
  },
  {
   "cell_type": "code",
   "execution_count": 7,
   "metadata": {},
   "outputs": [],
   "source": [
    "order = torch.randperm(X.shape[0])\n",
    "X = X[order,:]\n",
    "Y = Y[order]"
   ]
  },
  {
   "cell_type": "code",
   "execution_count": 8,
   "metadata": {},
   "outputs": [],
   "source": [
    "from metal.end_model import LogisticRegression\n",
    "\n",
    "logreg = LogisticRegression(2)"
   ]
  },
  {
   "cell_type": "code",
   "execution_count": 9,
   "metadata": {},
   "outputs": [
    {
     "data": {
      "text/plain": [
       "tensor([ 2,  1,  1,  2,  2,  1,  1,  2,  2,  1,  2,  1,  1,  1,\n",
       "         1,  2,  1,  2,  2,  1,  2,  2,  2,  2,  2,  2,  1,  1,\n",
       "         1,  1,  1,  2,  1,  1,  2,  1,  1,  2,  1,  1,  1,  1,\n",
       "         1,  1,  2,  2,  1,  1,  1,  2,  2,  1,  2,  2,  2,  1,\n",
       "         2,  1,  2,  2,  1,  2,  1,  1,  2,  2,  2,  1,  2,  2,\n",
       "         2,  2,  2,  1,  2,  2,  2,  2,  2,  1,  1,  2,  2,  1,\n",
       "         2,  2,  1,  1,  2,  1,  2,  2,  1,  2,  1,  1,  1,  2,\n",
       "         2,  2,  2,  1,  2,  2,  2,  2,  1,  2,  2,  1,  1,  2,\n",
       "         2,  2,  1,  2,  1,  1,  2,  1,  1,  1,  1,  1,  1,  1,\n",
       "         1,  2,  1,  1,  2,  1,  2,  1,  1,  2,  1,  2,  1,  2,\n",
       "         1,  2,  2,  2,  2,  1,  2,  1,  1,  2,  1,  2,  1,  2,\n",
       "         1,  1,  1,  1,  1,  2,  2,  2,  2,  1,  1,  1,  1,  2,\n",
       "         1,  1,  2,  2,  2,  2,  2,  2,  2,  1,  1,  2,  2,  1,\n",
       "         2,  1,  2,  1,  1,  2,  2,  2,  2,  1,  1,  1,  1,  1,\n",
       "         1,  1,  1,  2])"
      ]
     },
     "execution_count": 9,
     "metadata": {},
     "output_type": "execute_result"
    }
   ],
   "source": [
    "Y"
   ]
  },
  {
   "cell_type": "code",
   "execution_count": 10,
   "metadata": {
    "scrolled": false
   },
   "outputs": [
    {
     "name": "stdout",
     "output_type": "stream",
     "text": [
      "LogisticRegression(\n",
      "  (layers): ModuleList(\n",
      "    (layer0): Sequential(\n",
      "      (0): IdentityModule()\n",
      "    )\n",
      "  )\n",
      "  (heads): ModuleList(\n",
      "    (0): Linear(in_features=2, out_features=1, bias=True)\n",
      "  )\n",
      "  (criteria): SoftCrossEntropyLoss()\n",
      ")\n",
      "[E:1]\tTrain Loss: 0.000\n",
      "[E:2]\tTrain Loss: 0.000\n",
      "[E:3]\tTrain Loss: 0.000\n",
      "[E:4]\tTrain Loss: 0.000\n",
      "[E:5]\tTrain Loss: 0.000\n",
      "[E:6]\tTrain Loss: 0.000\n",
      "[E:7]\tTrain Loss: 0.000\n",
      "[E:8]\tTrain Loss: 0.000\n",
      "[E:9]\tTrain Loss: 0.000\n",
      "[E:10]\tTrain Loss: 0.000\n"
     ]
    }
   ],
   "source": [
    "logreg.train(X, Y)"
   ]
  },
  {
   "cell_type": "code",
   "execution_count": 11,
   "metadata": {
    "scrolled": false
   },
   "outputs": [
    {
     "data": {
      "text/plain": [
       "tensor([[ 0.7606,  3.4903],\n",
       "        [ 0.6584, -0.9180],\n",
       "        [-0.8702, -0.9824],\n",
       "        [ 2.2800,  1.7375],\n",
       "        [ 1.9360,  2.5745],\n",
       "        [-0.7175, -0.1100],\n",
       "        [-1.2215,  1.6509],\n",
       "        [ 3.8731,  2.2494],\n",
       "        [ 1.6840,  1.0878],\n",
       "        [-0.6920, -1.1034]])"
      ]
     },
     "execution_count": 11,
     "metadata": {},
     "output_type": "execute_result"
    }
   ],
   "source": [
    "X[:10,:]"
   ]
  },
  {
   "cell_type": "code",
   "execution_count": 12,
   "metadata": {
    "scrolled": true
   },
   "outputs": [
    {
     "name": "stdout",
     "output_type": "stream",
     "text": [
      "Accuracy: 0.500\n"
     ]
    },
    {
     "data": {
      "text/plain": [
       "0.5"
      ]
     },
     "execution_count": 12,
     "metadata": {},
     "output_type": "execute_result"
    }
   ],
   "source": [
    "logreg.score(X, Y)"
   ]
  },
  {
   "cell_type": "code",
   "execution_count": null,
   "metadata": {},
   "outputs": [],
   "source": []
  }
 ],
 "metadata": {
  "kernelspec": {
   "display_name": "Python [conda env:metal]",
   "language": "python",
   "name": "conda-env-metal-py"
  },
  "language_info": {
   "codemirror_mode": {
    "name": "ipython",
    "version": 3
   },
   "file_extension": ".py",
   "mimetype": "text/x-python",
   "name": "python",
   "nbconvert_exporter": "python",
   "pygments_lexer": "ipython3",
   "version": "3.6.5"
  }
 },
 "nbformat": 4,
 "nbformat_minor": 2
}
