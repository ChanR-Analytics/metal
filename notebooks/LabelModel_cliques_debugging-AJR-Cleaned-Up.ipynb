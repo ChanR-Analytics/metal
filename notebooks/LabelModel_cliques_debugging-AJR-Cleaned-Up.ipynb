{
 "cells": [
  {
   "cell_type": "markdown",
   "metadata": {},
   "source": [
    "## Debugging the `LabelModel` with deps + higher-order cliques"
   ]
  },
  {
   "cell_type": "code",
   "execution_count": 1,
   "metadata": {},
   "outputs": [
    {
     "name": "stdout",
     "output_type": "stream",
     "text": [
      "The autoreload extension is already loaded. To reload it, use:\n",
      "  %reload_ext autoreload\n"
     ]
    }
   ],
   "source": [
    "%matplotlib inline\n",
    "%load_ext autoreload\n",
    "%autoreload 2\n",
    "\n",
    "import sys\n",
    "sys.path.append(\"../\") # go to parent dir\n",
    "\n",
    "import numpy as np\n",
    "import torch\n",
    "import matplotlib.pyplot as plt\n",
    "import mpmath\n",
    "\n",
    "from synthetic.generate import (\n",
    "    DataGenerator,\n",
    "    ChainDependencies,\n",
    "    TreeDependencies\n",
    ")\n",
    "from metal.label_model import LabelModel\n",
    "from metal.label_model.utils import (\n",
    "    compute_mu,\n",
    "    compute_covariance,\n",
    "    compute_inv_covariance,\n",
    "    print_matrix,\n",
    "    visualize_matrix\n",
    ")"
   ]
  },
  {
   "cell_type": "markdown",
   "metadata": {},
   "source": [
    "### Generating a dataset"
   ]
  },
  {
   "cell_type": "code",
   "execution_count": 2,
   "metadata": {},
   "outputs": [],
   "source": [
    "np.random.seed(0)\n",
    "N = 1000\n",
    "M = 5\n",
    "K = 2"
   ]
  },
  {
   "cell_type": "code",
   "execution_count": 13,
   "metadata": {},
   "outputs": [
    {
     "data": {
      "text/plain": [
       "[(0, 1), (1, 2), (0, 3), (3, 4)]"
      ]
     },
     "execution_count": 13,
     "metadata": {},
     "output_type": "execute_result"
    }
   ],
   "source": [
    "# deps_graph = ChainDependencies(M)\n",
    "deps_graph = TreeDependencies(M)\n",
    "deps_graph.edges"
   ]
  },
  {
   "cell_type": "code",
   "execution_count": 14,
   "metadata": {
    "scrolled": false
   },
   "outputs": [],
   "source": [
    "data = DataGenerator(N, M, k=K, deps_graph=deps_graph)"
   ]
  },
  {
   "cell_type": "code",
   "execution_count": 15,
   "metadata": {},
   "outputs": [],
   "source": [
    "# data.c_tree.c_data"
   ]
  },
  {
   "cell_type": "code",
   "execution_count": 16,
   "metadata": {},
   "outputs": [
    {
     "data": {
      "image/png": "[encoded data removed]",
      "text/plain": [
       "<Figure size 720x720 with 2 Axes>"
      ]
     },
     "metadata": {},
     "output_type": "display_data"
    }
   ],
   "source": [
    "visualize_matrix(np.abs(data.sig_inv))"
   ]
  },
  {
   "cell_type": "markdown",
   "metadata": {},
   "source": [
    "### Forming squashed version"
   ]
  },
  {
   "cell_type": "code",
   "execution_count": 17,
   "metadata": {},
   "outputs": [
    {
     "data": {
      "image/png": "[encoded data removed]",
      "text/plain": [
       "<Figure size 720x720 with 2 Axes>"
      ]
     },
     "metadata": {},
     "output_type": "display_data"
    }
   ],
   "source": [
    "R = data.c_tree.R\n",
    "R_mu = R @ data.mu\n",
    "O_vis = R @ data.O @ R.T\n",
    "\n",
    "S = R @ data.sig @ R.T\n",
    "S_inv = np.linalg.inv(S)\n",
    "visualize_matrix(np.abs(S_inv))"
   ]
  },
  {
   "cell_type": "markdown",
   "metadata": {},
   "source": [
    "### Recovering $R\\mu$"
   ]
  },
  {
   "cell_type": "code",
   "execution_count": 18,
   "metadata": {},
   "outputs": [
    {
     "name": "stdout",
     "output_type": "stream",
     "text": [
      "1\n",
      "our k is 1\n",
      "Estimating Z...\n",
      "[Epoch 0] Loss: 20.472027\n",
      "[Epoch 2000] Loss: 0.000018\n",
      "[Epoch 4000] Loss: 0.000016\n",
      "[Epoch 6000] Loss: 0.000016\n",
      "[Epoch 8000] Loss: 0.000016\n",
      "[Epoch 9999] Loss: 0.000016\n",
      "Estimating \\mu...\n",
      "[Epoch 0] Loss: 16.435808\n",
      "[Epoch 2000] Loss: 0.000000\n",
      "[Epoch 4000] Loss: 0.000000\n",
      "[Epoch 6000] Loss: 0.000000\n",
      "[Epoch 8000] Loss: 0.000000\n",
      "[Epoch 9999] Loss: 0.000000\n",
      "Average absolute error: 0.006050855526799769\n"
     ]
    }
   ],
   "source": [
    "data.k = 1\n",
    "\n",
    "lm = LabelModel(k=data.k, class_balance=data.p)\n",
    "\n",
    "lm.train(\n",
    "    data.L,\n",
    "    deps=data.edges,\n",
    "    all_unary_cliques=True,\n",
    "    higher_order_cliques=True,\n",
    "    n_epochs=10000,\n",
    "    print_every=2000,\n",
    "    lr=0.001,\n",
    "    l2=0,\n",
    "    O=O_vis,\n",
    "    c_data=data.c_tree.c_data_1\n",
    ")\n",
    "\n",
    "R_mu_est = lm.mu.detach().numpy()\n",
    "err = np.mean(np.abs(np.abs(R_mu_est) - np.abs(R_mu)))\n",
    "print(f\"Average absolute error: {err}\")"
   ]
  },
  {
   "cell_type": "markdown",
   "metadata": {},
   "source": [
    "### Generating `R`"
   ]
  },
  {
   "cell_type": "code",
   "execution_count": null,
   "metadata": {},
   "outputs": [],
   "source": [
    "# We assume we have access to the total rate of non-abstains, which is observable\n",
    "mu_lp = (data.mu_true.T @ data.c_tree.R_sum.T).T\n",
    "mu_lp"
   ]
  },
  {
   "cell_type": "code",
   "execution_count": null,
   "metadata": {},
   "outputs": [],
   "source": [
    "np.hstack([data.c_tree.recover_mu(R_mu, R2_mu, mu_lp), data.mu_true])"
   ]
  },
  {
   "cell_type": "code",
   "execution_count": null,
   "metadata": {},
   "outputs": [],
   "source": [
    "from itertools import product\n",
    "list(product(range(1, 3), repeat=2))"
   ]
  },
  {
   "cell_type": "code",
   "execution_count": null,
   "metadata": {},
   "outputs": [],
   "source": [
    "M = np.array([\n",
    "    [1, -1, -1, 1],\n",
    "    [1, 1, 0, 0],\n",
    "    [0, 0, 1, 1],\n",
    "    [1, 0, 1, 0]\n",
    "])\n",
    "M"
   ]
  },
  {
   "cell_type": "code",
   "execution_count": null,
   "metadata": {},
   "outputs": [],
   "source": [
    "np.linalg.inv(M)"
   ]
  },
  {
   "cell_type": "markdown",
   "metadata": {},
   "source": [
    "## TODOs:\n",
    "1. Code up `CliqueTree.R`\n",
    "2. Code up routine to do both versions of `R` for non-unary cliques\n",
    "3. Code up full parameter recovery\n",
    "4. Code up check against true parameters\n",
    "5. Test & clean up!\n",
    "\n",
    "**Then, try for noisy data...?**"
   ]
  }
 ],
 "metadata": {
  "kernelspec": {
   "display_name": "Python [default]",
   "language": "python",
   "name": "python3"
  },
  "language_info": {
   "codemirror_mode": {
    "name": "ipython",
    "version": 3
   },
   "file_extension": ".py",
   "mimetype": "text/x-python",
   "name": "python",
   "nbconvert_exporter": "python",
   "pygments_lexer": "ipython3",
   "version": "3.6.6"
  }
 },
 "nbformat": 4,
 "nbformat_minor": 2
}
