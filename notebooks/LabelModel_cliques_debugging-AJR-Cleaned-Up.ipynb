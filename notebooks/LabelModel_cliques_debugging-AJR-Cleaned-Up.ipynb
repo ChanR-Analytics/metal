{
 "cells": [
  {
   "cell_type": "markdown",
   "metadata": {},
   "source": [
    "## Debugging the `LabelModel` with deps + higher-order cliques"
   ]
  },
  {
   "cell_type": "code",
   "execution_count": 1,
   "metadata": {},
   "outputs": [
    {
     "name": "stdout",
     "output_type": "stream",
     "text": [
      "The autoreload extension is already loaded. To reload it, use:\n",
      "  %reload_ext autoreload\n"
     ]
    }
   ],
   "source": [
    "%matplotlib inline\n",
    "%load_ext autoreload\n",
    "%autoreload 2\n",
    "\n",
    "import sys\n",
    "sys.path.append(\"../\") # go to parent dir\n",
    "\n",
    "import numpy as np\n",
    "import torch\n",
    "import matplotlib.pyplot as plt\n",
    "import mpmath\n",
    "\n",
    "from synthetic.generate import (\n",
    "    DataGenerator,\n",
    "    SimpleDataGenerator,\n",
    "    ChainDependencies,\n",
    "    TreeDependencies\n",
    ")\n",
    "from metal.label_model import LabelModel\n",
    "from metal.label_model.utils import (\n",
    "    compute_mu,\n",
    "    compute_covariance,\n",
    "    compute_inv_covariance,\n",
    "    print_matrix,\n",
    "    visualize_matrix\n",
    ")"
   ]
  },
  {
   "cell_type": "markdown",
   "metadata": {},
   "source": [
    "### Generating a dataset"
   ]
  },
  {
   "cell_type": "code",
   "execution_count": 2,
   "metadata": {},
   "outputs": [],
   "source": [
    "np.random.seed(123)\n",
    "N = 1000\n",
    "M = 15\n",
    "K = 2"
   ]
  },
  {
   "cell_type": "code",
   "execution_count": 3,
   "metadata": {},
   "outputs": [
    {
     "data": {
      "text/plain": [
       "[(0, 1),\n",
       " (0, 2),\n",
       " (1, 3),\n",
       " (3, 4),\n",
       " (1, 5),\n",
       " (1, 6),\n",
       " (0, 7),\n",
       " (3, 8),\n",
       " (4, 9),\n",
       " (4, 10),\n",
       " (3, 11),\n",
       " (7, 12),\n",
       " (8, 13),\n",
       " (7, 14)]"
      ]
     },
     "execution_count": 3,
     "metadata": {},
     "output_type": "execute_result"
    }
   ],
   "source": [
    "# deps_graph = ChainDependencies(M)\n",
    "deps_graph = TreeDependencies(M, edge_prob=1.0)\n",
    "deps_graph.edges"
   ]
  },
  {
   "cell_type": "code",
   "execution_count": 4,
   "metadata": {
    "scrolled": false
   },
   "outputs": [
    {
     "data": {
      "image/png": "[encoded data removed]",
      "text/plain": [
       "<Figure size 720x720 with 2 Axes>"
      ]
     },
     "metadata": {},
     "output_type": "display_data"
    }
   ],
   "source": [
    "# data = DataGenerator(N, M, k=K, deps_graph=deps_graph)\n",
    "data = SimpleDataGenerator(N, M, k=K, deps_graph=deps_graph)\n",
    "visualize_matrix(np.abs(data.sig_inv))"
   ]
  },
  {
   "cell_type": "markdown",
   "metadata": {},
   "source": [
    "### Testing the new `SimpleDataGenerator`"
   ]
  },
  {
   "cell_type": "code",
   "execution_count": 5,
   "metadata": {},
   "outputs": [
    {
     "name": "stdout",
     "output_type": "stream",
     "text": [
      "1.0\n"
     ]
    },
    {
     "data": {
      "text/plain": [
       "[0.3188861687848412, 0.5536541625241326, 0.12745966869102618]"
      ]
     },
     "execution_count": 5,
     "metadata": {},
     "output_type": "execute_result"
    }
   ],
   "source": [
    "i,j = data.edges[0]\n",
    "\n",
    "probs = [data.P_cond(i, y, Y=1) for y in range(K+1)]\n",
    "print(sum(probs))\n",
    "probs"
   ]
  },
  {
   "cell_type": "markdown",
   "metadata": {},
   "source": [
    "Independence of abstains implies $P(X_i, X_j \\neq 0) = P(X_i)P(X_j \\neq 0)$, which we use in recovery of the binary clique marginal probabilities later on:"
   ]
  },
  {
   "cell_type": "code",
   "execution_count": 6,
   "metadata": {},
   "outputs": [
    {
     "data": {
      "text/plain": [
       "0.3768230277490706"
      ]
     },
     "execution_count": 6,
     "metadata": {},
     "output_type": "execute_result"
    }
   ],
   "source": [
    "data.P_cond((i,j), (1,1), Y=1) + data.P_cond((i,j), (1,2), Y=1)"
   ]
  },
  {
   "cell_type": "code",
   "execution_count": 7,
   "metadata": {},
   "outputs": [
    {
     "data": {
      "text/plain": [
       "0.37682302774907067"
      ]
     },
     "execution_count": 7,
     "metadata": {},
     "output_type": "execute_result"
    }
   ],
   "source": [
    "data.P_cond(i, 1, Y=1) * (1 - data.P_cond(j, 0, Y=1))"
   ]
  },
  {
   "cell_type": "markdown",
   "metadata": {},
   "source": [
    "### Forming squashed version"
   ]
  },
  {
   "cell_type": "code",
   "execution_count": 8,
   "metadata": {},
   "outputs": [
    {
     "data": {
      "image/png": "[encoded data removed]",
      "text/plain": [
       "<Figure size 720x720 with 2 Axes>"
      ]
     },
     "metadata": {},
     "output_type": "display_data"
    }
   ],
   "source": [
    "R = data.c_tree.R\n",
    "R_mu = R @ data.mu\n",
    "O_vis = R @ data.O @ R.T\n",
    "\n",
    "S = R @ data.sig @ R.T\n",
    "S_inv = np.linalg.inv(S)\n",
    "visualize_matrix(np.abs(S_inv))"
   ]
  },
  {
   "cell_type": "markdown",
   "metadata": {},
   "source": [
    "### Recovering $R\\mu$"
   ]
  },
  {
   "cell_type": "code",
   "execution_count": 9,
   "metadata": {},
   "outputs": [
    {
     "name": "stdout",
     "output_type": "stream",
     "text": [
      "1\n",
      "Estimating Z...\n",
      "[Epoch 0] Loss: 1088.308228\n",
      "[Epoch 2000] Loss: 0.574214\n",
      "[Epoch 4000] Loss: 0.574214\n",
      "[Epoch 6000] Loss: 0.574214\n",
      "[Epoch 8000] Loss: 0.574214\n",
      "[Epoch 9999] Loss: 0.574214\n",
      "Estimating \\mu...\n",
      "[Epoch 0] Loss: 32.621189\n",
      "[Epoch 2000] Loss: 0.000000\n",
      "[Epoch 4000] Loss: 0.000000\n",
      "[Epoch 6000] Loss: 0.000000\n",
      "[Epoch 8000] Loss: 0.000000\n",
      "[Epoch 9999] Loss: 0.000000\n"
     ]
    }
   ],
   "source": [
    "data.k = 1\n",
    "\n",
    "lm = LabelModel(k=data.k, class_balance=data.p)\n",
    "\n",
    "lm.train(\n",
    "    data.L,\n",
    "    deps=data.edges,\n",
    "    all_unary_cliques=True,\n",
    "    higher_order_cliques=True,\n",
    "    n_epochs=10000,\n",
    "    print_every=2000,\n",
    "    lr=0.001,\n",
    "    l2=0,\n",
    "    O=O_vis,\n",
    "    c_data=data.c_tree.c_data_1\n",
    ")"
   ]
  },
  {
   "cell_type": "code",
   "execution_count": 10,
   "metadata": {},
   "outputs": [
    {
     "name": "stdout",
     "output_type": "stream",
     "text": [
      "Average absolute error in R\\mu: 0.011549462474034307\n",
      "Average absolute error in \\mu: 0.1740143844314815\n",
      "Average absolute error in \\mu [sign flipped]: 0.004251512467904009\n"
     ]
    }
   ],
   "source": [
    "R_mu_est = lm.mu.detach().numpy()\n",
    "err = np.mean(np.abs(np.abs(R_mu_est) - np.abs(R_mu)))\n",
    "print(f\"Average absolute error in R\\mu: {err}\")\n",
    "\n",
    "# We assume we have access to the total rate of non-abstains, which is observable\n",
    "R_sum = data.c_tree.R_sum\n",
    "mu_lp = (data.mu.T @ R_sum.T).T\n",
    "\n",
    "mu_est = data.c_tree.recover_mu(R_mu_est, mu_lp)\n",
    "err_mu = np.mean(np.abs(np.abs(mu_est) - np.abs(data.mu)))\n",
    "print(f\"Average absolute error in \\mu: {err_mu}\")\n",
    "\n",
    "mu_est = data.c_tree.recover_mu(-R_mu_est, mu_lp)\n",
    "err_mu = np.mean(np.abs(np.abs(mu_est) - np.abs(data.mu)))\n",
    "print(f\"Average absolute error in \\mu [sign flipped]: {err_mu}\")"
   ]
  }
 ],
 "metadata": {
  "kernelspec": {
   "display_name": "Python [default]",
   "language": "python",
   "name": "python3"
  },
  "language_info": {
   "codemirror_mode": {
    "name": "ipython",
    "version": 3
   },
   "file_extension": ".py",
   "mimetype": "text/x-python",
   "name": "python",
   "nbconvert_exporter": "python",
   "pygments_lexer": "ipython3",
   "version": "3.6.6"
  }
 },
 "nbformat": 4,
 "nbformat_minor": 2
}
