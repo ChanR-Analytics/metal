{
 "cells": [
  {
   "cell_type": "code",
   "execution_count": 1,
   "metadata": {
    "collapsed": true
   },
   "outputs": [
    {
     "name": "stdout",
     "output_type": "stream",
     "text": [
      "The autoreload extension is already loaded. To reload it, use:\n",
      "  %reload_ext autoreload\n"
     ]
    },
    {
     "name": "stderr",
     "output_type": "stream",
     "text": [
      "/dfs/scratch0/paroma/anaconda2/envs/metal/lib/python3.6/importlib/_bootstrap.py:219: RuntimeWarning: numpy.dtype size changed, may indicate binary incompatibility. Expected 96, got 88\n",
      "  return f(*args, **kwds)\n",
      "/dfs/scratch0/paroma/metal/metal/analysis.py:13: UserWarning: \n",
      "This call to matplotlib.use() has no effect because the backend has already\n",
      "been chosen; matplotlib.use() must be called *before* pylab, matplotlib.pyplot,\n",
      "or matplotlib.backends is imported for the first time.\n",
      "\n",
      "The backend was *originally* set to 'module://ipykernel.pylab.backend_inline' by the following code:\n",
      "  File \"/dfs/scratch0/paroma/anaconda2/envs/metal/lib/python3.6/runpy.py\", line 193, in _run_module_as_main\n",
      "    \"__main__\", mod_spec)\n",
      "  File \"/dfs/scratch0/paroma/anaconda2/envs/metal/lib/python3.6/runpy.py\", line 85, in _run_code\n",
      "    exec(code, run_globals)\n",
      "  File \"/dfs/scratch0/paroma/anaconda2/envs/metal/lib/python3.6/site-packages/ipykernel/__main__.py\", line 3, in <module>\n",
      "    app.launch_new_instance()\n",
      "  File \"/dfs/scratch0/paroma/anaconda2/envs/metal/lib/python3.6/site-packages/traitlets/config/application.py\", line 658, in launch_instance\n",
      "    app.start()\n",
      "  File \"/dfs/scratch0/paroma/anaconda2/envs/metal/lib/python3.6/site-packages/ipykernel/kernelapp.py\", line 486, in start\n",
      "    self.io_loop.start()\n",
      "  File \"/dfs/scratch0/paroma/anaconda2/envs/metal/lib/python3.6/site-packages/tornado/platform/asyncio.py\", line 132, in start\n",
      "    self.asyncio_loop.run_forever()\n",
      "  File \"/dfs/scratch0/paroma/anaconda2/envs/metal/lib/python3.6/asyncio/base_events.py\", line 422, in run_forever\n",
      "    self._run_once()\n",
      "  File \"/dfs/scratch0/paroma/anaconda2/envs/metal/lib/python3.6/asyncio/base_events.py\", line 1434, in _run_once\n",
      "    handle._run()\n",
      "  File \"/dfs/scratch0/paroma/anaconda2/envs/metal/lib/python3.6/asyncio/events.py\", line 145, in _run\n",
      "    self._callback(*self._args)\n",
      "  File \"/dfs/scratch0/paroma/anaconda2/envs/metal/lib/python3.6/site-packages/tornado/platform/asyncio.py\", line 122, in _handle_events\n",
      "    handler_func(fileobj, events)\n",
      "  File \"/dfs/scratch0/paroma/anaconda2/envs/metal/lib/python3.6/site-packages/tornado/stack_context.py\", line 300, in null_wrapper\n",
      "    return fn(*args, **kwargs)\n",
      "  File \"/dfs/scratch0/paroma/anaconda2/envs/metal/lib/python3.6/site-packages/zmq/eventloop/zmqstream.py\", line 450, in _handle_events\n",
      "    self._handle_recv()\n",
      "  File \"/dfs/scratch0/paroma/anaconda2/envs/metal/lib/python3.6/site-packages/zmq/eventloop/zmqstream.py\", line 480, in _handle_recv\n",
      "    self._run_callback(callback, msg)\n",
      "  File \"/dfs/scratch0/paroma/anaconda2/envs/metal/lib/python3.6/site-packages/zmq/eventloop/zmqstream.py\", line 432, in _run_callback\n",
      "    callback(*args, **kwargs)\n",
      "  File \"/dfs/scratch0/paroma/anaconda2/envs/metal/lib/python3.6/site-packages/tornado/stack_context.py\", line 300, in null_wrapper\n",
      "    return fn(*args, **kwargs)\n",
      "  File \"/dfs/scratch0/paroma/anaconda2/envs/metal/lib/python3.6/site-packages/ipykernel/kernelbase.py\", line 283, in dispatcher\n",
      "    return self.dispatch_shell(stream, msg)\n",
      "  File \"/dfs/scratch0/paroma/anaconda2/envs/metal/lib/python3.6/site-packages/ipykernel/kernelbase.py\", line 233, in dispatch_shell\n",
      "    handler(stream, idents, msg)\n",
      "  File \"/dfs/scratch0/paroma/anaconda2/envs/metal/lib/python3.6/site-packages/ipykernel/kernelbase.py\", line 399, in execute_request\n",
      "    user_expressions, allow_stdin)\n",
      "  File \"/dfs/scratch0/paroma/anaconda2/envs/metal/lib/python3.6/site-packages/ipykernel/ipkernel.py\", line 208, in do_execute\n",
      "    res = shell.run_cell(code, store_history=store_history, silent=silent)\n",
      "  File \"/dfs/scratch0/paroma/anaconda2/envs/metal/lib/python3.6/site-packages/ipykernel/zmqshell.py\", line 537, in run_cell\n",
      "    return super(ZMQInteractiveShell, self).run_cell(*args, **kwargs)\n",
      "  File \"/dfs/scratch0/paroma/anaconda2/envs/metal/lib/python3.6/site-packages/IPython/core/interactiveshell.py\", line 2662, in run_cell\n",
      "    raw_cell, store_history, silent, shell_futures)\n",
      "  File \"/dfs/scratch0/paroma/anaconda2/envs/metal/lib/python3.6/site-packages/IPython/core/interactiveshell.py\", line 2785, in _run_cell\n",
      "    interactivity=interactivity, compiler=compiler, result=result)\n",
      "  File \"/dfs/scratch0/paroma/anaconda2/envs/metal/lib/python3.6/site-packages/IPython/core/interactiveshell.py\", line 2901, in run_ast_nodes\n",
      "    if self.run_code(code, result):\n",
      "  File \"/dfs/scratch0/paroma/anaconda2/envs/metal/lib/python3.6/site-packages/IPython/core/interactiveshell.py\", line 2961, in run_code\n",
      "    exec(code_obj, self.user_global_ns, self.user_ns)\n",
      "  File \"<ipython-input-1-7ae2a7ca67bb>\", line 1, in <module>\n",
      "    get_ipython().run_line_magic('matplotlib', 'inline')\n",
      "  File \"/dfs/scratch0/paroma/anaconda2/envs/metal/lib/python3.6/site-packages/IPython/core/interactiveshell.py\", line 2131, in run_line_magic\n",
      "    result = fn(*args,**kwargs)\n",
      "  File \"<decorator-gen-107>\", line 2, in matplotlib\n",
      "  File \"/dfs/scratch0/paroma/anaconda2/envs/metal/lib/python3.6/site-packages/IPython/core/magic.py\", line 187, in <lambda>\n",
      "    call = lambda f, *a, **k: f(*a, **k)\n",
      "  File \"/dfs/scratch0/paroma/anaconda2/envs/metal/lib/python3.6/site-packages/IPython/core/magics/pylab.py\", line 99, in matplotlib\n",
      "    gui, backend = self.shell.enable_matplotlib(args.gui)\n",
      "  File \"/dfs/scratch0/paroma/anaconda2/envs/metal/lib/python3.6/site-packages/IPython/core/interactiveshell.py\", line 3049, in enable_matplotlib\n",
      "    pt.activate_matplotlib(backend)\n",
      "  File \"/dfs/scratch0/paroma/anaconda2/envs/metal/lib/python3.6/site-packages/IPython/core/pylabtools.py\", line 311, in activate_matplotlib\n",
      "    matplotlib.pyplot.switch_backend(backend)\n",
      "  File \"/dfs/scratch0/paroma/anaconda2/envs/metal/lib/python3.6/site-packages/matplotlib/pyplot.py\", line 231, in switch_backend\n",
      "    matplotlib.use(newbackend, warn=False, force=True)\n",
      "  File \"/dfs/scratch0/paroma/anaconda2/envs/metal/lib/python3.6/site-packages/matplotlib/__init__.py\", line 1422, in use\n",
      "    reload(sys.modules['matplotlib.backends'])\n",
      "  File \"/dfs/scratch0/paroma/anaconda2/envs/metal/lib/python3.6/importlib/__init__.py\", line 166, in reload\n",
      "    _bootstrap._exec(spec, module)\n",
      "  File \"/dfs/scratch0/paroma/anaconda2/envs/metal/lib/python3.6/site-packages/matplotlib/backends/__init__.py\", line 16, in <module>\n",
      "    line for line in traceback.format_stack()\n",
      "\n",
      "\n",
      "  matplotlib.use(\"TkAgg\")\n",
      "/dfs/scratch0/paroma/metal/metal/label_model/utils.py:7: UserWarning: \n",
      "This call to matplotlib.use() has no effect because the backend has already\n",
      "been chosen; matplotlib.use() must be called *before* pylab, matplotlib.pyplot,\n",
      "or matplotlib.backends is imported for the first time.\n",
      "\n",
      "The backend was *originally* set to 'module://ipykernel.pylab.backend_inline' by the following code:\n",
      "  File \"/dfs/scratch0/paroma/anaconda2/envs/metal/lib/python3.6/runpy.py\", line 193, in _run_module_as_main\n",
      "    \"__main__\", mod_spec)\n",
      "  File \"/dfs/scratch0/paroma/anaconda2/envs/metal/lib/python3.6/runpy.py\", line 85, in _run_code\n",
      "    exec(code, run_globals)\n",
      "  File \"/dfs/scratch0/paroma/anaconda2/envs/metal/lib/python3.6/site-packages/ipykernel/__main__.py\", line 3, in <module>\n",
      "    app.launch_new_instance()\n",
      "  File \"/dfs/scratch0/paroma/anaconda2/envs/metal/lib/python3.6/site-packages/traitlets/config/application.py\", line 658, in launch_instance\n",
      "    app.start()\n",
      "  File \"/dfs/scratch0/paroma/anaconda2/envs/metal/lib/python3.6/site-packages/ipykernel/kernelapp.py\", line 486, in start\n",
      "    self.io_loop.start()\n",
      "  File \"/dfs/scratch0/paroma/anaconda2/envs/metal/lib/python3.6/site-packages/tornado/platform/asyncio.py\", line 132, in start\n",
      "    self.asyncio_loop.run_forever()\n",
      "  File \"/dfs/scratch0/paroma/anaconda2/envs/metal/lib/python3.6/asyncio/base_events.py\", line 422, in run_forever\n",
      "    self._run_once()\n",
      "  File \"/dfs/scratch0/paroma/anaconda2/envs/metal/lib/python3.6/asyncio/base_events.py\", line 1434, in _run_once\n",
      "    handle._run()\n",
      "  File \"/dfs/scratch0/paroma/anaconda2/envs/metal/lib/python3.6/asyncio/events.py\", line 145, in _run\n",
      "    self._callback(*self._args)\n",
      "  File \"/dfs/scratch0/paroma/anaconda2/envs/metal/lib/python3.6/site-packages/tornado/platform/asyncio.py\", line 122, in _handle_events\n",
      "    handler_func(fileobj, events)\n",
      "  File \"/dfs/scratch0/paroma/anaconda2/envs/metal/lib/python3.6/site-packages/tornado/stack_context.py\", line 300, in null_wrapper\n",
      "    return fn(*args, **kwargs)\n",
      "  File \"/dfs/scratch0/paroma/anaconda2/envs/metal/lib/python3.6/site-packages/zmq/eventloop/zmqstream.py\", line 450, in _handle_events\n",
      "    self._handle_recv()\n",
      "  File \"/dfs/scratch0/paroma/anaconda2/envs/metal/lib/python3.6/site-packages/zmq/eventloop/zmqstream.py\", line 480, in _handle_recv\n",
      "    self._run_callback(callback, msg)\n",
      "  File \"/dfs/scratch0/paroma/anaconda2/envs/metal/lib/python3.6/site-packages/zmq/eventloop/zmqstream.py\", line 432, in _run_callback\n",
      "    callback(*args, **kwargs)\n",
      "  File \"/dfs/scratch0/paroma/anaconda2/envs/metal/lib/python3.6/site-packages/tornado/stack_context.py\", line 300, in null_wrapper\n",
      "    return fn(*args, **kwargs)\n",
      "  File \"/dfs/scratch0/paroma/anaconda2/envs/metal/lib/python3.6/site-packages/ipykernel/kernelbase.py\", line 283, in dispatcher\n",
      "    return self.dispatch_shell(stream, msg)\n",
      "  File \"/dfs/scratch0/paroma/anaconda2/envs/metal/lib/python3.6/site-packages/ipykernel/kernelbase.py\", line 233, in dispatch_shell\n",
      "    handler(stream, idents, msg)\n",
      "  File \"/dfs/scratch0/paroma/anaconda2/envs/metal/lib/python3.6/site-packages/ipykernel/kernelbase.py\", line 399, in execute_request\n",
      "    user_expressions, allow_stdin)\n",
      "  File \"/dfs/scratch0/paroma/anaconda2/envs/metal/lib/python3.6/site-packages/ipykernel/ipkernel.py\", line 208, in do_execute\n",
      "    res = shell.run_cell(code, store_history=store_history, silent=silent)\n",
      "  File \"/dfs/scratch0/paroma/anaconda2/envs/metal/lib/python3.6/site-packages/ipykernel/zmqshell.py\", line 537, in run_cell\n",
      "    return super(ZMQInteractiveShell, self).run_cell(*args, **kwargs)\n",
      "  File \"/dfs/scratch0/paroma/anaconda2/envs/metal/lib/python3.6/site-packages/IPython/core/interactiveshell.py\", line 2662, in run_cell\n",
      "    raw_cell, store_history, silent, shell_futures)\n",
      "  File \"/dfs/scratch0/paroma/anaconda2/envs/metal/lib/python3.6/site-packages/IPython/core/interactiveshell.py\", line 2785, in _run_cell\n",
      "    interactivity=interactivity, compiler=compiler, result=result)\n",
      "  File \"/dfs/scratch0/paroma/anaconda2/envs/metal/lib/python3.6/site-packages/IPython/core/interactiveshell.py\", line 2901, in run_ast_nodes\n",
      "    if self.run_code(code, result):\n",
      "  File \"/dfs/scratch0/paroma/anaconda2/envs/metal/lib/python3.6/site-packages/IPython/core/interactiveshell.py\", line 2961, in run_code\n",
      "    exec(code_obj, self.user_global_ns, self.user_ns)\n",
      "  File \"<ipython-input-1-7ae2a7ca67bb>\", line 1, in <module>\n",
      "    get_ipython().run_line_magic('matplotlib', 'inline')\n",
      "  File \"/dfs/scratch0/paroma/anaconda2/envs/metal/lib/python3.6/site-packages/IPython/core/interactiveshell.py\", line 2131, in run_line_magic\n",
      "    result = fn(*args,**kwargs)\n",
      "  File \"<decorator-gen-107>\", line 2, in matplotlib\n",
      "  File \"/dfs/scratch0/paroma/anaconda2/envs/metal/lib/python3.6/site-packages/IPython/core/magic.py\", line 187, in <lambda>\n",
      "    call = lambda f, *a, **k: f(*a, **k)\n",
      "  File \"/dfs/scratch0/paroma/anaconda2/envs/metal/lib/python3.6/site-packages/IPython/core/magics/pylab.py\", line 99, in matplotlib\n",
      "    gui, backend = self.shell.enable_matplotlib(args.gui)\n",
      "  File \"/dfs/scratch0/paroma/anaconda2/envs/metal/lib/python3.6/site-packages/IPython/core/interactiveshell.py\", line 3049, in enable_matplotlib\n",
      "    pt.activate_matplotlib(backend)\n",
      "  File \"/dfs/scratch0/paroma/anaconda2/envs/metal/lib/python3.6/site-packages/IPython/core/pylabtools.py\", line 311, in activate_matplotlib\n",
      "    matplotlib.pyplot.switch_backend(backend)\n",
      "  File \"/dfs/scratch0/paroma/anaconda2/envs/metal/lib/python3.6/site-packages/matplotlib/pyplot.py\", line 231, in switch_backend\n",
      "    matplotlib.use(newbackend, warn=False, force=True)\n",
      "  File \"/dfs/scratch0/paroma/anaconda2/envs/metal/lib/python3.6/site-packages/matplotlib/__init__.py\", line 1422, in use\n",
      "    reload(sys.modules['matplotlib.backends'])\n",
      "  File \"/dfs/scratch0/paroma/anaconda2/envs/metal/lib/python3.6/importlib/__init__.py\", line 166, in reload\n",
      "    _bootstrap._exec(spec, module)\n",
      "  File \"/dfs/scratch0/paroma/anaconda2/envs/metal/lib/python3.6/site-packages/matplotlib/backends/__init__.py\", line 16, in <module>\n",
      "    line for line in traceback.format_stack()\n",
      "\n",
      "\n",
      "  matplotlib.use(\"TkAgg\")\n"
     ]
    }
   ],
   "source": [
    "%matplotlib inline\n",
    "%load_ext autoreload\n",
    "%autoreload 2\n",
    "\n",
    "import sys\n",
    "sys.path.append(\"../\") # go to parent dir\n",
    "\n",
    "import numpy as np\n",
    "import torch\n",
    "import matplotlib.pyplot as plt\n",
    "import mpmath\n",
    "import networkx as nx\n",
    "\n",
    "from metal.label_model import LabelModel\n",
    "from metal.label_model.graph_utils import generate_edges\n",
    "from metal.label_model.graph_utils import JunctionTree\n",
    "from metal.label_model.graph_utils import DependenciesGraph\n",
    "from synthetic.generate_spa import (\n",
    "    ChainDependencies,\n",
    "    TreeDependencies,\n",
    "    ClusterDependencies,\n",
    "    DataGenerator\n",
    ")\n",
    "from metal.label_model.utils import (\n",
    "    compute_mu,\n",
    "    compute_covariance,\n",
    "    compute_inv_covariance,\n",
    "    print_matrix,\n",
    "    visualize_matrix\n",
    ")"
   ]
  },
  {
   "cell_type": "markdown",
   "metadata": {},
   "source": [
    "## Generate Data by Passing in Edge List"
   ]
  },
  {
   "cell_type": "code",
   "execution_count": 49,
   "metadata": {},
   "outputs": [
    {
     "data": {
      "image/png": "[encoded data removed]",
      "text/plain": [
       "<Figure size 432x216 with 2 Axes>"
      ]
     },
     "metadata": {},
     "output_type": "display_data"
    }
   ],
   "source": [
    "M = 9\n",
    "N = 1000 #not used\n",
    "MAX_CLIQUE_SIZE = 3\n",
    "NUM_CLIQUES = 3\n",
    "K = 2\n",
    "HIGHER_ORDER_CLIQUES = False\n",
    "\n",
    "# Set Graph Structure\n",
    "EDGES = generate_edges(M, MAX_CLIQUE_SIZE, NUM_CLIQUES)\n",
    "deps_graph = DependenciesGraph(M, EDGES)\n",
    "plt.figure(figsize=(6,3))\n",
    "plt.subplot(1,2,1)\n",
    "deps_graph.draw()\n",
    "\n",
    "\n",
    "#Generate Data\n",
    "data = DataGenerator(\n",
    "    N,\n",
    "    M,\n",
    "    k=K,\n",
    "    abstains=False,\n",
    "    deps_graph=deps_graph,\n",
    "    higher_order_cliques=HIGHER_ORDER_CLIQUES\n",
    ")\n",
    "plt.subplot(1,2,2)\n",
    "data.jt.draw()\n",
    "\n",
    "#get true values for later comparison, label model\n",
    "sigma_O = data.get_sigma_O()\n",
    "class_balance = data.get_class_balance()"
   ]
  },
  {
   "cell_type": "markdown",
   "metadata": {},
   "source": [
    "## Train LabelModel with True Dependencies\n",
    "Note we use the class balance and Junction Tree from the data generator since these are observable/we assume are known"
   ]
  },
  {
   "cell_type": "code",
   "execution_count": 50,
   "metadata": {},
   "outputs": [
    {
     "name": "stdout",
     "output_type": "stream",
     "text": [
      "Estimating Z...\n",
      "[E:0]\tTrain Loss: 7.049\n",
      "[E:1000]\tTrain Loss: 0.004\n",
      "[E:2000]\tTrain Loss: 0.001\n",
      "[E:3000]\tTrain Loss: 0.000\n",
      "[E:4000]\tTrain Loss: 0.000\n",
      "[E:5000]\tTrain Loss: 0.000\n",
      "[E:6000]\tTrain Loss: 0.000\n",
      "[E:7000]\tTrain Loss: 0.000\n",
      "[E:8000]\tTrain Loss: 0.000\n",
      "[E:9000]\tTrain Loss: 0.000\n",
      "[E:9999]\tTrain Loss: 0.000\n",
      "Finished Training\n",
      "Estimating \\mu...\n",
      "[E:0]\tTrain Loss: 141.031\n",
      "[E:1000]\tTrain Loss: 0.000\n",
      "[E:2000]\tTrain Loss: 0.000\n",
      "[E:3000]\tTrain Loss: 0.000\n",
      "[E:4000]\tTrain Loss: 0.000\n",
      "[E:5000]\tTrain Loss: 0.000\n",
      "[E:6000]\tTrain Loss: 0.000\n",
      "[E:7000]\tTrain Loss: 0.000\n",
      "[E:8000]\tTrain Loss: 0.000\n",
      "[E:9000]\tTrain Loss: 0.000\n",
      "[E:9999]\tTrain Loss: 0.000\n",
      "Finished Training\n"
     ]
    }
   ],
   "source": [
    "lm = LabelModel(k=2)\n",
    "\n",
    "lm.train(\n",
    "    sigma_O=sigma_O,\n",
    "    junction_tree=data.jt,\n",
    "    class_balance=class_balance,\n",
    "    lr=0.001,\n",
    "    n_epochs=10000,\n",
    "    print_every=1000\n",
    ")"
   ]
  },
  {
   "cell_type": "markdown",
   "metadata": {},
   "source": [
    "## Measure Error in True and Estimated $\\mu$\n",
    "Given the following:\n",
    "$$\\Sigma = \\begin{bmatrix} \\Sigma_O & \\Sigma_{OH} \\\\ \\Sigma_{HO} & \\Sigma_H \\end{bmatrix} $$\n",
    "\n",
    "we want to focus on $$\\Sigma_{OH} = \\mathbb{E}[\\lambda_i Y] - \\mathbb{E}[\\lambda_i]\\mathbb{E}[Y]$$\n",
    "\n",
    "where $\\mathbb{E}[\\lambda_i Y]$ are the LF accuracies, $\\mathbb{E}[\\lambda_i]$ are the observed label propensities, and $\\mathbb{E}[Y]$ is the observed/known class balance."
   ]
  },
  {
   "cell_type": "code",
   "execution_count": 52,
   "metadata": {},
   "outputs": [
    {
     "name": "stdout",
     "output_type": "stream",
     "text": [
      "Error in mu:  0.0016053955362663594\n"
     ]
    }
   ],
   "source": [
    "sigma_O_inv = np.linalg.inv(sigma_O)\n",
    "sigma_H = data.P_marginal({M:2})\n",
    "\n",
    "mu = data.get_mu()\n",
    "mu_x = sigma_H * np.array([data.P_marginal(v) for i, v in data.jt.iter_observed()])\n",
    "sigma_OH = mu - mu_x\n",
    "\n",
    "SIGN_FLIP = -1 #For better than random assumption\n",
    "mu_est = SIGN_FLIP * lm.mu.detach().numpy() + mu_x.reshape([-1,1])\n",
    "np.hstack([mu_est, mu.reshape([-1, 1])])\n",
    "\n",
    "print (\"Error in mu: \", np.mean(np.abs(mu - mu_est.ravel())))"
   ]
  },
  {
   "cell_type": "markdown",
   "metadata": {},
   "source": [
    "## Dependency Learning with AMC"
   ]
  },
  {
   "cell_type": "code",
   "execution_count": 133,
   "metadata": {},
   "outputs": [
    {
     "data": {
      "image/png": "[encoded data removed]",
      "text/plain": [
       "<Figure size 576x288 with 2 Axes>"
      ]
     },
     "metadata": {},
     "output_type": "display_data"
    }
   ],
   "source": [
    "from metal.label_model.learn_deps import DependencyLearner\n",
    "sigma_O_inv = np.linalg.inv(sigma_O)\n",
    "dl = DependencyLearner(M,sigma_O_inv)\n",
    "edges_est = dl.edges_from_amc(thresh=0.005)\n",
    "\n",
    "\n",
    "deps_graph_est = DependenciesGraph(M, edges_est)\n",
    "plt.figure(figsize=(8,4))\n",
    "plt.subplot(1,2,1)\n",
    "plt.title('True Structure')\n",
    "deps_graph.draw()\n",
    "plt.subplot(1,2,2)\n",
    "plt.title('Learned Structure')\n",
    "deps_graph_est.draw()"
   ]
  },
  {
   "cell_type": "code",
   "execution_count": 131,
   "metadata": {},
   "outputs": [
    {
     "name": "stdout",
     "output_type": "stream",
     "text": [
      "Estimating Z...\n",
      "[E:0]\tTrain Loss: 152.070\n",
      "[E:1000]\tTrain Loss: 0.001\n",
      "[E:2000]\tTrain Loss: 0.001\n",
      "[E:3000]\tTrain Loss: 0.001\n",
      "[E:4000]\tTrain Loss: 0.001\n",
      "[E:5000]\tTrain Loss: 0.001\n",
      "[E:6000]\tTrain Loss: 0.001\n",
      "[E:7000]\tTrain Loss: 0.001\n",
      "[E:8000]\tTrain Loss: 0.001\n",
      "[E:9000]\tTrain Loss: 0.001\n",
      "[E:9999]\tTrain Loss: 0.001\n",
      "Finished Training\n",
      "Estimating \\mu...\n",
      "[E:0]\tTrain Loss: 0.119\n",
      "[E:1000]\tTrain Loss: 0.000\n",
      "[E:2000]\tTrain Loss: 0.000\n",
      "[E:3000]\tTrain Loss: 0.000\n",
      "[E:4000]\tTrain Loss: 0.000\n",
      "[E:5000]\tTrain Loss: 0.000\n",
      "[E:6000]\tTrain Loss: 0.000\n",
      "[E:7000]\tTrain Loss: 0.000\n",
      "[E:8000]\tTrain Loss: 0.000\n",
      "[E:9000]\tTrain Loss: 0.000\n",
      "[E:9999]\tTrain Loss: 0.000\n",
      "Finished Training\n"
     ]
    }
   ],
   "source": [
    "for i in range(M):\n",
    "    edges_est.append((i,M))\n",
    "\n",
    "jt_est = JunctionTree(\n",
    "            M,\n",
    "            K,\n",
    "            abstains=False,\n",
    "            edges=edges_est,\n",
    "            higher_order_cliques=HIGHER_ORDER_CLIQUES\n",
    "        )\n",
    "\n",
    "lm_deps = LabelModel(k=2)\n",
    "\n",
    "lm_deps.train(\n",
    "    sigma_O=sigma_O,\n",
    "    junction_tree=jt_est,\n",
    "    class_balance=class_balance,\n",
    "    lr=0.002,\n",
    "    n_epochs=10000,\n",
    "    print_every=1000\n",
    ")"
   ]
  },
  {
   "cell_type": "code",
   "execution_count": 132,
   "metadata": {},
   "outputs": [
    {
     "name": "stdout",
     "output_type": "stream",
     "text": [
      "Error in mu (with dependency learning):  0.001920982022772803\n"
     ]
    }
   ],
   "source": [
    "sigma_O_inv = np.linalg.inv(sigma_O)\n",
    "sigma_H = data.P_marginal({M:2})\n",
    "\n",
    "mu = data.get_mu()\n",
    "mu_x = sigma_H * np.array([data.P_marginal(v) for i, v in data.jt.iter_observed()])\n",
    "sigma_OH = mu - mu_x\n",
    "\n",
    "SIGN_FLIP = 1 #For better than random assumption\n",
    "mu_est = SIGN_FLIP * lm_deps.mu.detach().numpy() + mu_x.reshape([-1,1])\n",
    "np.hstack([mu_est, mu.reshape([-1, 1])])\n",
    "\n",
    "print (\"Error in mu (with dependency learning): \", np.mean(np.abs(mu - mu_est.ravel())))"
   ]
  },
  {
   "cell_type": "code",
   "execution_count": null,
   "metadata": {},
   "outputs": [],
   "source": []
  }
 ],
 "metadata": {
  "kernelspec": {
   "display_name": "Python [conda env:metal]",
   "language": "python",
   "name": "conda-env-metal-py"
  },
  "language_info": {
   "codemirror_mode": {
    "name": "ipython",
    "version": 3
   },
   "file_extension": ".py",
   "mimetype": "text/x-python",
   "name": "python",
   "nbconvert_exporter": "python",
   "pygments_lexer": "ipython3",
   "version": "3.6.6"
  }
 },
 "nbformat": 4,
 "nbformat_minor": 2
}
