{
 "cells": [
  {
   "cell_type": "code",
   "execution_count": 1,
   "metadata": {},
   "outputs": [
    {
     "name": "stderr",
     "output_type": "stream",
     "text": [
      "/lfs/1/annhe/anaconda3/envs/metal/lib/python3.6/importlib/_bootstrap.py:219: RuntimeWarning: numpy.dtype size changed, may indicate binary incompatibility. Expected 96, got 88\n",
      "  return f(*args, **kwds)\n"
     ]
    }
   ],
   "source": [
    "from data_gen_utils import *\n",
    "import sys\n",
    "sys.path.append(\"../\")\n",
    "\n",
    "import numpy as np\n",
    "import torch\n",
    "import matplotlib.pyplot as plt\n",
    "import mpmath\n",
    "\n",
    "from metal.label_model import LabelModel, CliqueTree\n",
    "from metal.label_model.utils import (\n",
    "    compute_mu,\n",
    "    compute_covariance,\n",
    "    compute_inv_covariance,\n",
    "    print_matrix,\n",
    "    visualize_matrix\n",
    ")"
   ]
  },
  {
   "cell_type": "code",
   "execution_count": 2,
   "metadata": {},
   "outputs": [],
   "source": [
    "M = 6\n",
    "n = 10000\n",
    "K = 1\n",
    "dg = DataGenerator(M,n)"
   ]
  },
  {
   "cell_type": "code",
   "execution_count": 3,
   "metadata": {},
   "outputs": [
    {
     "name": "stdout",
     "output_type": "stream",
     "text": [
      "(6, 6)\n",
      "(6, 10000)\n"
     ]
    }
   ],
   "source": [
    "dg.generate_O(k=3)\n",
    "print(dg.O.shape)\n",
    "print(dg.L.shape)"
   ]
  },
  {
   "cell_type": "code",
   "execution_count": 4,
   "metadata": {},
   "outputs": [
    {
     "name": "stdout",
     "output_type": "stream",
     "text": [
      "[(0, 1), (2, 3), (4, 5)]\n"
     ]
    }
   ],
   "source": [
    "print(dg.deps)"
   ]
  },
  {
   "cell_type": "code",
   "execution_count": 5,
   "metadata": {},
   "outputs": [],
   "source": [
    "w,h = (dg.L).shape\n",
    "L = np.zeros((w,h),dtype=float)\n",
    "for i in range(w):\n",
    "    for j in range(h):\n",
    "        if dg.L[i,j] > 0:\n",
    "            L[i,j] = 1\n",
    "        else:\n",
    "            L[i,j] = 0"
   ]
  },
  {
   "cell_type": "code",
   "execution_count": 6,
   "metadata": {},
   "outputs": [
    {
     "name": "stdout",
     "output_type": "stream",
     "text": [
      "1\n"
     ]
    }
   ],
   "source": [
    "lm = LabelModel(k=1)\n",
    "lm.config['higher_order_cliques'] = False\n",
    "lm.config['verbose'] = True"
   ]
  },
  {
   "cell_type": "code",
   "execution_count": 7,
   "metadata": {},
   "outputs": [
    {
     "name": "stdout",
     "output_type": "stream",
     "text": [
      "Computing O^{-1}...\n",
      "> /lfs/1/annhe/metal/metal/label_model/label_model.py(284)_generate_O_inv()\n",
      "-> O_inv = (O_unnorm / n) ** -1\n",
      "(Pdb) c\n",
      "O INV SHAPE:  (6, 6)\n",
      "ci max cliques  {1}\n",
      "ci max cliques  {1}\n",
      "ci max cliques  {1}\n",
      "ci max cliques  {1}\n",
      "ci max cliques  {1}\n",
      "ci max cliques  {1}\n",
      "ci max cliques  {1}\n",
      "ci max cliques  {1}\n",
      "ci max cliques  {1}\n",
      "ci max cliques  {1}\n",
      "ci max cliques  {1}\n",
      "ci max cliques  {1}\n",
      "ci max cliques  {1}\n",
      "ci max cliques  {1}\n",
      "ci max cliques  {1}\n",
      "ci max cliques  {1}\n",
      "ci max cliques  {1}\n",
      "ci max cliques  {1}\n",
      "ci max cliques  {2}\n",
      "ci max cliques  {2}\n",
      "ci max cliques  {2}\n",
      "ci max cliques  {2}\n",
      "ci max cliques  {2}\n",
      "ci max cliques  {2}\n",
      "ci max cliques  {2}\n",
      "ci max cliques  {2}\n",
      "ci max cliques  {2}\n",
      "ci max cliques  {2}\n",
      "ci max cliques  {2}\n",
      "ci max cliques  {2}\n",
      "ci max cliques  {2}\n",
      "ci max cliques  {2}\n",
      "ci max cliques  {2}\n",
      "ci max cliques  {2}\n",
      "ci max cliques  {2}\n",
      "ci max cliques  {2}\n",
      "ci max cliques  {0}\n",
      "ci max cliques  {0}\n",
      "ci max cliques  {0}\n",
      "ci max cliques  {0}\n",
      "ci max cliques  {0}\n",
      "ci max cliques  {0}\n",
      "ci max cliques  {0}\n",
      "ci max cliques  {0}\n",
      "ci max cliques  {0}\n",
      "ci max cliques  {0}\n",
      "ci max cliques  {0}\n",
      "ci max cliques  {0}\n",
      "ci max cliques  {0}\n",
      "ci max cliques  {0}\n",
      "ci max cliques  {0}\n",
      "ci max cliques  {0}\n",
      "ci max cliques  {0}\n",
      "ci max cliques  {0}\n",
      "ci max cliques  {0}\n",
      "ci max cliques  {0}\n",
      "ci max cliques  {0}\n",
      "ci max cliques  {0}\n",
      "ci max cliques  {0}\n",
      "ci max cliques  {0}\n",
      "ci max cliques  {0}\n",
      "ci max cliques  {0}\n",
      "ci max cliques  {0}\n",
      "ci max cliques  {1}\n",
      "ci max cliques  {1}\n",
      "ci max cliques  {1}\n",
      "ci max cliques  {1}\n",
      "ci max cliques  {1}\n",
      "ci max cliques  {1}\n",
      "ci max cliques  {1}\n",
      "ci max cliques  {1}\n",
      "ci max cliques  {1}\n",
      "ci max cliques  {2}\n",
      "ci max cliques  {2}\n",
      "ci max cliques  {2}\n",
      "ci max cliques  {2}\n",
      "ci max cliques  {2}\n",
      "ci max cliques  {2}\n",
      "ci max cliques  {2}\n",
      "ci max cliques  {2}\n",
      "ci max cliques  {2}\n",
      "tensor([[0, 0, 1, 1, 1, 1],\n",
      "        [0, 0, 1, 1, 1, 1],\n",
      "        [1, 1, 0, 0, 1, 1],\n",
      "        [1, 1, 0, 0, 1, 1],\n",
      "        [1, 1, 1, 1, 0, 0],\n",
      "        [1, 1, 1, 1, 0, 0]], dtype=torch.uint8)\n",
      "Estimating Z...\n",
      "[Epoch 0] Loss: 23.811256\n",
      "[Epoch 5000] Loss: 18.473295\n",
      "[Epoch 10000] Loss: 17.268410\n",
      "[Epoch 15000] Loss: 16.102406\n",
      "[Epoch 20000] Loss: 14.631517\n",
      "[Epoch 25000] Loss: 12.884493\n",
      "[Epoch 30000] Loss: 11.024353\n",
      "[Epoch 35000] Loss: 9.275450\n",
      "[Epoch 40000] Loss: 7.820713\n",
      "[Epoch 45000] Loss: 6.732561\n",
      "[Epoch 49999] Loss: 5.982272\n",
      "Estimating \\mu...\n",
      "[Epoch 0] Loss: 2.657645\n",
      "[Epoch 5000] Loss: 2.331940\n",
      "[Epoch 10000] Loss: 2.120179\n",
      "[Epoch 15000] Loss: 1.925931\n",
      "[Epoch 20000] Loss: 1.707402\n",
      "[Epoch 25000] Loss: 1.446151\n",
      "[Epoch 30000] Loss: 1.145722\n",
      "[Epoch 35000] Loss: 0.833871\n",
      "[Epoch 40000] Loss: 0.552673\n",
      "[Epoch 45000] Loss: 0.335456\n",
      "[Epoch 49999] Loss: 0.190142\n"
     ]
    }
   ],
   "source": [
    "lm.train(L=L.T,\n",
    "         deps=dg.deps_no_diag,\n",
    "         all_unary_cliques=True,\n",
    "        higher_order_cliques=False,\n",
    "        n_epochs=50000,\n",
    "        print_every=5000,\n",
    "        lr=1e-6,\n",
    "        l2=0.1,\n",
    "        O_inv_prec=1024,)"
   ]
  },
  {
   "cell_type": "code",
   "execution_count": 8,
   "metadata": {},
   "outputs": [
    {
     "name": "stdout",
     "output_type": "stream",
     "text": [
      "[[0.63837886]\n",
      " [0.31835738]\n",
      " [0.5274937 ]\n",
      " [0.38369054]\n",
      " [0.4385993 ]\n",
      " [0.262882  ]]\n",
      "[0.4848 0.6346 0.6958 0.677  0.2876 0.5678]\n"
     ]
    }
   ],
   "source": [
    "R_mu_est = lm.mu.detach().numpy()\n",
    "print(R_mu_est)\n",
    "print(dg.mu)"
   ]
  }
 ],
 "metadata": {
  "kernelspec": {
   "display_name": "Python [conda env:metal]",
   "language": "python",
   "name": "conda-env-metal-py"
  },
  "language_info": {
   "codemirror_mode": {
    "name": "ipython",
    "version": 3
   },
   "file_extension": ".py",
   "mimetype": "text/x-python",
   "name": "python",
   "nbconvert_exporter": "python",
   "pygments_lexer": "ipython3",
   "version": "3.6.6"
  }
 },
 "nbformat": 4,
 "nbformat_minor": 2
}
