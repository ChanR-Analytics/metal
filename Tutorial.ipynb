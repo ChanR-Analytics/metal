{
 "cells": [
  {
   "cell_type": "markdown",
   "metadata": {},
   "source": [
    "# Minimalist Tutorial"
   ]
  },
  {
   "cell_type": "markdown",
   "metadata": {},
   "source": [
    "Generate synthetic data"
   ]
  },
  {
   "cell_type": "code",
   "execution_count": 1,
   "metadata": {},
   "outputs": [
    {
     "name": "stdout",
     "output_type": "stream",
     "text": [
      "CPU times: user 17 s, sys: 412 ms, total: 17.4 s\n",
      "Wall time: 18 s\n"
     ]
    }
   ],
   "source": [
    "%%time\n",
    "from synthetics.generate import SingleTaskTreeDepsGenerator\n",
    "from synthetics.generate import gaussian_bags_of_words\n",
    "from synthetics.words1k import vocab1k as vocab\n",
    "import torch\n",
    "\n",
    "N = 10000\n",
    "M = 10\n",
    "K = 2\n",
    "\n",
    "data = SingleTaskTreeDepsGenerator(N, M, k=K)\n",
    "L = data.L\n",
    "Y = data.Y\n",
    "\n",
    "# Create Gaussian bags of words with different vocab distribution by class\n",
    "bags, sentences = gaussian_bags_of_words(Y, vocab, sigma=1, bag_size=[25, 50])\n",
    "X = torch.zeros(N, len(vocab), dtype=torch.float)\n",
    "for i, bag in enumerate(bags):\n",
    "    for word in bag:\n",
    "        X[i, word] += 1\n",
    "        \n",
    "# Make train/dev/test splits\n",
    "Xs = [X[:8000], X[8000:9000], X[9000:]]\n",
    "Ys = [Y[:8000], Y[8000:9000], Y[9000:]]"
   ]
  },
  {
   "cell_type": "markdown",
   "metadata": {},
   "source": [
    "Train and score label model"
   ]
  },
  {
   "cell_type": "code",
   "execution_count": 2,
   "metadata": {
    "scrolled": true
   },
   "outputs": [
    {
     "name": "stdout",
     "output_type": "stream",
     "text": [
      "Computing O...\n",
      "Estimating \\mu...\n",
      "[Epoch 0] Loss: 9.721893\n",
      "[Epoch 10] Loss: 2.027859\n",
      "[Epoch 20] Loss: 0.385520\n",
      "[Epoch 30] Loss: 0.382989\n",
      "[Epoch 40] Loss: 0.057346\n",
      "[Epoch 50] Loss: 0.027102\n",
      "[Epoch 60] Loss: 0.013278\n",
      "[Epoch 70] Loss: 0.003172\n",
      "[Epoch 80] Loss: 0.002982\n",
      "[Epoch 90] Loss: 0.001566\n",
      "[Epoch 99] Loss: 0.001319\n",
      "Label Model Accuracy=0.9671\n",
      "CPU times: user 420 ms, sys: 53.1 ms, total: 473 ms\n",
      "Wall time: 235 ms\n"
     ]
    }
   ],
   "source": [
    "%%time\n",
    "from metal.label_model import LabelModel\n",
    "\n",
    "label_model = LabelModel(data.m, data.k, p=data.p, deps=data.E)\n",
    "label_model.train(data.L, n_epochs=100, print_every=10)\n",
    "score = label_model.score(L, Y, verbose=False)\n",
    "print(f\"Label Model Accuracy={score}\")"
   ]
  },
  {
   "cell_type": "markdown",
   "metadata": {},
   "source": [
    "Train and score end model"
   ]
  },
  {
   "cell_type": "code",
   "execution_count": 3,
   "metadata": {
    "scrolled": false
   },
   "outputs": [
    {
     "name": "stdout",
     "output_type": "stream",
     "text": [
      "\n",
      "Network architecture:\n",
      "Sequential(\n",
      "  (0): Sequential(\n",
      "    (0): IdentityModule()\n",
      "  )\n",
      "  (1): Sequential(\n",
      "    (0): Linear(in_features=1000, out_features=10, bias=True)\n",
      "  )\n",
      "  (2): Linear(in_features=10, out_features=2, bias=True)\n",
      ")\n",
      "\n",
      "End Model Accuracy: 0.998\n",
      "CPU times: user 16.3 s, sys: 5.5 s, total: 21.8 s\n",
      "Wall time: 7.32 s\n"
     ]
    }
   ],
   "source": [
    "%%time\n",
    "from metal.end_model import EndModel\n",
    "\n",
    "em = EndModel(seed=1, verbose=True, layer_output_dims=[1000,10], batchnorm=False, dropout=0.0)\n",
    "em.train(Xs[0], Ys[0], Xs[1], Ys[1], verbose=False, n_epochs=10)\n",
    "score = em.score(Xs[2], Ys[2], verbose=False)\n",
    "print(f\"End Model Accuracy: {score}\")"
   ]
  }
 ],
 "metadata": {
  "kernelspec": {
   "display_name": "Python [conda env:metal]",
   "language": "python",
   "name": "conda-env-metal-py"
  },
  "language_info": {
   "codemirror_mode": {
    "name": "ipython",
    "version": 3
   },
   "file_extension": ".py",
   "mimetype": "text/x-python",
   "name": "python",
   "nbconvert_exporter": "python",
   "pygments_lexer": "ipython3",
   "version": "3.6.5"
  }
 },
 "nbformat": 4,
 "nbformat_minor": 2
}
